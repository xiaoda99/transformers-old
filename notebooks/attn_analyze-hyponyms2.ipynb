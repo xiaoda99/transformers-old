{
 "cells": [
  {
   "cell_type": "code",
   "execution_count": 1,
   "metadata": {},
   "outputs": [],
   "source": [
    "%load_ext autoreload\n",
    "%autoreload 2\n",
    "\n",
    "# from IPython.core.interactiveshell import InteractiveShell\n",
    "# InteractiveShell.ast_node_interactivity = 'all'"
   ]
  },
  {
   "cell_type": "code",
   "execution_count": 2,
   "metadata": {},
   "outputs": [],
   "source": [
    "import numpy as np\n",
    "import json\n",
    "from random import sample\n",
    "\n",
    "import matplotlib.pyplot as plt\n",
    "import seaborn as sns\n",
    "\n",
    "from tqdm import tqdm"
   ]
  },
  {
   "cell_type": "code",
   "execution_count": 3,
   "metadata": {},
   "outputs": [],
   "source": [
    "import torch\n",
    "import torch.nn.functional as F\n",
    "\n",
    "from transformers import *"
   ]
  },
  {
   "cell_type": "code",
   "execution_count": 4,
   "metadata": {},
   "outputs": [],
   "source": [
    "models = {}"
   ]
  },
  {
   "cell_type": "code",
   "execution_count": 5,
   "metadata": {},
   "outputs": [
    {
     "name": "stderr",
     "output_type": "stream",
     "text": [
      "Some weights of RobertaForMaskedLM were not initialized from the model checkpoint at roberta-base and are newly initialized: ['lm_head.decoder.bias']\n",
      "You should probably TRAIN this model on a down-stream task to be able to use it for predictions and inference.\n"
     ]
    },
    {
     "name": "stdout",
     "output_type": "stream",
     "text": [
      "loading state_dict took 0.409 sec\n"
     ]
    }
   ],
   "source": [
    "model_class, tokenizer_class, shortcut, mask_token = RobertaForMaskedLM, RobertaTokenizer, 'roberta-base', '<mask>'\n",
    "model, tokenizer = model_class.from_pretrained(shortcut), tokenizer_class.from_pretrained(shortcut)\n",
    "models[shortcut] = (model, tokenizer, mask_token)"
   ]
  },
  {
   "cell_type": "code",
   "execution_count": 6,
   "metadata": {},
   "outputs": [
    {
     "name": "stdout",
     "output_type": "stream",
     "text": [
      "loading state_dict took 1.285 sec\n"
     ]
    },
    {
     "name": "stderr",
     "output_type": "stream",
     "text": [
      "Some weights of RobertaForMaskedLM were not initialized from the model checkpoint at roberta-large and are newly initialized: ['lm_head.decoder.bias']\n",
      "You should probably TRAIN this model on a down-stream task to be able to use it for predictions and inference.\n"
     ]
    }
   ],
   "source": [
    "model_class, tokenizer_class, shortcut, mask_token = RobertaForMaskedLM, RobertaTokenizer, 'roberta-large', '<mask>'\n",
    "model, tokenizer = model_class.from_pretrained(shortcut), tokenizer_class.from_pretrained(shortcut)\n",
    "models[shortcut] = (model, tokenizer, mask_token)"
   ]
  },
  {
   "cell_type": "code",
   "execution_count": 78,
   "metadata": {},
   "outputs": [],
   "source": [
    "model_class, tokenizer_class, shortcut, mask_token = GPT2LMHeadModel, GPT2Tokenizer, 'gpt2', None\n",
    "model, tokenizer = model_class.from_pretrained(shortcut), tokenizer_class.from_pretrained(shortcut)\n",
    "models[shortcut] = (model, tokenizer, mask_token)"
   ]
  },
  {
   "cell_type": "code",
   "execution_count": 21,
   "metadata": {},
   "outputs": [],
   "source": [
    "model_class, tokenizer_class, shortcut, mask_token = GPT2LMHeadModel, GPT2Tokenizer, 'gpt2-large', None\n",
    "model, tokenizer = model_class.from_pretrained(shortcut), tokenizer_class.from_pretrained(shortcut)\n",
    "models[shortcut] = (model, tokenizer, mask_token)"
   ]
  },
  {
   "cell_type": "code",
   "execution_count": 48,
   "metadata": {},
   "outputs": [],
   "source": [
    "model_class, tokenizer_class, shortcut, mask_token = GPT2LMHeadModel, GPT2Tokenizer, 'gpt2-xl', None\n",
    "model, tokenizer = model_class.from_pretrained(shortcut), tokenizer_class.from_pretrained(shortcut)\n",
    "models[shortcut] = (model, tokenizer, mask_token)"
   ]
  },
  {
   "cell_type": "code",
   "execution_count": 7,
   "metadata": {},
   "outputs": [],
   "source": [
    "model, tokenizer, mask_token = models['roberta-large']"
   ]
  },
  {
   "cell_type": "code",
   "execution_count": 8,
   "metadata": {},
   "outputs": [],
   "source": [
    "import re\n",
    "import pandas as pd\n",
    "import collections\n",
    "import os\n",
    "import nltk\n",
    "import random"
   ]
  },
  {
   "cell_type": "code",
   "execution_count": 9,
   "metadata": {},
   "outputs": [
    {
     "name": "stdout",
     "output_type": "stream",
     "text": [
      "7916\n"
     ]
    }
   ],
   "source": [
    "# 处理上下位->hyponyms_dict\n",
    "# am-for-bert\n",
    "am_for_bert = 'am_for_bert.txt'\n",
    "\n",
    "with open(am_for_bert, 'r') as f:\n",
    "    file_lines = f.readlines()\n",
    "\n",
    "keymap =  [re.split(' |\\t',string) for string in file_lines]\n",
    "am_for_bert_hyponyms_dict = {}\n",
    "for item in keymap:\n",
    "    # 筛选出形态词的上位词\n",
    "    if ('hypernym' == item[4]):\n",
    "        master = item[2]\n",
    "        slave = []\n",
    "        length = len(item)\n",
    "        \n",
    "        for i in range(int((length-5)/2)):\n",
    "            slave.append(item[5+i*2])\n",
    "            \n",
    "        # 最终的数据 am_for_bert_hyponyms_dict        \n",
    "        am_for_bert_hyponyms_dict[master] = slave       \n",
    "\n",
    "\n",
    "# DiffVec\n",
    "filename = 'diffvec_word_pairs_final.SEMBLESS.csv'\n",
    "file_colname=['relation','word1','word2']\n",
    "df = pd.read_csv(filename,header=None,names=file_colname)\n",
    "df = df[df['relation'].str.contains('hyper')]\n",
    "# 最后的数据是DiffVec_hyponyms_dict\n",
    "DiffVec_hyponyms_dict = df.groupby(['word2'])['word1'].apply(list).to_dict()\n",
    "\n",
    "\n",
    "# 合并数据\n",
    "hyponyms_dict = {}\n",
    "hyponyms_dict.update(am_for_bert_hyponyms_dict)\n",
    "hyponyms_dict.update(DiffVec_hyponyms_dict)\n",
    "#print(hyponyms_dict)\n",
    "print(len(hyponyms_dict))\n"
   ]
  },
  {
   "cell_type": "code",
   "execution_count": 339,
   "metadata": {},
   "outputs": [
    {
     "name": "stdout",
     "output_type": "stream",
     "text": [
      "32592\n"
     ]
    }
   ],
   "source": [
    "# 把dict的词替换到句子模板\n",
    "template = [ 'What is a * _ ? It is a kind of * = .',\n",
    "           '* _ is a kind of * = .',\n",
    "           'It is reasonable to regard * _ as a kind of * = .',\n",
    "           'What is a * _ ? * It is a kind of = .']\n",
    "# 一个句子对应一张图\n",
    "texts = []\n",
    "one = template[3]\n",
    "for (key,value) in hyponyms_dict.items():\n",
    "            for word in value:\n",
    "                example = one.replace('_', key).replace('=', word)\n",
    "                texts.append(example)\n",
    "#print(texts[8:20])\n",
    "print(len(texts))     "
   ]
  },
  {
   "cell_type": "code",
   "execution_count": 340,
   "metadata": {},
   "outputs": [
    {
     "name": "stderr",
     "output_type": "stream",
     "text": [
      "100%|██████████| 3000/3000 [06:43<00:00,  7.43it/s]\n"
     ]
    }
   ],
   "source": [
    "# 得到attention值\n",
    "# 随机抽样5000条\n",
    "texts = random.sample(texts, 3000)\n",
    "\n",
    "all_attn_probs, idx_pairs, tokenses = [], [], []\n",
    "for text in tqdm(texts):\n",
    "    if mask_token is not None:\n",
    "        text = text.replace(' _ ', ' %s ' % mask_token)\n",
    "    tokens = tokenizer.convert_ids_to_tokens(tokenizer.encode(text, add_special_tokens=True))\n",
    "    tokens = ['*' if token in ['*', 'Ġ*'] else token for token in tokens]\n",
    "    marker = '*'\n",
    "    if marker in tokens:\n",
    "        assert tokens.count(marker) == 2, str(tokens)\n",
    "        p, h = [i for i, token in enumerate(tokens) if token == marker]\n",
    "        tokens = [token for token in tokens if token != marker]\n",
    "        h -= 1\n",
    "        #print(tokens[p], tokens[h])\n",
    "    token_ids = tokenizer.convert_tokens_to_ids(tokens)\n",
    "    pred_idx = [i for i, token in enumerate(tokens) if token == mask_token] if mask_token is not None else [-1]\n",
    "    tokens = ['@' + token if not token.startswith('Ġ') and token not in ['<s>', '</s>', '<mask>'] else token.replace('Ġ', '') \n",
    "              for token in tokens] \n",
    "    #print(tokens)\n",
    "    \n",
    "    input_ids = torch.tensor([token_ids])\n",
    "    with torch.no_grad():\n",
    "        logits, attns = model(input_ids, output_attentions=True)\n",
    "        probs = F.softmax(logits, dim=-1)\n",
    "\n",
    "    attn_scores, attn_probs = zip(*attns)\n",
    "    attn_scores, attn_probs = torch.cat(attn_scores, dim=0), torch.cat(attn_probs, dim=0)\n",
    "    all_attn_probs.append(attn_probs)\n",
    "    idx_pairs.append((p, h))\n",
    "    tokenses.append(tokens)\n",
    "    #print(\"===============================\")\n",
    "   # print(tokenses)\n",
    "    #print(idx_pairs)\n",
    "    #print(attn_probs[0, 0, 1, 1])\n",
    "   # print(attn_probs[:, :, h, p])\n",
    "\n",
    "# 求注意力值的平均值\n",
    "attn_sum = np.zeros((24, 16),dtype='float32')\n",
    "i = 0\n",
    "for attn_one, (p, h) in zip(all_attn_probs, idx_pairs):    \n",
    "    attn_every = np.array(attn_one[:, :, h, p])\n",
    "   #求和\n",
    "    attn_sum += attn_every\n",
    "   # 记录总共有多少句子来求平均\n",
    "    i = i+1\n",
    "#sum = attn_sum.tolist()\n",
    "#求平均\n",
    "attn_average = attn_sum/i\n",
    "average = attn_average.tolist()\n",
    "#print(average)"
   ]
  },
  {
   "cell_type": "code",
   "execution_count": 341,
   "metadata": {},
   "outputs": [
    {
     "data": {
      "text/plain": [
       "Text(0.5, 33.0, 'Average-hyponyms-head')"
      ]
     },
     "execution_count": 341,
     "metadata": {},
     "output_type": "execute_result"
    },
    {
     "data": {
      "image/png": "[encoded data removed]",
      "text/plain": [
       "<Figure size 360x432 with 2 Axes>"
      ]
     },
     "metadata": {
      "needs_background": "light"
     },
     "output_type": "display_data"
    }
   ],
   "source": [
    "# 算平均后的head图\n",
    "fig = plt.subplots(1,1,sharey=False, figsize=(5 , 6))\n",
    "ax = sns.heatmap(attn_average)\n",
    "ax.tick_params(top=True, labeltop=True)\n",
    "ax.set_xlabel('Average-hyponyms-head')"
   ]
  },
  {
   "cell_type": "code",
   "execution_count": 338,
   "metadata": {},
   "outputs": [
    {
     "data": {
      "text/plain": [
       "<AxesSubplot:>"
      ]
     },
     "execution_count": 338,
     "metadata": {},
     "output_type": "execute_result"
    },
    {
     "data": {
      "image/png": "[encoded data removed]",
      "text/plain": [
       "<Figure size 720x360 with 2 Axes>"
      ]
     },
     "metadata": {
      "needs_background": "light"
     },
     "output_type": "display_data"
    }
   ],
   "source": [
    "# 对于某个句子，某个head头内部分析\n",
    "i = 638\n",
    "layer, head = 12, 4\n",
    "attn = all_attn_probs[i][layer, head]\n",
    "tokens = tokenses[i]\n",
    "size = round(attn.size(0) / 3)\n",
    "fig, (ax0, ax1) = plt.subplots(1, 2, figsize=(size  * 2., size), gridspec_kw={'width_ratios': [3, 1]})\n",
    "sns.heatmap((attn * 100).long(), square=True, cbar=False, annot=True, fmt='d', xticklabels=tokens, yticklabels=tokens, ax=ax0)"
   ]
  }
 ],
 "metadata": {
  "kernelspec": {
   "display_name": "Python 3",
   "language": "python",
   "name": "python3"
  },
  "language_info": {
   "codemirror_mode": {
    "name": "ipython",
    "version": 3
   },
   "file_extension": ".py",
   "mimetype": "text/x-python",
   "name": "python",
   "nbconvert_exporter": "python",
   "pygments_lexer": "ipython3",
   "version": "3.7.5"
  }
 },
 "nbformat": 4,
 "nbformat_minor": 4
}
