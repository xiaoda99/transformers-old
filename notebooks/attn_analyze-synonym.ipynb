{
 "cells": [
  {
   "cell_type": "code",
   "execution_count": 11,
   "metadata": {},
   "outputs": [
    {
     "name": "stdout",
     "output_type": "stream",
     "text": [
      "The autoreload extension is already loaded. To reload it, use:\n",
      "  %reload_ext autoreload\n"
     ]
    }
   ],
   "source": [
    "%load_ext autoreload\n",
    "%autoreload 2\n",
    "\n",
    "# from IPython.core.interactiveshell import InteractiveShell\n",
    "# InteractiveShell.ast_node_interactivity = 'all'"
   ]
  },
  {
   "cell_type": "code",
   "execution_count": 12,
   "metadata": {},
   "outputs": [],
   "source": [
    "import numpy as np\n",
    "import json\n",
    "from random import sample\n",
    "\n",
    "import matplotlib.pyplot as plt\n",
    "import seaborn as sns\n",
    "\n",
    "from tqdm import tqdm"
   ]
  },
  {
   "cell_type": "code",
   "execution_count": 13,
   "metadata": {},
   "outputs": [],
   "source": [
    "import torch\n",
    "import torch.nn.functional as F\n",
    "\n",
    "from transformers import *"
   ]
  },
  {
   "cell_type": "code",
   "execution_count": 14,
   "metadata": {},
   "outputs": [],
   "source": [
    "models = {}"
   ]
  },
  {
   "cell_type": "code",
   "execution_count": 15,
   "metadata": {},
   "outputs": [
    {
     "name": "stderr",
     "output_type": "stream",
     "text": [
      "Some weights of RobertaForMaskedLM were not initialized from the model checkpoint at roberta-base and are newly initialized: ['lm_head.decoder.bias']\n",
      "You should probably TRAIN this model on a down-stream task to be able to use it for predictions and inference.\n"
     ]
    }
   ],
   "source": [
    "model_class, tokenizer_class, shortcut, mask_token = RobertaForMaskedLM, RobertaTokenizer, 'roberta-base', '<mask>'\n",
    "model, tokenizer = model_class.from_pretrained(shortcut), tokenizer_class.from_pretrained(shortcut)\n",
    "models[shortcut] = (model, tokenizer, mask_token)"
   ]
  },
  {
   "cell_type": "code",
   "execution_count": 16,
   "metadata": {},
   "outputs": [
    {
     "name": "stderr",
     "output_type": "stream",
     "text": [
      "Some weights of RobertaForMaskedLM were not initialized from the model checkpoint at roberta-large and are newly initialized: ['lm_head.decoder.bias']\n",
      "You should probably TRAIN this model on a down-stream task to be able to use it for predictions and inference.\n"
     ]
    }
   ],
   "source": [
    "model_class, tokenizer_class, shortcut, mask_token = RobertaForMaskedLM, RobertaTokenizer, 'roberta-large', '<mask>'\n",
    "model, tokenizer = model_class.from_pretrained(shortcut), tokenizer_class.from_pretrained(shortcut)\n",
    "models[shortcut] = (model, tokenizer, mask_token)"
   ]
  },
  {
   "cell_type": "code",
   "execution_count": 78,
   "metadata": {},
   "outputs": [],
   "source": [
    "model_class, tokenizer_class, shortcut, mask_token = GPT2LMHeadModel, GPT2Tokenizer, 'gpt2', None\n",
    "model, tokenizer = model_class.from_pretrained(shortcut), tokenizer_class.from_pretrained(shortcut)\n",
    "models[shortcut] = (model, tokenizer, mask_token)"
   ]
  },
  {
   "cell_type": "code",
   "execution_count": 21,
   "metadata": {},
   "outputs": [],
   "source": [
    "model_class, tokenizer_class, shortcut, mask_token = GPT2LMHeadModel, GPT2Tokenizer, 'gpt2-large', None\n",
    "model, tokenizer = model_class.from_pretrained(shortcut), tokenizer_class.from_pretrained(shortcut)\n",
    "models[shortcut] = (model, tokenizer, mask_token)"
   ]
  },
  {
   "cell_type": "code",
   "execution_count": 48,
   "metadata": {},
   "outputs": [],
   "source": [
    "model_class, tokenizer_class, shortcut, mask_token = GPT2LMHeadModel, GPT2Tokenizer, 'gpt2-xl', None\n",
    "model, tokenizer = model_class.from_pretrained(shortcut), tokenizer_class.from_pretrained(shortcut)\n",
    "models[shortcut] = (model, tokenizer, mask_token)"
   ]
  },
  {
   "cell_type": "code",
   "execution_count": 17,
   "metadata": {},
   "outputs": [],
   "source": [
    "model, tokenizer, mask_token = models['roberta-large']"
   ]
  },
  {
   "cell_type": "code",
   "execution_count": 18,
   "metadata": {},
   "outputs": [],
   "source": [
    "import re\n",
    "import pandas as pd\n",
    "import collections\n",
    "import os\n",
    "import nltk\n",
    "import random"
   ]
  },
  {
   "cell_type": "code",
   "execution_count": 19,
   "metadata": {},
   "outputs": [
    {
     "name": "stderr",
     "output_type": "stream",
     "text": [
      "[nltk_data] Downloading package averaged_perceptron_tagger to\n",
      "[nltk_data]     /home/xd/nltk_data...\n",
      "[nltk_data]   Package averaged_perceptron_tagger is already up-to-\n",
      "[nltk_data]       date!\n"
     ]
    },
    {
     "name": "stdout",
     "output_type": "stream",
     "text": [
      "{'angry': ['furious', 'enraged', 'outraged', 'aggrivated', 'irate', 'seething'], 'bad': ['awful', 'atrocious', 'abominable', 'dreadful', 'painful', 'terrible', 'unspeakable'], 'creative': ['ingenious', 'inventive', 'demiurgic', 'deviceful', 'innovational', 'innovative', 'innovatory', 'original', 'originative'], 'guilty': ['remorseful', 'sorrowful', 'unworthy'], 'happy': ['ecstatic', 'enraptured', 'rapturous', 'rapt', 'rhapsodic'], 'homogeneous': ['uniform', 'unvarying'], 'identical': ['same', 'indistinguishable'], 'necessary': ['essential', 'indispensable', 'vital', 'required'], 'new': ['modern', 'recent'], 'rational': ['logical', 'coherent', 'reasonable', 'sane'], 'reasonable': ['sensible'], 'strong': ['powerful', 'forceful', 'super', 'potent'], 'unhappy': ['miserable', 'suffering', 'wretched']}\n",
      "============================================\n"
     ]
    }
   ],
   "source": [
    "# 处理同义词->synonym_dict\n",
    "# BATS\n",
    "nltk.download('averaged_perceptron_tagger')\n",
    "\n",
    "file_synonyms_intensity = open('synonyms_intensity.txt')\n",
    "file_synonyms_exact = open('synonyms_exact.txt')\n",
    "\n",
    "synonyms_intensity = file_synonyms_intensity.read()\n",
    "synonyms_exact = file_synonyms_exact.read()\n",
    "\n",
    "synonyms_dict = {}\n",
    "files = [file_synonyms_intensity,file_synonyms_exact]\n",
    "\n",
    "for each in files:\n",
    "    # put the pos to the start of file\n",
    "    each.seek(0, os.SEEK_SET)\n",
    "\n",
    "    for line in each.read().split(\"\\n\"):\n",
    "        line_split = line.split()\n",
    "        master = line_split[0]\n",
    "        slave = line_split[1].split('/')\n",
    "        if not master in synonyms_dict:\n",
    "            synonyms_dict[master] = slave\n",
    "            \n",
    "ordered_synonyms_dict = collections.OrderedDict(sorted(synonyms_dict.items()))\n",
    "ordered_synonyms_dict\n",
    "# 去掉非形容词\n",
    "adj_ordered_synonyms_dict = {}\n",
    "for (key,value) in ordered_synonyms_dict.items():\n",
    "    if nltk.pos_tag([key])[0][1] == \"JJ\":\n",
    "        adj_ordered_synonyms_dict[key] = value\n",
    "        \n",
    "adj_ordered_synonyms_dict.pop('vocabulary')\n",
    "print(adj_ordered_synonyms_dict)\n",
    "print('============================================')\n"
   ]
  },
  {
   "cell_type": "code",
   "execution_count": 24,
   "metadata": {},
   "outputs": [
    {
     "name": "stdout",
     "output_type": "stream",
     "text": [
      "52\n"
     ]
    }
   ],
   "source": [
    "# 把dict的词替换到句子模板\n",
    "templates = [\n",
    "    'John is * _ and Mary is also * = .',\n",
    "    'The synonyms of * _ is * = .'\n",
    "]\n",
    "\n",
    "texts = []\n",
    "one = templates[1]\n",
    "for (key,value) in adj_ordered_synonyms_dict.items():\n",
    "    for word in value:\n",
    "        example = one.replace('_', key).replace('=', word)\n",
    "        texts.append(example)\n",
    "#print(texts[8:20])\n",
    "print(len(texts))            "
   ]
  },
  {
   "cell_type": "code",
   "execution_count": 25,
   "metadata": {},
   "outputs": [
    {
     "name": "stderr",
     "output_type": "stream",
     "text": [
      "100%|██████████| 52/52 [00:17<00:00,  2.89it/s]"
     ]
    },
    {
     "name": "stdout",
     "output_type": "stream",
     "text": [
      "[[0.13471880555152893, 0.1339869648218155, 0.10318085551261902, 0.15457852184772491, 0.10078512877225876, 0.15979450941085815, 0.10815597325563431, 0.1736038327217102, 0.14424508810043335, 0.07427261024713516, 0.05024821311235428, 0.02689826861023903, 0.11577755957841873, 0.14502984285354614, 0.11294712126255035, 0.08377718925476074], [0.0028600776568055153, 0.006902487017214298, 0.003042456693947315, 0.010350058786571026, 0.002260890556499362, 0.030559051781892776, 0.22864031791687012, 0.02578565664589405, 0.004084734711796045, 4.65961991213959e-12, 0.0029298653826117516, 0.030950970947742462, 0.04976977780461311, 0.001438687788322568, 2.825698857122916e-07, 0.009119637310504913], [0.12915228307247162, 0.013063536956906319, 1.2496263745997993e-10, 0.0028017719741910696, 0.15883371233940125, 1.639816412087168e-17, 0.0018598089227452874, 0.00022910612460691482, 0.0006786677404306829, 5.657180736307055e-06, 7.868071405641487e-22, 0.001441583619453013, 1.6488198874545485e-22, 2.6814109687543422e-20, 0.007196939550340176, 0.0025092007126659155], [0.013879509642720222, 0.03336628898978233, 0.02322908490896225, 2.573232823327116e-17, 0.006055439822375774, 0.033099107444286346, 0.09328170120716095, 0.06778367608785629, 0.004988272208720446, 0.0530640110373497, 0.00130358652677387, 0.0020763096399605274, 4.562246969097572e-10, 0.025126822292804718, 0.004864156246185303, 0.005769113544374704], [0.005891884211450815, 0.1319015473127365, 0.06037551164627075, 0.003364925505593419, 0.02664482779800892, 0.006120727397501469, 0.002352206502109766, 0.19044893980026245, 0.08904082328081131, 0.012364251539111137, 0.007209652103483677, 0.03072982281446457, 0.014481088146567345, 0.008532456122338772, 0.0048309508711099625, 0.0195637047290802], [0.010796576738357544, 0.003499853890389204, 0.008934319950640202, 0.008678482845425606, 0.06905494630336761, 0.0024249525740742683, 0.0044114855118095875, 0.009223050437867641, 0.026436742395162582, 0.008965492248535156, 0.00997866503894329, 0.014545717276632786, 0.011623110622167587, 0.017140615731477737, 0.00394016457721591, 0.01478037890046835], [0.01848813332617283, 0.02192119136452675, 0.02142811194062233, 0.05032334104180336, 0.005135464947670698, 0.009091224521398544, 0.09647974371910095, 2.8462843602028443e-06, 0.02645105868577957, 0.01669592782855034, 0.01844904199242592, 0.01407061517238617, 0.046743400394916534, 0.008732881397008896, 0.006164714694023132, 0.020661290735006332], [0.024580366909503937, 0.07531234622001648, 0.017258064821362495, 0.17315363883972168, 0.029192868620157242, 0.027543572708964348, 0.00908296462148428, 0.0124697620049119, 0.06882207840681076, 0.02844659611582756, 0.04056442156434059, 0.02070821449160576, 0.0327758826315403, 0.13934804499149323, 0.026472486555576324, 0.014610713347792625], [0.06674988567829132, 0.05391049385070801, 0.044530488550662994, 0.13063199818134308, 0.07120721787214279, 0.0532122440636158, 0.057799454778432846, 0.025246888399124146, 0.07604476809501648, 0.020841874182224274, 0.02633078768849373, 0.006676870863884687, 0.11386904120445251, 0.00814371183514595, 0.047043997794389725, 0.023929864168167114], [0.1459522396326065, 0.023505929857492447, 0.05280448496341705, 0.13711035251617432, 0.09003402292728424, 0.13201667368412018, 0.019384797662496567, 0.02235194854438305, 0.0048797111958265305, 0.03334549814462662, 0.018972856923937798, 0.06985054165124893, 0.022292636334896088, 0.0849938914179802, 0.0018878263654187322, 0.1560330092906952], [0.12042296677827835, 0.10154101252555847, 0.062424734234809875, 0.08339949697256088, 0.05790092051029205, 0.04047073796391487, 0.049646131694316864, 0.0725613385438919, 6.620361432396749e-07, 0.12291073799133301, 0.011481440626084805, 0.06493140012025833, 0.09276265650987625, 0.1775466501712799, 0.014166655018925667, 0.09730314463376999], [0.16427691280841827, 0.045277103781700134, 0.11695168912410736, 0.047183774411678314, 0.008790434338152409, 0.7596507668495178, 0.09968852251768112, 0.084873728454113, 0.07903305441141129, 0.018776096403598785, 0.028847506269812584, 0.03447800129652023, 0.23485605418682098, 0.03770556300878525, 0.10219330340623856, 0.08852032572031021], [0.07237386703491211, 6.408400076907128e-05, 0.22782236337661743, 0.027232827618718147, 0.2177264541387558, 0.06002394109964371, 0.07308800518512726, 0.013254929333925247, 0.007923627272248268, 0.034024402499198914, 0.06445442140102386, 0.059884313493967056, 0.09775356203317642, 0.13331572711467743, 0.007099921349436045, 0.01811078004539013], [0.07527124136686325, 0.0434909388422966, 0.009333730675280094, 0.06682883948087692, 0.021416693925857544, 0.1359981894493103, 0.03079851344227791, 0.02966604381799698, 0.04043108969926834, 0.03734263777732849, 0.023427605628967285, 0.0149839473888278, 0.13320739567279816, 0.1421455442905426, 0.0032794352155178785, 0.015864185988903046], [0.006288247648626566, 0.015216558240354061, 0.07717358320951462, 0.02781655453145504, 0.0641021579504013, 0.02278568595647812, 0.03812336549162865, 0.010012881830334663, 0.08943205326795578, 0.007318543735891581, 0.08740268647670746, 0.05757613480091095, 0.06999371200799942, 0.03298165276646614, 0.022999903187155724, 0.011653317138552666], [0.014972065575420856, 0.05582183972001076, 0.07277166843414307, 0.11603211611509323, 0.09405089914798737, 0.021361472085118294, 0.0369420163333416, 0.14283603429794312, 0.006513545755296946, 0.019499989226460457, 0.005915133282542229, 0.047965530306100845, 0.005867429543286562, 0.014790414832532406, 0.18579727411270142, 0.0011152977822348475], [0.0294551532715559, 0.14888396859169006, 0.0078023746609687805, 0.21169891953468323, 0.00937904417514801, 0.018470752984285355, 0.08121136575937271, 0.011452780105173588, 0.03869015723466873, 0.06394013017416, 0.11897654831409454, 0.04972735792398453, 0.046424750238657, 0.06626725196838379, 0.1408909112215042, 0.009533649310469627], [0.08466645330190659, 0.25431525707244873, 0.15448898077011108, 0.01854432001709938, 0.022531259804964066, 0.007442732807248831, 0.07387115061283112, 0.06262757629156113, 0.17291118204593658, 0.024122251197695732, 0.028607256710529327, 0.07326041162014008, 0.030693478882312775, 0.06793034076690674, 0.016591180115938187, 0.08610331267118454], [0.06850926578044891, 0.09012116491794586, 0.03485710173845291, 0.37448832392692566, 0.06190073862671852, 0.041631296277046204, 0.016496840864419937, 0.06977970898151398, 0.14311979711055756, 0.10532958805561066, 0.03423372656106949, 0.0962931364774704, 0.15052920579910278, 0.14199385046958923, 0.056861087679862976, 0.009736322797834873], [0.0401390865445137, 0.0158675629645586, 0.01541836652904749, 0.04452717676758766, 0.03220881149172783, 0.007582214195281267, 0.07485930621623993, 0.007735308725386858, 0.06533870100975037, 0.09532603621482849, 0.07901919633150101, 0.024777011945843697, 0.0017631363589316607, 0.05358510836958885, 0.07307776063680649, 0.19612859189510345], [0.044674117118120193, 0.07738799601793289, 0.0014164467575028539, 0.03003793954849243, 0.027765585109591484, 0.13004399836063385, 0.012558379210531712, 0.028861628845334053, 0.030818521976470947, 0.008502159267663956, 0.010217154398560524, 0.005669626872986555, 1.2344772812866722e-06, 0.08449599146842957, 0.009618645533919334, 0.040352292358875275], [0.011333092115819454, 0.001995743252336979, 0.00030016040545888245, 0.1512117236852646, 0.17486374080181122, 0.008440793491899967, 0.005666404962539673, 0.017601732164621353, 0.002311724703758955, 0.017516784369945526, 0.052211277186870575, 0.12076317518949509, 0.0016656185034662485, 0.00033027969766408205, 0.017445622012019157, 0.19099943339824677], [0.026747049763798714, 0.006396811921149492, 0.02411484718322754, 0.009098458103835583, 0.020973889157176018, 0.00645420141518116, 0.04280244931578636, 0.02374533750116825, 0.01075370516628027, 0.007857277058064938, 0.003501549595966935, 0.01743641309440136, 0.059153296053409576, 0.030775917693972588, 0.002096181269735098, 0.021352482959628105], [0.021132757887244225, 0.03550847992300987, 0.07866565138101578, 0.06686374545097351, 0.0030949765350669622, 0.023446787148714066, 0.02416323684155941, 0.06184067204594612, 0.03188709914684296, 0.09578008204698563, 0.0116011006757617, 0.01525533851236105, 0.0861857682466507, 0.010973049327731133, 0.11114556342363358, 0.11347541213035583]]\n"
     ]
    },
    {
     "name": "stderr",
     "output_type": "stream",
     "text": [
      "\n"
     ]
    }
   ],
   "source": [
    "# 得到attention值\n",
    "all_attn_probs, idx_pairs, tokenses = [], [], []\n",
    "for text in tqdm(texts):\n",
    "    if mask_token is not None:\n",
    "        text = text.replace(' _ ', ' %s ' % mask_token)\n",
    "    tokens = tokenizer.convert_ids_to_tokens(tokenizer.encode(text, add_special_tokens=True))\n",
    "    tokens = ['*' if token in ['*', 'Ġ*'] else token for token in tokens]\n",
    "    marker = '*'\n",
    "    if marker in tokens:\n",
    "        assert tokens.count(marker) == 2, str(tokens)\n",
    "        p, h = [i for i, token in enumerate(tokens) if token == marker]\n",
    "        tokens = [token for token in tokens if token != marker]\n",
    "        h -= 1\n",
    "        #print(tokens[p], tokens[h])\n",
    "    token_ids = tokenizer.convert_tokens_to_ids(tokens)\n",
    "    pred_idx = [i for i, token in enumerate(tokens) if token == mask_token] if mask_token is not None else [-1]\n",
    "    tokens = ['@' + token if not token.startswith('Ġ') and token not in ['<s>', '</s>', '<mask>'] else token.replace('Ġ', '') \n",
    "              for token in tokens] \n",
    "    #print(tokens)\n",
    "    \n",
    "    input_ids = torch.tensor([token_ids])\n",
    "    with torch.no_grad():\n",
    "        logits, attns = model(input_ids, output_attentions=True)\n",
    "        probs = F.softmax(logits, dim=-1)\n",
    "\n",
    "    attn_scores, attn_probs = zip(*attns)\n",
    "    attn_scores, attn_probs = torch.cat(attn_scores, dim=0), torch.cat(attn_probs, dim=0)\n",
    "    all_attn_probs.append(attn_probs)\n",
    "    idx_pairs.append((p, h))\n",
    "    tokenses.append(tokens)\n",
    "    #print(\"===============================\")\n",
    "   # print(tokenses)\n",
    "    #print(idx_pairs)\n",
    "    #print(attn_probs[0, 0, 1, 1])\n",
    "   # print(attn_probs[:, :, h, p])\n",
    "\n",
    "# 求注意力值的平均值\n",
    "attn_sum = np.zeros((24, 16),dtype='float32')\n",
    "i = 0\n",
    "for attn_one, (p, h) in zip(all_attn_probs, idx_pairs):    \n",
    "    attn_every = np.array(attn_one[:, :, h, p])\n",
    "   #求和\n",
    "    attn_sum += attn_every\n",
    "   # 记录总共有多少句子来求平均\n",
    "    i = i+1\n",
    "#sum = attn_sum.tolist()\n",
    "#求平均\n",
    "attn_average = attn_sum/i\n",
    "average = attn_average.tolist()\n",
    "print(average)"
   ]
  },
  {
   "cell_type": "code",
   "execution_count": 26,
   "metadata": {},
   "outputs": [
    {
     "data": {
      "text/plain": [
       "Text(0.5, 33.0, 'Average-synonyms-head')"
      ]
     },
     "execution_count": 26,
     "metadata": {},
     "output_type": "execute_result"
    },
    {
     "data": {
      "image/png": "[encoded data removed]",
      "text/plain": [
       "<Figure size 360x432 with 2 Axes>"
      ]
     },
     "metadata": {
      "needs_background": "light"
     },
     "output_type": "display_data"
    }
   ],
   "source": [
    "# 算平均后的head图\n",
    "fig = plt.subplots(1,1,sharey=False, figsize=(5 , 6))\n",
    "ax = sns.heatmap(attn_average)\n",
    "ax.tick_params(top=True, labeltop=True)\n",
    "ax.set_xlabel('Average-synonyms-head')"
   ]
  },
  {
   "cell_type": "code",
   "execution_count": null,
   "metadata": {},
   "outputs": [],
   "source": []
  }
 ],
 "metadata": {
  "kernelspec": {
   "display_name": "Python 3",
   "language": "python",
   "name": "python3"
  },
  "language_info": {
   "codemirror_mode": {
    "name": "ipython",
    "version": 3
   },
   "file_extension": ".py",
   "mimetype": "text/x-python",
   "name": "python",
   "nbconvert_exporter": "python",
   "pygments_lexer": "ipython3",
   "version": "3.7.5"
  }
 },
 "nbformat": 4,
 "nbformat_minor": 4
}
