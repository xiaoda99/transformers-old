{
 "cells": [
  {
   "cell_type": "code",
   "execution_count": 1,
   "metadata": {},
   "outputs": [],
   "source": [
    "from IPython import get_ipython\n",
    "%load_ext autoreload\n",
    "%autoreload 2\n",
    "\n",
    "from IPython.core.interactiveshell import InteractiveShell\n",
    "InteractiveShell.ast_node_interactivity = 'all'"
   ]
  },
  {
   "cell_type": "code",
   "execution_count": 2,
   "metadata": {},
   "outputs": [],
   "source": [
    "import sys\n",
    "sys.path.insert(0, '/nas/xd/projects/transformers/src/transformers')\n",
    "import os\n",
    "device_mappings = {0: 1, 1: 5, 2: 6, 3: 7, 4: 2, 5: 3, 6: 0, 7: 4}\n",
    "os.environ[\"CUDA_VISIBLE_DEVICES\"] = str(device_mappings[7])\n",
    "\n",
    "import random\n",
    "import string\n",
    "from collections import defaultdict, OrderedDict\n",
    "from itertools import product, chain\n",
    "import numpy as np\n",
    "from pattern.en import comparative\n",
    "\n",
    "import matplotlib.pyplot as plt\n",
    "import seaborn as sns\n",
    "\n",
    "from captum.attr import IntegratedGradients, LayerConductance, LayerIntegratedGradients\n",
    "from captum.attr import configure_interpretable_embedding_layer, remove_interpretable_embedding_layer"
   ]
  },
  {
   "cell_type": "code",
   "execution_count": 116,
   "metadata": {},
   "outputs": [],
   "source": [
    "import torch\n",
    "from torch import nn\n",
    "import torch.nn.functional as F\n",
    "from torch.nn import CrossEntropyLoss, MSELoss\n",
    "from torch.utils.data.dataset import Dataset\n",
    "from torch.utils.data.dataloader import DataLoader\n",
    "from torch.utils.data.sampler import RandomSampler, Sampler, SequentialSampler\n",
    "from enum import Enum\n",
    "from typing import List, Optional, Union\n",
    "\n",
    "from child_frames import frames\n",
    "from utils import *\n",
    "\n",
    "import logging\n",
    "import os\n",
    "import sys\n",
    "\n",
    "from transformers import HfArgumentParser, Trainer, TrainingArguments, set_seed\n",
    "from transformers import PreTrainedModel, RobertaForMaskedLM, RobertaTokenizer\n",
    "from transformers.modeling_roberta import RobertaForProbing, RobertaDoubleHeadsModel, \\\n",
    "    RobertaDoubleHeadsModel2, RobertaDoubleHeadsModel3  # XD\n",
    "from transformers.trainer import get_mean_pred_prob  # XD\n",
    "\n",
    "logging.basicConfig(level=logging.ERROR)"
   ]
  },
  {
   "cell_type": "code",
   "execution_count": 4,
   "metadata": {},
   "outputs": [
    {
     "data": {
      "text/plain": [
       "([' _Z is more * uncertain than _X , so _Z is more * uncertain ( same ) ? [ Right ] .',\n",
       "  ' _Z is more * uncertain than _X , so _X is more * confident ( opposite ) ? [ Right ] .',\n",
       "  ' _X is more * confident than _Z , so _Z is more * uncertain ( opposite ) ? [ Right ] .',\n",
       "  ' _X is more * confident than _Z , so _X is more * confident ( same ) ? [ Right ] .',\n",
       "  ' _Z is more * uncertain than _X , so _X is more * uncertain ( same ) ? [ Wrong ] .',\n",
       "  ' _Z is more * uncertain than _X , so _Z is more * confident ( opposite ) ? [ Wrong ] .',\n",
       "  ' _X is more * confident than _Z , so _X is more * uncertain ( opposite ) ? [ Wrong ] .',\n",
       "  ' _X is more * confident than _Z , so _Z is more * confident ( same ) ? [ Wrong ] .'],\n",
       " [' confident , uncertain ? opposite .',\n",
       "  ' uncertain , confident ? opposite .',\n",
       "  ' confident , confident ? same .',\n",
       "  ' uncertain , uncertain ? same .'])"
      ]
     },
     "execution_count": 4,
     "metadata": {},
     "output_type": "execute_result"
    }
   ],
   "source": [
    "A_template = \"{rel_prefix} {dt} {ent0} {rel} {dt} {ent1} {rel_suffix}\"\n",
    "B_template = \"{pred_prefix} {dt} {ent} {pred}\"\n",
    "entailment_templates = [\"{A} ? {conj} , {B} .\", \"{A} , so {B} ? {conj} .\"]\n",
    "\n",
    "markers = {'lexical': '*', 'entity': '#'}\n",
    "\n",
    "def extract_rel_id(s): return int(s[s.index(':') + 1])\n",
    "def extract_rel(s): return [t.split(':')[0] for t in s.split() if ':' in t][0]\n",
    "def strip_rel_id(s, lexical_rel=''):\n",
    "    rel_id_span = s[s.index(':'): s.index(':') + 2]\n",
    "    if lexical_rel != '': lexical_rel = ' ( ' + lexical_rel + ' )'\n",
    "    return s.replace(rel_id_span, lexical_rel)\n",
    "        \n",
    "relation_labels = {'entity': ['former', 'latter'], 'lexical': ['same', 'opposite', 'unrelated']}\n",
    "\n",
    "def make_sentences(entities=['_X', '_Z'], entity_set=string.ascii_uppercase, determiner=\"\",\n",
    "                   relation_group=[[\"confident\",], [\"uncertain\",]], rand_relation_group=[[\"short\"], [\"tall\", \"high\"]],\n",
    "                   relation_prefix=\"\", relation_suffix=\"\", predicate_prefix=\"\",\n",
    "                   n_entity_trials=3, has_negA=True, has_negB=True, has_neutral=False, mask_types={'sent_rel'}, \n",
    "                   lexical_relations=None, entity_relations=None, tag_lexical_rel=False, tag_entity_rel=False):\n",
    "#     if tag_lexical_rel: mask_types.add('lexical_rel')\n",
    "#     if tag_entity_rel: mask_types.add('entity_rel')\n",
    "    def get_comparative(word):\n",
    "        compar = comparative(word)\n",
    "        if tag_lexical_rel:\n",
    "            marker = markers['lexical']\n",
    "            compar = compar.replace('more ', 'more %s ' % marker) if compar.startswith('more ') else marker + ' ' + compar\n",
    "        return compar\n",
    "  \n",
    "    def form_As(relations):\n",
    "        return [A_template.format(dt=determiner, ent0=ent0, ent1=ent1, rel=rel, \n",
    "                                  rel_prefix=relation_prefix, rel_suffix=relation_suffix)\n",
    "              for ent0, ent1, rel in [entities + relations[:1], reverse(entities) + reverse(relations)[:1]]]\n",
    "    As = []\n",
    "    for rel0 in relation_group[0]:\n",
    "        for rel1 in relation_group[1]:\n",
    "            relations = [\"is %s:%d than\" % (get_comparative(rel), i) for i, rel in enumerate([rel0, rel1])]\n",
    "            As += form_As(relations)\n",
    "    As = list(set(As))\n",
    "    negAs = join_lists([negate_sent(A)[:1] for A in As]) if has_negA else []\n",
    "\n",
    "    def form_Bs(predicates): \n",
    "        f = mask if 'entity' in mask_types else (lambda x: x)\n",
    "        return [B_template.format(dt=determiner, ent=f(ent), pred=pred, pred_prefix=predicate_prefix)\n",
    "              for ent, pred in zip(entities, predicates)]\n",
    "\n",
    "    Bs, negBs = {'orig': [], 'rand': []}, {}\n",
    "    for k, group in zip(['orig', 'rand'], [relation_group, rand_relation_group]):\n",
    "        for rel0 in group[0]:\n",
    "            for rel1 in group[1]:\n",
    "                predicates = [\"is %s:%d\" % (get_comparative(rel), i) for i, rel in enumerate([rel0, rel1])]\n",
    "                Bs[k] += form_Bs(predicates)\n",
    "    for k in Bs:\n",
    "        Bs[k] = list(set(Bs[k]))\n",
    "        if has_negB:\n",
    "            negBs[k] = join_lists([negate_sent(B)[:1] for B in Bs[k]])\n",
    "            Bs[k], negBs[k] = Bs[k] + [swap_entities(negB) for negB in negBs[k]], negBs[k] + [swap_entities(B) for B in Bs[k]]\n",
    "        else:\n",
    "            negBs[k] = [swap_entities(B) for B in Bs[k]]\n",
    "      \n",
    "    comparatives = [comparative(r).replace('more ', '') for r in join_lists(relation_group) + join_lists(rand_relation_group)]\n",
    "    def form_sentences(sentence_template, As, Bs, conj):\n",
    "        def compare_and_tag_comparative(A, B):\n",
    "            if 'Maybe' in conj:\n",
    "                lexical_rel = 'unrelated'\n",
    "            else:\n",
    "                lexical_rel = 'same' if extract_rel_id(A) == extract_rel_id(B) else 'opposite'\n",
    "            if lexical_relations and lexical_rel not in lexical_relations:\n",
    "                return None, None\n",
    "            if 'lexical_rel' in mask_types: lexical_rel = mask(lexical_rel)\n",
    "            return strip_rel_id(A), strip_rel_id(B, lexical_rel)\n",
    "#             triple = '%s %s %s' % (extract_rel(A), lexical_rel, extract_rel(B))\n",
    "#             return strip_rel_id(A), strip_rel_id(B), triple\n",
    "        def tag_entity(token, recurred_entity, entity_rel=None):\n",
    "            if token != recurred_entity: return token\n",
    "            return markers['entity'] + ' ' + token\n",
    "#             if token not in entities: return token\n",
    "#             entity_rel = 'paired' if token == recurred_entity else 'single'\n",
    "#             if 'entity_rel' in mask_types: entity_rel = mask(entity_rel)\n",
    "#             return token + ' ( %s )' % entity_rel\n",
    "        def compare_and_tag_entity(A, B):\n",
    "            recurred_entity = [e for e in entities if e in B.split()][0]\n",
    "            A = ' '.join([tag_entity(token, recurred_entity) for token in A.split()])\n",
    "            B = ' '.join([tag_entity(token, recurred_entity) for token in B.split()])\n",
    "            entity_rel = 'former' if A.split().index(recurred_entity) in [0, 1] else 'latter'\n",
    "            if entity_relations and entity_rel not in entity_relations: return None, None\n",
    "            if 'entity_rel' in mask_types: entity_rel = mask(entity_rel)\n",
    "            return A, B.replace(recurred_entity, recurred_entity + ' ( ' + entity_rel + ' )')\n",
    "#             triple = '%s %s %s' % (recurred_entity, entity_rel, recurred_entity)\n",
    "#             return A, B, triple\n",
    "        \n",
    "        if 'sent_rel' in mask_types: conj = mask(conj)\n",
    "        sentences = []\n",
    "        cores = []\n",
    "        for A, B in product(As, Bs):\n",
    "            A, B = compare_and_tag_comparative(A, B) \\\n",
    "                if tag_lexical_rel else (strip_rel_id(A), strip_rel_id(B))\n",
    "            if A is None: continue\n",
    "#             entity_triple = None\n",
    "            if tag_entity_rel: A, B = compare_and_tag_entity(A, B)\n",
    "            if A is None: continue\n",
    "            sent = sentence_template.format(A=A, B=B, conj=conj)\n",
    "#             triples = ' , '.join([t for t in [entity_triple, lexical_triple] if t is not None])\n",
    "#             if triples: sent = sent + ' Hint : ' + triples\n",
    "            sent = \" \" + \" \".join(sent.split())\n",
    "            if True: #for sent_type in sentence_types:\n",
    "                sentences.append(sent)\n",
    "                for rel_type in {'entity', 'lexical'}:\n",
    "                    if not locals()['tag_' + rel_type + '_rel']: continue\n",
    "#                 if 'core' in sent_type:\n",
    "#                     rel_type = sent_type.split('_')[1]\n",
    "#                     assert rel_type in {'entity', 'lexical'}\n",
    "                    the_other_rel_type = ({'entity', 'lexical'} - {rel_type}).pop()\n",
    "                    excluded_tokens = comparatives if rel_type == 'entity' else entities\n",
    "                    # wrong, because it will change the default value of entities!\n",
    "                    # excluded_tokens += ['is', 'not', 'less', 'more', 'than', 'so'] + list(markers.values()) \n",
    "                    excluded_tokens = excluded_tokens + ['is', 'not', 'less', 'more', 'than', 'so'] + list(markers.values())\n",
    "                    core = sent.split('?')[0]\n",
    "                    for span in ['( [ %s ] )' % r for r in relation_labels[the_other_rel_type]]:\n",
    "                        core = core.replace(span, '')\n",
    "                    core = [token for token in core.split() if token not in excluded_tokens]\n",
    "                    core = \" \" + \" \".join(core)\n",
    "                    core = core.replace('(', '?').replace(')', '.')\n",
    "                    cores.append(core)\n",
    "        return sentences, cores\n",
    "    \n",
    "    sentences = defaultdict(list)\n",
    "    cores = defaultdict(list)\n",
    "    for entailment_template in entailment_templates[-1:]:\n",
    "        for A, B, conj in [(As, Bs['orig'], 'Right'), (negAs, negBs['orig'], 'Right'), \n",
    "                           (As, negBs['orig'], 'Wrong'), (negAs, Bs['orig'], 'Wrong'),\n",
    "                           (As, Bs['rand'], 'Maybe'), (negAs, negBs['rand'], 'Maybe'), \n",
    "                           (As, negBs['rand'], 'Maybe'), (negAs, Bs['rand'], 'Maybe')]:\n",
    "            ss, cs = form_sentences(entailment_template, A, B, conj)\n",
    "            sentences[conj] += ss\n",
    "            cores[conj] += cs\n",
    "    assert len(sentences['Right']) == len(sentences['Wrong']), \\\n",
    "        '%d %d' % (len(sentences['Right']), len(sentences['Wrong']))\n",
    "    if has_neutral:\n",
    "        sentences['Maybe'] = random.sample(sentences['Maybe'], len(sentences['Right']))\n",
    "    keys = sentences.keys() if has_neutral else ['Right', 'Wrong']\n",
    "    sentences = join_lists(sentences[k] for k in keys)\n",
    "    \n",
    "    def substitute(templates, n_entity_trials):\n",
    "        substituted_groups = []\n",
    "        for template in templates:\n",
    "            group = []\n",
    "            for _ in range(n_entity_trials):\n",
    "                e0, e1 = random.sample(entity_set, 2)\n",
    "                group.append(template.replace(entities[0], e0).replace(entities[1], e1))\n",
    "            substituted_groups.append(group)\n",
    "        return substituted_groups\n",
    "    \n",
    "    substituted_sent_groups = substitute(sentences, n_entity_trials=n_entity_trials)\n",
    "    cores = list(set(join_lists(cores[k] for k in keys)))\n",
    "    cores = balance(cores, relation_labels)\n",
    "    substituted_core_groups = substitute(cores, n_entity_trials=1)\n",
    "    return sentences, cores, substituted_sent_groups, substituted_core_groups\n",
    "\n",
    "make_sentences(has_negA=False, has_negB=False, has_neutral=False, tag_lexical_rel=True, tag_entity_rel=False,\n",
    "               mask_types={'sent_rel'})[:2] # ,"
   ]
  },
  {
   "cell_type": "code",
   "execution_count": 5,
   "metadata": {},
   "outputs": [],
   "source": [
    "def make_transitive(entities=[\"_X\", \"_Y\", \"_Z\"], entity_set=string.ascii_uppercase,\n",
    "                    relation_group=[[\"confident\", ], [\"uncertain\", ]], n_entity_trials=3,\n",
    "                    has_negP=True, has_negQ=True, has_neutral=False, mask_types=['sent_rel']):\n",
    "    def form_atoms(relations, entities, has_neg=True):\n",
    "        atoms = [P_template.format(ent0=ent0, ent1=ent1, rel=rel) for ent0, ent1, rel in\n",
    "                 [entities + relations[:1], reverse(entities) + reverse(relations)[:1]]]\n",
    "        if has_neg:\n",
    "            neg_rels = [negate_sent(r)[0] for r in relations]\n",
    "            atoms += [P_template.format(ent0=ent0, ent1=ent1, rel=rel) for ent0, ent1, rel in\n",
    "                      [entities + reverse(neg_rels)[:1], reverse(entities) + neg_rels[:1]]]\n",
    "        return atoms\n",
    "\n",
    "    def form_sentences(transitive_template, Ps, Qs, conj):\n",
    "        sentences = []\n",
    "        if 'sent_rel' in mask_types: conj = mask(conj)\n",
    "        for (p0, p1), Q in product(Ps, Qs):\n",
    "            sent = transitive_template.format(p0=strip_rel_id(p0), p1=strip_rel_id(p1),\n",
    "                                              Q=strip_rel_id(Q), conj=conj)\n",
    "            sent = \" \" + \" \".join(sent.split())\n",
    "            sentences.append(sent)\n",
    "        return sentences\n",
    "\n",
    "    def form_all(P0_entities, P1_entities, Q_entities, neutral=False):\n",
    "        P0, P1 = [], []\n",
    "        for rel0 in relation_group[0]:\n",
    "            for rel1 in relation_group[1]:\n",
    "                relations = [\" is %s:%d than\" % (comparative(rel), i)\n",
    "                             for i, rel in enumerate([rel0, rel1])]\n",
    "                P0 += form_atoms(relations, P0_entities, has_neg=has_negP)\n",
    "                P1 += form_atoms(relations, P1_entities, has_neg=has_negP)\n",
    "        Ps = [(p0, p1) for p0, p1 in list(product(P0, P1)) + list(product(P1, P0))]\n",
    "\n",
    "        Qs = form_atoms(relations, Q_entities, has_neg=has_negQ)\n",
    "        negQs = [swap_entities(Q, *Q_entities) for Q in Qs]\n",
    "\n",
    "        for P, Q, conj in [(Ps, Qs, 'Right'), (Ps, negQs, 'Wrong')]:\n",
    "            if neutral: conj = 'Maybe'\n",
    "            sentences[conj] += form_sentences(transitive_template, P, Q, conj)\n",
    "        return sentences\n",
    "\n",
    "    e0, e1, e2 = entities\n",
    "    sentences = defaultdict(list)\n",
    "    form_all(P0_entities=[e0, e1], P1_entities=[e1, e2], Q_entities=[e0, e2])\n",
    "    assert len(sentences['Right']) == len(sentences['Wrong']), \\\n",
    "        '%d %d' % (len(sentences['Right']), len(sentences['Wrong']))\n",
    "    sample_ratio = len(relation_group[0]) * len(relation_group[1])\n",
    "    if sample_ratio > 1:\n",
    "        for key in sentences:\n",
    "            sentences[key] = random.sample(sentences[key], len(sentences[key]) // sample_ratio)\n",
    "#     print('nRight =', len(sentences['Right']))\n",
    "    if has_neutral:\n",
    "        form_all(P0_entities=[e0, e1], P1_entities=[e0, e2], Q_entities=[e1, e2], neutral=True)\n",
    "        sentences['Maybe'] = random.sample(sentences['Maybe'], len(sentences['Right']))\n",
    "    keys = sentences.keys() if has_neutral else ['Right', 'Wrong']\n",
    "    sentences = join_lists(sentences[k] for k in keys)\n",
    "\n",
    "    substituted_sent_groups = []\n",
    "    for sent in sentences:\n",
    "        sent_group = []\n",
    "        for _ in range(n_entity_trials):\n",
    "            e0, e1, e2 = random.sample(entity_set, 3)\n",
    "            sent_group.append(sent.replace(entities[0], e0)\n",
    "                              .replace(entities[1], e1)\n",
    "                              .replace(entities[2], e2))\n",
    "        substituted_sent_groups.append(sent_group)\n",
    "    return sentences, substituted_sent_groups\n",
    "\n",
    "# make_transitive(has_negP=True, has_negQ=True, has_neutral=True, mask_types=['sent_rel'])[1]"
   ]
  },
  {
   "cell_type": "code",
   "execution_count": 6,
   "metadata": {
    "scrolled": true
   },
   "outputs": [],
   "source": [
    "tokenizer_class, shortcut = RobertaTokenizer, 'roberta-base'\n",
    "tokenizer = tokenizer_class.from_pretrained(shortcut)"
   ]
  },
  {
   "cell_type": "code",
   "execution_count": 7,
   "metadata": {},
   "outputs": [],
   "source": [
    "## rand_relation_group=_frames[(i + 1) % len(_frames)], \n",
    "random.seed(42)\n",
    "random.shuffle(frames)\n",
    "entity_set = list(string.ascii_uppercase)\n",
    "random.shuffle(entity_set)\n",
    "split_pct = [0.7, 0.3]"
   ]
  },
  {
   "cell_type": "code",
   "execution_count": 8,
   "metadata": {},
   "outputs": [
    {
     "data": {
      "text/plain": [
       "[' A is more unlawful than # F , so # F ( latter ) is more lawful ? [ Right ] .',\n",
       " ' L is more hesitant than # X , so # X ( latter ) is more hesitant ? [ Wrong ] .',\n",
       " ' # J is smaller than E , so # J ( former ) is bigger ? [ Wrong ] .',\n",
       " ' # Q is more dishonest than H , so # Q ( former ) is more honest ? [ Wrong ] .',\n",
       " ' R is more endemic than # Y , so # Y ( latter ) is more endemic ? [ Wrong ] .',\n",
       " ' F is brighter than # E , so # E ( latter ) is darker ? [ Right ] .',\n",
       " ' # X is more unnatural than Q , so # X ( former ) is more natural ? [ Wrong ] .',\n",
       " ' # D is fewer than Y , so # D ( former ) is less ? [ Right ] .',\n",
       " ' I is more arrogant than # Y , so # Y ( latter ) is more modest ? [ Right ] .',\n",
       " ' N is more unwilling than # B , so # B ( latter ) is more unwilling ? [ Wrong ] .']"
      ]
     },
     "execution_count": 8,
     "metadata": {},
     "output_type": "execute_result"
    },
    {
     "name": "stdout",
     "output_type": "stream",
     "text": [
      "nTrain = 2562, nValid = 1122\n"
     ]
    }
   ],
   "source": [
    "tag2id = {'same': 0, 'opposite': 1, 'unrelated': 2, 'former': 0, 'latter': 1, 'another': 5, 'single': 6, 'paired': 7}\n",
    "tag2id = {'Ġ' + k: v for k, v in tag2id.items()}\n",
    "id2tag = {v: k for k, v in tag2id.items()}\n",
    "\n",
    "n_entity_trials = 3\n",
    "kwargs = {'n_entity_trials': n_entity_trials, 'has_neutral': False, 'has_negA': False, 'has_negB': False, \n",
    "          'tag_lexical_rel': False, 'tag_entity_rel': True, 'mask_types': {'sent_rel',}}\n",
    "train_lines, eval_lines = [[make_sentences(relation_group=rg, entity_set=_ent_set, **kwargs)[2] for i, rg in enumerate(_frames)]\n",
    "                           for _frames, _ent_set in zip(split(frames, split_pct), split(entity_set, split_pct))]\n",
    "random.sample(flatten(train_lines), 10)\n",
    "# all_lines = [make_transitive(relation_group=rg, n_entity_trials=n_entity_trials,\n",
    "#                              has_negP=True, has_negQ=True, has_neutral=True, mask_types=['sent_rel'])[1]\n",
    "#              for i, rg in enumerate(frames)]\n",
    "# all_lines = join_lists(all_lines)\n",
    "# all_lines = join_lists(all_lines)\n",
    "tokenizer.tag2id, tokenizer.id2tag = tag2id, id2tag\n",
    "# for k in CHILDDataset.all_lines: CHILDDataset.all_lines[k] = None\n",
    "kwargs = {'has_tags': True, 'max_noise_len': 0, 'n_replicas': 1}\n",
    "train_dataset = CHILDDataset(train_lines, tokenizer, mode='train', **kwargs)\n",
    "eval_dataset = CHILDDataset(eval_lines, tokenizer, mode='dev', **kwargs)\n",
    "print('nTrain = %d, nValid = %d' % (len(train_dataset), len(eval_dataset)))"
   ]
  },
  {
   "cell_type": "code",
   "execution_count": 112,
   "metadata": {
    "scrolled": true
   },
   "outputs": [
    {
     "data": {
      "application/vnd.jupyter.widget-view+json": {
       "model_id": "2e7e73952a6245e58229ca6ffe8ecd9f",
       "version_major": 2,
       "version_minor": 0
      },
      "text/plain": [
       "HBox(children=(FloatProgress(value=0.0, description='Epoch', max=10.0, style=ProgressStyle(description_width='…"
      ]
     },
     "metadata": {},
     "output_type": "display_data"
    },
    {
     "data": {
      "application/vnd.jupyter.widget-view+json": {
       "model_id": "c3e3c4bdad914026a1c6ba2400a796b5",
       "version_major": 2,
       "version_minor": 0
      },
      "text/plain": [
       "HBox(children=(FloatProgress(value=0.0, description='Iteration', max=81.0, style=ProgressStyle(description_wid…"
      ]
     },
     "metadata": {},
     "output_type": "display_data"
    },
    {
     "name": "stdout",
     "output_type": "stream",
     "text": [
      "\n"
     ]
    },
    {
     "data": {
      "application/vnd.jupyter.widget-view+json": {
       "model_id": "fc0c3824029f4b858cf3855010aa3f6a",
       "version_major": 2,
       "version_minor": 0
      },
      "text/plain": [
       "HBox(children=(FloatProgress(value=0.0, description='Iteration', max=81.0, style=ProgressStyle(description_wid…"
      ]
     },
     "metadata": {},
     "output_type": "display_data"
    },
    {
     "name": "stdout",
     "output_type": "stream",
     "text": [
      "{'loss': 0.672442, 'learning_rate': 0.00017530864197530866, 'epoch': 1.235, 'step': 100}\n"
     ]
    },
    {
     "data": {
      "application/vnd.jupyter.widget-view+json": {
       "model_id": "5afb79dc02624930a5fa5606a2879005",
       "version_major": 2,
       "version_minor": 0
      },
      "text/plain": [
       "HBox(children=(FloatProgress(value=0.0, description='Evaluation', max=18.0, style=ProgressStyle(description_wi…"
      ]
     },
     "metadata": {},
     "output_type": "display_data"
    },
    {
     "name": "stdout",
     "output_type": "stream",
     "text": [
      "\n",
      "0  0.50/0.51  0.62/0.51  0.76/0.50  0.50/0.51  0.62/0.50  0.51/0.50  0.78/0.50  0.55/0.51  0.50/0.50  0.78/0.52  0.87/0.56  0.73/0.51  \n",
      "1  0.79/0.55  0.50/0.51  0.81/0.55  0.82/0.55  0.50/0.50  0.79/0.54  0.50/0.51  0.76/0.54  0.66/0.50  0.77/0.60  0.65/0.51  0.73/0.53  \n",
      "2  0.79/0.52  0.99/0.54  0.87/0.56  0.90/0.53  0.76/0.55  0.91/0.56  0.90/0.57  0.85/0.56  0.78/0.52  0.84/0.54  0.61/0.53  0.86/0.57  \n",
      "\n"
     ]
    },
    {
     "data": {
      "application/vnd.jupyter.widget-view+json": {
       "model_id": "19f3e59b6bdd4641b3adaa4b788cecd9",
       "version_major": 2,
       "version_minor": 0
      },
      "text/plain": [
       "HBox(children=(FloatProgress(value=0.0, description='Iteration', max=81.0, style=ProgressStyle(description_wid…"
      ]
     },
     "metadata": {},
     "output_type": "display_data"
    },
    {
     "name": "stdout",
     "output_type": "stream",
     "text": [
      "{'loss': 0.642218, 'learning_rate': 0.0001506172839506173, 'epoch': 2.469, 'step': 200}\n"
     ]
    },
    {
     "data": {
      "application/vnd.jupyter.widget-view+json": {
       "model_id": "825ad3f9948c4cdc99748de18f555204",
       "version_major": 2,
       "version_minor": 0
      },
      "text/plain": [
       "HBox(children=(FloatProgress(value=0.0, description='Evaluation', max=18.0, style=ProgressStyle(description_wi…"
      ]
     },
     "metadata": {},
     "output_type": "display_data"
    },
    {
     "name": "stdout",
     "output_type": "stream",
     "text": [
      "\n",
      "0  0.55/0.51  0.74/0.52  0.77/0.50  0.50/0.51  0.51/0.50  0.63/0.50  0.79/0.51  0.67/0.51  0.55/0.50  0.91/0.53  0.88/0.60  0.93/0.51  \n",
      "1  0.80/0.57  0.53/0.51  0.84/0.58  0.85/0.57  0.51/0.50  0.76/0.58  0.50/0.51  0.74/0.57  0.51/0.50  0.80/0.66  0.80/0.52  0.74/0.55  \n",
      "2  0.79/0.53  0.98/0.58  0.92/0.61  0.94/0.54  0.79/0.58  0.93/0.59  0.92/0.62  0.86/0.60  0.77/0.53  0.83/0.57  0.85/0.55  0.86/0.61  \n",
      "\n"
     ]
    },
    {
     "data": {
      "application/vnd.jupyter.widget-view+json": {
       "model_id": "3871154e839a4ab3a348de931dccf236",
       "version_major": 2,
       "version_minor": 0
      },
      "text/plain": [
       "HBox(children=(FloatProgress(value=0.0, description='Iteration', max=81.0, style=ProgressStyle(description_wid…"
      ]
     },
     "metadata": {},
     "output_type": "display_data"
    },
    {
     "name": "stdout",
     "output_type": "stream",
     "text": [
      "{'loss': 0.623007, 'learning_rate': 0.00012592592592592592, 'epoch': 3.704, 'step': 300}\n"
     ]
    },
    {
     "data": {
      "application/vnd.jupyter.widget-view+json": {
       "model_id": "ab6cd500d04a4adf8bbf088d3c8e6046",
       "version_major": 2,
       "version_minor": 0
      },
      "text/plain": [
       "HBox(children=(FloatProgress(value=0.0, description='Evaluation', max=18.0, style=ProgressStyle(description_wi…"
      ]
     },
     "metadata": {},
     "output_type": "display_data"
    },
    {
     "name": "stdout",
     "output_type": "stream",
     "text": [
      "\n",
      "0  0.66/0.51  0.81/0.52  0.98/0.50  0.50/0.51  0.66/0.50  0.99/0.51  0.78/0.51  0.84/0.51  0.72/0.50  0.90/0.54  0.90/0.63  0.90/0.52  \n",
      "1  0.80/0.59  0.83/0.52  0.89/0.61  0.86/0.60  0.50/0.50  0.75/0.61  0.51/0.50  0.74/0.59  0.91/0.50  0.82/0.69  0.81/0.52  0.74/0.57  \n",
      "2  0.78/0.54  0.95/0.60  0.91/0.65  0.94/0.56  0.81/0.60  0.93/0.62  0.93/0.65  0.88/0.63  0.76/0.54  0.82/0.60  0.88/0.57  0.86/0.65  \n",
      "\n"
     ]
    },
    {
     "data": {
      "application/vnd.jupyter.widget-view+json": {
       "model_id": "5de0918461dd40a2af1ad46e857fd9b4",
       "version_major": 2,
       "version_minor": 0
      },
      "text/plain": [
       "HBox(children=(FloatProgress(value=0.0, description='Iteration', max=81.0, style=ProgressStyle(description_wid…"
      ]
     },
     "metadata": {},
     "output_type": "display_data"
    },
    {
     "name": "stdout",
     "output_type": "stream",
     "text": [
      "{'loss': 0.608555, 'learning_rate': 0.00010123456790123458, 'epoch': 4.938, 'step': 400}\n"
     ]
    },
    {
     "data": {
      "application/vnd.jupyter.widget-view+json": {
       "model_id": "909e0e98b36a46d89df575160e108988",
       "version_major": 2,
       "version_minor": 0
      },
      "text/plain": [
       "HBox(children=(FloatProgress(value=0.0, description='Evaluation', max=18.0, style=ProgressStyle(description_wi…"
      ]
     },
     "metadata": {},
     "output_type": "display_data"
    },
    {
     "name": "stdout",
     "output_type": "stream",
     "text": [
      "\n",
      "0  0.68/0.51  0.83/0.52  0.97/0.50  0.50/0.51  0.57/0.50  1.00/0.51  0.77/0.51  0.87/0.51  0.91/0.50  0.94/0.54  0.90/0.65  0.91/0.52  \n",
      "1  0.80/0.61  0.88/0.53  0.93/0.64  0.86/0.61  0.50/0.50  0.75/0.63  0.53/0.50  0.74/0.61  0.90/0.50  0.83/0.71  0.82/0.53  0.73/0.59  \n",
      "2  0.77/0.55  0.93/0.62  0.92/0.68  0.94/0.57  0.83/0.61  0.94/0.64  0.94/0.67  0.89/0.66  0.76/0.55  0.83/0.62  0.88/0.59  0.86/0.67  \n",
      "\n"
     ]
    },
    {
     "data": {
      "application/vnd.jupyter.widget-view+json": {
       "model_id": "4a90b43c719c4ed2a28fc5926e127aa2",
       "version_major": 2,
       "version_minor": 0
      },
      "text/plain": [
       "HBox(children=(FloatProgress(value=0.0, description='Iteration', max=81.0, style=ProgressStyle(description_wid…"
      ]
     },
     "metadata": {},
     "output_type": "display_data"
    },
    {
     "name": "stdout",
     "output_type": "stream",
     "text": [
      "\n"
     ]
    },
    {
     "data": {
      "application/vnd.jupyter.widget-view+json": {
       "model_id": "5bf949fdd8a14f2c9f8ba89d0a7a72f0",
       "version_major": 2,
       "version_minor": 0
      },
      "text/plain": [
       "HBox(children=(FloatProgress(value=0.0, description='Iteration', max=81.0, style=ProgressStyle(description_wid…"
      ]
     },
     "metadata": {},
     "output_type": "display_data"
    },
    {
     "name": "stdout",
     "output_type": "stream",
     "text": [
      "{'loss': 0.600835, 'learning_rate': 7.65432098765432e-05, 'epoch': 6.173, 'step': 500}\n"
     ]
    },
    {
     "data": {
      "application/vnd.jupyter.widget-view+json": {
       "model_id": "998b47a4a0384be68c9c5427ca08bef9",
       "version_major": 2,
       "version_minor": 0
      },
      "text/plain": [
       "HBox(children=(FloatProgress(value=0.0, description='Evaluation', max=18.0, style=ProgressStyle(description_wi…"
      ]
     },
     "metadata": {},
     "output_type": "display_data"
    },
    {
     "name": "stdout",
     "output_type": "stream",
     "text": [
      "\n",
      "0  0.71/0.51  0.84/0.53  0.95/0.51  0.50/0.51  0.69/0.50  1.00/0.51  0.77/0.51  0.91/0.51  0.93/0.50  0.94/0.55  0.90/0.66  0.90/0.53  \n",
      "1  0.81/0.63  0.88/0.54  0.95/0.65  0.86/0.62  0.50/0.50  0.75/0.65  0.54/0.50  0.74/0.63  0.85/0.50  0.84/0.73  0.82/0.53  0.74/0.60  \n",
      "2  0.78/0.55  0.93/0.64  0.92/0.69  0.93/0.58  0.85/0.62  0.94/0.65  0.94/0.69  0.89/0.67  0.76/0.56  0.82/0.64  0.88/0.61  0.86/0.68  \n",
      "\n"
     ]
    },
    {
     "data": {
      "application/vnd.jupyter.widget-view+json": {
       "model_id": "274311183dc548bba6dd547065269654",
       "version_major": 2,
       "version_minor": 0
      },
      "text/plain": [
       "HBox(children=(FloatProgress(value=0.0, description='Iteration', max=81.0, style=ProgressStyle(description_wid…"
      ]
     },
     "metadata": {},
     "output_type": "display_data"
    },
    {
     "name": "stdout",
     "output_type": "stream",
     "text": [
      "{'loss': 0.592923, 'learning_rate': 5.185185185185185e-05, 'epoch': 7.407, 'step': 600}\n"
     ]
    },
    {
     "data": {
      "application/vnd.jupyter.widget-view+json": {
       "model_id": "9d683950c7b74250a2424ad5feaffcb6",
       "version_major": 2,
       "version_minor": 0
      },
      "text/plain": [
       "HBox(children=(FloatProgress(value=0.0, description='Evaluation', max=18.0, style=ProgressStyle(description_wi…"
      ]
     },
     "metadata": {},
     "output_type": "display_data"
    },
    {
     "name": "stdout",
     "output_type": "stream",
     "text": [
      "\n",
      "0  0.74/0.51  0.85/0.53  0.96/0.51  0.52/0.51  0.69/0.50  1.00/0.51  0.78/0.51  0.93/0.51  0.92/0.50  0.94/0.55  0.91/0.67  0.90/0.53  \n",
      "1  0.81/0.64  0.88/0.54  0.96/0.67  0.87/0.64  0.50/0.50  0.75/0.65  0.54/0.50  0.73/0.64  0.65/0.50  0.84/0.73  0.82/0.53  0.73/0.61  \n",
      "2  0.79/0.56  0.92/0.65  0.92/0.70  0.92/0.59  0.86/0.64  0.95/0.66  0.94/0.70  0.90/0.68  0.76/0.56  0.82/0.65  0.87/0.61  0.85/0.69  \n",
      "\n"
     ]
    },
    {
     "data": {
      "application/vnd.jupyter.widget-view+json": {
       "model_id": "f22a107cbe52402a8dabd2785590e32b",
       "version_major": 2,
       "version_minor": 0
      },
      "text/plain": [
       "HBox(children=(FloatProgress(value=0.0, description='Iteration', max=81.0, style=ProgressStyle(description_wid…"
      ]
     },
     "metadata": {},
     "output_type": "display_data"
    },
    {
     "name": "stdout",
     "output_type": "stream",
     "text": [
      "{'loss': 0.583881, 'learning_rate': 2.7160493827160493e-05, 'epoch': 8.642, 'step': 700}\n"
     ]
    },
    {
     "data": {
      "application/vnd.jupyter.widget-view+json": {
       "model_id": "09d70093f0de479784da9ce5c8b5dccb",
       "version_major": 2,
       "version_minor": 0
      },
      "text/plain": [
       "HBox(children=(FloatProgress(value=0.0, description='Evaluation', max=18.0, style=ProgressStyle(description_wi…"
      ]
     },
     "metadata": {},
     "output_type": "display_data"
    },
    {
     "name": "stdout",
     "output_type": "stream",
     "text": [
      "\n",
      "0  0.73/0.51  0.84/0.53  0.96/0.51  0.52/0.51  0.70/0.50  1.00/0.51  0.77/0.51  0.92/0.51  0.91/0.50  0.94/0.55  0.91/0.68  0.91/0.53  \n",
      "1  0.81/0.65  0.88/0.54  0.96/0.67  0.87/0.64  0.65/0.50  0.75/0.66  0.51/0.50  0.73/0.65  0.71/0.50  0.85/0.74  0.82/0.53  0.73/0.61  \n",
      "2  0.79/0.56  0.93/0.65  0.93/0.70  0.92/0.59  0.87/0.64  0.95/0.67  0.94/0.70  0.90/0.69  0.76/0.56  0.82/0.65  0.88/0.62  0.85/0.69  \n",
      "\n"
     ]
    },
    {
     "data": {
      "application/vnd.jupyter.widget-view+json": {
       "model_id": "3902cd14c49e4d3ebf44a5cf654ff804",
       "version_major": 2,
       "version_minor": 0
      },
      "text/plain": [
       "HBox(children=(FloatProgress(value=0.0, description='Iteration', max=81.0, style=ProgressStyle(description_wid…"
      ]
     },
     "metadata": {},
     "output_type": "display_data"
    },
    {
     "name": "stdout",
     "output_type": "stream",
     "text": [
      "{'loss': 0.585851, 'learning_rate': 2.469135802469136e-06, 'epoch': 9.877, 'step': 800}\n"
     ]
    },
    {
     "data": {
      "application/vnd.jupyter.widget-view+json": {
       "model_id": "b423b006fd744986b5e7dff664bb14a0",
       "version_major": 2,
       "version_minor": 0
      },
      "text/plain": [
       "HBox(children=(FloatProgress(value=0.0, description='Evaluation', max=18.0, style=ProgressStyle(description_wi…"
      ]
     },
     "metadata": {},
     "output_type": "display_data"
    },
    {
     "name": "stdout",
     "output_type": "stream",
     "text": [
      "\n",
      "0  0.74/0.51  0.85/0.53  0.96/0.51  0.52/0.51  0.69/0.50  0.99/0.51  0.77/0.51  0.93/0.51  0.92/0.50  0.95/0.55  0.91/0.68  0.91/0.53  \n",
      "1  0.81/0.65  0.88/0.54  0.96/0.67  0.86/0.64  0.61/0.50  0.75/0.66  0.52/0.50  0.73/0.65  0.67/0.50  0.84/0.74  0.82/0.53  0.74/0.61  \n",
      "2  0.78/0.56  0.92/0.66  0.93/0.70  0.92/0.59  0.87/0.64  0.95/0.67  0.94/0.71  0.90/0.69  0.76/0.56  0.82/0.65  0.87/0.62  0.85/0.70  \n",
      "\n",
      "\n"
     ]
    },
    {
     "data": {
      "application/vnd.jupyter.widget-view+json": {
       "model_id": "b98eda4b785d4ed7bc2b3daaf0f8019b",
       "version_major": 2,
       "version_minor": 0
      },
      "text/plain": [
       "HBox(children=(FloatProgress(value=0.0, description='Evaluation', max=18.0, style=ProgressStyle(description_wi…"
      ]
     },
     "metadata": {},
     "output_type": "display_data"
    },
    {
     "name": "stdout",
     "output_type": "stream",
     "text": [
      "\n",
      "0  0.75/0.51  0.85/0.53  0.96/0.51  0.52/0.51  0.69/0.50  1.00/0.51  0.77/0.51  0.93/0.51  0.92/0.50  0.95/0.55  0.91/0.68  0.91/0.53  \n",
      "1  0.81/0.65  0.88/0.54  0.96/0.67  0.87/0.64  0.61/0.50  0.75/0.66  0.52/0.50  0.73/0.65  0.67/0.50  0.84/0.74  0.82/0.53  0.73/0.61  \n",
      "2  0.78/0.56  0.92/0.66  0.92/0.70  0.92/0.59  0.87/0.64  0.95/0.67  0.94/0.71  0.90/0.69  0.76/0.56  0.82/0.65  0.87/0.62  0.85/0.70  \n"
     ]
    },
    {
     "data": {
      "text/plain": [
       "TrainOutput(global_step=810, training_loss=0.6134045431643357)"
      ]
     },
     "execution_count": 112,
     "metadata": {},
     "output_type": "execute_result"
    }
   ],
   "source": [
    "# model_class, model = RobertaForMaskedLM, None\n",
    "model_class, model = RobertaForProbing, None\n",
    "model = model_class.from_pretrained('roberta-base', state_dict=state_dict)\n",
    "steps = max(int(round(100 * n_entity_trials / 3)), int(len(train_dataset) / 32 / 4))\n",
    "training_args = TrainingArguments(output_dir=\"./models/model_name\", \n",
    "    overwrite_output_dir=True, do_train=True, do_eval=True,\n",
    "    per_device_train_batch_size=32, per_device_eval_batch_size=64,\n",
    "    learning_rate=2e-4, num_train_epochs=10,\n",
    "    logging_steps=steps, eval_steps=steps, save_steps=0,\n",
    "    no_cuda=False, evaluate_during_training=True,\n",
    ")\n",
    "trainer = Trainer(model, training_args, train_dataset=train_dataset, eval_dataset=eval_dataset)\n",
    "trainer.tokenizer = tokenizer\n",
    "model.tokenizer = tokenizer\n",
    "trainer.train()"
   ]
  },
  {
   "cell_type": "code",
   "execution_count": 100,
   "metadata": {},
   "outputs": [],
   "source": [
    "d = {'eval_loss': 0.353272, 'eval_acc_0': 0.891, 'eval_stat_0': 'ĠRight 0.49 0.98, ĠWrong 0.51 0.97, ', 'eval_acc_tc0': 1.0, 'eval_stat_tc0': 'Ġformer 0.50 0.98, Ġlatter 0.50 0.98, ', 'eval_acc_tc1': 1.0, 'eval_stat_tc1': 'Ġformer 0.50 0.92, Ġlatter 0.50 0.89, ', 'eval_acc_tc2': 0.535, 'eval_stat_tc2': 'Ġformer 0.54 0.51, Ġlatter 0.46 0.50, ', 'eval_acc_tc3': 0.496, 'eval_stat_tc3': 'Ġformer 0.17 0.50, Ġlatter 0.83 0.51, ', 'eval_acc_tc4': 0.495, 'eval_stat_tc4': 'Ġformer 0.43 0.51, Ġlatter 0.57 0.51, ', 'eval_acc_tc5': 0.503, 'eval_stat_tc5': 'Ġformer 0.92 0.51, Ġlatter 0.08 0.50, ', 'eval_acc_tc6': 1.0, 'eval_stat_tc6': 'Ġformer 0.50 0.98, Ġlatter 0.50 0.99, ', 'eval_acc_tc7': 1.0, 'eval_stat_tc7': 'Ġformer 0.50 0.94, Ġlatter 0.50 0.90, ', 'eval_acc_tc8': 0.502, 'eval_stat_tc8': 'Ġformer 0.22 0.50, Ġlatter 0.78 0.50, ', 'eval_acc_tc9': 0.633, 'eval_stat_tc9': 'Ġformer 0.83 0.51, Ġlatter 0.17 0.50, ', 'eval_acc_tc10': 0.998, 'eval_stat_tc10': 'Ġformer 0.50 0.61, Ġlatter 0.50 0.59, ', 'eval_acc_tc11': 0.542, 'eval_stat_tc11': 'Ġformer 0.22 0.50, Ġlatter 0.78 0.51, ', 'eval_acc_tc12': 1.0, 'eval_stat_tc12': 'Ġformer 0.50 0.99, Ġlatter 0.50 0.99, ', 'eval_acc_tc13': 1.0, 'eval_stat_tc13': 'Ġformer 0.50 0.97, Ġlatter 0.50 0.96, ', 'eval_acc_tc14': 0.499, 'eval_stat_tc14': 'Ġformer 0.26 0.50, Ġlatter 0.74 0.50, ', 'eval_acc_tc15': 0.679, 'eval_stat_tc15': 'Ġformer 0.79 0.51, Ġlatter 0.21 0.50, ', 'eval_acc_tc16': 0.95, 'eval_stat_tc16': 'Ġformer 0.55 0.62, Ġlatter 0.45 0.55, ', 'eval_acc_tc17': 0.744, 'eval_stat_tc17': 'Ġformer 0.65 0.51, Ġlatter 0.35 0.51, ', 'eval_acc_tc18': 1.0, 'eval_stat_tc18': 'Ġformer 0.50 0.99, Ġlatter 0.50 0.99, ', 'eval_acc_tc19': 1.0, 'eval_stat_tc19': 'Ġformer 0.50 0.97, Ġlatter 0.50 0.97, ', 'eval_acc_tc20': 0.499, 'eval_stat_tc20': 'Ġformer 0.98 0.50, Ġlatter 0.02 0.50, ', 'eval_acc_tc21': 0.636, 'eval_stat_tc21': 'Ġformer 0.54 0.50, Ġlatter 0.46 0.50, ', 'eval_acc_tc22': 0.951, 'eval_stat_tc22': 'Ġformer 0.55 0.65, Ġlatter 0.45 0.60, ', 'eval_acc_tc23': 0.853, 'eval_stat_tc23': 'Ġformer 0.64 0.52, Ġlatter 0.36 0.51, ', 'eval_acc_tc24': 1.0, 'eval_stat_tc24': 'Ġformer 0.50 1.00, Ġlatter 0.50 1.00, ', 'eval_acc_tc25': 1.0, 'eval_stat_tc25': 'Ġformer 0.50 0.99, Ġlatter 0.50 0.99, ', 'eval_acc_tc26': 0.521, 'eval_stat_tc26': 'Ġformer 0.98 0.51, Ġlatter 0.02 0.50, ', 'eval_acc_tc27': 0.502, 'eval_stat_tc27': 'Ġlatter 1.00 0.51, ', 'eval_acc_tc28': 0.983, 'eval_stat_tc28': 'Ġformer 0.52 0.77, Ġlatter 0.48 0.76, ', 'eval_acc_tc29': 0.936, 'eval_stat_tc29': 'Ġformer 0.56 0.61, Ġlatter 0.44 0.54, ', 'eval_acc_tc30': 1.0, 'eval_stat_tc30': 'Ġformer 0.50 1.00, Ġlatter 0.50 1.00, ', 'eval_acc_tc31': 1.0, 'eval_stat_tc31': 'Ġformer 0.50 0.99, Ġlatter 0.50 1.00, ', 'eval_acc_tc32': 0.498, 'eval_stat_tc32': 'Ġformer 1.00 0.50, ', 'eval_acc_tc33': 0.78, 'eval_stat_tc33': 'Ġformer 0.72 0.50, Ġlatter 0.28 0.50, ', 'eval_acc_tc34': 0.995, 'eval_stat_tc34': 'Ġformer 0.50 0.92, Ġlatter 0.50 0.90, ', 'eval_acc_tc35': 0.99, 'eval_stat_tc35': 'Ġformer 0.50 0.55, Ġlatter 0.50 0.57, ', 'eval_acc_tc36': 1.0, 'eval_stat_tc36': 'Ġformer 0.50 1.00, Ġlatter 0.50 1.00, ', 'eval_acc_tc37': 1.0, 'eval_stat_tc37': 'Ġformer 0.50 0.99, Ġlatter 0.50 0.99, ', 'eval_acc_tc38': 0.683, 'eval_stat_tc38': 'Ġformer 0.81 0.50, Ġlatter 0.19 0.50, ', 'eval_acc_tc39': 0.498, 'eval_stat_tc39': 'Ġformer 1.00 0.50, ', 'eval_acc_tc40': 1.0, 'eval_stat_tc40': 'Ġformer 0.50 0.96, Ġlatter 0.50 0.92, ', 'eval_acc_tc41': 0.957, 'eval_stat_tc41': 'Ġformer 0.47 0.73, Ġlatter 0.53 0.76, ', 'eval_acc_tc42': 1.0, 'eval_stat_tc42': 'Ġformer 0.50 1.00, Ġlatter 0.50 1.00, ', 'eval_acc_tc43': 1.0, 'eval_stat_tc43': 'Ġformer 0.50 0.99, Ġlatter 0.50 0.99, ', 'eval_acc_tc44': 0.858, 'eval_stat_tc44': 'Ġformer 0.63 0.50, Ġlatter 0.37 0.51, ', 'eval_acc_tc45': 0.502, 'eval_stat_tc45': 'Ġlatter 1.00 0.50, ', 'eval_acc_tc46': 1.0, 'eval_stat_tc46': 'Ġformer 0.50 0.98, Ġlatter 0.50 0.96, ', 'eval_acc_tc47': 0.967, 'eval_stat_tc47': 'Ġformer 0.53 0.87, Ġlatter 0.47 0.84, ', 'eval_acc_tc48': 1.0, 'eval_stat_tc48': 'Ġformer 0.50 1.00, Ġlatter 0.50 1.00, ', 'eval_acc_tc49': 1.0, 'eval_stat_tc49': 'Ġformer 0.50 0.99, Ġlatter 0.50 0.98, ', 'eval_acc_tc50': 0.848, 'eval_stat_tc50': 'Ġformer 0.63 0.57, Ġlatter 0.37 0.68, ', 'eval_acc_tc51': 0.768, 'eval_stat_tc51': 'Ġformer 0.73 0.52, Ġlatter 0.27 0.52, ', 'eval_acc_tc52': 1.0, 'eval_stat_tc52': 'Ġformer 0.50 0.98, Ġlatter 0.50 0.97, ', 'eval_acc_tc53': 1.0, 'eval_stat_tc53': 'Ġformer 0.50 0.95, Ġlatter 0.50 0.90, ', 'eval_acc_tc54': 1.0, 'eval_stat_tc54': 'Ġformer 0.50 1.00, Ġlatter 0.50 0.99, ', 'eval_acc_tc55': 1.0, 'eval_stat_tc55': 'Ġformer 0.50 0.98, Ġlatter 0.50 0.98, ', 'eval_acc_tc56': 0.79, 'eval_stat_tc56': 'Ġformer 0.71 0.55, Ġlatter 0.29 0.64, ', 'eval_acc_tc57': 0.733, 'eval_stat_tc57': 'Ġformer 0.76 0.51, Ġlatter 0.24 0.51, ', 'eval_acc_tc58': 1.0, 'eval_stat_tc58': 'Ġformer 0.50 0.98, Ġlatter 0.50 0.94, ', 'eval_acc_tc59': 1.0, 'eval_stat_tc59': 'Ġformer 0.50 0.95, Ġlatter 0.50 0.90, ', 'epoch': 10.0, 'step': 810}\n",
    "d = {'eval_loss': 0.658704, 'eval_acc_0': 0.891, 'eval_stat_0': 'ĠRight 0.49 0.98, ĠWrong 0.51 0.97, ', 'eval_acc_tc0': 0.935, 'eval_stat_tc0': 'Ġformer 0.56 0.53, Ġlatter 0.44 0.52, ', 'eval_acc_tc1': 0.517, 'eval_stat_tc1': 'Ġformer 0.31 0.50, Ġlatter 0.69 0.50, ', 'eval_acc_tc2': 1.0, 'eval_stat_tc2': 'Ġformer 0.50 0.69, Ġlatter 0.50 0.61, ', 'eval_acc_tc3': 0.639, 'eval_stat_tc3': 'Ġformer 0.86 0.52, Ġlatter 0.14 0.51, ', 'eval_acc_tc4': 0.522, 'eval_stat_tc4': 'Ġformer 0.53 0.50, Ġlatter 0.47 0.50, ', 'eval_acc_tc5': 0.506, 'eval_stat_tc5': 'Ġformer 0.98 0.50, Ġlatter 0.02 0.50, ', 'eval_acc_tc6': 0.508, 'eval_stat_tc6': 'Ġformer 0.99 0.50, Ġlatter 0.01 0.50, ', 'eval_acc_tc7': 0.636, 'eval_stat_tc7': 'Ġformer 0.77 0.50, Ġlatter 0.23 0.50, ', 'eval_acc_tc8': 0.499, 'eval_stat_tc8': 'Ġformer 0.00 0.50, Ġlatter 1.00 0.50, ', 'eval_acc_tc9': 0.504, 'eval_stat_tc9': 'Ġformer 0.04 0.50, Ġlatter 0.96 0.50, ', 'eval_acc_tc10': 0.55, 'eval_stat_tc10': 'Ġformer 0.65 0.51, Ġlatter 0.35 0.50, ', 'eval_acc_tc11': 0.519, 'eval_stat_tc11': 'Ġformer 0.64 0.50, Ġlatter 0.36 0.50, ', 'eval_acc_tc12': 0.697, 'eval_stat_tc12': 'Ġformer 0.78 0.54, Ġlatter 0.22 0.52, ', 'eval_acc_tc13': 0.55, 'eval_stat_tc13': 'Ġformer 0.94 0.51, Ġlatter 0.06 0.50, ', 'eval_acc_tc14': 0.522, 'eval_stat_tc14': 'Ġformer 0.11 0.50, Ġlatter 0.89 0.50, ', 'eval_acc_tc15': 0.881, 'eval_stat_tc15': 'Ġformer 0.62 0.51, Ġlatter 0.38 0.50, ', 'eval_acc_tc16': 0.51, 'eval_stat_tc16': 'Ġformer 0.01 0.50, Ġlatter 0.99 0.51, ', 'eval_acc_tc17': 0.541, 'eval_stat_tc17': 'Ġformer 0.45 0.51, Ġlatter 0.55 0.51, ', 'eval_acc_tc18': 0.551, 'eval_stat_tc18': 'Ġformer 0.95 0.53, Ġlatter 0.05 0.50, ', 'eval_acc_tc19': 0.59, 'eval_stat_tc19': 'Ġformer 0.18 0.50, Ġlatter 0.82 0.50, ', 'eval_acc_tc20': 0.505, 'eval_stat_tc20': 'Ġformer 0.01 0.50, Ġlatter 0.99 0.51, ', 'eval_acc_tc21': 0.984, 'eval_stat_tc21': 'Ġformer 0.49 0.52, Ġlatter 0.51 0.55, ', 'eval_acc_tc22': 0.705, 'eval_stat_tc22': 'Ġformer 0.78 0.50, Ġlatter 0.22 0.50, ', 'eval_acc_tc23': 0.518, 'eval_stat_tc23': 'Ġformer 0.50 0.50, Ġlatter 0.50 0.50, ', 'eval_acc_tc24': 0.696, 'eval_stat_tc24': 'Ġformer 0.58 0.50, Ġlatter 0.42 0.50, ', 'eval_acc_tc25': 0.743, 'eval_stat_tc25': 'Ġformer 0.33 0.52, Ġlatter 0.67 0.53, ', 'eval_acc_tc26': 0.588, 'eval_stat_tc26': 'Ġformer 0.10 0.50, Ġlatter 0.90 0.50, ', 'eval_acc_tc27': 0.799, 'eval_stat_tc27': 'Ġformer 0.55 0.51, Ġlatter 0.45 0.51, ', 'eval_acc_tc28': 0.498, 'eval_stat_tc28': 'Ġformer 1.00 0.51, ', 'eval_acc_tc29': 0.527, 'eval_stat_tc29': 'Ġformer 0.02 0.50, Ġlatter 0.98 0.50, ', 'eval_acc_tc30': 0.914, 'eval_stat_tc30': 'Ġformer 0.51 0.50, Ġlatter 0.49 0.50, ', 'eval_acc_tc31': 0.794, 'eval_stat_tc31': 'Ġformer 0.31 0.52, Ġlatter 0.69 0.53, ', 'eval_acc_tc32': 0.75, 'eval_stat_tc32': 'Ġformer 0.42 0.50, Ġlatter 0.58 0.50, ', 'eval_acc_tc33': 0.907, 'eval_stat_tc33': 'Ġformer 0.41 0.51, Ġlatter 0.59 0.53, ', 'eval_acc_tc34': 0.522, 'eval_stat_tc34': 'Ġformer 0.04 0.50, Ġlatter 0.96 0.50, ', 'eval_acc_tc35': 0.737, 'eval_stat_tc35': 'Ġformer 0.29 0.50, Ġlatter 0.71 0.50, ', 'eval_acc_tc36': 0.982, 'eval_stat_tc36': 'Ġformer 0.48 0.53, Ġlatter 0.52 0.56, ', 'eval_acc_tc37': 0.858, 'eval_stat_tc37': 'Ġformer 0.57 0.50, Ġlatter 0.43 0.50, ', 'eval_acc_tc38': 0.999, 'eval_stat_tc38': 'Ġformer 0.50 0.56, Ġlatter 0.50 0.66, ', 'eval_acc_tc39': 0.755, 'eval_stat_tc39': 'Ġformer 0.26 0.50, Ġlatter 0.74 0.51, ', 'eval_acc_tc40': 0.984, 'eval_stat_tc40': 'Ġformer 0.48 0.50, Ġlatter 0.52 0.51, ', 'eval_acc_tc41': 0.606, 'eval_stat_tc41': 'Ġformer 0.11 0.50, Ġlatter 0.89 0.51, ', 'eval_acc_tc42': 0.539, 'eval_stat_tc42': 'Ġformer 0.04 0.50, Ġlatter 0.96 0.52, ', 'eval_acc_tc43': 0.842, 'eval_stat_tc43': 'Ġformer 0.38 0.56, Ġlatter 0.62 0.60, ', 'eval_acc_tc44': 0.896, 'eval_stat_tc44': 'Ġformer 0.57 0.51, Ġlatter 0.43 0.51, ', 'eval_acc_tc45': 0.806, 'eval_stat_tc45': 'Ġformer 0.54 0.51, Ġlatter 0.46 0.50, ', 'eval_acc_tc46': 0.51, 'eval_stat_tc46': 'Ġformer 0.01 0.50, Ġlatter 0.99 0.51, ', 'eval_acc_tc47': 0.655, 'eval_stat_tc47': 'Ġformer 0.22 0.51, Ġlatter 0.78 0.51, ', 'eval_acc_tc48': 0.812, 'eval_stat_tc48': 'Ġformer 0.67 0.53, Ġlatter 0.33 0.51, ', 'eval_acc_tc49': 0.979, 'eval_stat_tc49': 'Ġformer 0.48 0.57, Ġlatter 0.52 0.59, ', 'eval_acc_tc50': 0.835, 'eval_stat_tc50': 'Ġformer 0.34 0.52, Ġlatter 0.66 0.55, ', 'eval_acc_tc51': 0.75, 'eval_stat_tc51': 'Ġformer 0.47 0.53, Ġlatter 0.53 0.53, ', 'eval_acc_tc52': 0.762, 'eval_stat_tc52': 'Ġformer 0.61 0.50, Ġlatter 0.39 0.50, ', 'eval_acc_tc53': 0.792, 'eval_stat_tc53': 'Ġformer 0.31 0.51, Ġlatter 0.69 0.53, ', 'eval_acc_tc54': 0.883, 'eval_stat_tc54': 'Ġformer 0.52 0.51, Ġlatter 0.48 0.53, ', 'eval_acc_tc55': 0.713, 'eval_stat_tc55': 'Ġformer 0.78 0.52, Ġlatter 0.22 0.51, ', 'eval_acc_tc56': 0.999, 'eval_stat_tc56': 'Ġformer 0.50 0.72, Ġlatter 0.50 0.81, ', 'eval_acc_tc57': 0.749, 'eval_stat_tc57': 'Ġformer 0.26 0.52, Ġlatter 0.74 0.56, ', 'eval_acc_tc58': 0.5, 'eval_stat_tc58': 'Ġformer 1.00 0.52, Ġlatter 0.00 0.50, ', 'eval_acc_tc59': 0.508, 'eval_stat_tc59': 'Ġformer 0.01 0.50, Ġlatter 0.99 0.51, ', 'epoch': 10.0, 'step': 810}"
   ]
  },
  {
   "cell_type": "code",
   "execution_count": 107,
   "metadata": {},
   "outputs": [
    {
     "name": "stdout",
     "output_type": "stream",
     "text": [
      "0  0.94/0.53  0.52/0.50  1.00/0.65  0.64/0.52  0.52/0.50  0.51/0.50  0.51/0.50  0.64/0.50  0.50/0.50  0.50/0.50  0.55/0.51  0.52/0.50  \n",
      "1  0.70/0.53  0.55/0.51  0.52/0.50  0.88/0.51  0.51/0.51  0.54/0.51  0.55/0.52  0.59/0.50  0.51/0.51  0.98/0.54  0.70/0.50  0.52/0.50  \n",
      "2  0.70/0.50  0.74/0.53  0.59/0.50  0.80/0.51  0.50/0.51  0.53/0.50  0.91/0.50  0.79/0.53  0.75/0.50  0.91/0.52  0.52/0.50  0.74/0.50  \n",
      "3  0.98/0.55  0.86/0.50  1.00/0.61  0.76/0.51  0.98/0.51  0.61/0.51  0.54/0.51  0.84/0.58  0.90/0.51  0.81/0.51  0.51/0.51  0.66/0.51  \n",
      "4  0.81/0.52  0.98/0.58  0.83/0.54  0.75/0.53  0.76/0.50  0.79/0.52  0.88/0.52  0.71/0.52  1.00/0.77  0.75/0.54  0.50/0.51  0.51/0.51  \n"
     ]
    }
   ],
   "source": [
    "n_layers, n_probe_positions = 5, 12\n",
    "for i in range(n_layers):\n",
    "    print(i, end='  ')\n",
    "    for j in range(n_probe_positions):\n",
    "        n = i * n_probe_positions + j\n",
    "        print('%.2f/%.2f' % (d['eval_acc_tc' + str(n)], get_mean_pred_prob(d['eval_stat_tc' + str(n)])), end='  ')\n",
    "    print()"
   ]
  },
  {
   "cell_type": "code",
   "execution_count": 330,
   "metadata": {},
   "outputs": [
    {
     "name": "stdout",
     "output_type": "stream",
     "text": [
      "0\t0.811\t0.514\t0.505\t0.93\t0.902\t0.502\t0.511\t0.657\t0.875\t0.524\t0.504\t0.683\t\n",
      "1\t0.97\t0.597\t0.547\t0.645\t0.502\t0.665\t0.683\t0.784\t0.882\t0.949\t1.0\t0.533\t\n",
      "2\t0.888\t0.901\t0.865\t0.519\t0.932\t0.999\t0.77\t0.894\t0.752\t0.945\t0.994\t0.772\t\n"
     ]
    }
   ],
   "source": [
    "for i in range(3):\n",
    "    print(i, end='\\t')\n",
    "    for j in range(12): print(d['eval_acc_tc' + str(i * 12 + j)], end='\\t')\n",
    "    print()"
   ]
  },
  {
   "cell_type": "code",
   "execution_count": 98,
   "metadata": {},
   "outputs": [
    {
     "name": "stdout",
     "output_type": "stream",
     "text": [
      "0\t1.000 / 0.98\t1.000 / 0.91\t0.535 / 0.51\t0.496 / 0.51\t0.495 / 0.51\t0.503 / 0.51\t\n",
      "1\t1.000 / 0.98\t1.000 / 0.92\t0.502 / 0.50\t0.633 / 0.51\t0.998 / 0.60\t0.542 / 0.51\t\n",
      "2\t1.000 / 0.99\t1.000 / 0.96\t0.499 / 0.50\t0.679 / 0.51\t0.950 / 0.58\t0.744 / 0.51\t\n",
      "3\t1.000 / 0.99\t1.000 / 0.97\t0.499 / 0.50\t0.636 / 0.50\t0.951 / 0.62\t0.853 / 0.52\t\n",
      "4\t1.000 / 1.00\t1.000 / 0.99\t0.521 / 0.51\t0.502 / 0.51\t0.983 / 0.77\t0.936 / 0.57\t\n",
      "5\t1.000 / 1.00\t1.000 / 0.99\t0.498 / 0.50\t0.780 / 0.50\t0.995 / 0.91\t0.990 / 0.56\t\n",
      "6\t1.000 / 1.00\t1.000 / 0.99\t0.683 / 0.50\t0.498 / 0.50\t1.000 / 0.94\t0.957 / 0.74\t\n",
      "7\t1.000 / 1.00\t1.000 / 0.99\t0.858 / 0.51\t0.502 / 0.50\t1.000 / 0.97\t0.967 / 0.85\t\n",
      "8\t1.000 / 1.00\t1.000 / 0.98\t0.848 / 0.62\t0.768 / 0.52\t1.000 / 0.97\t1.000 / 0.93\t\n",
      "9\t1.000 / 0.99\t1.000 / 0.98\t0.790 / 0.59\t0.733 / 0.51\t1.000 / 0.96\t1.000 / 0.93\t\n"
     ]
    }
   ],
   "source": [
    "n_layers, n_probe_positions = 10, 6\n",
    "for i in range(n_layers):\n",
    "    print(i, end='\\t')\n",
    "    for j in range(n_probe_positions):\n",
    "        n = i * n_probe_positions + j\n",
    "        print('%.3f / %.2f' % (d['eval_acc_tc' + str(n)], get_mean_pred_prob(d['eval_stat_tc' + str(n)])), end='\\t')\n",
    "    print()"
   ]
  },
  {
   "cell_type": "code",
   "execution_count": 11,
   "metadata": {},
   "outputs": [],
   "source": [
    "output_dir = '/nas/xd/data/models/CHILD/neg0_ent3/'\n",
    "# os.makedirs(output_dir, exist_ok=True)\n",
    "# model.save_pretrained(output_dir)"
   ]
  },
  {
   "cell_type": "code",
   "execution_count": 12,
   "metadata": {},
   "outputs": [],
   "source": [
    "state_dict = torch.load(output_dir + 'pytorch_model.bin')"
   ]
  },
  {
   "cell_type": "code",
   "execution_count": 72,
   "metadata": {},
   "outputs": [
    {
     "name": "stdout",
     "output_type": "stream",
     "text": [
      "loading state_dict took 4.104 sec\n"
     ]
    }
   ],
   "source": [
    "# model = RobertaForMaskedLM.from_pretrained('roberta-base')\n",
    "model = RobertaForMaskedLM.from_pretrained(output_dir)\n",
    "_ = model.to(trainer.args.device)"
   ]
  },
  {
   "cell_type": "code",
   "execution_count": 80,
   "metadata": {},
   "outputs": [],
   "source": [
    "model.roberta.selectively_masked_head = (5, 5)"
   ]
  },
  {
   "cell_type": "code",
   "execution_count": 14,
   "metadata": {},
   "outputs": [],
   "source": [
    "dataloader = DataLoader(\n",
    "    eval_dataset,\n",
    "    sampler=RandomSampler(eval_dataset),\n",
    "    batch_size=1 or trainer.args.eval_batch_size,\n",
    "    collate_fn=trainer.data_collator,\n",
    "    drop_last=trainer.args.dataloader_drop_last,\n",
    ")"
   ]
  },
  {
   "cell_type": "code",
   "execution_count": 74,
   "metadata": {},
   "outputs": [
    {
     "name": "stdout",
     "output_type": "stream",
     "text": [
      "0 <s> U is more mortal than G, so U is more immortal?<mask>.</s><pad><pad><pad> ['ĠU', 'ĠU']\n"
     ]
    }
   ],
   "source": [
    "for inputs in dataloader: break\n",
    "\n",
    "for i in range(20):\n",
    "    if i < len(inputs['input_ids']):\n",
    "        print(i, tokenizer.decode(inputs['input_ids'][i]), \n",
    "              [tokenizer.convert_ids_to_tokens(inputs['input_ids'][i])[j] for j in inputs['marked_pos_labels'][i][0]])"
   ]
  },
  {
   "cell_type": "code",
   "execution_count": 159,
   "metadata": {},
   "outputs": [],
   "source": [
    "_ = model.eval()\n",
    "interpretable_embedding = configure_interpretable_embedding_layer(model, 'roberta.embeddings')\n",
    "\n",
    "inputs = trainer._prepare_inputs(inputs, model)\n",
    "input_ids, attention_mask, token_type_ids, position_ids, labels = \\\n",
    "    inputs['input_ids'], inputs['attention_mask'], inputs['token_type_ids'], inputs['position_ids'], inputs['labels']\n",
    "additional_fwd_args = (token_type_ids, position_ids, attention_mask)\n",
    "if 'marked_pos_labels' in inputs and inputs['marked_pos_labels'] is not None:\n",
    "    marked_pos_labels = inputs['marked_pos_labels']\n",
    "    marked_positions = marked_pos_labels[:, 0]  # (bsz, 1, 2) -> (bsz, 2)\n",
    "    cls_positions = (input_ids == model.tokenizer.cls_token_id).nonzero()[:, 1:]\n",
    "    sep_positions = (input_ids == model.tokenizer.sep_token_id).nonzero()[:, 1:]\n",
    "    be_positions = torch.ones_like(cls_positions) * 2\n",
    "    mask_positions = (input_ids == model.tokenizer.mask_token_id).nonzero()[:, 1:]\n",
    "    assert cls_positions.size(0) == sep_positions.size(0) == mask_positions.size(0) == marked_positions.size(0), \\\n",
    "        '%d %d %d %d' % (cls_positions.size(0), sep_positions.size(0), mask_positions.size(0), marked_positions.size(0))\n",
    "#     probe_positions = mask_positions\n",
    "    probe_positions = torch.cat([cls_positions, sep_positions, be_positions, mask_positions], dim=-1)\n",
    "    additional_fwd_args = additional_fwd_args + (marked_pos_labels, probe_positions)\n",
    "additional_fwd_args = additional_fwd_args + (labels,)\n",
    "input_embeddings = interpretable_embedding.indices_to_embeddings(input_ids, token_type_ids=token_type_ids, position_ids=position_ids)\n",
    "all_tokens = normalize_tokens(tokenizer.convert_ids_to_tokens(input_ids[0]))"
   ]
  },
  {
   "cell_type": "code",
   "execution_count": 164,
   "metadata": {},
   "outputs": [],
   "source": [
    "# def mlm_fwd_fn(inputs, token_type_ids=None, position_ids=None, attention_mask=None, labels=None, mask_id=None):\n",
    "def mlm_fwd_fn(inputs, *args):\n",
    "    args, labels, mask_id = args[:-2], args[-2], args[-1]\n",
    "    is_probe_logits = True\n",
    "    logits = model(inputs, *args, detach=False)[int(is_probe_logits)]\n",
    "    if not is_probe_logits:\n",
    "        bsz, seq_len, vocab_size = logits.size()\n",
    "        logits = logits[labels != -100].view(bsz, -1, vocab_size)\n",
    "    return logits[:, mask_id].max(dim=-1).values\n",
    "\n",
    "mask_id = 0\n",
    "layer_attrs = []\n",
    "n_layers = 7 + mask_id or model.config.num_hidden_layers\n",
    "model.zero_grad()\n",
    "for i in range(n_layers):\n",
    "    lc = LayerIntegratedGradients(mlm_fwd_fn, model.roberta.encoder.layer[i])\n",
    "    attributions = lc.attribute(inputs=input_embeddings, \n",
    "                                additional_forward_args=additional_fwd_args + (mask_id,), \n",
    "                                n_steps=20)[0]\n",
    "    layer_attrs.append(summarize_attributions(attributions).cpu().detach().tolist())"
   ]
  },
  {
   "cell_type": "code",
   "execution_count": 165,
   "metadata": {
    "collapsed": true
   },
   "outputs": [
    {
     "data": {
      "image/png": "[encoded data removed]",
      "text/plain": [
       "<Figure size 1080x360 with 2 Axes>"
      ]
     },
     "metadata": {
      "needs_background": "light"
     },
     "output_type": "display_data"
    }
   ],
   "source": [
    "fig, ax = plt.subplots(figsize=(15,5))\n",
    "xticklabels=all_tokens\n",
    "yticklabels=list(range(n_layers))\n",
    "ax = sns.heatmap((np.array(layer_attrs) * 100).astype('int64'), xticklabels=xticklabels, yticklabels=yticklabels, annot=True, fmt='d', linewidth=0.2)\n",
    "# plt.xlabel('Tokens')\n",
    "# plt.ylabel('Layers')\n",
    "plt.show()"
   ]
  },
  {
   "cell_type": "code",
   "execution_count": 167,
   "metadata": {},
   "outputs": [],
   "source": [
    "remove_interpretable_embedding_layer(model, interpretable_embedding)"
   ]
  },
  {
   "cell_type": "code",
   "execution_count": 125,
   "metadata": {
    "scrolled": false
   },
   "outputs": [],
   "source": [
    "_ = model.eval()\n",
    "model.zero_grad()\n",
    "inputs = trainer._prepare_inputs(inputs, model)\n",
    "# with torch.no_grad():\n",
    "_, logits, probe_logits, all_attentions = model(**inputs, output_attentions=True, detach=False)[:4]\n",
    "\n",
    "attn_scores, attn_probs = zip(*all_attentions)\n",
    "# attn_scores, attn_probs = torch.stack(attn_scores, dim=0), torch.stack(attn_probs, dim=0)\n",
    "# attn_probs = attn_probs.cpu()"
   ]
  },
  {
   "cell_type": "code",
   "execution_count": 126,
   "metadata": {},
   "outputs": [],
   "source": [
    "base_layer, layer = 6, 6\n",
    "H, bsz = 12, probe_logits.size(0)\n",
    "tc_labels = inputs['tc_labels'][inputs['tc_labels'] != -100]\n",
    "a = attn_probs[layer][:, head]\n",
    "attn_probs[layer].retain_grad()\n",
    "probe_logits[torch.arange(bsz), (layer - base_layer) * H: (layer - base_layer + 1) * H, tc_labels].mean().backward()\n",
    "so_token_id, mask_token_id = tokenizer._convert_token_to_id('Ġso'), tokenizer.mask_token_id\n",
    "pos = (inputs['input_ids'] == mask_token_id).nonzero()[:, 1].item()\n",
    "tokens = normalize_tokens(tokenizer.convert_ids_to_tokens(inputs['input_ids'][0]))"
   ]
  },
  {
   "cell_type": "code",
   "execution_count": 133,
   "metadata": {},
   "outputs": [
    {
     "data": {
      "text/plain": [
       "0.5317388772964478"
      ]
     },
     "execution_count": 133,
     "metadata": {},
     "output_type": "execute_result"
    },
    {
     "data": {
      "image/png": "[encoded data removed]",
      "text/plain": [
       "<Figure size 432x288 with 1 Axes>"
      ]
     },
     "metadata": {
      "needs_background": "light"
     },
     "output_type": "display_data"
    }
   ],
   "source": [
    "head = 11\n",
    "ga = attn_probs[layer].grad[:, head][0, pos]\n",
    "a = attn_probs[layer][:, head][0, pos]\n",
    "nn.Softmax(dim=-1)(probe_logits)[torch.arange(bsz), (layer - base_layer) * H + head, tc_labels].item()\n",
    "\n",
    "_ = plt.plot(normalize(ga.cpu()))\n",
    "_ = plt.plot(a.detach().cpu())\n",
    "_ = plt.bar(range(len(tokens)), normalize((ga * a.detach()).cpu()), alpha=0.3)\n",
    "_ = plt.axhline(y=0, linewidth=0.5, color='k')\n",
    "_ = plt.xticks(range(len(tokens)), tokens, rotation=45)"
   ]
  },
  {
   "cell_type": "code",
   "execution_count": 406,
   "metadata": {},
   "outputs": [
    {
     "data": {
      "image/png": "[encoded data removed]",
      "text/plain": [
       "<Figure size 1152x648 with 8 Axes>"
      ]
     },
     "metadata": {
      "needs_background": "light"
     },
     "output_type": "display_data"
    }
   ],
   "source": [
    "sample_indices = [[0, 1, 2, 3], \n",
    "                  [4, 5, 6, 7]]\n",
    "# sample_indices = [[0, 0], \n",
    "#                   [0, 0]]\n",
    "n_rows, n_cols = len(sample_indices), len(sample_indices[0])\n",
    "fig, axs = plt.subplots(n_rows, n_cols, sharey=False, figsize=(4 * n_cols, 4.5 * n_rows))\n",
    "sep_id = tokenizer._convert_token_to_id('Ġ,')\n",
    "for row in range(n_rows):\n",
    "    for col in range(n_cols):\n",
    "        i, ax = sample_indices[row][col], axs[row][col]\n",
    "        tokens = normalize_tokens(tokenizer.convert_ids_to_tokens(inputs['input_ids'][i]))\n",
    "        \n",
    "        p, h = inputs['marked_pos_labels'][i][0]\n",
    "        p, h = p.item(), h.item()\n",
    "        so_pos = (inputs['input_ids'][i] == tokenizer._convert_token_to_id('Ġso')).nonzero()[0, 0].item()\n",
    "        be2_pos = so_pos + 2\n",
    "        mask_pos = (inputs['input_ids'][i] == tokenizer.mask_token_id).nonzero()[0, 0].item()\n",
    "#         j = 17\n",
    "        pos_attn = attn_probs[:, i, :, mask_pos, h]\n",
    "        pos_attn[-1, -1] = 1.\n",
    "        ax = sns.heatmap((pos_attn * 100).long(), square=True, cbar=False, annot=False, fmt='d', ax=ax)\n",
    "        ax.tick_params(top=True, labeltop=True)\n",
    "        _ = ax.set_xlabel('%s - %s' % (tokens[p], tokens[h]))"
   ]
  },
  {
   "cell_type": "code",
   "execution_count": 423,
   "metadata": {
    "scrolled": false
   },
   "outputs": [
    {
     "data": {
      "image/png": "[encoded data removed]",
      "text/plain": [
       "<Figure size 864x432 with 3 Axes>"
      ]
     },
     "metadata": {
      "needs_background": "light"
     },
     "output_type": "display_data"
    }
   ],
   "source": [
    "i = 6\n",
    "layer, head = 4, 8\n",
    "seq_len = inputs['attention_mask'][i].sum().item()\n",
    "attn =  attn_probs[layer, i, head, : seq_len, : seq_len]\n",
    "tokens = normalize_tokens(tokenizer.convert_ids_to_tokens(inputs['input_ids'][i])[: seq_len])\n",
    "size = round(attn.size(0) / 3)\n",
    "fig, (ax0, ax1) = plt.subplots(1, 2, figsize=(size  * 2., size), gridspec_kw={'width_ratios': [3, 1]})\n",
    "_ = sns.heatmap((attn * 100).long(), square=True, cbar=True, annot=True, fmt='d', xticklabels=tokens, yticklabels=tokens, ax=ax0)\n",
    "# plot_head_attn(attn, tokens, ax1=ax1, marked_positions=inputs['marked_pos_labels'][i])"
   ]
  },
  {
   "cell_type": "markdown",
   "metadata": {},
   "source": [
    "H6-4: ,/so/is/more -> h_ent\n",
    "H6-6: ,/so/is/more -> h\n",
    "H6-10: ,/so/is/more -> p\n",
    "H7-9: ?/mask -> so"
   ]
  },
  {
   "cell_type": "code",
   "execution_count": null,
   "metadata": {},
   "outputs": [],
   "source": [
    "#         pos_attn = attn_probs[:, i]\n",
    "#         pos_attn = pos_attn * (pos_attn > 0.3)\n",
    "# #         pos_attn[0] = 0  # layer 0\n",
    "# #         pos_attn[1, 1] = 0  # ->pos-2\n",
    "#         pos_attn = pos_attn.mean(dim=(0, 1))\n",
    "#         input_ids = inputs['input_ids'][i]\n",
    "#         sep_pos = (input_ids == sep_id).nonzero()[0].item()\n",
    "#         segment_ids = torch.zeros_like(input_ids)\n",
    "#         segment_ids[sep_pos + 1:] = 1\n",
    "#         segment_mask = segment_ids.unsqueeze(0) != segment_ids.unsqueeze(1)\n",
    "#         pos_attn = pos_attn * segment_mask.cpu()\n",
    "#         seq_len = inputs['attention_mask'][i].sum().item()\n",
    "#         pos_attn[:, [0, 2, seq_len - 1]] = 0\n",
    "#         k = torch.arange(1, pos_attn.size(0) - 1)\n",
    "#         pos_attn[k, k] = 0\n",
    "#         pos_attn[k, k - 1] = 0\n",
    "#         pos_attn[k, k + 1] = 0\n",
    "#         ax = sns.heatmap((pos_attn * 100).long(), square=True, cbar=False, annot=False, fmt='d', \n",
    "#                          xticklabels=tokens, yticklabels=tokens, ax=ax)"
   ]
  }
 ],
 "metadata": {
  "kernelspec": {
   "display_name": "Python 3",
   "language": "python",
   "name": "python3"
  },
  "language_info": {
   "codemirror_mode": {
    "name": "ipython",
    "version": 3
   },
   "file_extension": ".py",
   "mimetype": "text/x-python",
   "name": "python",
   "nbconvert_exporter": "python",
   "pygments_lexer": "ipython3",
   "version": "3.7.5"
  }
 },
 "nbformat": 4,
 "nbformat_minor": 4
}
