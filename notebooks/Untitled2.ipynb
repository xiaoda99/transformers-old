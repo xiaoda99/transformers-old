{
 "cells": [
  {
   "cell_type": "code",
   "execution_count": 1,
   "metadata": {},
   "outputs": [],
   "source": [
    "from IPython import get_ipython\n",
    "%load_ext autoreload\n",
    "%autoreload 2\n",
    "\n",
    "from IPython.core.interactiveshell import InteractiveShell\n",
    "InteractiveShell.ast_node_interactivity = 'all'"
   ]
  },
  {
   "cell_type": "code",
   "execution_count": 2,
   "metadata": {},
   "outputs": [],
   "source": [
    "import sys\n",
    "sys.path.insert(0, '/nas/xd/projects/transformers/src/transformers')\n",
    "import os\n",
    "device_mappings = {0: 1, 1: 5, 2: 6, 3: 7, 4: 2, 5: 3, 6: 0, 7: 4}\n",
    "os.environ[\"CUDA_VISIBLE_DEVICES\"] = str(device_mappings[7])\n",
    "\n",
    "import random\n",
    "import string\n",
    "from collections import defaultdict\n",
    "from itertools import product, chain\n",
    "import numpy as np\n",
    "from pattern.en import comparative\n",
    "\n",
    "import matplotlib.pyplot as plt\n",
    "import seaborn as sns\n",
    "\n",
    "from captum.attr import IntegratedGradients, LayerConductance, LayerIntegratedGradients\n",
    "from captum.attr import configure_interpretable_embedding_layer, remove_interpretable_embedding_layer"
   ]
  },
  {
   "cell_type": "code",
   "execution_count": 3,
   "metadata": {},
   "outputs": [],
   "source": [
    "import torch\n",
    "from torch import nn\n",
    "import torch.nn.functional as F\n",
    "from torch.nn import CrossEntropyLoss, MSELoss\n",
    "from torch.utils.data.dataset import Dataset\n",
    "from torch.utils.data.dataloader import DataLoader\n",
    "from torch.utils.data.sampler import RandomSampler, Sampler, SequentialSampler\n",
    "from enum import Enum\n",
    "from typing import List, Optional, Union\n",
    "\n",
    "from child_frames import frames\n",
    "from utils import *\n",
    "\n",
    "import logging\n",
    "import os\n",
    "import sys\n",
    "\n",
    "from transformers import HfArgumentParser, Trainer, TrainingArguments, set_seed\n",
    "from transformers import PreTrainedModel, RobertaForMaskedLM, RobertaTokenizer\n",
    "from transformers.modeling_roberta import RobertaDoubleHeadsModel, RobertaDoubleHeadsModel2, RobertaDoubleHeadsModel3  # XD\n",
    "\n",
    "logging.basicConfig(level=logging.ERROR)"
   ]
  },
  {
   "cell_type": "code",
   "execution_count": 40,
   "metadata": {
    "scrolled": true
   },
   "outputs": [
    {
     "data": {
      "text/plain": [
       "['# _Z is smaller than _X , so # _Z is smaller ? [ Right ] .',\n",
       " '# _Z is smaller than _X , so # _Z is not bigger ? [ Right ] .',\n",
       " '# _X is bigger than _Z , so # _X is bigger ? [ Right ] .',\n",
       " '# _X is bigger than _Z , so # _X is not smaller ? [ Right ] .',\n",
       " '# _Z is not smaller than _X , so # _Z is not smaller ? [ Right ] .',\n",
       " '# _Z is not smaller than _X , so # _Z is bigger ? [ Right ] .',\n",
       " '# _X is not bigger than _Z , so # _X is not bigger ? [ Right ] .',\n",
       " '# _X is not bigger than _Z , so # _X is smaller ? [ Right ] .',\n",
       " '# _Z is smaller than _X , so # _Z is not smaller ? [ Wrong ] .',\n",
       " '# _Z is smaller than _X , so # _Z is bigger ? [ Wrong ] .',\n",
       " '# _X is bigger than _Z , so # _X is not bigger ? [ Wrong ] .',\n",
       " '# _X is bigger than _Z , so # _X is smaller ? [ Wrong ] .',\n",
       " '# _Z is not smaller than _X , so # _Z is smaller ? [ Wrong ] .',\n",
       " '# _Z is not smaller than _X , so # _Z is not bigger ? [ Wrong ] .',\n",
       " '# _X is not bigger than _Z , so # _X is bigger ? [ Wrong ] .',\n",
       " '# _X is not bigger than _Z , so # _X is not smaller ? [ Wrong ] .']"
      ]
     },
     "execution_count": 40,
     "metadata": {},
     "output_type": "execute_result"
    }
   ],
   "source": [
    "A_template = \"{rel_prefix} {dt} {ent0} {rel} {dt} {ent1} {rel_suffix}\"\n",
    "B_template = \"{pred_prefix} {dt} {ent} {pred}\"\n",
    "entailment_templates = [\"{A} ? {conj} , {B} .\", \"{A} , so {B} ? {conj} .\"]\n",
    "\n",
    "markers = {'lexical': '*', 'entity': '#'}\n",
    "\n",
    "def extract_rel_id(s): return int(s[s.index(':') + 1])\n",
    "def extract_rel(s): return [t.split(':')[0] for t in s.split() if ':' in t][0]\n",
    "def strip_rel_id(s, lexical_rel=''):\n",
    "    rel_id_span = s[s.index(':'): s.index(':') + 2]\n",
    "    if lexical_rel != '': lexical_rel = ' ( ' + lexical_rel + ' )'\n",
    "    return s.replace(rel_id_span, lexical_rel)\n",
    "        \n",
    "tag2id = {'same': 0, 'opposite': 1, 'unrelated': 2, 'former': 3, 'latter': 4, 'another': 5, 'single': 6, 'paired': 7}\n",
    "tag2id = {'Ġ' + k: v for k, v in tag2id.items()}\n",
    "id2tag = {v: k for k, v in tag2id.items()}\n",
    "\n",
    "def make_sentences(index=-1, entities=[\"_X\", \"_Z\"], entity_set=string.ascii_uppercase, determiner=\"\",\n",
    "                   relation_group=[[\"big\",], [\"small\"]], rand_relation_group=[[\"short\"], [\"tall\", \"high\"]],\n",
    "                   relation_prefix=\"\", relation_suffix=\"\", predicate_prefix=\"\",\n",
    "                   n_entity_trials=3, has_negA=True, has_negB=True, has_neutral=False, mask_types={'sent_rel'}, \n",
    "                   lexical_relations=None, entity_relations=None, tag_lexical_rel=False, tag_entity_rel=False):\n",
    "    if tag_lexical_rel: mask_types.add('lexical_rel')\n",
    "    if tag_entity_rel: mask_types.add('entity_rel')  \n",
    "    def get_comparative(word):\n",
    "        compar = comparative(word)\n",
    "        if tag_lexical_rel:\n",
    "            marker = markers['lexical']\n",
    "            compar = compar.replace('more ', 'more %s ' % marker) if compar.startswith('more ') else marker + ' ' + compar\n",
    "        return compar\n",
    "  \n",
    "    def form_As(relations):\n",
    "        return [A_template.format(dt=determiner, ent0=ent0, ent1=ent1, rel=rel, \n",
    "                                  rel_prefix=relation_prefix, rel_suffix=relation_suffix)\n",
    "              for ent0, ent1, rel in [entities + relations[:1], reverse(entities) + reverse(relations)[:1]]]\n",
    "    As = []\n",
    "    for rel0 in relation_group[0]:\n",
    "        for rel1 in relation_group[1]:\n",
    "            relations = [\"is %s:%d than\" % (get_comparative(rel), i) for i, rel in enumerate([rel0, rel1])]\n",
    "            As += form_As(relations)\n",
    "    As = list(set(As))\n",
    "    negAs = join_lists([negate_sent(A)[:1] for A in As]) if has_negA else []\n",
    "\n",
    "    def form_Bs(predicates): \n",
    "        f = mask if 'entity' in mask_types else (lambda x: x)\n",
    "        return [B_template.format(dt=determiner, ent=f(ent), pred=pred, pred_prefix=predicate_prefix)\n",
    "              for ent, pred in zip(entities, predicates)]\n",
    "\n",
    "    Bs, negBs = {'orig': [], 'rand': []}, {}\n",
    "    for k, group in zip(['orig', 'rand'], [relation_group, rand_relation_group]):\n",
    "        for rel0 in group[0]:\n",
    "            for rel1 in group[1]:\n",
    "                predicates = [\"is %s:%d\" % (get_comparative(rel), i) for i, rel in enumerate([rel0, rel1])]\n",
    "                Bs[k] += form_Bs(predicates)\n",
    "    for k in Bs:\n",
    "        Bs[k] = list(set(Bs[k]))\n",
    "        if has_negB:\n",
    "            negBs[k] = join_lists([negate_sent(B)[:1] for B in Bs[k]])\n",
    "            Bs[k], negBs[k] = Bs[k] + [swap_entities(negB) for negB in negBs[k]], negBs[k] + [swap_entities(B) for B in Bs[k]]\n",
    "        else:\n",
    "            negBs[k] = [swap_entities(B) for B in Bs[k]]\n",
    "\n",
    "    def form_sentences(sentence_template, As, Bs, conj):\n",
    "        def compare_and_tag_comparative(A, B):\n",
    "            if 'Maybe' in conj:\n",
    "                lexical_rel = 'unrelated'\n",
    "            else:\n",
    "                lexical_rel = 'same' if extract_rel_id(A) == extract_rel_id(B) else 'opposite'\n",
    "            if lexical_relations and lexical_rel not in lexical_relations:\n",
    "                return None, None\n",
    "            if 'lexical_rel' in mask_types: lexical_rel = mask(lexical_rel)\n",
    "            return strip_rel_id(A), strip_rel_id(B, lexical_rel)\n",
    "#             triple = '%s %s %s' % (extract_rel(A), lexical_rel, extract_rel(B))\n",
    "#             return strip_rel_id(A), strip_rel_id(B), triple\n",
    "        def tag_entity(token, recurred_entity, entity_rel=None):\n",
    "            if token != recurred_entity: return token\n",
    "            return markers['entity'] + ' ' + token\n",
    "#             if token not in entities: return token\n",
    "#             entity_rel = 'paired' if token == recurred_entity else 'single'\n",
    "#             if 'entity_rel' in mask_types: entity_rel = mask(entity_rel)\n",
    "#             return token + ' ( %s )' % entity_rel\n",
    "            \n",
    "        def compare_and_tag_entity(A, B):\n",
    "            recurred_entity = [e for e in entities if e in B.split()][0]\n",
    "            A = ' '.join([tag_entity(token, recurred_entity) for token in A.split()])\n",
    "            B = ' '.join([tag_entity(token, recurred_entity) for token in B.split()])\n",
    "            entity_rel = 'former' if A.split().index(recurred_entity) in [0, 1] else 'latter'\n",
    "            if entity_relations and entity_rel not in entity_relations: return None, None\n",
    "            if 'entity_rel' in mask_types: entity_rel = mask(entity_rel)\n",
    "            return A, B #.replace(recurred_entity, recurred_entity + ' ( ' + entity_rel + ' )')\n",
    "#             triple = '%s %s %s' % (recurred_entity, entity_rel, recurred_entity)\n",
    "#             return A, B, triple\n",
    "        \n",
    "        if 'sent_rel' in mask_types: conj = mask(conj)\n",
    "        sentences = []\n",
    "        for A, B in product(As, Bs):\n",
    "            A, B = compare_and_tag_comparative(A, B) \\\n",
    "                if tag_lexical_rel else (strip_rel_id(A), strip_rel_id(B))\n",
    "            if A is None: continue\n",
    "#             entity_triple = None\n",
    "            if tag_entity_rel: A, B = compare_and_tag_entity(A, B)\n",
    "            if A is None: continue\n",
    "            sent = sentence_template.format(A=A, B=B, conj=conj)\n",
    "#             triples = ' , '.join([t for t in [entity_triple, lexical_triple] if t is not None])\n",
    "#             if triples: sent = sent + ' Hint : ' + triples\n",
    "#             sent = \" \" + \" \".join(sent.split())\n",
    "            sentences.append(sent)\n",
    "        return sentences\n",
    "\n",
    "    sentences = defaultdict(list)\n",
    "    for entailment_template in entailment_templates[-1:]:\n",
    "        for A, B, conj in [(As, Bs['orig'], 'Right'), (negAs, negBs['orig'], 'Right'), \n",
    "                           (As, negBs['orig'], 'Wrong'), (negAs, Bs['orig'], 'Wrong'),\n",
    "                           (As, Bs['rand'], 'Maybe'), (negAs, negBs['rand'], 'Maybe'), \n",
    "                           (As, negBs['rand'], 'Maybe'), (negAs, Bs['rand'], 'Maybe')]:\n",
    "            sentences[conj] += form_sentences(entailment_template, A, B, conj)\n",
    "    assert len(sentences['Right']) == len(sentences['Wrong']), \\\n",
    "        '%d %d' % (len(sentences['Right']), len(sentences['Wrong']))\n",
    "    if has_neutral:\n",
    "        sentences['Maybe'] = random.sample(sentences['Maybe'], len(sentences['Right']))\n",
    "    keys = sentences.keys() if has_neutral else ['Right', 'Wrong']\n",
    "    sentences = join_lists(sentences[k] for k in keys)\n",
    "    \n",
    "    substituted_sent_groups = []\n",
    "    for sent in sentences:\n",
    "        sent_group = []\n",
    "        for _ in range(n_entity_trials):\n",
    "            e0, e1 = random.sample(entity_set, 2)\n",
    "            sent_group.append(sent.replace(entities[0], e0).replace(entities[1], e1))\n",
    "        substituted_sent_groups.append(sent_group)\n",
    "    return sentences, substituted_sent_groups\n",
    "\n",
    "make_sentences(has_negA=True, has_negB=True, has_neutral=False, tag_lexical_rel=False, tag_entity_rel=True,\n",
    "               mask_types={'sent_rel'}, entity_relations=['former'])[0]"
   ]
  },
  {
   "cell_type": "code",
   "execution_count": 125,
   "metadata": {},
   "outputs": [
    {
     "data": {
      "text/plain": [
       "[' _X is more confident than _Y and _Y is more confident than _Z , so _X is more confident than _Z ? [ Right ] .',\n",
       " ' _X is more confident than _Y and _Y is more confident than _Z , so _Z is more uncertain than _X ? [ Right ] .',\n",
       " ' _X is more confident than _Y and _Y is more confident than _Z , so _X is less uncertain than _Z ? [ Right ] .',\n",
       " ' _X is more confident than _Y and _Y is more confident than _Z , so _Z is less confident than _X ? [ Right ] .',\n",
       " ' _X is more confident than _Y and _Z is more uncertain than _Y , so _X is more confident than _Z ? [ Right ] .',\n",
       " ' _X is more confident than _Y and _Z is more uncertain than _Y , so _Z is more uncertain than _X ? [ Right ] .',\n",
       " ' _X is more confident than _Y and _Z is more uncertain than _Y , so _X is less uncertain than _Z ? [ Right ] .',\n",
       " ' _X is more confident than _Y and _Z is more uncertain than _Y , so _Z is less confident than _X ? [ Right ] .',\n",
       " ' _X is more confident than _Y and _Y is less uncertain than _Z , so _X is more confident than _Z ? [ Right ] .',\n",
       " ' _X is more confident than _Y and _Y is less uncertain than _Z , so _Z is more uncertain than _X ? [ Right ] .',\n",
       " ' _X is more confident than _Y and _Y is less uncertain than _Z , so _X is less uncertain than _Z ? [ Right ] .',\n",
       " ' _X is more confident than _Y and _Y is less uncertain than _Z , so _Z is less confident than _X ? [ Right ] .',\n",
       " ' _X is more confident than _Y and _Z is less confident than _Y , so _X is more confident than _Z ? [ Right ] .',\n",
       " ' _X is more confident than _Y and _Z is less confident than _Y , so _Z is more uncertain than _X ? [ Right ] .',\n",
       " ' _X is more confident than _Y and _Z is less confident than _Y , so _X is less uncertain than _Z ? [ Right ] .',\n",
       " ' _X is more confident than _Y and _Z is less confident than _Y , so _Z is less confident than _X ? [ Right ] .',\n",
       " ' _Y is more uncertain than _X and _Y is more confident than _Z , so _X is more confident than _Z ? [ Right ] .',\n",
       " ' _Y is more uncertain than _X and _Y is more confident than _Z , so _Z is more uncertain than _X ? [ Right ] .',\n",
       " ' _Y is more uncertain than _X and _Y is more confident than _Z , so _X is less uncertain than _Z ? [ Right ] .',\n",
       " ' _Y is more uncertain than _X and _Y is more confident than _Z , so _Z is less confident than _X ? [ Right ] .',\n",
       " ' _Y is more uncertain than _X and _Z is more uncertain than _Y , so _X is more confident than _Z ? [ Right ] .',\n",
       " ' _Y is more uncertain than _X and _Z is more uncertain than _Y , so _Z is more uncertain than _X ? [ Right ] .',\n",
       " ' _Y is more uncertain than _X and _Z is more uncertain than _Y , so _X is less uncertain than _Z ? [ Right ] .',\n",
       " ' _Y is more uncertain than _X and _Z is more uncertain than _Y , so _Z is less confident than _X ? [ Right ] .',\n",
       " ' _Y is more uncertain than _X and _Y is less uncertain than _Z , so _X is more confident than _Z ? [ Right ] .',\n",
       " ' _Y is more uncertain than _X and _Y is less uncertain than _Z , so _Z is more uncertain than _X ? [ Right ] .',\n",
       " ' _Y is more uncertain than _X and _Y is less uncertain than _Z , so _X is less uncertain than _Z ? [ Right ] .',\n",
       " ' _Y is more uncertain than _X and _Y is less uncertain than _Z , so _Z is less confident than _X ? [ Right ] .',\n",
       " ' _Y is more uncertain than _X and _Z is less confident than _Y , so _X is more confident than _Z ? [ Right ] .',\n",
       " ' _Y is more uncertain than _X and _Z is less confident than _Y , so _Z is more uncertain than _X ? [ Right ] .',\n",
       " ' _Y is more uncertain than _X and _Z is less confident than _Y , so _X is less uncertain than _Z ? [ Right ] .',\n",
       " ' _Y is more uncertain than _X and _Z is less confident than _Y , so _Z is less confident than _X ? [ Right ] .',\n",
       " ' _X is less uncertain than _Y and _Y is more confident than _Z , so _X is more confident than _Z ? [ Right ] .',\n",
       " ' _X is less uncertain than _Y and _Y is more confident than _Z , so _Z is more uncertain than _X ? [ Right ] .',\n",
       " ' _X is less uncertain than _Y and _Y is more confident than _Z , so _X is less uncertain than _Z ? [ Right ] .',\n",
       " ' _X is less uncertain than _Y and _Y is more confident than _Z , so _Z is less confident than _X ? [ Right ] .',\n",
       " ' _X is less uncertain than _Y and _Z is more uncertain than _Y , so _X is more confident than _Z ? [ Right ] .',\n",
       " ' _X is less uncertain than _Y and _Z is more uncertain than _Y , so _Z is more uncertain than _X ? [ Right ] .',\n",
       " ' _X is less uncertain than _Y and _Z is more uncertain than _Y , so _X is less uncertain than _Z ? [ Right ] .',\n",
       " ' _X is less uncertain than _Y and _Z is more uncertain than _Y , so _Z is less confident than _X ? [ Right ] .',\n",
       " ' _X is less uncertain than _Y and _Y is less uncertain than _Z , so _X is more confident than _Z ? [ Right ] .',\n",
       " ' _X is less uncertain than _Y and _Y is less uncertain than _Z , so _Z is more uncertain than _X ? [ Right ] .',\n",
       " ' _X is less uncertain than _Y and _Y is less uncertain than _Z , so _X is less uncertain than _Z ? [ Right ] .',\n",
       " ' _X is less uncertain than _Y and _Y is less uncertain than _Z , so _Z is less confident than _X ? [ Right ] .',\n",
       " ' _X is less uncertain than _Y and _Z is less confident than _Y , so _X is more confident than _Z ? [ Right ] .',\n",
       " ' _X is less uncertain than _Y and _Z is less confident than _Y , so _Z is more uncertain than _X ? [ Right ] .',\n",
       " ' _X is less uncertain than _Y and _Z is less confident than _Y , so _X is less uncertain than _Z ? [ Right ] .',\n",
       " ' _X is less uncertain than _Y and _Z is less confident than _Y , so _Z is less confident than _X ? [ Right ] .',\n",
       " ' _Y is less confident than _X and _Y is more confident than _Z , so _X is more confident than _Z ? [ Right ] .',\n",
       " ' _Y is less confident than _X and _Y is more confident than _Z , so _Z is more uncertain than _X ? [ Right ] .',\n",
       " ' _Y is less confident than _X and _Y is more confident than _Z , so _X is less uncertain than _Z ? [ Right ] .',\n",
       " ' _Y is less confident than _X and _Y is more confident than _Z , so _Z is less confident than _X ? [ Right ] .',\n",
       " ' _Y is less confident than _X and _Z is more uncertain than _Y , so _X is more confident than _Z ? [ Right ] .',\n",
       " ' _Y is less confident than _X and _Z is more uncertain than _Y , so _Z is more uncertain than _X ? [ Right ] .',\n",
       " ' _Y is less confident than _X and _Z is more uncertain than _Y , so _X is less uncertain than _Z ? [ Right ] .',\n",
       " ' _Y is less confident than _X and _Z is more uncertain than _Y , so _Z is less confident than _X ? [ Right ] .',\n",
       " ' _Y is less confident than _X and _Y is less uncertain than _Z , so _X is more confident than _Z ? [ Right ] .',\n",
       " ' _Y is less confident than _X and _Y is less uncertain than _Z , so _Z is more uncertain than _X ? [ Right ] .',\n",
       " ' _Y is less confident than _X and _Y is less uncertain than _Z , so _X is less uncertain than _Z ? [ Right ] .',\n",
       " ' _Y is less confident than _X and _Y is less uncertain than _Z , so _Z is less confident than _X ? [ Right ] .',\n",
       " ' _Y is less confident than _X and _Z is less confident than _Y , so _X is more confident than _Z ? [ Right ] .',\n",
       " ' _Y is less confident than _X and _Z is less confident than _Y , so _Z is more uncertain than _X ? [ Right ] .',\n",
       " ' _Y is less confident than _X and _Z is less confident than _Y , so _X is less uncertain than _Z ? [ Right ] .',\n",
       " ' _Y is less confident than _X and _Z is less confident than _Y , so _Z is less confident than _X ? [ Right ] .',\n",
       " ' _Y is more confident than _Z and _X is more confident than _Y , so _X is more confident than _Z ? [ Right ] .',\n",
       " ' _Y is more confident than _Z and _X is more confident than _Y , so _Z is more uncertain than _X ? [ Right ] .',\n",
       " ' _Y is more confident than _Z and _X is more confident than _Y , so _X is less uncertain than _Z ? [ Right ] .',\n",
       " ' _Y is more confident than _Z and _X is more confident than _Y , so _Z is less confident than _X ? [ Right ] .',\n",
       " ' _Y is more confident than _Z and _Y is more uncertain than _X , so _X is more confident than _Z ? [ Right ] .',\n",
       " ' _Y is more confident than _Z and _Y is more uncertain than _X , so _Z is more uncertain than _X ? [ Right ] .',\n",
       " ' _Y is more confident than _Z and _Y is more uncertain than _X , so _X is less uncertain than _Z ? [ Right ] .',\n",
       " ' _Y is more confident than _Z and _Y is more uncertain than _X , so _Z is less confident than _X ? [ Right ] .',\n",
       " ' _Y is more confident than _Z and _X is less uncertain than _Y , so _X is more confident than _Z ? [ Right ] .',\n",
       " ' _Y is more confident than _Z and _X is less uncertain than _Y , so _Z is more uncertain than _X ? [ Right ] .',\n",
       " ' _Y is more confident than _Z and _X is less uncertain than _Y , so _X is less uncertain than _Z ? [ Right ] .',\n",
       " ' _Y is more confident than _Z and _X is less uncertain than _Y , so _Z is less confident than _X ? [ Right ] .',\n",
       " ' _Y is more confident than _Z and _Y is less confident than _X , so _X is more confident than _Z ? [ Right ] .',\n",
       " ' _Y is more confident than _Z and _Y is less confident than _X , so _Z is more uncertain than _X ? [ Right ] .',\n",
       " ' _Y is more confident than _Z and _Y is less confident than _X , so _X is less uncertain than _Z ? [ Right ] .',\n",
       " ' _Y is more confident than _Z and _Y is less confident than _X , so _Z is less confident than _X ? [ Right ] .',\n",
       " ' _Z is more uncertain than _Y and _X is more confident than _Y , so _X is more confident than _Z ? [ Right ] .',\n",
       " ' _Z is more uncertain than _Y and _X is more confident than _Y , so _Z is more uncertain than _X ? [ Right ] .',\n",
       " ' _Z is more uncertain than _Y and _X is more confident than _Y , so _X is less uncertain than _Z ? [ Right ] .',\n",
       " ' _Z is more uncertain than _Y and _X is more confident than _Y , so _Z is less confident than _X ? [ Right ] .',\n",
       " ' _Z is more uncertain than _Y and _Y is more uncertain than _X , so _X is more confident than _Z ? [ Right ] .',\n",
       " ' _Z is more uncertain than _Y and _Y is more uncertain than _X , so _Z is more uncertain than _X ? [ Right ] .',\n",
       " ' _Z is more uncertain than _Y and _Y is more uncertain than _X , so _X is less uncertain than _Z ? [ Right ] .',\n",
       " ' _Z is more uncertain than _Y and _Y is more uncertain than _X , so _Z is less confident than _X ? [ Right ] .',\n",
       " ' _Z is more uncertain than _Y and _X is less uncertain than _Y , so _X is more confident than _Z ? [ Right ] .',\n",
       " ' _Z is more uncertain than _Y and _X is less uncertain than _Y , so _Z is more uncertain than _X ? [ Right ] .',\n",
       " ' _Z is more uncertain than _Y and _X is less uncertain than _Y , so _X is less uncertain than _Z ? [ Right ] .',\n",
       " ' _Z is more uncertain than _Y and _X is less uncertain than _Y , so _Z is less confident than _X ? [ Right ] .',\n",
       " ' _Z is more uncertain than _Y and _Y is less confident than _X , so _X is more confident than _Z ? [ Right ] .',\n",
       " ' _Z is more uncertain than _Y and _Y is less confident than _X , so _Z is more uncertain than _X ? [ Right ] .',\n",
       " ' _Z is more uncertain than _Y and _Y is less confident than _X , so _X is less uncertain than _Z ? [ Right ] .',\n",
       " ' _Z is more uncertain than _Y and _Y is less confident than _X , so _Z is less confident than _X ? [ Right ] .',\n",
       " ' _Y is less uncertain than _Z and _X is more confident than _Y , so _X is more confident than _Z ? [ Right ] .',\n",
       " ' _Y is less uncertain than _Z and _X is more confident than _Y , so _Z is more uncertain than _X ? [ Right ] .',\n",
       " ' _Y is less uncertain than _Z and _X is more confident than _Y , so _X is less uncertain than _Z ? [ Right ] .',\n",
       " ' _Y is less uncertain than _Z and _X is more confident than _Y , so _Z is less confident than _X ? [ Right ] .',\n",
       " ' _Y is less uncertain than _Z and _Y is more uncertain than _X , so _X is more confident than _Z ? [ Right ] .',\n",
       " ' _Y is less uncertain than _Z and _Y is more uncertain than _X , so _Z is more uncertain than _X ? [ Right ] .',\n",
       " ' _Y is less uncertain than _Z and _Y is more uncertain than _X , so _X is less uncertain than _Z ? [ Right ] .',\n",
       " ' _Y is less uncertain than _Z and _Y is more uncertain than _X , so _Z is less confident than _X ? [ Right ] .',\n",
       " ' _Y is less uncertain than _Z and _X is less uncertain than _Y , so _X is more confident than _Z ? [ Right ] .',\n",
       " ' _Y is less uncertain than _Z and _X is less uncertain than _Y , so _Z is more uncertain than _X ? [ Right ] .',\n",
       " ' _Y is less uncertain than _Z and _X is less uncertain than _Y , so _X is less uncertain than _Z ? [ Right ] .',\n",
       " ' _Y is less uncertain than _Z and _X is less uncertain than _Y , so _Z is less confident than _X ? [ Right ] .',\n",
       " ' _Y is less uncertain than _Z and _Y is less confident than _X , so _X is more confident than _Z ? [ Right ] .',\n",
       " ' _Y is less uncertain than _Z and _Y is less confident than _X , so _Z is more uncertain than _X ? [ Right ] .',\n",
       " ' _Y is less uncertain than _Z and _Y is less confident than _X , so _X is less uncertain than _Z ? [ Right ] .',\n",
       " ' _Y is less uncertain than _Z and _Y is less confident than _X , so _Z is less confident than _X ? [ Right ] .',\n",
       " ' _Z is less confident than _Y and _X is more confident than _Y , so _X is more confident than _Z ? [ Right ] .',\n",
       " ' _Z is less confident than _Y and _X is more confident than _Y , so _Z is more uncertain than _X ? [ Right ] .',\n",
       " ' _Z is less confident than _Y and _X is more confident than _Y , so _X is less uncertain than _Z ? [ Right ] .',\n",
       " ' _Z is less confident than _Y and _X is more confident than _Y , so _Z is less confident than _X ? [ Right ] .',\n",
       " ' _Z is less confident than _Y and _Y is more uncertain than _X , so _X is more confident than _Z ? [ Right ] .',\n",
       " ' _Z is less confident than _Y and _Y is more uncertain than _X , so _Z is more uncertain than _X ? [ Right ] .',\n",
       " ' _Z is less confident than _Y and _Y is more uncertain than _X , so _X is less uncertain than _Z ? [ Right ] .',\n",
       " ' _Z is less confident than _Y and _Y is more uncertain than _X , so _Z is less confident than _X ? [ Right ] .',\n",
       " ' _Z is less confident than _Y and _X is less uncertain than _Y , so _X is more confident than _Z ? [ Right ] .',\n",
       " ' _Z is less confident than _Y and _X is less uncertain than _Y , so _Z is more uncertain than _X ? [ Right ] .',\n",
       " ' _Z is less confident than _Y and _X is less uncertain than _Y , so _X is less uncertain than _Z ? [ Right ] .',\n",
       " ' _Z is less confident than _Y and _X is less uncertain than _Y , so _Z is less confident than _X ? [ Right ] .',\n",
       " ' _Z is less confident than _Y and _Y is less confident than _X , so _X is more confident than _Z ? [ Right ] .',\n",
       " ' _Z is less confident than _Y and _Y is less confident than _X , so _Z is more uncertain than _X ? [ Right ] .',\n",
       " ' _Z is less confident than _Y and _Y is less confident than _X , so _X is less uncertain than _Z ? [ Right ] .',\n",
       " ' _Z is less confident than _Y and _Y is less confident than _X , so _Z is less confident than _X ? [ Right ] .',\n",
       " ' _X is more confident than _Y and _Y is more confident than _Z , so _Z is more confident than _X ? [ Wrong ] .',\n",
       " ' _X is more confident than _Y and _Y is more confident than _Z , so _X is more uncertain than _Z ? [ Wrong ] .',\n",
       " ' _X is more confident than _Y and _Y is more confident than _Z , so _Z is less uncertain than _X ? [ Wrong ] .',\n",
       " ' _X is more confident than _Y and _Y is more confident than _Z , so _X is less confident than _Z ? [ Wrong ] .',\n",
       " ' _X is more confident than _Y and _Z is more uncertain than _Y , so _Z is more confident than _X ? [ Wrong ] .',\n",
       " ' _X is more confident than _Y and _Z is more uncertain than _Y , so _X is more uncertain than _Z ? [ Wrong ] .',\n",
       " ' _X is more confident than _Y and _Z is more uncertain than _Y , so _Z is less uncertain than _X ? [ Wrong ] .',\n",
       " ' _X is more confident than _Y and _Z is more uncertain than _Y , so _X is less confident than _Z ? [ Wrong ] .',\n",
       " ' _X is more confident than _Y and _Y is less uncertain than _Z , so _Z is more confident than _X ? [ Wrong ] .',\n",
       " ' _X is more confident than _Y and _Y is less uncertain than _Z , so _X is more uncertain than _Z ? [ Wrong ] .',\n",
       " ' _X is more confident than _Y and _Y is less uncertain than _Z , so _Z is less uncertain than _X ? [ Wrong ] .',\n",
       " ' _X is more confident than _Y and _Y is less uncertain than _Z , so _X is less confident than _Z ? [ Wrong ] .',\n",
       " ' _X is more confident than _Y and _Z is less confident than _Y , so _Z is more confident than _X ? [ Wrong ] .',\n",
       " ' _X is more confident than _Y and _Z is less confident than _Y , so _X is more uncertain than _Z ? [ Wrong ] .',\n",
       " ' _X is more confident than _Y and _Z is less confident than _Y , so _Z is less uncertain than _X ? [ Wrong ] .',\n",
       " ' _X is more confident than _Y and _Z is less confident than _Y , so _X is less confident than _Z ? [ Wrong ] .',\n",
       " ' _Y is more uncertain than _X and _Y is more confident than _Z , so _Z is more confident than _X ? [ Wrong ] .',\n",
       " ' _Y is more uncertain than _X and _Y is more confident than _Z , so _X is more uncertain than _Z ? [ Wrong ] .',\n",
       " ' _Y is more uncertain than _X and _Y is more confident than _Z , so _Z is less uncertain than _X ? [ Wrong ] .',\n",
       " ' _Y is more uncertain than _X and _Y is more confident than _Z , so _X is less confident than _Z ? [ Wrong ] .',\n",
       " ' _Y is more uncertain than _X and _Z is more uncertain than _Y , so _Z is more confident than _X ? [ Wrong ] .',\n",
       " ' _Y is more uncertain than _X and _Z is more uncertain than _Y , so _X is more uncertain than _Z ? [ Wrong ] .',\n",
       " ' _Y is more uncertain than _X and _Z is more uncertain than _Y , so _Z is less uncertain than _X ? [ Wrong ] .',\n",
       " ' _Y is more uncertain than _X and _Z is more uncertain than _Y , so _X is less confident than _Z ? [ Wrong ] .',\n",
       " ' _Y is more uncertain than _X and _Y is less uncertain than _Z , so _Z is more confident than _X ? [ Wrong ] .',\n",
       " ' _Y is more uncertain than _X and _Y is less uncertain than _Z , so _X is more uncertain than _Z ? [ Wrong ] .',\n",
       " ' _Y is more uncertain than _X and _Y is less uncertain than _Z , so _Z is less uncertain than _X ? [ Wrong ] .',\n",
       " ' _Y is more uncertain than _X and _Y is less uncertain than _Z , so _X is less confident than _Z ? [ Wrong ] .',\n",
       " ' _Y is more uncertain than _X and _Z is less confident than _Y , so _Z is more confident than _X ? [ Wrong ] .',\n",
       " ' _Y is more uncertain than _X and _Z is less confident than _Y , so _X is more uncertain than _Z ? [ Wrong ] .',\n",
       " ' _Y is more uncertain than _X and _Z is less confident than _Y , so _Z is less uncertain than _X ? [ Wrong ] .',\n",
       " ' _Y is more uncertain than _X and _Z is less confident than _Y , so _X is less confident than _Z ? [ Wrong ] .',\n",
       " ' _X is less uncertain than _Y and _Y is more confident than _Z , so _Z is more confident than _X ? [ Wrong ] .',\n",
       " ' _X is less uncertain than _Y and _Y is more confident than _Z , so _X is more uncertain than _Z ? [ Wrong ] .',\n",
       " ' _X is less uncertain than _Y and _Y is more confident than _Z , so _Z is less uncertain than _X ? [ Wrong ] .',\n",
       " ' _X is less uncertain than _Y and _Y is more confident than _Z , so _X is less confident than _Z ? [ Wrong ] .',\n",
       " ' _X is less uncertain than _Y and _Z is more uncertain than _Y , so _Z is more confident than _X ? [ Wrong ] .',\n",
       " ' _X is less uncertain than _Y and _Z is more uncertain than _Y , so _X is more uncertain than _Z ? [ Wrong ] .',\n",
       " ' _X is less uncertain than _Y and _Z is more uncertain than _Y , so _Z is less uncertain than _X ? [ Wrong ] .',\n",
       " ' _X is less uncertain than _Y and _Z is more uncertain than _Y , so _X is less confident than _Z ? [ Wrong ] .',\n",
       " ' _X is less uncertain than _Y and _Y is less uncertain than _Z , so _Z is more confident than _X ? [ Wrong ] .',\n",
       " ' _X is less uncertain than _Y and _Y is less uncertain than _Z , so _X is more uncertain than _Z ? [ Wrong ] .',\n",
       " ' _X is less uncertain than _Y and _Y is less uncertain than _Z , so _Z is less uncertain than _X ? [ Wrong ] .',\n",
       " ' _X is less uncertain than _Y and _Y is less uncertain than _Z , so _X is less confident than _Z ? [ Wrong ] .',\n",
       " ' _X is less uncertain than _Y and _Z is less confident than _Y , so _Z is more confident than _X ? [ Wrong ] .',\n",
       " ' _X is less uncertain than _Y and _Z is less confident than _Y , so _X is more uncertain than _Z ? [ Wrong ] .',\n",
       " ' _X is less uncertain than _Y and _Z is less confident than _Y , so _Z is less uncertain than _X ? [ Wrong ] .',\n",
       " ' _X is less uncertain than _Y and _Z is less confident than _Y , so _X is less confident than _Z ? [ Wrong ] .',\n",
       " ' _Y is less confident than _X and _Y is more confident than _Z , so _Z is more confident than _X ? [ Wrong ] .',\n",
       " ' _Y is less confident than _X and _Y is more confident than _Z , so _X is more uncertain than _Z ? [ Wrong ] .',\n",
       " ' _Y is less confident than _X and _Y is more confident than _Z , so _Z is less uncertain than _X ? [ Wrong ] .',\n",
       " ' _Y is less confident than _X and _Y is more confident than _Z , so _X is less confident than _Z ? [ Wrong ] .',\n",
       " ' _Y is less confident than _X and _Z is more uncertain than _Y , so _Z is more confident than _X ? [ Wrong ] .',\n",
       " ' _Y is less confident than _X and _Z is more uncertain than _Y , so _X is more uncertain than _Z ? [ Wrong ] .',\n",
       " ' _Y is less confident than _X and _Z is more uncertain than _Y , so _Z is less uncertain than _X ? [ Wrong ] .',\n",
       " ' _Y is less confident than _X and _Z is more uncertain than _Y , so _X is less confident than _Z ? [ Wrong ] .',\n",
       " ' _Y is less confident than _X and _Y is less uncertain than _Z , so _Z is more confident than _X ? [ Wrong ] .',\n",
       " ' _Y is less confident than _X and _Y is less uncertain than _Z , so _X is more uncertain than _Z ? [ Wrong ] .',\n",
       " ' _Y is less confident than _X and _Y is less uncertain than _Z , so _Z is less uncertain than _X ? [ Wrong ] .',\n",
       " ' _Y is less confident than _X and _Y is less uncertain than _Z , so _X is less confident than _Z ? [ Wrong ] .',\n",
       " ' _Y is less confident than _X and _Z is less confident than _Y , so _Z is more confident than _X ? [ Wrong ] .',\n",
       " ' _Y is less confident than _X and _Z is less confident than _Y , so _X is more uncertain than _Z ? [ Wrong ] .',\n",
       " ' _Y is less confident than _X and _Z is less confident than _Y , so _Z is less uncertain than _X ? [ Wrong ] .',\n",
       " ' _Y is less confident than _X and _Z is less confident than _Y , so _X is less confident than _Z ? [ Wrong ] .',\n",
       " ' _Y is more confident than _Z and _X is more confident than _Y , so _Z is more confident than _X ? [ Wrong ] .',\n",
       " ' _Y is more confident than _Z and _X is more confident than _Y , so _X is more uncertain than _Z ? [ Wrong ] .',\n",
       " ' _Y is more confident than _Z and _X is more confident than _Y , so _Z is less uncertain than _X ? [ Wrong ] .',\n",
       " ' _Y is more confident than _Z and _X is more confident than _Y , so _X is less confident than _Z ? [ Wrong ] .',\n",
       " ' _Y is more confident than _Z and _Y is more uncertain than _X , so _Z is more confident than _X ? [ Wrong ] .',\n",
       " ' _Y is more confident than _Z and _Y is more uncertain than _X , so _X is more uncertain than _Z ? [ Wrong ] .',\n",
       " ' _Y is more confident than _Z and _Y is more uncertain than _X , so _Z is less uncertain than _X ? [ Wrong ] .',\n",
       " ' _Y is more confident than _Z and _Y is more uncertain than _X , so _X is less confident than _Z ? [ Wrong ] .',\n",
       " ' _Y is more confident than _Z and _X is less uncertain than _Y , so _Z is more confident than _X ? [ Wrong ] .',\n",
       " ' _Y is more confident than _Z and _X is less uncertain than _Y , so _X is more uncertain than _Z ? [ Wrong ] .',\n",
       " ' _Y is more confident than _Z and _X is less uncertain than _Y , so _Z is less uncertain than _X ? [ Wrong ] .',\n",
       " ' _Y is more confident than _Z and _X is less uncertain than _Y , so _X is less confident than _Z ? [ Wrong ] .',\n",
       " ' _Y is more confident than _Z and _Y is less confident than _X , so _Z is more confident than _X ? [ Wrong ] .',\n",
       " ' _Y is more confident than _Z and _Y is less confident than _X , so _X is more uncertain than _Z ? [ Wrong ] .',\n",
       " ' _Y is more confident than _Z and _Y is less confident than _X , so _Z is less uncertain than _X ? [ Wrong ] .',\n",
       " ' _Y is more confident than _Z and _Y is less confident than _X , so _X is less confident than _Z ? [ Wrong ] .',\n",
       " ' _Z is more uncertain than _Y and _X is more confident than _Y , so _Z is more confident than _X ? [ Wrong ] .',\n",
       " ' _Z is more uncertain than _Y and _X is more confident than _Y , so _X is more uncertain than _Z ? [ Wrong ] .',\n",
       " ' _Z is more uncertain than _Y and _X is more confident than _Y , so _Z is less uncertain than _X ? [ Wrong ] .',\n",
       " ' _Z is more uncertain than _Y and _X is more confident than _Y , so _X is less confident than _Z ? [ Wrong ] .',\n",
       " ' _Z is more uncertain than _Y and _Y is more uncertain than _X , so _Z is more confident than _X ? [ Wrong ] .',\n",
       " ' _Z is more uncertain than _Y and _Y is more uncertain than _X , so _X is more uncertain than _Z ? [ Wrong ] .',\n",
       " ' _Z is more uncertain than _Y and _Y is more uncertain than _X , so _Z is less uncertain than _X ? [ Wrong ] .',\n",
       " ' _Z is more uncertain than _Y and _Y is more uncertain than _X , so _X is less confident than _Z ? [ Wrong ] .',\n",
       " ' _Z is more uncertain than _Y and _X is less uncertain than _Y , so _Z is more confident than _X ? [ Wrong ] .',\n",
       " ' _Z is more uncertain than _Y and _X is less uncertain than _Y , so _X is more uncertain than _Z ? [ Wrong ] .',\n",
       " ' _Z is more uncertain than _Y and _X is less uncertain than _Y , so _Z is less uncertain than _X ? [ Wrong ] .',\n",
       " ' _Z is more uncertain than _Y and _X is less uncertain than _Y , so _X is less confident than _Z ? [ Wrong ] .',\n",
       " ' _Z is more uncertain than _Y and _Y is less confident than _X , so _Z is more confident than _X ? [ Wrong ] .',\n",
       " ' _Z is more uncertain than _Y and _Y is less confident than _X , so _X is more uncertain than _Z ? [ Wrong ] .',\n",
       " ' _Z is more uncertain than _Y and _Y is less confident than _X , so _Z is less uncertain than _X ? [ Wrong ] .',\n",
       " ' _Z is more uncertain than _Y and _Y is less confident than _X , so _X is less confident than _Z ? [ Wrong ] .',\n",
       " ' _Y is less uncertain than _Z and _X is more confident than _Y , so _Z is more confident than _X ? [ Wrong ] .',\n",
       " ' _Y is less uncertain than _Z and _X is more confident than _Y , so _X is more uncertain than _Z ? [ Wrong ] .',\n",
       " ' _Y is less uncertain than _Z and _X is more confident than _Y , so _Z is less uncertain than _X ? [ Wrong ] .',\n",
       " ' _Y is less uncertain than _Z and _X is more confident than _Y , so _X is less confident than _Z ? [ Wrong ] .',\n",
       " ' _Y is less uncertain than _Z and _Y is more uncertain than _X , so _Z is more confident than _X ? [ Wrong ] .',\n",
       " ' _Y is less uncertain than _Z and _Y is more uncertain than _X , so _X is more uncertain than _Z ? [ Wrong ] .',\n",
       " ' _Y is less uncertain than _Z and _Y is more uncertain than _X , so _Z is less uncertain than _X ? [ Wrong ] .',\n",
       " ' _Y is less uncertain than _Z and _Y is more uncertain than _X , so _X is less confident than _Z ? [ Wrong ] .',\n",
       " ' _Y is less uncertain than _Z and _X is less uncertain than _Y , so _Z is more confident than _X ? [ Wrong ] .',\n",
       " ' _Y is less uncertain than _Z and _X is less uncertain than _Y , so _X is more uncertain than _Z ? [ Wrong ] .',\n",
       " ' _Y is less uncertain than _Z and _X is less uncertain than _Y , so _Z is less uncertain than _X ? [ Wrong ] .',\n",
       " ' _Y is less uncertain than _Z and _X is less uncertain than _Y , so _X is less confident than _Z ? [ Wrong ] .',\n",
       " ' _Y is less uncertain than _Z and _Y is less confident than _X , so _Z is more confident than _X ? [ Wrong ] .',\n",
       " ' _Y is less uncertain than _Z and _Y is less confident than _X , so _X is more uncertain than _Z ? [ Wrong ] .',\n",
       " ' _Y is less uncertain than _Z and _Y is less confident than _X , so _Z is less uncertain than _X ? [ Wrong ] .',\n",
       " ' _Y is less uncertain than _Z and _Y is less confident than _X , so _X is less confident than _Z ? [ Wrong ] .',\n",
       " ' _Z is less confident than _Y and _X is more confident than _Y , so _Z is more confident than _X ? [ Wrong ] .',\n",
       " ' _Z is less confident than _Y and _X is more confident than _Y , so _X is more uncertain than _Z ? [ Wrong ] .',\n",
       " ' _Z is less confident than _Y and _X is more confident than _Y , so _Z is less uncertain than _X ? [ Wrong ] .',\n",
       " ' _Z is less confident than _Y and _X is more confident than _Y , so _X is less confident than _Z ? [ Wrong ] .',\n",
       " ' _Z is less confident than _Y and _Y is more uncertain than _X , so _Z is more confident than _X ? [ Wrong ] .',\n",
       " ' _Z is less confident than _Y and _Y is more uncertain than _X , so _X is more uncertain than _Z ? [ Wrong ] .',\n",
       " ' _Z is less confident than _Y and _Y is more uncertain than _X , so _Z is less uncertain than _X ? [ Wrong ] .',\n",
       " ' _Z is less confident than _Y and _Y is more uncertain than _X , so _X is less confident than _Z ? [ Wrong ] .',\n",
       " ' _Z is less confident than _Y and _X is less uncertain than _Y , so _Z is more confident than _X ? [ Wrong ] .',\n",
       " ' _Z is less confident than _Y and _X is less uncertain than _Y , so _X is more uncertain than _Z ? [ Wrong ] .',\n",
       " ' _Z is less confident than _Y and _X is less uncertain than _Y , so _Z is less uncertain than _X ? [ Wrong ] .',\n",
       " ' _Z is less confident than _Y and _X is less uncertain than _Y , so _X is less confident than _Z ? [ Wrong ] .',\n",
       " ' _Z is less confident than _Y and _Y is less confident than _X , so _Z is more confident than _X ? [ Wrong ] .',\n",
       " ' _Z is less confident than _Y and _Y is less confident than _X , so _X is more uncertain than _Z ? [ Wrong ] .',\n",
       " ' _Z is less confident than _Y and _Y is less confident than _X , so _Z is less uncertain than _X ? [ Wrong ] .',\n",
       " ' _Z is less confident than _Y and _Y is less confident than _X , so _X is less confident than _Z ? [ Wrong ] .',\n",
       " ' _Y is less confident than _X and _X is less uncertain than _Z , so _Z is more uncertain than _Y ? [ Maybe ] .',\n",
       " ' _X is more confident than _Y and _Z is more uncertain than _X , so _Y is less uncertain than _Z ? [ Maybe ] .',\n",
       " ' _Y is less confident than _X and _Z is less confident than _X , so _Y is more uncertain than _Z ? [ Maybe ] .',\n",
       " ' _X is more confident than _Z and _Y is more uncertain than _X , so _Y is less uncertain than _Z ? [ Maybe ] .',\n",
       " ' _Y is less confident than _X and _Z is less confident than _X , so _Y is less uncertain than _Z ? [ Maybe ] .',\n",
       " ' _Z is less confident than _X and _Y is less confident than _X , so _Y is less confident than _Z ? [ Maybe ] .',\n",
       " ' _X is less uncertain than _Y and _X is more confident than _Z , so _Z is less confident than _Y ? [ Maybe ] .',\n",
       " ' _Y is less confident than _X and _Z is less confident than _X , so _Z is more confident than _Y ? [ Maybe ] .',\n",
       " ' _Y is more uncertain than _X and _X is less uncertain than _Z , so _Y is less uncertain than _Z ? [ Maybe ] .',\n",
       " ' _X is less uncertain than _Y and _Z is less confident than _X , so _Y is more uncertain than _Z ? [ Maybe ] .',\n",
       " ' _Z is less confident than _X and _Y is less confident than _X , so _Y is more uncertain than _Z ? [ Maybe ] .',\n",
       " ' _X is less uncertain than _Z and _Y is more uncertain than _X , so _Z is more confident than _Y ? [ Maybe ] .',\n",
       " ' _X is more confident than _Y and _X is less uncertain than _Z , so _Y is less confident than _Z ? [ Maybe ] .',\n",
       " ' _Y is more uncertain than _X and _Z is more uncertain than _X , so _Y is less uncertain than _Z ? [ Maybe ] .',\n",
       " ' _Y is more uncertain than _X and _Z is more uncertain than _X , so _Y is less confident than _Z ? [ Maybe ] .',\n",
       " ' _X is less uncertain than _Z and _Y is less confident than _X , so _Y is more confident than _Z ? [ Maybe ] .',\n",
       " ' _X is more confident than _Y and _X is less uncertain than _Z , so _Y is more confident than _Z ? [ Maybe ] .',\n",
       " ' _X is more confident than _Y and _Z is more uncertain than _X , so _Z is less confident than _Y ? [ Maybe ] .',\n",
       " ' _Y is more uncertain than _X and _Z is more uncertain than _X , so _Z is less confident than _Y ? [ Maybe ] .',\n",
       " ' _Y is less confident than _X and _Z is more uncertain than _X , so _Z is less confident than _Y ? [ Maybe ] .',\n",
       " ' _Y is less confident than _X and _X is less uncertain than _Z , so _Z is less confident than _Y ? [ Maybe ] .',\n",
       " ' _X is more confident than _Y and _X is more confident than _Z , so _Y is more uncertain than _Z ? [ Maybe ] .',\n",
       " ' _Y is more uncertain than _X and _X is less uncertain than _Z , so _Z is less uncertain than _Y ? [ Maybe ] .',\n",
       " ' _Z is less confident than _X and _Y is less confident than _X , so _Z is less uncertain than _Y ? [ Maybe ] .',\n",
       " ' _X is more confident than _Y and _Z is less confident than _X , so _Y is less confident than _Z ? [ Maybe ] .',\n",
       " ' _Y is less confident than _X and _X is more confident than _Z , so _Y is less uncertain than _Z ? [ Maybe ] .',\n",
       " ' _Y is less confident than _X and _Z is more uncertain than _X , so _Y is less confident than _Z ? [ Maybe ] .',\n",
       " ' _X is less uncertain than _Y and _Z is more uncertain than _X , so _Z is less uncertain than _Y ? [ Maybe ] .',\n",
       " ' _Y is less confident than _X and _X is more confident than _Z , so _Y is less confident than _Z ? [ Maybe ] .',\n",
       " ' _Z is less confident than _X and _X is more confident than _Y , so _Y is less confident than _Z ? [ Maybe ] .',\n",
       " ' _X is less uncertain than _Z and _X is less uncertain than _Y , so _Z is less confident than _Y ? [ Maybe ] .',\n",
       " ' _Y is less confident than _X and _X is less uncertain than _Z , so _Y is more confident than _Z ? [ Maybe ] .',\n",
       " ' _Z is less confident than _X and _X is more confident than _Y , so _Y is less uncertain than _Z ? [ Maybe ] .',\n",
       " ' _Y is more uncertain than _X and _Z is more uncertain than _X , so _Z is less uncertain than _Y ? [ Maybe ] .',\n",
       " ' _X is more confident than _Z and _Y is more uncertain than _X , so _Z is less confident than _Y ? [ Maybe ] .',\n",
       " ' _X is more confident than _Z and _Y is less confident than _X , so _Y is less confident than _Z ? [ Maybe ] .',\n",
       " ' _X is more confident than _Y and _X is more confident than _Z , so _Z is more uncertain than _Y ? [ Maybe ] .',\n",
       " ' _X is more confident than _Z and _X is more confident than _Y , so _Z is less uncertain than _Y ? [ Maybe ] .',\n",
       " ' _X is more confident than _Z and _Y is less confident than _X , so _Z is less uncertain than _Y ? [ Maybe ] .',\n",
       " ' _X is less uncertain than _Y and _X is less uncertain than _Z , so _Y is more confident than _Z ? [ Maybe ] .',\n",
       " ' _Y is less confident than _X and _X is more confident than _Z , so _Z is less uncertain than _Y ? [ Maybe ] .',\n",
       " ' _Z is less confident than _X and _X is more confident than _Y , so _Z is more confident than _Y ? [ Maybe ] .',\n",
       " ' _Z is more uncertain than _X and _Y is more uncertain than _X , so _Z is less confident than _Y ? [ Maybe ] .',\n",
       " ' _Z is more uncertain than _X and _Y is less confident than _X , so _Y is more uncertain than _Z ? [ Maybe ] .',\n",
       " ' _X is less uncertain than _Y and _Z is more uncertain than _X , so _Z is less confident than _Y ? [ Maybe ] .',\n",
       " ' _X is less uncertain than _Z and _Y is less confident than _X , so _Z is more confident than _Y ? [ Maybe ] .',\n",
       " ' _X is more confident than _Z and _X is more confident than _Y , so _Y is less confident than _Z ? [ Maybe ] .',\n",
       " ' _Z is more uncertain than _X and _Y is more uncertain than _X , so _Y is less uncertain than _Z ? [ Maybe ] .',\n",
       " ' _Z is less confident than _X and _Y is more uncertain than _X , so _Y is less confident than _Z ? [ Maybe ] .',\n",
       " ' _X is less uncertain than _Z and _Y is less confident than _X , so _Y is more uncertain than _Z ? [ Maybe ] .',\n",
       " ' _X is less uncertain than _Z and _X is more confident than _Y , so _Z is more uncertain than _Y ? [ Maybe ] .',\n",
       " ' _Y is more uncertain than _X and _X is less uncertain than _Z , so _Y is more confident than _Z ? [ Maybe ] .',\n",
       " ' _Z is more uncertain than _X and _X is less uncertain than _Y , so _Z is less confident than _Y ? [ Maybe ] .',\n",
       " ' _Z is more uncertain than _X and _X is less uncertain than _Y , so _Y is more confident than _Z ? [ Maybe ] .',\n",
       " ' _X is less uncertain than _Z and _X is less uncertain than _Y , so _Y is more uncertain than _Z ? [ Maybe ] .',\n",
       " ' _X is more confident than _Z and _X is more confident than _Y , so _Z is less confident than _Y ? [ Maybe ] .',\n",
       " ' _X is more confident than _Y and _X is less uncertain than _Z , so _Z is less confident than _Y ? [ Maybe ] .',\n",
       " ' _Y is less confident than _X and _X is less uncertain than _Z , so _Z is less uncertain than _Y ? [ Maybe ] .',\n",
       " ' _Z is less confident than _X and _Y is more uncertain than _X , so _Z is more uncertain than _Y ? [ Maybe ] .',\n",
       " ' _X is more confident than _Y and _X is less uncertain than _Z , so _Y is more uncertain than _Z ? [ Maybe ] .',\n",
       " ' _Y is more uncertain than _X and _Z is less confident than _X , so _Z is less confident than _Y ? [ Maybe ] .',\n",
       " ' _X is less uncertain than _Z and _X is more confident than _Y , so _Y is more confident than _Z ? [ Maybe ] .',\n",
       " ' _Y is more uncertain than _X and _Z is more uncertain than _X , so _Y is more confident than _Z ? [ Maybe ] .',\n",
       " ' _X is more confident than _Y and _Z is less confident than _X , so _Y is more uncertain than _Z ? [ Maybe ] .',\n",
       " ' _X is more confident than _Z and _X is less uncertain than _Y , so _Z is less confident than _Y ? [ Maybe ] .',\n",
       " ' _X is less uncertain than _Y and _X is more confident than _Z , so _Z is more confident than _Y ? [ Maybe ] .',\n",
       " ' _Y is more uncertain than _X and _Z is less confident than _X , so _Z is less uncertain than _Y ? [ Maybe ] .',\n",
       " ' _Z is more uncertain than _X and _Y is less confident than _X , so _Y is more confident than _Z ? [ Maybe ] .',\n",
       " ' _Y is more uncertain than _X and _X is more confident than _Z , so _Y is less confident than _Z ? [ Maybe ] .',\n",
       " ' _Y is less confident than _X and _X is more confident than _Z , so _Z is more uncertain than _Y ? [ Maybe ] .',\n",
       " ' _Y is less confident than _X and _Z is more uncertain than _X , so _Z is more confident than _Y ? [ Maybe ] .',\n",
       " ' _Y is more uncertain than _X and _X is more confident than _Z , so _Z is more uncertain than _Y ? [ Maybe ] .',\n",
       " ' _X is more confident than _Z and _Y is more uncertain than _X , so _Y is less confident than _Z ? [ Maybe ] .',\n",
       " ' _X is less uncertain than _Y and _X is less uncertain than _Z , so _Y is more uncertain than _Z ? [ Maybe ] .',\n",
       " ' _Y is less confident than _X and _X is less uncertain than _Z , so _Y is less uncertain than _Z ? [ Maybe ] .',\n",
       " ' _X is more confident than _Z and _X is less uncertain than _Y , so _Y is less uncertain than _Z ? [ Maybe ] .',\n",
       " ' _X is more confident than _Z and _X is more confident than _Y , so _Y is more uncertain than _Z ? [ Maybe ] .',\n",
       " ' _X is less uncertain than _Z and _X is less uncertain than _Y , so _Y is less confident than _Z ? [ Maybe ] .',\n",
       " ' _Y is more uncertain than _X and _X is less uncertain than _Z , so _Z is more uncertain than _Y ? [ Maybe ] .',\n",
       " ' _X is more confident than _Z and _Y is less confident than _X , so _Y is more uncertain than _Z ? [ Maybe ] .',\n",
       " ' _Z is more uncertain than _X and _Y is more uncertain than _X , so _Z is more confident than _Y ? [ Maybe ] .',\n",
       " ' _Z is less confident than _X and _Y is more uncertain than _X , so _Y is more confident than _Z ? [ Maybe ] .',\n",
       " ' _X is less uncertain than _Y and _X is more confident than _Z , so _Z is less uncertain than _Y ? [ Maybe ] .',\n",
       " ' _Z is more uncertain than _X and _Y is less confident than _X , so _Z is more uncertain than _Y ? [ Maybe ] .',\n",
       " ' _X is less uncertain than _Y and _X is less uncertain than _Z , so _Z is more uncertain than _Y ? [ Maybe ] .',\n",
       " ' _Z is more uncertain than _X and _Y is less confident than _X , so _Y is less uncertain than _Z ? [ Maybe ] .',\n",
       " ' _Z is more uncertain than _X and _X is less uncertain than _Y , so _Y is less uncertain than _Z ? [ Maybe ] .',\n",
       " ' _Y is less confident than _X and _Z is more uncertain than _X , so _Z is more uncertain than _Y ? [ Maybe ] .',\n",
       " ' _X is more confident than _Z and _Y is more uncertain than _X , so _Y is more confident than _Z ? [ Maybe ] .',\n",
       " ' _X is less uncertain than _Y and _Z is more uncertain than _X , so _Y is more uncertain than _Z ? [ Maybe ] .',\n",
       " ' _Y is more uncertain than _X and _X is more confident than _Z , so _Y is less uncertain than _Z ? [ Maybe ] .',\n",
       " ' _Y is more uncertain than _X and _X is less uncertain than _Z , so _Y is less confident than _Z ? [ Maybe ] .',\n",
       " ' _Z is less confident than _X and _Y is more uncertain than _X , so _Z is less uncertain than _Y ? [ Maybe ] .',\n",
       " ' _X is less uncertain than _Y and _X is less uncertain than _Z , so _Z is less confident than _Y ? [ Maybe ] .',\n",
       " ' _X is more confident than _Y and _X is less uncertain than _Z , so _Z is more confident than _Y ? [ Maybe ] .',\n",
       " ' _Z is less confident than _X and _X is less uncertain than _Y , so _Y is less confident than _Z ? [ Maybe ] .',\n",
       " ' _X is less uncertain than _Y and _X is less uncertain than _Z , so _Y is less confident than _Z ? [ Maybe ] .',\n",
       " ' _Z is less confident than _X and _Y is more uncertain than _X , so _Y is less uncertain than _Z ? [ Maybe ] .',\n",
       " ' _Y is less confident than _X and _X is more confident than _Z , so _Z is more confident than _Y ? [ Maybe ] .',\n",
       " ' _X is more confident than _Z and _Y is more uncertain than _X , so _Z is more uncertain than _Y ? [ Maybe ] .',\n",
       " ' _X is more confident than _Y and _Z is less confident than _X , so _Z is less uncertain than _Y ? [ Maybe ] .',\n",
       " ' _X is less uncertain than _Z and _X is more confident than _Y , so _Z is more confident than _Y ? [ Maybe ] .',\n",
       " ' _Z is more uncertain than _X and _X is more confident than _Y , so _Z is less confident than _Y ? [ Maybe ] .',\n",
       " ' _X is more confident than _Y and _Z is less confident than _X , so _Y is less uncertain than _Z ? [ Maybe ] .',\n",
       " ' _Y is less confident than _X and _Z is more uncertain than _X , so _Y is more uncertain than _Z ? [ Maybe ] .',\n",
       " ' _X is less uncertain than _Z and _Y is less confident than _X , so _Y is less confident than _Z ? [ Maybe ] .',\n",
       " ' _Z is more uncertain than _X and _X is more confident than _Y , so _Y is more confident than _Z ? [ Maybe ] .',\n",
       " ' _X is less uncertain than _Z and _Y is more uncertain than _X , so _Y is less uncertain than _Z ? [ Maybe ] .',\n",
       " ' _X is less uncertain than _Y and _Z is more uncertain than _X , so _Y is less confident than _Z ? [ Maybe ] .',\n",
       " ' _Y is more uncertain than _X and _X is more confident than _Z , so _Y is more confident than _Z ? [ Maybe ] .',\n",
       " ' _Y is less confident than _X and _Z is more uncertain than _X , so _Y is less uncertain than _Z ? [ Maybe ] .',\n",
       " ' _Y is more uncertain than _X and _Z is more uncertain than _X , so _Y is more uncertain than _Z ? [ Maybe ] .',\n",
       " ' _Y is more uncertain than _X and _X is more confident than _Z , so _Y is more uncertain than _Z ? [ Maybe ] .',\n",
       " ' _Z is less confident than _X and _Y is less confident than _X , so _Z is less confident than _Y ? [ Maybe ] .',\n",
       " ' _X is less uncertain than _Z and _Y is more uncertain than _X , so _Z is more uncertain than _Y ? [ Maybe ] .',\n",
       " ' _X is more confident than _Z and _Y is more uncertain than _X , so _Y is more uncertain than _Z ? [ Maybe ] .',\n",
       " ' _X is less uncertain than _Y and _Z is more uncertain than _X , so _Y is more confident than _Z ? [ Maybe ] .',\n",
       " ' _X is more confident than _Z and _X is less uncertain than _Y , so _Z is more confident than _Y ? [ Maybe ] .',\n",
       " ' _Z is less confident than _X and _X is less uncertain than _Y , so _Y is more uncertain than _Z ? [ Maybe ] .',\n",
       " ' _Y is less confident than _X and _Z is less confident than _X , so _Z is less confident than _Y ? [ Maybe ] .',\n",
       " ' _X is more confident than _Y and _X is less uncertain than _Z , so _Z is less uncertain than _Y ? [ Maybe ] .',\n",
       " ' _X is less uncertain than _Z and _Y is less confident than _X , so _Z is more uncertain than _Y ? [ Maybe ] .',\n",
       " ' _Y is more uncertain than _X and _Z is more uncertain than _X , so _Z is more confident than _Y ? [ Maybe ] .',\n",
       " ' _Z is less confident than _X and _X is less uncertain than _Y , so _Z is more confident than _Y ? [ Maybe ] .',\n",
       " ' _X is more confident than _Z and _X is less uncertain than _Y , so _Y is more uncertain than _Z ? [ Maybe ] .',\n",
       " ' _X is more confident than _Z and _Y is more uncertain than _X , so _Z is more confident than _Y ? [ Maybe ] .',\n",
       " ' _Z is less confident than _X and _Y is less confident than _X , so _Y is less uncertain than _Z ? [ Maybe ] .',\n",
       " ' _Z is more uncertain than _X and _X is less uncertain than _Y , so _Y is more uncertain than _Z ? [ Maybe ] .']"
      ]
     },
     "execution_count": 125,
     "metadata": {},
     "output_type": "execute_result"
    }
   ],
   "source": [
    "def make_transitive(entities=[\"_X\", \"_Y\", \"_Z\"], entity_set=string.ascii_uppercase,\n",
    "                    relation_group=[[\"confident\", ], [\"uncertain\", ]], n_entity_trials=3,\n",
    "                    has_negP=True, has_negQ=True, has_neutral=False, mask_types=['sent_rel']):\n",
    "    def form_atoms(relations, entities, has_neg=True):\n",
    "        atoms = [P_template.format(ent0=ent0, ent1=ent1, rel=rel) for ent0, ent1, rel in\n",
    "                 [entities + relations[:1], reverse(entities) + reverse(relations)[:1]]]\n",
    "        if has_neg:\n",
    "            neg_rels = [negate_sent(r)[0] for r in relations]\n",
    "            atoms += [P_template.format(ent0=ent0, ent1=ent1, rel=rel) for ent0, ent1, rel in\n",
    "                      [entities + reverse(neg_rels)[:1], reverse(entities) + neg_rels[:1]]]\n",
    "        return atoms\n",
    "\n",
    "    def form_sentences(transitive_template, Ps, Qs, conj):\n",
    "        sentences = []\n",
    "        if 'sent_rel' in mask_types: conj = mask(conj)\n",
    "        for (p0, p1), Q in product(Ps, Qs):\n",
    "            sent = transitive_template.format(p0=strip_rel_id(p0), p1=strip_rel_id(p1),\n",
    "                                              Q=strip_rel_id(Q), conj=conj)\n",
    "            sent = \" \" + \" \".join(sent.split())\n",
    "            sentences.append(sent)\n",
    "        return sentences\n",
    "\n",
    "    def form_all(P0_entities, P1_entities, Q_entities, neutral=False):\n",
    "        P0, P1 = [], []\n",
    "        for rel0 in relation_group[0]:\n",
    "            for rel1 in relation_group[1]:\n",
    "                relations = [\" is %s:%d than\" % (comparative(rel), i)\n",
    "                             for i, rel in enumerate([rel0, rel1])]\n",
    "                P0 += form_atoms(relations, P0_entities, has_neg=has_negP)\n",
    "                P1 += form_atoms(relations, P1_entities, has_neg=has_negP)\n",
    "        Ps = [(p0, p1) for p0, p1 in list(product(P0, P1)) + list(product(P1, P0))]\n",
    "\n",
    "        Qs = form_atoms(relations, Q_entities, has_neg=has_negQ)\n",
    "        negQs = [swap_entities(Q, *Q_entities) for Q in Qs]\n",
    "\n",
    "        for P, Q, conj in [(Ps, Qs, 'Right'), (Ps, negQs, 'Wrong')]:\n",
    "            if neutral: conj = 'Maybe'\n",
    "            sentences[conj] += form_sentences(transitive_template, P, Q, conj)\n",
    "        return sentences\n",
    "\n",
    "    e0, e1, e2 = entities\n",
    "    sentences = defaultdict(list)\n",
    "    form_all(P0_entities=[e0, e1], P1_entities=[e1, e2], Q_entities=[e0, e2])\n",
    "    assert len(sentences['Right']) == len(sentences['Wrong']), \\\n",
    "        '%d %d' % (len(sentences['Right']), len(sentences['Wrong']))\n",
    "    sample_ratio = len(relation_group[0]) * len(relation_group[1])\n",
    "    if sample_ratio > 1:\n",
    "        for key in sentences:\n",
    "            sentences[key] = random.sample(sentences[key], len(sentences[key]) // sample_ratio)\n",
    "#     print('nRight =', len(sentences['Right']))\n",
    "    if has_neutral:\n",
    "        form_all(P0_entities=[e0, e1], P1_entities=[e0, e2], Q_entities=[e1, e2], neutral=True)\n",
    "        sentences['Maybe'] = random.sample(sentences['Maybe'], len(sentences['Right']))\n",
    "    keys = sentences.keys() if has_neutral else ['Right', 'Wrong']\n",
    "    sentences = join_lists(sentences[k] for k in keys)\n",
    "\n",
    "    substituted_sent_groups = []\n",
    "    for sent in sentences:\n",
    "        sent_group = []\n",
    "        for _ in range(n_entity_trials):\n",
    "            e0, e1, e2 = random.sample(entity_set, 3)\n",
    "            sent_group.append(sent.replace(entities[0], e0)\n",
    "                              .replace(entities[1], e1)\n",
    "                              .replace(entities[2], e2))\n",
    "        substituted_sent_groups.append(sent_group)\n",
    "    return sentences, substituted_sent_groups\n",
    "\n",
    "make_transitive(has_negP=True, has_negQ=True, has_neutral=True, mask_types=['sent_rel'])[0]"
   ]
  },
  {
   "cell_type": "code",
   "execution_count": 7,
   "metadata": {
    "scrolled": true
   },
   "outputs": [],
   "source": [
    "tokenizer_class, shortcut = RobertaTokenizer, 'roberta-base'\n",
    "tokenizer = tokenizer_class.from_pretrained(shortcut)"
   ]
  },
  {
   "cell_type": "code",
   "execution_count": 154,
   "metadata": {},
   "outputs": [
    {
     "name": "stdout",
     "output_type": "stream",
     "text": [
      "nTrain = 10608, nValid = 4128\n"
     ]
    }
   ],
   "source": [
    "# rand_relation_group=_frames[(i + 1) % len(_frames)], \n",
    "# random.seed(42)\n",
    "# random.shuffle(frames)\n",
    "# entity_set = list(string.ascii_uppercase)\n",
    "# random.shuffle(entity_set)\n",
    "split_pct = [0.7, 0.3]\n",
    "\n",
    "n_entity_trials = 3\n",
    "kwargs = {'n_entity_trials': n_entity_trials, 'has_neutral': False, 'has_negA': True, 'has_negB': True, \n",
    "          'tag_lexical_rel': False, 'tag_entity_rel': False, 'mask_types':{'sent_rel',}, 'entity_relations': ['former', ]}\n",
    "train_lines, eval_lines = [[make_sentences(relation_group=rg, entity_set=_ent_set, **kwargs)[1] for i, rg in enumerate(_frames)]\n",
    "                           for _frames, _ent_set in zip(split(frames, split_pct), split(entity_set, split_pct))]\n",
    "# all_lines = [make_sentences(relation_group=rg, rand_relation_group=frames[(i + 1) % len(frames)], \n",
    "#                             n_entity_trials=n_entity_trials, has_neutral=False,\n",
    "#                             has_negA=True, has_negB=True, tag_lexical_rel=False, tag_entity_rel=False,\n",
    "#                             mask_types={'sent_rel',}, entity_relations=['former', ])[1]\n",
    "#              for i, rg in enumerate(frames)]\n",
    "# all_lines = [make_transitive(relation_group=rg, n_entity_trials=n_entity_trials,\n",
    "#                              has_negP=True, has_negQ=True, has_neutral=True, mask_types=['sent_rel'])[1]\n",
    "#              for i, rg in enumerate(frames)]\n",
    "# all_lines = join_lists(all_lines)\n",
    "# all_lines = join_lists(all_lines)\n",
    "# tokenizer.tag2id, tokenizer.id2tag = tag2id, id2tag\n",
    "# for k in CHILDDataset.all_lines: CHILDDataset.all_lines[k] = None\n",
    "kwargs = {'markers': None, 'max_noise_len': 0, 'n_replicas': 1, 'split_pct': [0.7, 0.3, 0.0]}\n",
    "train_dataset = CHILDDataset(train_lines, tokenizer, mode='train', **kwargs)\n",
    "eval_dataset = CHILDDataset(eval_lines, tokenizer, mode='dev', **kwargs)\n",
    "# train_dataset, eval_dataset = [CHILDDataset(_lines, tokenizer, mode=mode, **kwargs) \n",
    "#                                for _lines, mode in zip([train_lines, eval_lines], ['train', 'dev'])]\n",
    "print('nTrain = %d, nValid = %d' % (len(train_dataset), len(eval_dataset)))"
   ]
  },
  {
   "cell_type": "code",
   "execution_count": 155,
   "metadata": {
    "scrolled": true
   },
   "outputs": [
    {
     "data": {
      "application/vnd.jupyter.widget-view+json": {
       "model_id": "b7740b939399408db31f98e5624e8677",
       "version_major": 2,
       "version_minor": 0
      },
      "text/plain": [
       "HBox(children=(FloatProgress(value=0.0, description='Epoch', max=3.0, style=ProgressStyle(description_width='i…"
      ]
     },
     "metadata": {},
     "output_type": "display_data"
    },
    {
     "data": {
      "application/vnd.jupyter.widget-view+json": {
       "model_id": "6e38ce5a3fee4d538cc72c26e22e904e",
       "version_major": 2,
       "version_minor": 0
      },
      "text/plain": [
       "HBox(children=(FloatProgress(value=0.0, description='Iteration', max=332.0, style=ProgressStyle(description_wi…"
      ]
     },
     "metadata": {},
     "output_type": "display_data"
    },
    {
     "name": "stdout",
     "output_type": "stream",
     "text": [
      "{'loss': 0.494441, 'learning_rate': 1.7991967871485944e-05, 'epoch': 0.301, 'step': 100}\n"
     ]
    },
    {
     "data": {
      "application/vnd.jupyter.widget-view+json": {
       "model_id": "aae02ea96d574a0fbb03f62d1791f982",
       "version_major": 2,
       "version_minor": 0
      },
      "text/plain": [
       "HBox(children=(FloatProgress(value=0.0, description='Evaluation', max=65.0, style=ProgressStyle(description_wi…"
      ]
     },
     "metadata": {},
     "output_type": "display_data"
    },
    {
     "name": "stdout",
     "output_type": "stream",
     "text": [
      "\n",
      "{'eval_loss': 0.331483, 'eval_acc_0': 0.887, 'eval_stat_0': 'ĠRight 0.53 0.95, ĠWrong 0.47 0.92, ', 'epoch': 0.301, 'step': 100}\n",
      "{'loss': 0.15644, 'learning_rate': 1.5983935742971887e-05, 'epoch': 0.602, 'step': 200}\n"
     ]
    },
    {
     "data": {
      "application/vnd.jupyter.widget-view+json": {
       "model_id": "d4b685de608c4805b99f4be751f10d6e",
       "version_major": 2,
       "version_minor": 0
      },
      "text/plain": [
       "HBox(children=(FloatProgress(value=0.0, description='Evaluation', max=65.0, style=ProgressStyle(description_wi…"
      ]
     },
     "metadata": {},
     "output_type": "display_data"
    },
    {
     "name": "stdout",
     "output_type": "stream",
     "text": [
      "\n",
      "{'eval_loss': 0.271215, 'eval_acc_0': 0.956, 'eval_stat_0': 'ĠRight 0.51 0.99, ĠWrong 0.49 0.99, ', 'epoch': 0.602, 'step': 200}\n",
      "{'loss': 0.062766, 'learning_rate': 1.3975903614457833e-05, 'epoch': 0.904, 'step': 300}\n"
     ]
    },
    {
     "data": {
      "application/vnd.jupyter.widget-view+json": {
       "model_id": "7556c199fafa44fbbc754ab95fcbdb9e",
       "version_major": 2,
       "version_minor": 0
      },
      "text/plain": [
       "HBox(children=(FloatProgress(value=0.0, description='Evaluation', max=65.0, style=ProgressStyle(description_wi…"
      ]
     },
     "metadata": {},
     "output_type": "display_data"
    },
    {
     "name": "stdout",
     "output_type": "stream",
     "text": [
      "\n",
      "{'eval_loss': 0.854337, 'eval_acc_0': 0.938, 'eval_stat_0': 'ĠRight 0.50 1.00, ĠWrong 0.50 1.00, ', 'epoch': 0.904, 'step': 300}\n",
      "\n"
     ]
    },
    {
     "data": {
      "application/vnd.jupyter.widget-view+json": {
       "model_id": "07294c81cac74d22af119a0723bdc514",
       "version_major": 2,
       "version_minor": 0
      },
      "text/plain": [
       "HBox(children=(FloatProgress(value=0.0, description='Iteration', max=332.0, style=ProgressStyle(description_wi…"
      ]
     },
     "metadata": {},
     "output_type": "display_data"
    },
    {
     "name": "stdout",
     "output_type": "stream",
     "text": [
      "{'loss': 0.034302, 'learning_rate': 1.1967871485943776e-05, 'epoch': 1.205, 'step': 400}\n"
     ]
    },
    {
     "data": {
      "application/vnd.jupyter.widget-view+json": {
       "model_id": "219ac712400f40c5b275c01cb8699504",
       "version_major": 2,
       "version_minor": 0
      },
      "text/plain": [
       "HBox(children=(FloatProgress(value=0.0, description='Evaluation', max=65.0, style=ProgressStyle(description_wi…"
      ]
     },
     "metadata": {},
     "output_type": "display_data"
    },
    {
     "name": "stdout",
     "output_type": "stream",
     "text": [
      "\n",
      "{'eval_loss': 1.072325, 'eval_acc_0': 0.919, 'eval_stat_0': 'ĠRight 0.49 1.00, ĠWrong 0.51 1.00, ', 'epoch': 1.205, 'step': 400}\n",
      "{'loss': 0.013694, 'learning_rate': 9.959839357429719e-06, 'epoch': 1.506, 'step': 500}\n"
     ]
    },
    {
     "data": {
      "application/vnd.jupyter.widget-view+json": {
       "model_id": "04221bdf230449de88ae9b453bea5ef7",
       "version_major": 2,
       "version_minor": 0
      },
      "text/plain": [
       "HBox(children=(FloatProgress(value=0.0, description='Evaluation', max=65.0, style=ProgressStyle(description_wi…"
      ]
     },
     "metadata": {},
     "output_type": "display_data"
    },
    {
     "name": "stdout",
     "output_type": "stream",
     "text": [
      "\n",
      "{'eval_loss': 0.964351, 'eval_acc_0': 0.935, 'eval_stat_0': 'ĠRight 0.49 1.00, ĠWrong 0.51 1.00, ', 'epoch': 1.506, 'step': 500}\n",
      "{'loss': 0.013991, 'learning_rate': 7.951807228915663e-06, 'epoch': 1.807, 'step': 600}\n"
     ]
    },
    {
     "data": {
      "application/vnd.jupyter.widget-view+json": {
       "model_id": "118842eab3f24e18b6464c516e195470",
       "version_major": 2,
       "version_minor": 0
      },
      "text/plain": [
       "HBox(children=(FloatProgress(value=0.0, description='Evaluation', max=65.0, style=ProgressStyle(description_wi…"
      ]
     },
     "metadata": {},
     "output_type": "display_data"
    },
    {
     "name": "stdout",
     "output_type": "stream",
     "text": [
      "\n",
      "{'eval_loss': 0.761857, 'eval_acc_0': 0.952, 'eval_stat_0': 'ĠRight 0.50 1.00, ĠWrong 0.50 1.00, ', 'epoch': 1.807, 'step': 600}\n",
      "\n"
     ]
    },
    {
     "data": {
      "application/vnd.jupyter.widget-view+json": {
       "model_id": "82823ff9b7a74490b3e6bdbe0ecd6163",
       "version_major": 2,
       "version_minor": 0
      },
      "text/plain": [
       "HBox(children=(FloatProgress(value=0.0, description='Iteration', max=332.0, style=ProgressStyle(description_wi…"
      ]
     },
     "metadata": {},
     "output_type": "display_data"
    },
    {
     "name": "stdout",
     "output_type": "stream",
     "text": [
      "{'loss': 0.011654, 'learning_rate': 5.943775100401607e-06, 'epoch': 2.108, 'step': 700}\n"
     ]
    },
    {
     "data": {
      "application/vnd.jupyter.widget-view+json": {
       "model_id": "b7379a1bd37b46ebb403f1f91e546294",
       "version_major": 2,
       "version_minor": 0
      },
      "text/plain": [
       "HBox(children=(FloatProgress(value=0.0, description='Evaluation', max=65.0, style=ProgressStyle(description_wi…"
      ]
     },
     "metadata": {},
     "output_type": "display_data"
    },
    {
     "name": "stdout",
     "output_type": "stream",
     "text": [
      "\n",
      "{'eval_loss': 0.483392, 'eval_acc_0': 0.963, 'eval_stat_0': 'ĠRight 0.50 1.00, ĠWrong 0.50 1.00, ', 'epoch': 2.108, 'step': 700}\n",
      "{'loss': 0.004868, 'learning_rate': 3.93574297188755e-06, 'epoch': 2.41, 'step': 800}\n"
     ]
    },
    {
     "data": {
      "application/vnd.jupyter.widget-view+json": {
       "model_id": "3b3f3f1aaef94e88aa28fa59e4b31c0b",
       "version_major": 2,
       "version_minor": 0
      },
      "text/plain": [
       "HBox(children=(FloatProgress(value=0.0, description='Evaluation', max=65.0, style=ProgressStyle(description_wi…"
      ]
     },
     "metadata": {},
     "output_type": "display_data"
    },
    {
     "name": "stdout",
     "output_type": "stream",
     "text": [
      "\n",
      "{'eval_loss': 0.878321, 'eval_acc_0': 0.942, 'eval_stat_0': 'ĠRight 0.50 1.00, ĠWrong 0.50 1.00, ', 'epoch': 2.41, 'step': 800}\n",
      "{'loss': 0.000687, 'learning_rate': 1.9277108433734943e-06, 'epoch': 2.711, 'step': 900}\n"
     ]
    },
    {
     "data": {
      "application/vnd.jupyter.widget-view+json": {
       "model_id": "b1e1dbd978004fd5a53a43094b88e26f",
       "version_major": 2,
       "version_minor": 0
      },
      "text/plain": [
       "HBox(children=(FloatProgress(value=0.0, description='Evaluation', max=65.0, style=ProgressStyle(description_wi…"
      ]
     },
     "metadata": {},
     "output_type": "display_data"
    },
    {
     "name": "stdout",
     "output_type": "stream",
     "text": [
      "\n",
      "{'eval_loss': 0.94726, 'eval_acc_0': 0.94, 'eval_stat_0': 'ĠRight 0.50 1.00, ĠWrong 0.50 1.00, ', 'epoch': 2.711, 'step': 900}\n",
      "\n",
      "\n"
     ]
    },
    {
     "data": {
      "application/vnd.jupyter.widget-view+json": {
       "model_id": "d501a3d991a04fb9be022136a7020a8c",
       "version_major": 2,
       "version_minor": 0
      },
      "text/plain": [
       "HBox(children=(FloatProgress(value=0.0, description='Evaluation', max=65.0, style=ProgressStyle(description_wi…"
      ]
     },
     "metadata": {},
     "output_type": "display_data"
    },
    {
     "name": "stdout",
     "output_type": "stream",
     "text": [
      "\n",
      "{'eval_loss': 0.91416, 'eval_acc_0': 0.942, 'eval_stat_0': 'ĠRight 0.50 1.00, ĠWrong 0.50 1.00, ', 'epoch': 3.0, 'step': 996}\n"
     ]
    },
    {
     "data": {
      "text/plain": [
       "TrainOutput(global_step=996, training_loss=0.07976772980278275)"
      ]
     },
     "execution_count": 155,
     "metadata": {},
     "output_type": "execute_result"
    }
   ],
   "source": [
    "# model_class, model = RobertaForMaskedLM, None\n",
    "# # model_class, model = RobertaDoubleHeadsModel3, None\n",
    "# model = model_class.from_pretrained('roberta-base', model=model)\n",
    "steps = max(int(round(100 * n_entity_trials / 3)), int(len(train_dataset) / 32 / 4))\n",
    "training_args = TrainingArguments(output_dir=\"./models/model_name\", \n",
    "    overwrite_output_dir=True, do_train=True, do_eval=True,\n",
    "    per_device_train_batch_size=32, per_device_eval_batch_size=64,\n",
    "    learning_rate=2e-5, num_train_epochs=3,\n",
    "    logging_steps=steps, eval_steps=steps, save_steps=0,\n",
    "    no_cuda=False, evaluate_during_training=True,\n",
    ")\n",
    "trainer = Trainer(model, training_args, train_dataset=train_dataset, eval_dataset=eval_dataset)\n",
    "trainer.tokenizer = tokenizer\n",
    "model.tokenizer = tokenizer\n",
    "trainer.train()"
   ]
  },
  {
   "cell_type": "code",
   "execution_count": 182,
   "metadata": {},
   "outputs": [],
   "source": [
    "output_dir = '/nas/xd/data/models/CHILD/pred_all_rels/'\n",
    "os.makedirs(output_dir, exist_ok=True)\n",
    "model.save_pretrained(output_dir)"
   ]
  },
  {
   "cell_type": "code",
   "execution_count": 80,
   "metadata": {},
   "outputs": [],
   "source": [
    "model.roberta.selectively_masked_head = (5, 5)"
   ]
  },
  {
   "cell_type": "code",
   "execution_count": 91,
   "metadata": {},
   "outputs": [],
   "source": [
    "dataloader = DataLoader(\n",
    "    eval_dataset,\n",
    "    sampler=RandomSampler(eval_dataset),\n",
    "    batch_size=trainer.args.eval_batch_size,\n",
    "    collate_fn=trainer.data_collator,\n",
    "    drop_last=trainer.args.dataloader_drop_last,\n",
    ")"
   ]
  },
  {
   "cell_type": "code",
   "execution_count": 92,
   "metadata": {
    "scrolled": false
   },
   "outputs": [
    {
     "name": "stdout",
     "output_type": "stream",
     "text": [
      "0 <s> F is more willing than E,</s> so E (<mask> ) is more voluntary (<mask> )?<mask>.</s><s><s><s><s>\n",
      "1 <s> Q is more frivolous than G,</s> so G (<mask> ) is less serious (<mask> )?<mask>.</s><s><s><s><s>\n",
      "2 <s> D is less willing than B,</s> so B (<mask> ) is more willing (<mask> )?<mask>.</s><s><s><s><s>\n",
      "3 <s> L is more illegal than F,</s> so F (<mask> ) is less illegal (<mask> )?<mask>.</s><s><s><s><s>\n",
      "4 <s> A is more distant than E,</s> so A (<mask> ) is not closer (<mask> )?<mask>.</s><s><s><s><s>\n",
      "5 <s> Y is less competent than U,</s> so Y (<mask> ) is more competent (<mask> )?<mask>.</s><s><s><s><s>\n",
      "6 <s> O is more distant than H,</s> so O (<mask> ) is not nearer (<mask> )?<mask>.</s><s><s><s><s>\n",
      "7 <s> B is faster than S,</s> so B (<mask> ) is faster (<mask> )?<mask>.</s><s><s><s><s><s><s>\n",
      "8 <s> D is further than E,</s> so E (<mask> ) is further (<mask> )?<mask>.</s><s><s><s><s><s><s>\n",
      "9 <s> Z is darker than Q,</s> so Q (<mask> ) is brighter (<mask> )?<mask>.</s><s><s><s><s><s><s>\n",
      "10 <s> F is less ethical than X,</s> so X (<mask> ) is more ethical (<mask> )?<mask>.</s><s><s><s><s>\n",
      "11 <s> P is not poorer than Q,</s> so P (<mask> ) is poorer (<mask> )?<mask>.</s><s><s><s><s><s>\n",
      "12 <s> C is less voluntary than J,</s> so C (<mask> ) is more involuntary (<mask> )?<mask>.</s><s><s><s><s>\n",
      "13 <s> U is not stranger than D,</s> so D (<mask> ) is more unfamiliar (<mask> )?<mask>.</s><s><s><s><s>\n",
      "14 <s> S is quicker than V,</s> so V (<mask> ) is not quicker (<mask> )?<mask>.</s><s><s><s><s><s>\n",
      "15 <s> T is more ineligible than G,</s> so T (<mask> ) is less ineligible (<mask> )?<mask>.</s><s><s><s><s>\n",
      "16 <s> P is not more than H,</s> so P (<mask> ) is not more (<mask> )?<mask>.</s><s><s><s><s>\n",
      "17 <s> F is less familiar than V,</s> so F (<mask> ) is more familiar (<mask> )?<mask>.</s><s><s><s><s>\n",
      "18 <s> U is more endemic than Z,</s> so Z (<mask> ) is more endemic (<mask> )?<mask>.</s><s><s><s><s>\n",
      "19 <s> C is more distant than S,</s> so S (<mask> ) is not nearer (<mask> )?<mask>.</s><s><s><s><s>\n"
     ]
    }
   ],
   "source": [
    "for inputs in dataloader: break\n",
    "\n",
    "for i in range(20):\n",
    "    print(i, tokenizer.decode(inputs['input_ids'][i])) #, \n",
    "#           [tokenizer.convert_ids_to_tokens(inputs['input_ids'][i])[j] for j in inputs['head_mask'][i]])"
   ]
  },
  {
   "cell_type": "code",
   "execution_count": 140,
   "metadata": {},
   "outputs": [
    {
     "data": {
      "text/plain": [
       "torch.Size([64, 2, 2])"
      ]
     },
     "execution_count": 140,
     "metadata": {},
     "output_type": "execute_result"
    }
   ],
   "source": [
    "marked_pos_labels = inputs['marked_pos_labels']\n",
    "marked_pos_labels.size()"
   ]
  },
  {
   "cell_type": "code",
   "execution_count": 128,
   "metadata": {},
   "outputs": [
    {
     "data": {
      "text/plain": [
       "torch.Size([64, 144, 28, 28])"
      ]
     },
     "execution_count": 128,
     "metadata": {},
     "output_type": "execute_result"
    }
   ],
   "source": [
    "holoattn = torch.cat(attn_probs, dim=1)\n",
    "holoattn.size()"
   ]
  },
  {
   "cell_type": "code",
   "execution_count": 129,
   "metadata": {},
   "outputs": [
    {
     "data": {
      "text/plain": [
       "torch.Size([64, 2, 144])"
      ]
     },
     "execution_count": 129,
     "metadata": {},
     "output_type": "execute_result"
    }
   ],
   "source": [
    "marked_holoattn = holoattn[torch.arange(64).unsqueeze(-1), :, marked_pos_labels[:, :, 0], marked_pos_labels[:, :, 1]]\n",
    "marked_holoattn.size()"
   ]
  },
  {
   "cell_type": "code",
   "execution_count": 131,
   "metadata": {},
   "outputs": [
    {
     "data": {
      "text/plain": [
       "torch.Size([64, 2, 768])"
      ]
     },
     "execution_count": 131,
     "metadata": {},
     "output_type": "execute_result"
    }
   ],
   "source": [
    "marked_hidden = last_hidden_states[((inputs['input_ids'] == tokenizer.mask_token_id) * (inputs['labels'] == -100))].view(64, -1, 768)\n",
    "marked_hidden.size()"
   ]
  },
  {
   "cell_type": "code",
   "execution_count": 119,
   "metadata": {},
   "outputs": [],
   "source": [
    "last_hidden_states = all_hidden_states[-1]"
   ]
  },
  {
   "cell_type": "code",
   "execution_count": 157,
   "metadata": {},
   "outputs": [
    {
     "name": "stderr",
     "output_type": "stream",
     "text": [
      "/nas/xd/projects/captum/captum/attr/_models/base.py:189: UserWarning: In order to make embedding layers more interpretable they will be replaced with an interpretable embedding layer which wraps the original embedding layer and takes word embedding vectors as inputs of the forward function. This allows us to generate baselines for word embeddings and compute attributions for each embedding dimension. The original embedding layer must be set back by calling `remove_interpretable_embedding_layer` function after model interpretation is finished. \n",
      "  \"In order to make embedding layers more interpretable they will \"\n"
     ]
    }
   ],
   "source": [
    "_ = model.eval()\n",
    "interpretable_embedding = configure_interpretable_embedding_layer(model, 'roberta.embeddings')\n",
    "\n",
    "inputs = trainer._prepare_inputs(inputs, model)\n",
    "input_ids, token_type_ids, position_ids, attention_mask, labels = \\\n",
    "    inputs['input_ids'], inputs['token_type_ids'], inputs['position_ids'], inputs['attention_mask'], inputs['labels']\n",
    "input_embeddings = interpretable_embedding.indices_to_embeddings(input_ids, token_type_ids=token_type_ids, position_ids=position_ids)\n",
    "all_tokens = normalize_tokens(tokenizer.convert_ids_to_tokens(input_ids[0]))"
   ]
  },
  {
   "cell_type": "code",
   "execution_count": 164,
   "metadata": {},
   "outputs": [],
   "source": [
    "mask_id = 0\n",
    "layer_attrs = []\n",
    "for i in range(model.config.num_hidden_layers):\n",
    "    lc = LayerIntegratedGradients(mlm_fwd_fn, model.roberta.encoder.layer[i])\n",
    "    attributions = lc.attribute(inputs=input_embeddings, \n",
    "                                additional_forward_args=(token_type_ids, position_ids, attention_mask, labels, mask_id), \n",
    "                                n_steps=20)[0]\n",
    "    layer_attrs.append(summarize_attributions(attributions).cpu().detach().tolist())"
   ]
  },
  {
   "cell_type": "code",
   "execution_count": 165,
   "metadata": {},
   "outputs": [
    {
     "data": {
      "image/png": "[encoded data removed]",
      "text/plain": [
       "<Figure size 1080x360 with 2 Axes>"
      ]
     },
     "metadata": {
      "needs_background": "light"
     },
     "output_type": "display_data"
    }
   ],
   "source": [
    "fig, ax = plt.subplots(figsize=(15,5))\n",
    "xticklabels=all_tokens\n",
    "yticklabels=list(range(model.config.num_hidden_layers))\n",
    "ax = sns.heatmap((np.array(layer_attrs) * 100).astype('int64'), xticklabels=xticklabels, yticklabels=yticklabels, annot=True, fmt='d', linewidth=0.2)\n",
    "# plt.xlabel('Tokens')\n",
    "# plt.ylabel('Layers')\n",
    "plt.show()"
   ]
  },
  {
   "cell_type": "code",
   "execution_count": 171,
   "metadata": {},
   "outputs": [],
   "source": [
    "remove_interpretable_embedding_layer(model, interpretable_embedding)"
   ]
  },
  {
   "cell_type": "code",
   "execution_count": 127,
   "metadata": {
    "scrolled": false
   },
   "outputs": [],
   "source": [
    "_ = model.eval()\n",
    "inputs = trainer._prepare_inputs(inputs, model)\n",
    "with torch.no_grad():\n",
    "    loss, logits, all_hidden_states, all_attentions = model(**inputs, output_hidden_states=True, output_attentions=True)\n",
    "\n",
    "attn_scores, attn_probs = zip(*all_attentions)\n",
    "# attn_scores, attn_probs = torch.stack(attn_scores, dim=0), torch.stack(attn_probs, dim=0)\n",
    "# attn_probs = attn_probs.cpu()"
   ]
  },
  {
   "cell_type": "code",
   "execution_count": 81,
   "metadata": {},
   "outputs": [
    {
     "data": {
      "image/png": "[encoded data removed]",
      "text/plain": [
       "<Figure size 1152x1152 with 4 Axes>"
      ]
     },
     "metadata": {
      "needs_background": "light"
     },
     "output_type": "display_data"
    }
   ],
   "source": [
    "sample_indices = [[0, 1], \n",
    "                  [2, 3]]\n",
    "n_rows, n_cols = len(sample_indices), len(sample_indices[0])\n",
    "fig, axs = plt.subplots(n_rows, n_cols, sharey=False, figsize=(4 * 2 * n_cols, 4 * 2 * n_rows))\n",
    "sep_id = tokenizer._convert_token_to_id('Ġ,')\n",
    "for row in range(n_rows):\n",
    "    for col in range(n_cols):\n",
    "        i, ax = sample_indices[row][col], axs[row][col]\n",
    "        tokens = normalize_tokens(tokenizer.convert_ids_to_tokens(inputs['input_ids'][i]))\n",
    "        \n",
    "        pos_attn = attn_probs[:, i]\n",
    "        pos_attn = pos_attn * (pos_attn > 0.3)\n",
    "#         pos_attn[0] = 0  # layer 0\n",
    "#         pos_attn[1, 1] = 0  # ->pos-2\n",
    "        pos_attn = pos_attn.mean(dim=(0, 1))\n",
    "        input_ids = inputs['input_ids'][i]\n",
    "        sep_pos = (input_ids == sep_id).nonzero()[0].item()\n",
    "        segment_ids = torch.zeros_like(input_ids)\n",
    "        segment_ids[sep_pos + 1:] = 1\n",
    "        segment_mask = segment_ids.unsqueeze(0) != segment_ids.unsqueeze(1)\n",
    "        pos_attn = pos_attn * segment_mask.cpu()\n",
    "        seq_len = inputs['attention_mask'][i].sum().item()\n",
    "        pos_attn[:, [0, 2, seq_len - 1]] = 0\n",
    "        k = torch.arange(1, pos_attn.size(0) - 1)\n",
    "        pos_attn[k, k] = 0\n",
    "        pos_attn[k, k - 1] = 0\n",
    "        pos_attn[k, k + 1] = 0\n",
    "        ax = sns.heatmap((pos_attn * 100).long(), square=True, cbar=False, annot=False, fmt='d', \n",
    "                         xticklabels=tokens, yticklabels=tokens, ax=ax)\n",
    "        \n",
    "#         p, h = inputs['head_mask'][i]\n",
    "#         p, h = p.item(), h.item()\n",
    "#         h = h - 4\n",
    "#         p = p - 1\n",
    "#         pos_attn = attn_probs[:, i, :, h, p]\n",
    "#         pos_attn[-1, -1] = 1.\n",
    "#         ax = sns.heatmap((pos_attn * 100).long(), square=True, cbar=False, annot=True, fmt='d', ax=ax)\n",
    "#         ax.tick_params(top=True, labeltop=True)\n",
    "#         _ = ax.set_xlabel('%s - %s' % (tokens[p], tokens[h]))"
   ]
  },
  {
   "cell_type": "code",
   "execution_count": 78,
   "metadata": {
    "scrolled": false
   },
   "outputs": [
    {
     "data": {
      "image/png": "[encoded data removed]",
      "text/plain": [
       "<Figure size 864x432 with 4 Axes>"
      ]
     },
     "metadata": {
      "needs_background": "light"
     },
     "output_type": "display_data"
    }
   ],
   "source": [
    "i = 0\n",
    "layer, head = 6, 10\n",
    "seq_len = inputs['attention_mask'][i].sum().item()\n",
    "attn =  attn_probs[layer, i, head, : seq_len, : seq_len]\n",
    "tokens = normalize_tokens(tokenizer.convert_ids_to_tokens(inputs['input_ids'][i])[: seq_len])\n",
    "size = round(attn.size(0) / 3)\n",
    "fig, (ax0, ax1) = plt.subplots(1, 2, figsize=(size  * 2., size), gridspec_kw={'width_ratios': [3, 1]})\n",
    "_ = sns.heatmap((attn * 100).long(), square=True, cbar=True, annot=False, fmt='d', xticklabels=tokens, yticklabels=tokens, ax=ax0)\n",
    "plot_head_attn(attn, tokens, ax1=ax1, marked_positions=inputs['head_mask'][i])"
   ]
  },
  {
   "cell_type": "code",
   "execution_count": null,
   "metadata": {},
   "outputs": [],
   "source": []
  }
 ],
 "metadata": {
  "kernelspec": {
   "display_name": "Python 3",
   "language": "python",
   "name": "python3"
  },
  "language_info": {
   "codemirror_mode": {
    "name": "ipython",
    "version": 3
   },
   "file_extension": ".py",
   "mimetype": "text/x-python",
   "name": "python",
   "nbconvert_exporter": "python",
   "pygments_lexer": "ipython3",
   "version": "3.7.5"
  }
 },
 "nbformat": 4,
 "nbformat_minor": 4
}
