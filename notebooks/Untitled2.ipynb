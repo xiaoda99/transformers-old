{
 "cells": [
  {
   "cell_type": "code",
   "execution_count": 1,
   "metadata": {},
   "outputs": [],
   "source": [
    "from IPython import get_ipython\n",
    "%load_ext autoreload\n",
    "%autoreload 2\n",
    "\n",
    "from IPython.core.interactiveshell import InteractiveShell\n",
    "InteractiveShell.ast_node_interactivity = 'all'"
   ]
  },
  {
   "cell_type": "code",
   "execution_count": 105,
   "metadata": {},
   "outputs": [],
   "source": [
    "import sys\n",
    "sys.path.insert(0, '/nas/xd/projects/transformers/src/transformers')\n",
    "import os\n",
    "device_mappings = {0: 1, 1: 5, 2: 6, 3: 7, 4: 2, 5: 3, 6: 0, 7: 4}\n",
    "os.environ[\"CUDA_VISIBLE_DEVICES\"] = str(device_mappings[7])\n",
    "\n",
    "import random\n",
    "import string\n",
    "from collections import defaultdict, OrderedDict\n",
    "from itertools import product, chain\n",
    "import numpy as np\n",
    "from pattern.en import comparative\n",
    "\n",
    "import matplotlib.pyplot as plt\n",
    "import seaborn as sns\n",
    "\n",
    "from captum.attr import IntegratedGradients, LayerConductance, LayerIntegratedGradients\n",
    "from captum.attr import configure_interpretable_embedding_layer, remove_interpretable_embedding_layer"
   ]
  },
  {
   "cell_type": "code",
   "execution_count": 3,
   "metadata": {},
   "outputs": [],
   "source": [
    "import torch\n",
    "from torch import nn\n",
    "import torch.nn.functional as F\n",
    "from torch.nn import CrossEntropyLoss, MSELoss\n",
    "from torch.utils.data.dataset import Dataset\n",
    "from torch.utils.data.dataloader import DataLoader\n",
    "from torch.utils.data.sampler import RandomSampler, Sampler, SequentialSampler\n",
    "from enum import Enum\n",
    "from typing import List, Optional, Union\n",
    "\n",
    "from child_frames import frames\n",
    "from utils import *\n",
    "\n",
    "import logging\n",
    "import os\n",
    "import sys\n",
    "\n",
    "from transformers import HfArgumentParser, Trainer, TrainingArguments, set_seed\n",
    "from transformers import PreTrainedModel, RobertaForMaskedLM, RobertaTokenizer\n",
    "from transformers.modeling_roberta import RobertaForProbing, RobertaDoubleHeadsModel, \\\n",
    "    RobertaDoubleHeadsModel2, RobertaDoubleHeadsModel3  # XD\n",
    "\n",
    "logging.basicConfig(level=logging.ERROR)"
   ]
  },
  {
   "cell_type": "code",
   "execution_count": 5,
   "metadata": {},
   "outputs": [
    {
     "data": {
      "text/plain": [
       "([' _Z is more * uncertain than _X , so _Z is more * uncertain ( same ) ? [ Right ] .',\n",
       "  ' _Z is more * uncertain than _X , so _X is more * confident ( opposite ) ? [ Right ] .',\n",
       "  ' _X is more * confident than _Z , so _Z is more * uncertain ( opposite ) ? [ Right ] .',\n",
       "  ' _X is more * confident than _Z , so _X is more * confident ( same ) ? [ Right ] .',\n",
       "  ' _Z is more * uncertain than _X , so _X is more * uncertain ( same ) ? [ Wrong ] .',\n",
       "  ' _Z is more * uncertain than _X , so _Z is more * confident ( opposite ) ? [ Wrong ] .',\n",
       "  ' _X is more * confident than _Z , so _X is more * uncertain ( opposite ) ? [ Wrong ] .',\n",
       "  ' _X is more * confident than _Z , so _Z is more * confident ( same ) ? [ Wrong ] .'],\n",
       " [' uncertain , uncertain ? same .',\n",
       "  ' confident , confident ? same .',\n",
       "  ' uncertain , confident ? opposite .',\n",
       "  ' confident , uncertain ? opposite .'])"
      ]
     },
     "execution_count": 5,
     "metadata": {},
     "output_type": "execute_result"
    }
   ],
   "source": [
    "A_template = \"{rel_prefix} {dt} {ent0} {rel} {dt} {ent1} {rel_suffix}\"\n",
    "B_template = \"{pred_prefix} {dt} {ent} {pred}\"\n",
    "entailment_templates = [\"{A} ? {conj} , {B} .\", \"{A} , so {B} ? {conj} .\"]\n",
    "\n",
    "markers = {'lexical': '*', 'entity': '#'}\n",
    "\n",
    "def extract_rel_id(s): return int(s[s.index(':') + 1])\n",
    "def extract_rel(s): return [t.split(':')[0] for t in s.split() if ':' in t][0]\n",
    "def strip_rel_id(s, lexical_rel=''):\n",
    "    rel_id_span = s[s.index(':'): s.index(':') + 2]\n",
    "    if lexical_rel != '': lexical_rel = ' ( ' + lexical_rel + ' )'\n",
    "    return s.replace(rel_id_span, lexical_rel)\n",
    "        \n",
    "relation_labels = {'entity': ['former', 'latter'], 'lexical': ['same', 'opposite', 'unrelated']}\n",
    "\n",
    "def make_sentences(entities=['_X', '_Z'], entity_set=string.ascii_uppercase, determiner=\"\",\n",
    "                   relation_group=[[\"confident\",], [\"uncertain\",]], rand_relation_group=[[\"short\"], [\"tall\", \"high\"]],\n",
    "                   relation_prefix=\"\", relation_suffix=\"\", predicate_prefix=\"\",\n",
    "                   n_entity_trials=3, has_negA=True, has_negB=True, has_neutral=False, mask_types={'sent_rel'}, \n",
    "                   lexical_relations=None, entity_relations=None, tag_lexical_rel=False, tag_entity_rel=False):\n",
    "#     if tag_lexical_rel: mask_types.add('lexical_rel')\n",
    "#     if tag_entity_rel: mask_types.add('entity_rel')\n",
    "    def get_comparative(word):\n",
    "        compar = comparative(word)\n",
    "        if tag_lexical_rel:\n",
    "            marker = markers['lexical']\n",
    "            compar = compar.replace('more ', 'more %s ' % marker) if compar.startswith('more ') else marker + ' ' + compar\n",
    "        return compar\n",
    "  \n",
    "    def form_As(relations):\n",
    "        return [A_template.format(dt=determiner, ent0=ent0, ent1=ent1, rel=rel, \n",
    "                                  rel_prefix=relation_prefix, rel_suffix=relation_suffix)\n",
    "              for ent0, ent1, rel in [entities + relations[:1], reverse(entities) + reverse(relations)[:1]]]\n",
    "    As = []\n",
    "    for rel0 in relation_group[0]:\n",
    "        for rel1 in relation_group[1]:\n",
    "            relations = [\"is %s:%d than\" % (get_comparative(rel), i) for i, rel in enumerate([rel0, rel1])]\n",
    "            As += form_As(relations)\n",
    "    As = list(set(As))\n",
    "    negAs = join_lists([negate_sent(A)[:1] for A in As]) if has_negA else []\n",
    "\n",
    "    def form_Bs(predicates): \n",
    "        f = mask if 'entity' in mask_types else (lambda x: x)\n",
    "        return [B_template.format(dt=determiner, ent=f(ent), pred=pred, pred_prefix=predicate_prefix)\n",
    "              for ent, pred in zip(entities, predicates)]\n",
    "\n",
    "    Bs, negBs = {'orig': [], 'rand': []}, {}\n",
    "    for k, group in zip(['orig', 'rand'], [relation_group, rand_relation_group]):\n",
    "        for rel0 in group[0]:\n",
    "            for rel1 in group[1]:\n",
    "                predicates = [\"is %s:%d\" % (get_comparative(rel), i) for i, rel in enumerate([rel0, rel1])]\n",
    "                Bs[k] += form_Bs(predicates)\n",
    "    for k in Bs:\n",
    "        Bs[k] = list(set(Bs[k]))\n",
    "        if has_negB:\n",
    "            negBs[k] = join_lists([negate_sent(B)[:1] for B in Bs[k]])\n",
    "            Bs[k], negBs[k] = Bs[k] + [swap_entities(negB) for negB in negBs[k]], negBs[k] + [swap_entities(B) for B in Bs[k]]\n",
    "        else:\n",
    "            negBs[k] = [swap_entities(B) for B in Bs[k]]\n",
    "      \n",
    "    comparatives = [comparative(r).replace('more ', '') for r in join_lists(relation_group) + join_lists(rand_relation_group)]\n",
    "    def form_sentences(sentence_template, As, Bs, conj):\n",
    "        def compare_and_tag_comparative(A, B):\n",
    "            if 'Maybe' in conj:\n",
    "                lexical_rel = 'unrelated'\n",
    "            else:\n",
    "                lexical_rel = 'same' if extract_rel_id(A) == extract_rel_id(B) else 'opposite'\n",
    "            if lexical_relations and lexical_rel not in lexical_relations:\n",
    "                return None, None\n",
    "            if 'lexical_rel' in mask_types: lexical_rel = mask(lexical_rel)\n",
    "            return strip_rel_id(A), strip_rel_id(B, lexical_rel)\n",
    "#             triple = '%s %s %s' % (extract_rel(A), lexical_rel, extract_rel(B))\n",
    "#             return strip_rel_id(A), strip_rel_id(B), triple\n",
    "        def tag_entity(token, recurred_entity, entity_rel=None):\n",
    "            if token != recurred_entity: return token\n",
    "            return markers['entity'] + ' ' + token\n",
    "#             if token not in entities: return token\n",
    "#             entity_rel = 'paired' if token == recurred_entity else 'single'\n",
    "#             if 'entity_rel' in mask_types: entity_rel = mask(entity_rel)\n",
    "#             return token + ' ( %s )' % entity_rel\n",
    "        def compare_and_tag_entity(A, B):\n",
    "            recurred_entity = [e for e in entities if e in B.split()][0]\n",
    "            A = ' '.join([tag_entity(token, recurred_entity) for token in A.split()])\n",
    "            B = ' '.join([tag_entity(token, recurred_entity) for token in B.split()])\n",
    "            entity_rel = 'former' if A.split().index(recurred_entity) in [0, 1] else 'latter'\n",
    "            if entity_relations and entity_rel not in entity_relations: return None, None\n",
    "            if 'entity_rel' in mask_types: entity_rel = mask(entity_rel)\n",
    "            return A, B.replace(recurred_entity, recurred_entity + ' ( ' + entity_rel + ' )')\n",
    "#             triple = '%s %s %s' % (recurred_entity, entity_rel, recurred_entity)\n",
    "#             return A, B, triple\n",
    "        \n",
    "        if 'sent_rel' in mask_types: conj = mask(conj)\n",
    "        sentences = []\n",
    "        cores = []\n",
    "        for A, B in product(As, Bs):\n",
    "            A, B = compare_and_tag_comparative(A, B) \\\n",
    "                if tag_lexical_rel else (strip_rel_id(A), strip_rel_id(B))\n",
    "            if A is None: continue\n",
    "#             entity_triple = None\n",
    "            if tag_entity_rel: A, B = compare_and_tag_entity(A, B)\n",
    "            if A is None: continue\n",
    "            sent = sentence_template.format(A=A, B=B, conj=conj)\n",
    "#             triples = ' , '.join([t for t in [entity_triple, lexical_triple] if t is not None])\n",
    "#             if triples: sent = sent + ' Hint : ' + triples\n",
    "            sent = \" \" + \" \".join(sent.split())\n",
    "            if True: #for sent_type in sentence_types:\n",
    "                sentences.append(sent)\n",
    "                for rel_type in {'entity', 'lexical'}:\n",
    "                    if not locals()['tag_' + rel_type + '_rel']: continue\n",
    "#                 if 'core' in sent_type:\n",
    "#                     rel_type = sent_type.split('_')[1]\n",
    "#                     assert rel_type in {'entity', 'lexical'}\n",
    "                    the_other_rel_type = ({'entity', 'lexical'} - {rel_type}).pop()\n",
    "                    excluded_tokens = comparatives if rel_type == 'entity' else entities\n",
    "                    # wrong, because it will change the default value of entities!\n",
    "                    # excluded_tokens += ['is', 'not', 'less', 'more', 'than', 'so'] + list(markers.values()) \n",
    "                    excluded_tokens = excluded_tokens + ['is', 'not', 'less', 'more', 'than', 'so'] + list(markers.values())\n",
    "                    core = sent.split('?')[0]\n",
    "                    for span in ['( [ %s ] )' % r for r in relation_labels[the_other_rel_type]]:\n",
    "                        core = core.replace(span, '')\n",
    "                    core = [token for token in core.split() if token not in excluded_tokens]\n",
    "                    core = \" \" + \" \".join(core)\n",
    "                    core = core.replace('(', '?').replace(')', '.')\n",
    "                    cores.append(core)\n",
    "        return sentences, cores\n",
    "    \n",
    "    sentences = defaultdict(list)\n",
    "    cores = defaultdict(list)\n",
    "    for entailment_template in entailment_templates[-1:]:\n",
    "        for A, B, conj in [(As, Bs['orig'], 'Right'), (negAs, negBs['orig'], 'Right'), \n",
    "                           (As, negBs['orig'], 'Wrong'), (negAs, Bs['orig'], 'Wrong'),\n",
    "                           (As, Bs['rand'], 'Maybe'), (negAs, negBs['rand'], 'Maybe'), \n",
    "                           (As, negBs['rand'], 'Maybe'), (negAs, Bs['rand'], 'Maybe')]:\n",
    "            ss, cs = form_sentences(entailment_template, A, B, conj)\n",
    "            sentences[conj] += ss\n",
    "            cores[conj] += cs\n",
    "    assert len(sentences['Right']) == len(sentences['Wrong']), \\\n",
    "        '%d %d' % (len(sentences['Right']), len(sentences['Wrong']))\n",
    "    if has_neutral:\n",
    "        sentences['Maybe'] = random.sample(sentences['Maybe'], len(sentences['Right']))\n",
    "    keys = sentences.keys() if has_neutral else ['Right', 'Wrong']\n",
    "    sentences = join_lists(sentences[k] for k in keys)\n",
    "    \n",
    "    def substitute(templates, n_entity_trials):\n",
    "        substituted_groups = []\n",
    "        for template in templates:\n",
    "            group = []\n",
    "            for _ in range(n_entity_trials):\n",
    "                e0, e1 = random.sample(entity_set, 2)\n",
    "                group.append(template.replace(entities[0], e0).replace(entities[1], e1))\n",
    "            substituted_groups.append(group)\n",
    "        return substituted_groups\n",
    "    \n",
    "    substituted_sent_groups = substitute(sentences, n_entity_trials=n_entity_trials)\n",
    "    cores = list(set(join_lists(cores[k] for k in keys)))\n",
    "    cores = balance(cores, relation_labels)\n",
    "    substituted_core_groups = substitute(cores, n_entity_trials=1)\n",
    "    return sentences, cores, substituted_sent_groups, substituted_core_groups\n",
    "\n",
    "make_sentences(has_negA=False, has_negB=False, has_neutral=False, tag_lexical_rel=True, tag_entity_rel=False,\n",
    "               mask_types={'sent_rel'})[:2] # ,"
   ]
  },
  {
   "cell_type": "code",
   "execution_count": 6,
   "metadata": {},
   "outputs": [],
   "source": [
    "def make_transitive(entities=[\"_X\", \"_Y\", \"_Z\"], entity_set=string.ascii_uppercase,\n",
    "                    relation_group=[[\"confident\", ], [\"uncertain\", ]], n_entity_trials=3,\n",
    "                    has_negP=True, has_negQ=True, has_neutral=False, mask_types=['sent_rel']):\n",
    "    def form_atoms(relations, entities, has_neg=True):\n",
    "        atoms = [P_template.format(ent0=ent0, ent1=ent1, rel=rel) for ent0, ent1, rel in\n",
    "                 [entities + relations[:1], reverse(entities) + reverse(relations)[:1]]]\n",
    "        if has_neg:\n",
    "            neg_rels = [negate_sent(r)[0] for r in relations]\n",
    "            atoms += [P_template.format(ent0=ent0, ent1=ent1, rel=rel) for ent0, ent1, rel in\n",
    "                      [entities + reverse(neg_rels)[:1], reverse(entities) + neg_rels[:1]]]\n",
    "        return atoms\n",
    "\n",
    "    def form_sentences(transitive_template, Ps, Qs, conj):\n",
    "        sentences = []\n",
    "        if 'sent_rel' in mask_types: conj = mask(conj)\n",
    "        for (p0, p1), Q in product(Ps, Qs):\n",
    "            sent = transitive_template.format(p0=strip_rel_id(p0), p1=strip_rel_id(p1),\n",
    "                                              Q=strip_rel_id(Q), conj=conj)\n",
    "            sent = \" \" + \" \".join(sent.split())\n",
    "            sentences.append(sent)\n",
    "        return sentences\n",
    "\n",
    "    def form_all(P0_entities, P1_entities, Q_entities, neutral=False):\n",
    "        P0, P1 = [], []\n",
    "        for rel0 in relation_group[0]:\n",
    "            for rel1 in relation_group[1]:\n",
    "                relations = [\" is %s:%d than\" % (comparative(rel), i)\n",
    "                             for i, rel in enumerate([rel0, rel1])]\n",
    "                P0 += form_atoms(relations, P0_entities, has_neg=has_negP)\n",
    "                P1 += form_atoms(relations, P1_entities, has_neg=has_negP)\n",
    "        Ps = [(p0, p1) for p0, p1 in list(product(P0, P1)) + list(product(P1, P0))]\n",
    "\n",
    "        Qs = form_atoms(relations, Q_entities, has_neg=has_negQ)\n",
    "        negQs = [swap_entities(Q, *Q_entities) for Q in Qs]\n",
    "\n",
    "        for P, Q, conj in [(Ps, Qs, 'Right'), (Ps, negQs, 'Wrong')]:\n",
    "            if neutral: conj = 'Maybe'\n",
    "            sentences[conj] += form_sentences(transitive_template, P, Q, conj)\n",
    "        return sentences\n",
    "\n",
    "    e0, e1, e2 = entities\n",
    "    sentences = defaultdict(list)\n",
    "    form_all(P0_entities=[e0, e1], P1_entities=[e1, e2], Q_entities=[e0, e2])\n",
    "    assert len(sentences['Right']) == len(sentences['Wrong']), \\\n",
    "        '%d %d' % (len(sentences['Right']), len(sentences['Wrong']))\n",
    "    sample_ratio = len(relation_group[0]) * len(relation_group[1])\n",
    "    if sample_ratio > 1:\n",
    "        for key in sentences:\n",
    "            sentences[key] = random.sample(sentences[key], len(sentences[key]) // sample_ratio)\n",
    "#     print('nRight =', len(sentences['Right']))\n",
    "    if has_neutral:\n",
    "        form_all(P0_entities=[e0, e1], P1_entities=[e0, e2], Q_entities=[e1, e2], neutral=True)\n",
    "        sentences['Maybe'] = random.sample(sentences['Maybe'], len(sentences['Right']))\n",
    "    keys = sentences.keys() if has_neutral else ['Right', 'Wrong']\n",
    "    sentences = join_lists(sentences[k] for k in keys)\n",
    "\n",
    "    substituted_sent_groups = []\n",
    "    for sent in sentences:\n",
    "        sent_group = []\n",
    "        for _ in range(n_entity_trials):\n",
    "            e0, e1, e2 = random.sample(entity_set, 3)\n",
    "            sent_group.append(sent.replace(entities[0], e0)\n",
    "                              .replace(entities[1], e1)\n",
    "                              .replace(entities[2], e2))\n",
    "        substituted_sent_groups.append(sent_group)\n",
    "    return sentences, substituted_sent_groups\n",
    "\n",
    "# make_transitive(has_negP=True, has_negQ=True, has_neutral=True, mask_types=['sent_rel'])[1]"
   ]
  },
  {
   "cell_type": "code",
   "execution_count": 7,
   "metadata": {
    "scrolled": true
   },
   "outputs": [],
   "source": [
    "tokenizer_class, shortcut = RobertaTokenizer, 'roberta-base'\n",
    "tokenizer = tokenizer_class.from_pretrained(shortcut)"
   ]
  },
  {
   "cell_type": "code",
   "execution_count": 8,
   "metadata": {},
   "outputs": [],
   "source": [
    "## rand_relation_group=_frames[(i + 1) % len(_frames)], \n",
    "random.seed(42)\n",
    "random.shuffle(frames)\n",
    "entity_set = list(string.ascii_uppercase)\n",
    "random.shuffle(entity_set)\n",
    "split_pct = [0.7, 0.3]"
   ]
  },
  {
   "cell_type": "code",
   "execution_count": 302,
   "metadata": {},
   "outputs": [
    {
     "data": {
      "text/plain": [
       "[' # Y is heavier than J , so # Y ( former ) is heavier ? [ Right ] .',\n",
       " ' O is fewer than # X , so # X ( latter ) is fewer ? [ Wrong ] .',\n",
       " ' T is earlier than # J , so # J ( latter ) is later ? [ Right ] .',\n",
       " ' # B is more inactive than E , so # B ( former ) is more inactive ? [ Right ] .',\n",
       " ' # F is more legal than A , so # F ( former ) is more illegal ? [ Wrong ] .',\n",
       " ' L is more unpopular than # R , so # R ( latter ) is more unpopular ? [ Wrong ] .',\n",
       " ' A is more expensive than # C , so # C ( latter ) is dearer ? [ Wrong ] .',\n",
       " ' X is more favorable than # I , so # I ( latter ) is more favorable ? [ Wrong ] .',\n",
       " ' # J is more comfortable than X , so # J ( former ) is more uncomfortable ? [ Wrong ] .',\n",
       " ' # F is more ignorant than Q , so # F ( former ) is more ignorant ? [ Right ] .']"
      ]
     },
     "execution_count": 302,
     "metadata": {},
     "output_type": "execute_result"
    },
    {
     "name": "stdout",
     "output_type": "stream",
     "text": [
      "nTrain = 2562, nValid = 1122\n"
     ]
    }
   ],
   "source": [
    "tag2id = {'same': 0, 'opposite': 1, 'unrelated': 2, 'former': 0, 'latter': 1, 'another': 5, 'single': 6, 'paired': 7}\n",
    "tag2id = {'Ġ' + k: v for k, v in tag2id.items()}\n",
    "id2tag = {v: k for k, v in tag2id.items()}\n",
    "\n",
    "n_entity_trials = 3\n",
    "kwargs = {'n_entity_trials': n_entity_trials, 'has_neutral': False, 'has_negA': False, 'has_negB': False, \n",
    "          'tag_lexical_rel': False, 'tag_entity_rel': True, 'mask_types': {'sent_rel',}}\n",
    "train_lines, eval_lines = [[make_sentences(relation_group=rg, entity_set=_ent_set, **kwargs)[2] for i, rg in enumerate(_frames)]\n",
    "                           for _frames, _ent_set in zip(split(frames, split_pct), split(entity_set, split_pct))]\n",
    "random.sample(flatten(train_lines), 10)\n",
    "# all_lines = [make_transitive(relation_group=rg, n_entity_trials=n_entity_trials,\n",
    "#                              has_negP=True, has_negQ=True, has_neutral=True, mask_types=['sent_rel'])[1]\n",
    "#              for i, rg in enumerate(frames)]\n",
    "# all_lines = join_lists(all_lines)\n",
    "# all_lines = join_lists(all_lines)\n",
    "tokenizer.tag2id, tokenizer.id2tag = tag2id, id2tag\n",
    "# for k in CHILDDataset.all_lines: CHILDDataset.all_lines[k] = None\n",
    "kwargs = {'has_tags': True, 'max_noise_len': 0, 'n_replicas': 1}\n",
    "train_dataset = CHILDDataset(train_lines, tokenizer, mode='train', **kwargs)\n",
    "eval_dataset = CHILDDataset(eval_lines, tokenizer, mode='dev', **kwargs)\n",
    "print('nTrain = %d, nValid = %d' % (len(train_dataset), len(eval_dataset)))"
   ]
  },
  {
   "cell_type": "code",
   "execution_count": 360,
   "metadata": {},
   "outputs": [
    {
     "data": {
      "application/vnd.jupyter.widget-view+json": {
       "model_id": "2afdcf50a65f4675b8d6a50b38e0753a",
       "version_major": 2,
       "version_minor": 0
      },
      "text/plain": [
       "HBox(children=(FloatProgress(value=0.0, description='Epoch', max=10.0, style=ProgressStyle(description_width='…"
      ]
     },
     "metadata": {},
     "output_type": "display_data"
    },
    {
     "data": {
      "application/vnd.jupyter.widget-view+json": {
       "model_id": "005093ab3d4c464ea00d774225b299c1",
       "version_major": 2,
       "version_minor": 0
      },
      "text/plain": [
       "HBox(children=(FloatProgress(value=0.0, description='Iteration', max=81.0, style=ProgressStyle(description_wid…"
      ]
     },
     "metadata": {},
     "output_type": "display_data"
    },
    {
     "name": "stdout",
     "output_type": "stream",
     "text": [
      "\n"
     ]
    },
    {
     "data": {
      "application/vnd.jupyter.widget-view+json": {
       "model_id": "f6368f125c0f4e1d82a85ead400f6107",
       "version_major": 2,
       "version_minor": 0
      },
      "text/plain": [
       "HBox(children=(FloatProgress(value=0.0, description='Iteration', max=81.0, style=ProgressStyle(description_wid…"
      ]
     },
     "metadata": {},
     "output_type": "display_data"
    },
    {
     "name": "stdout",
     "output_type": "stream",
     "text": [
      "{'loss': 0.606487, 'learning_rate': 0.00017530864197530866, 'epoch': 1.235, 'step': 100}\n"
     ]
    },
    {
     "data": {
      "application/vnd.jupyter.widget-view+json": {
       "model_id": "00f78f1f40084311b67a987f8ab87e42",
       "version_major": 2,
       "version_minor": 0
      },
      "text/plain": [
       "HBox(children=(FloatProgress(value=0.0, description='Evaluation', max=18.0, style=ProgressStyle(description_wi…"
      ]
     },
     "metadata": {},
     "output_type": "display_data"
    },
    {
     "name": "stdout",
     "output_type": "stream",
     "text": [
      "\n",
      "{'eval_loss': 0.520589, 'eval_acc_0': 0.893, 'eval_acc_tc0': 0.5, 'eval_acc_tc1': 0.5, 'eval_acc_tc2': 0.5, 'eval_acc_tc3': 0.504, 'eval_acc_tc4': 0.5, 'eval_acc_tc5': 0.504, 'eval_acc_tc6': 0.5, 'eval_acc_tc7': 0.53, 'eval_acc_tc8': 0.591, 'eval_acc_tc9': 0.501, 'eval_acc_tc10': 0.5, 'eval_acc_tc11': 0.506, 'eval_acc_tc12': 0.5, 'eval_acc_tc13': 0.541, 'eval_acc_tc14': 0.515, 'eval_acc_tc15': 0.58, 'eval_acc_tc16': 0.502, 'eval_acc_tc17': 0.5, 'eval_acc_tc18': 0.511, 'eval_acc_tc19': 0.724, 'eval_acc_tc20': 0.619, 'eval_acc_tc21': 0.832, 'eval_acc_tc22': 0.5, 'eval_acc_tc23': 0.501, 'eval_acc_tc24': 0.5, 'eval_acc_tc25': 0.911, 'eval_acc_tc26': 0.893, 'eval_acc_tc27': 0.896, 'eval_acc_tc28': 0.5, 'eval_acc_tc29': 0.503, 'eval_acc_tc30': 0.5, 'eval_acc_tc31': 0.99, 'eval_acc_tc32': 0.99, 'eval_acc_tc33': 0.975, 'eval_acc_tc34': 0.623, 'eval_acc_tc35': 0.517, 'eval_acc_tc36': 0.5, 'eval_acc_tc37': 0.988, 'eval_acc_tc38': 0.925, 'eval_acc_tc39': 0.951, 'eval_acc_tc40': 0.869, 'eval_acc_tc41': 0.931, 'eval_acc_tc42': 0.5, 'eval_acc_tc43': 0.989, 'eval_acc_tc44': 0.96, 'eval_acc_tc45': 0.951, 'eval_acc_tc46': 0.873, 'eval_acc_tc47': 0.882, 'eval_acc_tc48': 0.779, 'eval_acc_tc49': 0.981, 'eval_acc_tc50': 0.989, 'eval_acc_tc51': 0.934, 'eval_acc_tc52': 0.864, 'eval_acc_tc53': 0.908, 'eval_acc_tc54': 0.744, 'eval_acc_tc55': 0.96, 'eval_acc_tc56': 0.971, 'eval_acc_tc57': 0.96, 'eval_acc_tc58': 0.831, 'eval_acc_tc59': 0.895, 'epoch': 1.235, 'step': 100}\n",
      "\n"
     ]
    },
    {
     "data": {
      "application/vnd.jupyter.widget-view+json": {
       "model_id": "4a8cca8d95294fb69044135758af9270",
       "version_major": 2,
       "version_minor": 0
      },
      "text/plain": [
       "HBox(children=(FloatProgress(value=0.0, description='Iteration', max=81.0, style=ProgressStyle(description_wid…"
      ]
     },
     "metadata": {},
     "output_type": "display_data"
    },
    {
     "name": "stdout",
     "output_type": "stream",
     "text": [
      "{'loss': 0.521661, 'learning_rate': 0.0001506172839506173, 'epoch': 2.469, 'step': 200}\n"
     ]
    },
    {
     "data": {
      "application/vnd.jupyter.widget-view+json": {
       "model_id": "95e900ca2396497fa16973c7146902fc",
       "version_major": 2,
       "version_minor": 0
      },
      "text/plain": [
       "HBox(children=(FloatProgress(value=0.0, description='Evaluation', max=18.0, style=ProgressStyle(description_wi…"
      ]
     },
     "metadata": {},
     "output_type": "display_data"
    },
    {
     "name": "stdout",
     "output_type": "stream",
     "text": [
      "\n",
      "{'eval_loss': 0.467407, 'eval_acc_0': 0.894, 'eval_acc_tc0': 0.497, 'eval_acc_tc1': 0.497, 'eval_acc_tc2': 0.499, 'eval_acc_tc3': 0.497, 'eval_acc_tc4': 0.497, 'eval_acc_tc5': 0.497, 'eval_acc_tc6': 0.497, 'eval_acc_tc7': 0.755, 'eval_acc_tc8': 0.97, 'eval_acc_tc9': 0.527, 'eval_acc_tc10': 0.532, 'eval_acc_tc11': 0.497, 'eval_acc_tc12': 0.497, 'eval_acc_tc13': 0.856, 'eval_acc_tc14': 0.883, 'eval_acc_tc15': 0.952, 'eval_acc_tc16': 0.5, 'eval_acc_tc17': 0.497, 'eval_acc_tc18': 0.497, 'eval_acc_tc19': 0.989, 'eval_acc_tc20': 0.97, 'eval_acc_tc21': 0.914, 'eval_acc_tc22': 0.609, 'eval_acc_tc23': 0.507, 'eval_acc_tc24': 0.497, 'eval_acc_tc25': 0.992, 'eval_acc_tc26': 0.972, 'eval_acc_tc27': 0.964, 'eval_acc_tc28': 0.957, 'eval_acc_tc29': 0.985, 'eval_acc_tc30': 0.497, 'eval_acc_tc31': 0.997, 'eval_acc_tc32': 0.995, 'eval_acc_tc33': 0.992, 'eval_acc_tc34': 0.86, 'eval_acc_tc35': 0.901, 'eval_acc_tc36': 0.497, 'eval_acc_tc37': 0.999, 'eval_acc_tc38': 0.987, 'eval_acc_tc39': 0.995, 'eval_acc_tc40': 0.988, 'eval_acc_tc41': 0.914, 'eval_acc_tc42': 0.503, 'eval_acc_tc43': 1.0, 'eval_acc_tc44': 0.997, 'eval_acc_tc45': 0.995, 'eval_acc_tc46': 0.92, 'eval_acc_tc47': 0.937, 'eval_acc_tc48': 0.837, 'eval_acc_tc49': 1.0, 'eval_acc_tc50': 1.0, 'eval_acc_tc51': 0.994, 'eval_acc_tc52': 0.952, 'eval_acc_tc53': 0.979, 'eval_acc_tc54': 0.889, 'eval_acc_tc55': 0.997, 'eval_acc_tc56': 0.997, 'eval_acc_tc57': 0.996, 'eval_acc_tc58': 0.922, 'eval_acc_tc59': 0.978, 'epoch': 2.469, 'step': 200}\n",
      "\n"
     ]
    },
    {
     "data": {
      "application/vnd.jupyter.widget-view+json": {
       "model_id": "6b39a821fd144de8834d9db4066db04d",
       "version_major": 2,
       "version_minor": 0
      },
      "text/plain": [
       "HBox(children=(FloatProgress(value=0.0, description='Iteration', max=81.0, style=ProgressStyle(description_wid…"
      ]
     },
     "metadata": {},
     "output_type": "display_data"
    },
    {
     "name": "stdout",
     "output_type": "stream",
     "text": [
      "{'loss': 0.487561, 'learning_rate': 0.00012592592592592592, 'epoch': 3.704, 'step': 300}\n"
     ]
    },
    {
     "data": {
      "application/vnd.jupyter.widget-view+json": {
       "model_id": "ecc6d50bcf5248b08695310a99b5569c",
       "version_major": 2,
       "version_minor": 0
      },
      "text/plain": [
       "HBox(children=(FloatProgress(value=0.0, description='Evaluation', max=18.0, style=ProgressStyle(description_wi…"
      ]
     },
     "metadata": {},
     "output_type": "display_data"
    },
    {
     "name": "stdout",
     "output_type": "stream",
     "text": [
      "\n",
      "{'eval_loss': 0.44103, 'eval_acc_0': 0.892, 'eval_acc_tc0': 0.491, 'eval_acc_tc1': 0.492, 'eval_acc_tc2': 0.498, 'eval_acc_tc3': 0.501, 'eval_acc_tc4': 0.496, 'eval_acc_tc5': 0.498, 'eval_acc_tc6': 0.498, 'eval_acc_tc7': 0.815, 'eval_acc_tc8': 0.986, 'eval_acc_tc9': 0.592, 'eval_acc_tc10': 0.503, 'eval_acc_tc11': 0.498, 'eval_acc_tc12': 0.496, 'eval_acc_tc13': 0.917, 'eval_acc_tc14': 0.949, 'eval_acc_tc15': 0.977, 'eval_acc_tc16': 0.501, 'eval_acc_tc17': 0.516, 'eval_acc_tc18': 0.497, 'eval_acc_tc19': 0.992, 'eval_acc_tc20': 0.968, 'eval_acc_tc21': 0.947, 'eval_acc_tc22': 0.603, 'eval_acc_tc23': 0.612, 'eval_acc_tc24': 0.502, 'eval_acc_tc25': 0.993, 'eval_acc_tc26': 0.982, 'eval_acc_tc27': 0.986, 'eval_acc_tc28': 0.971, 'eval_acc_tc29': 0.99, 'eval_acc_tc30': 0.498, 'eval_acc_tc31': 0.997, 'eval_acc_tc32': 0.995, 'eval_acc_tc33': 0.991, 'eval_acc_tc34': 0.87, 'eval_acc_tc35': 0.947, 'eval_acc_tc36': 0.498, 'eval_acc_tc37': 0.999, 'eval_acc_tc38': 0.994, 'eval_acc_tc39': 0.998, 'eval_acc_tc40': 0.986, 'eval_acc_tc41': 0.922, 'eval_acc_tc42': 0.502, 'eval_acc_tc43': 1.0, 'eval_acc_tc44': 0.997, 'eval_acc_tc45': 0.997, 'eval_acc_tc46': 0.941, 'eval_acc_tc47': 0.949, 'eval_acc_tc48': 0.838, 'eval_acc_tc49': 1.0, 'eval_acc_tc50': 1.0, 'eval_acc_tc51': 0.998, 'eval_acc_tc52': 0.965, 'eval_acc_tc53': 0.99, 'eval_acc_tc54': 0.851, 'eval_acc_tc55': 1.0, 'eval_acc_tc56': 0.997, 'eval_acc_tc57': 0.998, 'eval_acc_tc58': 0.95, 'eval_acc_tc59': 0.987, 'epoch': 3.704, 'step': 300}\n",
      "\n"
     ]
    },
    {
     "data": {
      "application/vnd.jupyter.widget-view+json": {
       "model_id": "18d08bf43106406ea413c3a6b248fc33",
       "version_major": 2,
       "version_minor": 0
      },
      "text/plain": [
       "HBox(children=(FloatProgress(value=0.0, description='Iteration', max=81.0, style=ProgressStyle(description_wid…"
      ]
     },
     "metadata": {},
     "output_type": "display_data"
    },
    {
     "name": "stdout",
     "output_type": "stream",
     "text": [
      "{'loss': 0.470445, 'learning_rate': 0.00010123456790123458, 'epoch': 4.938, 'step': 400}\n"
     ]
    },
    {
     "data": {
      "application/vnd.jupyter.widget-view+json": {
       "model_id": "400bf4cf11184524b3d5e95d6350459c",
       "version_major": 2,
       "version_minor": 0
      },
      "text/plain": [
       "HBox(children=(FloatProgress(value=0.0, description='Evaluation', max=18.0, style=ProgressStyle(description_wi…"
      ]
     },
     "metadata": {},
     "output_type": "display_data"
    },
    {
     "name": "stdout",
     "output_type": "stream",
     "text": [
      "\n",
      "{'eval_loss': 0.424646, 'eval_acc_0': 0.894, 'eval_acc_tc0': 0.5, 'eval_acc_tc1': 0.486, 'eval_acc_tc2': 0.491, 'eval_acc_tc3': 0.498, 'eval_acc_tc4': 0.501, 'eval_acc_tc5': 0.497, 'eval_acc_tc6': 0.499, 'eval_acc_tc7': 0.835, 'eval_acc_tc8': 0.979, 'eval_acc_tc9': 0.567, 'eval_acc_tc10': 0.564, 'eval_acc_tc11': 0.563, 'eval_acc_tc12': 0.499, 'eval_acc_tc13': 0.904, 'eval_acc_tc14': 0.879, 'eval_acc_tc15': 0.964, 'eval_acc_tc16': 0.541, 'eval_acc_tc17': 0.539, 'eval_acc_tc18': 0.499, 'eval_acc_tc19': 0.984, 'eval_acc_tc20': 0.962, 'eval_acc_tc21': 0.972, 'eval_acc_tc22': 0.556, 'eval_acc_tc23': 0.739, 'eval_acc_tc24': 0.505, 'eval_acc_tc25': 0.992, 'eval_acc_tc26': 0.984, 'eval_acc_tc27': 0.986, 'eval_acc_tc28': 0.928, 'eval_acc_tc29': 0.924, 'eval_acc_tc30': 0.501, 'eval_acc_tc31': 0.997, 'eval_acc_tc32': 0.995, 'eval_acc_tc33': 0.997, 'eval_acc_tc34': 0.915, 'eval_acc_tc35': 0.97, 'eval_acc_tc36': 0.503, 'eval_acc_tc37': 1.0, 'eval_acc_tc38': 0.995, 'eval_acc_tc39': 1.0, 'eval_acc_tc40': 0.99, 'eval_acc_tc41': 0.944, 'eval_acc_tc42': 0.501, 'eval_acc_tc43': 1.0, 'eval_acc_tc44': 1.0, 'eval_acc_tc45': 0.997, 'eval_acc_tc46': 0.949, 'eval_acc_tc47': 0.955, 'eval_acc_tc48': 0.84, 'eval_acc_tc49': 1.0, 'eval_acc_tc50': 1.0, 'eval_acc_tc51': 1.0, 'eval_acc_tc52': 0.98, 'eval_acc_tc53': 0.996, 'eval_acc_tc54': 0.826, 'eval_acc_tc55': 1.0, 'eval_acc_tc56': 1.0, 'eval_acc_tc57': 0.998, 'eval_acc_tc58': 0.96, 'eval_acc_tc59': 0.997, 'epoch': 4.938, 'step': 400}\n",
      "\n"
     ]
    },
    {
     "data": {
      "application/vnd.jupyter.widget-view+json": {
       "model_id": "d22187fbee6e45c0a398d2b16268670d",
       "version_major": 2,
       "version_minor": 0
      },
      "text/plain": [
       "HBox(children=(FloatProgress(value=0.0, description='Iteration', max=81.0, style=ProgressStyle(description_wid…"
      ]
     },
     "metadata": {},
     "output_type": "display_data"
    },
    {
     "name": "stdout",
     "output_type": "stream",
     "text": [
      "\n"
     ]
    },
    {
     "data": {
      "application/vnd.jupyter.widget-view+json": {
       "model_id": "a7448c25f7684c198b9582430d3785ee",
       "version_major": 2,
       "version_minor": 0
      },
      "text/plain": [
       "HBox(children=(FloatProgress(value=0.0, description='Iteration', max=81.0, style=ProgressStyle(description_wid…"
      ]
     },
     "metadata": {},
     "output_type": "display_data"
    },
    {
     "name": "stdout",
     "output_type": "stream",
     "text": [
      "{'loss': 0.459301, 'learning_rate': 7.65432098765432e-05, 'epoch': 6.173, 'step': 500}\n"
     ]
    },
    {
     "data": {
      "application/vnd.jupyter.widget-view+json": {
       "model_id": "01d17f4da6e44e61803925bcf749e10f",
       "version_major": 2,
       "version_minor": 0
      },
      "text/plain": [
       "HBox(children=(FloatProgress(value=0.0, description='Evaluation', max=18.0, style=ProgressStyle(description_wi…"
      ]
     },
     "metadata": {},
     "output_type": "display_data"
    },
    {
     "name": "stdout",
     "output_type": "stream",
     "text": [
      "\n",
      "{'eval_loss': 0.41742, 'eval_acc_0': 0.894, 'eval_acc_tc0': 0.502, 'eval_acc_tc1': 0.502, 'eval_acc_tc2': 0.502, 'eval_acc_tc3': 0.508, 'eval_acc_tc4': 0.502, 'eval_acc_tc5': 0.502, 'eval_acc_tc6': 0.502, 'eval_acc_tc7': 0.553, 'eval_acc_tc8': 0.897, 'eval_acc_tc9': 0.502, 'eval_acc_tc10': 0.502, 'eval_acc_tc11': 0.502, 'eval_acc_tc12': 0.502, 'eval_acc_tc13': 0.624, 'eval_acc_tc14': 0.689, 'eval_acc_tc15': 0.889, 'eval_acc_tc16': 0.502, 'eval_acc_tc17': 0.502, 'eval_acc_tc18': 0.502, 'eval_acc_tc19': 0.954, 'eval_acc_tc20': 0.899, 'eval_acc_tc21': 0.965, 'eval_acc_tc22': 0.502, 'eval_acc_tc23': 0.502, 'eval_acc_tc24': 0.502, 'eval_acc_tc25': 0.975, 'eval_acc_tc26': 0.97, 'eval_acc_tc27': 0.975, 'eval_acc_tc28': 0.814, 'eval_acc_tc29': 0.633, 'eval_acc_tc30': 0.502, 'eval_acc_tc31': 0.997, 'eval_acc_tc32': 0.994, 'eval_acc_tc33': 0.997, 'eval_acc_tc34': 0.834, 'eval_acc_tc35': 0.822, 'eval_acc_tc36': 0.502, 'eval_acc_tc37': 1.0, 'eval_acc_tc38': 0.994, 'eval_acc_tc39': 1.0, 'eval_acc_tc40': 0.978, 'eval_acc_tc41': 0.961, 'eval_acc_tc42': 0.502, 'eval_acc_tc43': 1.0, 'eval_acc_tc44': 0.999, 'eval_acc_tc45': 0.997, 'eval_acc_tc46': 0.936, 'eval_acc_tc47': 0.954, 'eval_acc_tc48': 0.807, 'eval_acc_tc49': 1.0, 'eval_acc_tc50': 1.0, 'eval_acc_tc51': 1.0, 'eval_acc_tc52': 0.97, 'eval_acc_tc53': 0.994, 'eval_acc_tc54': 0.757, 'eval_acc_tc55': 1.0, 'eval_acc_tc56': 1.0, 'eval_acc_tc57': 0.998, 'eval_acc_tc58': 0.958, 'eval_acc_tc59': 0.997, 'epoch': 6.173, 'step': 500}\n",
      "\n"
     ]
    },
    {
     "data": {
      "application/vnd.jupyter.widget-view+json": {
       "model_id": "a2d1ca50ccf340e895d7bfc663e6a200",
       "version_major": 2,
       "version_minor": 0
      },
      "text/plain": [
       "HBox(children=(FloatProgress(value=0.0, description='Iteration', max=81.0, style=ProgressStyle(description_wid…"
      ]
     },
     "metadata": {},
     "output_type": "display_data"
    },
    {
     "name": "stdout",
     "output_type": "stream",
     "text": [
      "{'loss': 0.450642, 'learning_rate': 5.185185185185185e-05, 'epoch': 7.407, 'step': 600}\n"
     ]
    },
    {
     "data": {
      "application/vnd.jupyter.widget-view+json": {
       "model_id": "6003b4fe9d1e4e35a9669b14815a9d11",
       "version_major": 2,
       "version_minor": 0
      },
      "text/plain": [
       "HBox(children=(FloatProgress(value=0.0, description='Evaluation', max=18.0, style=ProgressStyle(description_wi…"
      ]
     },
     "metadata": {},
     "output_type": "display_data"
    },
    {
     "name": "stdout",
     "output_type": "stream",
     "text": [
      "\n",
      "{'eval_loss': 0.406578, 'eval_acc_0': 0.894, 'eval_acc_tc0': 0.496, 'eval_acc_tc1': 0.509, 'eval_acc_tc2': 0.49, 'eval_acc_tc3': 0.497, 'eval_acc_tc4': 0.495, 'eval_acc_tc5': 0.487, 'eval_acc_tc6': 0.496, 'eval_acc_tc7': 0.831, 'eval_acc_tc8': 0.986, 'eval_acc_tc9': 0.62, 'eval_acc_tc10': 0.563, 'eval_acc_tc11': 0.539, 'eval_acc_tc12': 0.498, 'eval_acc_tc13': 0.879, 'eval_acc_tc14': 0.901, 'eval_acc_tc15': 0.979, 'eval_acc_tc16': 0.616, 'eval_acc_tc17': 0.66, 'eval_acc_tc18': 0.498, 'eval_acc_tc19': 0.995, 'eval_acc_tc20': 0.964, 'eval_acc_tc21': 0.988, 'eval_acc_tc22': 0.533, 'eval_acc_tc23': 0.799, 'eval_acc_tc24': 0.639, 'eval_acc_tc25': 0.994, 'eval_acc_tc26': 0.985, 'eval_acc_tc27': 0.991, 'eval_acc_tc28': 0.938, 'eval_acc_tc29': 0.944, 'eval_acc_tc30': 0.498, 'eval_acc_tc31': 0.997, 'eval_acc_tc32': 0.995, 'eval_acc_tc33': 1.0, 'eval_acc_tc34': 0.913, 'eval_acc_tc35': 0.977, 'eval_acc_tc36': 0.498, 'eval_acc_tc37': 1.0, 'eval_acc_tc38': 0.999, 'eval_acc_tc39': 1.0, 'eval_acc_tc40': 0.99, 'eval_acc_tc41': 0.947, 'eval_acc_tc42': 0.704, 'eval_acc_tc43': 1.0, 'eval_acc_tc44': 1.0, 'eval_acc_tc45': 0.997, 'eval_acc_tc46': 0.965, 'eval_acc_tc47': 0.97, 'eval_acc_tc48': 0.844, 'eval_acc_tc49': 1.0, 'eval_acc_tc50': 1.0, 'eval_acc_tc51': 1.0, 'eval_acc_tc52': 0.994, 'eval_acc_tc53': 0.999, 'eval_acc_tc54': 0.816, 'eval_acc_tc55': 1.0, 'eval_acc_tc56': 1.0, 'eval_acc_tc57': 0.998, 'eval_acc_tc58': 0.982, 'eval_acc_tc59': 0.997, 'epoch': 7.407, 'step': 600}\n",
      "\n"
     ]
    },
    {
     "data": {
      "application/vnd.jupyter.widget-view+json": {
       "model_id": "c393468d355143d0be40fb86ac2a97a6",
       "version_major": 2,
       "version_minor": 0
      },
      "text/plain": [
       "HBox(children=(FloatProgress(value=0.0, description='Iteration', max=81.0, style=ProgressStyle(description_wid…"
      ]
     },
     "metadata": {},
     "output_type": "display_data"
    },
    {
     "name": "stdout",
     "output_type": "stream",
     "text": [
      "{'loss': 0.44468, 'learning_rate': 2.7160493827160493e-05, 'epoch': 8.642, 'step': 700}\n"
     ]
    },
    {
     "data": {
      "application/vnd.jupyter.widget-view+json": {
       "model_id": "ba5058057e814cb4895799fe2fa0b9eb",
       "version_major": 2,
       "version_minor": 0
      },
      "text/plain": [
       "HBox(children=(FloatProgress(value=0.0, description='Evaluation', max=18.0, style=ProgressStyle(description_wi…"
      ]
     },
     "metadata": {},
     "output_type": "display_data"
    },
    {
     "name": "stdout",
     "output_type": "stream",
     "text": [
      "\n",
      "{'eval_loss': 0.402984, 'eval_acc_0': 0.894, 'eval_acc_tc0': 0.5, 'eval_acc_tc1': 0.505, 'eval_acc_tc2': 0.491, 'eval_acc_tc3': 0.5, 'eval_acc_tc4': 0.502, 'eval_acc_tc5': 0.51, 'eval_acc_tc6': 0.482, 'eval_acc_tc7': 0.866, 'eval_acc_tc8': 0.995, 'eval_acc_tc9': 0.65, 'eval_acc_tc10': 0.592, 'eval_acc_tc11': 0.565, 'eval_acc_tc12': 0.497, 'eval_acc_tc13': 0.914, 'eval_acc_tc14': 0.946, 'eval_acc_tc15': 0.977, 'eval_acc_tc16': 0.577, 'eval_acc_tc17': 0.738, 'eval_acc_tc18': 0.499, 'eval_acc_tc19': 0.996, 'eval_acc_tc20': 0.968, 'eval_acc_tc21': 0.988, 'eval_acc_tc22': 0.607, 'eval_acc_tc23': 0.817, 'eval_acc_tc24': 0.787, 'eval_acc_tc25': 0.995, 'eval_acc_tc26': 0.987, 'eval_acc_tc27': 0.992, 'eval_acc_tc28': 0.97, 'eval_acc_tc29': 0.951, 'eval_acc_tc30': 0.974, 'eval_acc_tc31': 0.997, 'eval_acc_tc32': 0.995, 'eval_acc_tc33': 0.998, 'eval_acc_tc34': 0.913, 'eval_acc_tc35': 0.984, 'eval_acc_tc36': 0.888, 'eval_acc_tc37': 1.0, 'eval_acc_tc38': 0.998, 'eval_acc_tc39': 1.0, 'eval_acc_tc40': 0.99, 'eval_acc_tc41': 0.947, 'eval_acc_tc42': 0.697, 'eval_acc_tc43': 1.0, 'eval_acc_tc44': 1.0, 'eval_acc_tc45': 0.997, 'eval_acc_tc46': 0.967, 'eval_acc_tc47': 0.966, 'eval_acc_tc48': 0.839, 'eval_acc_tc49': 1.0, 'eval_acc_tc50': 1.0, 'eval_acc_tc51': 1.0, 'eval_acc_tc52': 0.995, 'eval_acc_tc53': 0.997, 'eval_acc_tc54': 0.799, 'eval_acc_tc55': 1.0, 'eval_acc_tc56': 1.0, 'eval_acc_tc57': 0.998, 'eval_acc_tc58': 0.985, 'eval_acc_tc59': 0.997, 'epoch': 8.642, 'step': 700}\n",
      "\n"
     ]
    },
    {
     "data": {
      "application/vnd.jupyter.widget-view+json": {
       "model_id": "f3440999b8884e79ac43416c18fd8d0f",
       "version_major": 2,
       "version_minor": 0
      },
      "text/plain": [
       "HBox(children=(FloatProgress(value=0.0, description='Iteration', max=81.0, style=ProgressStyle(description_wid…"
      ]
     },
     "metadata": {},
     "output_type": "display_data"
    },
    {
     "name": "stdout",
     "output_type": "stream",
     "text": [
      "{'loss': 0.441511, 'learning_rate': 2.469135802469136e-06, 'epoch': 9.877, 'step': 800}\n"
     ]
    },
    {
     "data": {
      "application/vnd.jupyter.widget-view+json": {
       "model_id": "e954c9cf80f44c41ade7a920f1dd4948",
       "version_major": 2,
       "version_minor": 0
      },
      "text/plain": [
       "HBox(children=(FloatProgress(value=0.0, description='Evaluation', max=18.0, style=ProgressStyle(description_wi…"
      ]
     },
     "metadata": {},
     "output_type": "display_data"
    },
    {
     "name": "stdout",
     "output_type": "stream",
     "text": [
      "\n",
      "{'eval_loss': 0.401754, 'eval_acc_0': 0.894, 'eval_acc_tc0': 0.499, 'eval_acc_tc1': 0.497, 'eval_acc_tc2': 0.489, 'eval_acc_tc3': 0.497, 'eval_acc_tc4': 0.5, 'eval_acc_tc5': 0.486, 'eval_acc_tc6': 0.497, 'eval_acc_tc7': 0.83, 'eval_acc_tc8': 0.99, 'eval_acc_tc9': 0.593, 'eval_acc_tc10': 0.542, 'eval_acc_tc11': 0.573, 'eval_acc_tc12': 0.499, 'eval_acc_tc13': 0.887, 'eval_acc_tc14': 0.892, 'eval_acc_tc15': 0.972, 'eval_acc_tc16': 0.65, 'eval_acc_tc17': 0.542, 'eval_acc_tc18': 0.5, 'eval_acc_tc19': 0.992, 'eval_acc_tc20': 0.964, 'eval_acc_tc21': 0.989, 'eval_acc_tc22': 0.516, 'eval_acc_tc23': 0.71, 'eval_acc_tc24': 0.504, 'eval_acc_tc25': 0.99, 'eval_acc_tc26': 0.984, 'eval_acc_tc27': 0.991, 'eval_acc_tc28': 0.939, 'eval_acc_tc29': 0.932, 'eval_acc_tc30': 0.499, 'eval_acc_tc31': 0.997, 'eval_acc_tc32': 0.995, 'eval_acc_tc33': 0.999, 'eval_acc_tc34': 0.911, 'eval_acc_tc35': 0.971, 'eval_acc_tc36': 0.6, 'eval_acc_tc37': 1.0, 'eval_acc_tc38': 0.997, 'eval_acc_tc39': 1.0, 'eval_acc_tc40': 0.989, 'eval_acc_tc41': 0.955, 'eval_acc_tc42': 0.667, 'eval_acc_tc43': 1.0, 'eval_acc_tc44': 1.0, 'eval_acc_tc45': 0.997, 'eval_acc_tc46': 0.969, 'eval_acc_tc47': 0.966, 'eval_acc_tc48': 0.84, 'eval_acc_tc49': 1.0, 'eval_acc_tc50': 1.0, 'eval_acc_tc51': 1.0, 'eval_acc_tc52': 0.995, 'eval_acc_tc53': 0.997, 'eval_acc_tc54': 0.792, 'eval_acc_tc55': 1.0, 'eval_acc_tc56': 1.0, 'eval_acc_tc57': 0.998, 'eval_acc_tc58': 0.982, 'eval_acc_tc59': 0.997, 'epoch': 9.877, 'step': 800}\n",
      "\n",
      "\n"
     ]
    },
    {
     "data": {
      "application/vnd.jupyter.widget-view+json": {
       "model_id": "162d8a941eed413d8b12a9a2c68971d9",
       "version_major": 2,
       "version_minor": 0
      },
      "text/plain": [
       "HBox(children=(FloatProgress(value=0.0, description='Evaluation', max=18.0, style=ProgressStyle(description_wi…"
      ]
     },
     "metadata": {},
     "output_type": "display_data"
    },
    {
     "name": "stdout",
     "output_type": "stream",
     "text": [
      "\n",
      "{'eval_loss': 0.401869, 'eval_acc_0': 0.894, 'eval_acc_tc0': 0.501, 'eval_acc_tc1': 0.501, 'eval_acc_tc2': 0.488, 'eval_acc_tc3': 0.497, 'eval_acc_tc4': 0.503, 'eval_acc_tc5': 0.486, 'eval_acc_tc6': 0.499, 'eval_acc_tc7': 0.835, 'eval_acc_tc8': 0.99, 'eval_acc_tc9': 0.597, 'eval_acc_tc10': 0.545, 'eval_acc_tc11': 0.574, 'eval_acc_tc12': 0.501, 'eval_acc_tc13': 0.888, 'eval_acc_tc14': 0.893, 'eval_acc_tc15': 0.974, 'eval_acc_tc16': 0.645, 'eval_acc_tc17': 0.548, 'eval_acc_tc18': 0.497, 'eval_acc_tc19': 0.991, 'eval_acc_tc20': 0.964, 'eval_acc_tc21': 0.989, 'eval_acc_tc22': 0.519, 'eval_acc_tc23': 0.715, 'eval_acc_tc24': 0.508, 'eval_acc_tc25': 0.99, 'eval_acc_tc26': 0.983, 'eval_acc_tc27': 0.991, 'eval_acc_tc28': 0.941, 'eval_acc_tc29': 0.933, 'eval_acc_tc30': 0.502, 'eval_acc_tc31': 0.997, 'eval_acc_tc32': 0.995, 'eval_acc_tc33': 0.999, 'eval_acc_tc34': 0.911, 'eval_acc_tc35': 0.971, 'eval_acc_tc36': 0.611, 'eval_acc_tc37': 1.0, 'eval_acc_tc38': 0.997, 'eval_acc_tc39': 1.0, 'eval_acc_tc40': 0.988, 'eval_acc_tc41': 0.953, 'eval_acc_tc42': 0.667, 'eval_acc_tc43': 1.0, 'eval_acc_tc44': 1.0, 'eval_acc_tc45': 0.997, 'eval_acc_tc46': 0.966, 'eval_acc_tc47': 0.965, 'eval_acc_tc48': 0.841, 'eval_acc_tc49': 1.0, 'eval_acc_tc50': 1.0, 'eval_acc_tc51': 1.0, 'eval_acc_tc52': 0.995, 'eval_acc_tc53': 0.997, 'eval_acc_tc54': 0.793, 'eval_acc_tc55': 1.0, 'eval_acc_tc56': 1.0, 'eval_acc_tc57': 0.998, 'eval_acc_tc58': 0.981, 'eval_acc_tc59': 0.997, 'epoch': 10.0, 'step': 810}\n"
     ]
    },
    {
     "data": {
      "text/plain": [
       "TrainOutput(global_step=810, training_loss=0.48487523562378354)"
      ]
     },
     "execution_count": 360,
     "metadata": {},
     "output_type": "execute_result"
    }
   ],
   "source": [
    "# model_class, model = RobertaForMaskedLM, None\n",
    "model_class, model = RobertaForProbing, None\n",
    "model = model_class.from_pretrained('roberta-base', state_dict=state_dict)\n",
    "steps = max(int(round(100 * n_entity_trials / 3)), int(len(train_dataset) / 32 / 4))\n",
    "training_args = TrainingArguments(output_dir=\"./models/model_name\", \n",
    "    overwrite_output_dir=True, do_train=True, do_eval=True,\n",
    "    per_device_train_batch_size=32, per_device_eval_batch_size=64,\n",
    "    learning_rate=2e-4, num_train_epochs=10,\n",
    "    logging_steps=steps, eval_steps=steps, save_steps=0,\n",
    "    no_cuda=False, evaluate_during_training=True,\n",
    ")\n",
    "trainer = Trainer(model, training_args, train_dataset=train_dataset, eval_dataset=eval_dataset)\n",
    "trainer.tokenizer = tokenizer\n",
    "model.tokenizer = tokenizer\n",
    "trainer.train()"
   ]
  },
  {
   "cell_type": "code",
   "execution_count": 361,
   "metadata": {},
   "outputs": [],
   "source": [
    "d0 = {'eval_loss': 0.652516, 'eval_acc_0': 0.0, 'eval_acc_tc0': 0.509, 'eval_acc_tc1': 0.515, 'eval_acc_tc2': 0.503, 'eval_acc_tc3': 0.595, 'eval_acc_tc4': 0.614, 'eval_acc_tc5': 0.516, 'eval_acc_tc6': 0.491, 'eval_acc_tc7': 0.53, 'eval_acc_tc8': 0.699, 'eval_acc_tc9': 0.609, 'eval_acc_tc10': 0.517, 'eval_acc_tc11': 0.517, 'eval_acc_tc12': 0.519, 'eval_acc_tc13': 0.648, 'eval_acc_tc14': 0.636, 'eval_acc_tc15': 0.517, 'eval_acc_tc16': 0.517, 'eval_acc_tc17': 0.53, 'eval_acc_tc18': 0.824, 'eval_acc_tc19': 0.749, 'eval_acc_tc20': 0.517, 'eval_acc_tc21': 0.517, 'eval_acc_tc22': 0.534, 'eval_acc_tc23': 0.733, 'eval_acc_tc24': 0.78, 'eval_acc_tc25': 0.517, 'eval_acc_tc26': 0.517, 'eval_acc_tc27': 0.615, 'eval_acc_tc28': 0.813, 'eval_acc_tc29': 0.827, 'epoch': 10.0, 'step': 810}\n",
    "d1 = {'eval_loss': 0.646025, 'eval_acc_0': 0.0, 'eval_acc_tc0': 0.518, 'eval_acc_tc1': 0.517, 'eval_acc_tc2': 0.575, 'eval_acc_tc3': 0.721, 'eval_acc_tc4': 0.73, 'eval_acc_tc5': 0.517, 'eval_acc_tc6': 0.517, 'eval_acc_tc7': 0.668, 'eval_acc_tc8': 0.717, 'eval_acc_tc9': 0.713, 'eval_acc_tc10': 0.517, 'eval_acc_tc11': 0.594, 'eval_acc_tc12': 0.627, 'eval_acc_tc13': 0.799, 'eval_acc_tc14': 0.775, 'eval_acc_tc15': 0.517, 'eval_acc_tc16': 0.525, 'eval_acc_tc17': 0.527, 'eval_acc_tc18': 0.642, 'eval_acc_tc19': 0.801, 'eval_acc_tc20': 0.518, 'eval_acc_tc21': 0.532, 'eval_acc_tc22': 0.539, 'eval_acc_tc23': 0.704, 'eval_acc_tc24': 0.683, 'eval_acc_tc25': 0.541, 'eval_acc_tc26': 0.574, 'eval_acc_tc27': 0.537, 'eval_acc_tc28': 0.722, 'eval_acc_tc29': 0.73, 'epoch': 10.0, 'step': 810}\n",
    "de = {'eval_loss': 0.500663, 'eval_acc_0': 0.0, 'eval_acc_tc0': 0.503, 'eval_acc_tc1': 0.505, 'eval_acc_tc2': 0.509, 'eval_acc_tc3': 1.0, 'eval_acc_tc4': 0.998, 'eval_acc_tc5': 0.495, 'eval_acc_tc6': 0.772, 'eval_acc_tc7': 0.566, 'eval_acc_tc8': 1.0, 'eval_acc_tc9': 1.0, 'eval_acc_tc10': 0.494, 'eval_acc_tc11': 0.684, 'eval_acc_tc12': 0.777, 'eval_acc_tc13': 1.0, 'eval_acc_tc14': 1.0, 'eval_acc_tc15': 0.499, 'eval_acc_tc16': 0.678, 'eval_acc_tc17': 0.924, 'eval_acc_tc18': 1.0, 'eval_acc_tc19': 1.0, 'eval_acc_tc20': 0.919, 'eval_acc_tc21': 0.517, 'eval_acc_tc22': 0.971, 'eval_acc_tc23': 1.0, 'eval_acc_tc24': 1.0, 'eval_acc_tc25': 0.973, 'eval_acc_tc26': 0.921, 'eval_acc_tc27': 0.999, 'eval_acc_tc28': 0.997, 'eval_acc_tc29': 1.0, 'eval_acc_tc30': 0.972, 'eval_acc_tc31': 0.895, 'eval_acc_tc32': 0.978, 'eval_acc_tc33': 0.973, 'eval_acc_tc34': 1.0, 'eval_acc_tc35': 0.829, 'eval_acc_tc36': 0.968, 'eval_acc_tc37': 0.906, 'eval_acc_tc38': 0.996, 'eval_acc_tc39': 0.998, 'eval_acc_tc40': 0.879, 'eval_acc_tc41': 0.832, 'eval_acc_tc42': 0.852, 'eval_acc_tc43': 0.974, 'eval_acc_tc44': 0.985, 'eval_acc_tc45': 0.852, 'eval_acc_tc46': 0.7, 'eval_acc_tc47': 0.899, 'eval_acc_tc48': 0.94, 'eval_acc_tc49': 0.997, 'eval_acc_tc50': 0.74, 'eval_acc_tc51': 0.649, 'eval_acc_tc52': 0.931, 'eval_acc_tc53': 0.869, 'eval_acc_tc54': 0.967, 'eval_acc_tc55': 0.732, 'eval_acc_tc56': 0.72, 'eval_acc_tc57': 0.873, 'eval_acc_tc58': 0.869, 'eval_acc_tc59': 0.72, 'epoch': 10.0, 'step': 810}\n",
    "dl2 = {'eval_loss': 0.523726, 'eval_acc_0': 0.895, 'eval_acc_tc0': 0.502, 'eval_acc_tc1': 0.52, 'eval_acc_tc2': 0.515, 'eval_acc_tc3': 0.592, 'eval_acc_tc4': 0.631, 'eval_acc_tc5': 0.522, 'eval_acc_tc6': 0.522, 'eval_acc_tc7': 0.519, 'eval_acc_tc8': 0.705, 'eval_acc_tc9': 0.592, 'eval_acc_tc10': 0.522, 'eval_acc_tc11': 0.522, 'eval_acc_tc12': 0.508, 'eval_acc_tc13': 0.707, 'eval_acc_tc14': 0.646, 'eval_acc_tc15': 0.522, 'eval_acc_tc16': 0.522, 'eval_acc_tc17': 0.537, 'eval_acc_tc18': 0.878, 'eval_acc_tc19': 0.764, 'eval_acc_tc20': 0.522, 'eval_acc_tc21': 0.522, 'eval_acc_tc22': 0.624, 'eval_acc_tc23': 0.846, 'eval_acc_tc24': 0.821, 'eval_acc_tc25': 0.522, 'eval_acc_tc26': 0.522, 'eval_acc_tc27': 0.725, 'eval_acc_tc28': 0.897, 'eval_acc_tc29': 0.906, 'eval_acc_tc30': 0.536, 'eval_acc_tc31': 0.533, 'eval_acc_tc32': 0.728, 'eval_acc_tc33': 0.892, 'eval_acc_tc34': 0.906, 'eval_acc_tc35': 0.778, 'eval_acc_tc36': 0.748, 'eval_acc_tc37': 0.861, 'eval_acc_tc38': 0.892, 'eval_acc_tc39': 0.905, 'eval_acc_tc40': 0.826, 'eval_acc_tc41': 0.862, 'eval_acc_tc42': 0.906, 'eval_acc_tc43': 0.893, 'eval_acc_tc44': 0.902, 'eval_acc_tc45': 0.801, 'eval_acc_tc46': 0.8, 'eval_acc_tc47': 0.893, 'eval_acc_tc48': 0.868, 'eval_acc_tc49': 0.889, 'eval_acc_tc50': 0.828, 'eval_acc_tc51': 0.798, 'eval_acc_tc52': 0.883, 'eval_acc_tc53': 0.869, 'eval_acc_tc54': 0.861, 'eval_acc_tc55': 0.86, 'eval_acc_tc56': 0.867, 'eval_acc_tc57': 0.862, 'eval_acc_tc58': 0.798, 'eval_acc_tc59': 0.861, 'epoch': 10.0, 'step': 810}\n",
    "de2 = {'eval_loss': 0.35939, 'eval_acc_0': 0.894, 'eval_acc_tc0': 0.505, 'eval_acc_tc1': 0.509, 'eval_acc_tc2': 0.509, 'eval_acc_tc3': 1.0, 'eval_acc_tc4': 0.998, 'eval_acc_tc5': 0.494, 'eval_acc_tc6': 0.841, 'eval_acc_tc7': 0.561, 'eval_acc_tc8': 1.0, 'eval_acc_tc9': 1.0, 'eval_acc_tc10': 0.48, 'eval_acc_tc11': 0.6, 'eval_acc_tc12': 0.891, 'eval_acc_tc13': 1.0, 'eval_acc_tc14': 1.0, 'eval_acc_tc15': 0.537, 'eval_acc_tc16': 0.552, 'eval_acc_tc17': 0.93, 'eval_acc_tc18': 1.0, 'eval_acc_tc19': 1.0, 'eval_acc_tc20': 0.947, 'eval_acc_tc21': 0.518, 'eval_acc_tc22': 0.99, 'eval_acc_tc23': 1.0, 'eval_acc_tc24': 1.0, 'eval_acc_tc25': 0.722, 'eval_acc_tc26': 0.828, 'eval_acc_tc27': 0.995, 'eval_acc_tc28': 1.0, 'eval_acc_tc29': 1.0, 'eval_acc_tc30': 0.896, 'eval_acc_tc31': 0.986, 'eval_acc_tc32': 0.98, 'eval_acc_tc33': 1.0, 'eval_acc_tc34': 1.0, 'eval_acc_tc35': 0.796, 'eval_acc_tc36': 0.757, 'eval_acc_tc37': 0.969, 'eval_acc_tc38': 1.0, 'eval_acc_tc39': 1.0, 'eval_acc_tc40': 0.875, 'eval_acc_tc41': 0.928, 'eval_acc_tc42': 0.998, 'eval_acc_tc43': 1.0, 'eval_acc_tc44': 1.0, 'eval_acc_tc45': 0.865, 'eval_acc_tc46': 0.861, 'eval_acc_tc47': 0.993, 'eval_acc_tc48': 1.0, 'eval_acc_tc49': 0.996, 'eval_acc_tc50': 0.825, 'eval_acc_tc51': 0.839, 'eval_acc_tc52': 0.97, 'eval_acc_tc53': 1.0, 'eval_acc_tc54': 0.957, 'eval_acc_tc55': 0.827, 'eval_acc_tc56': 0.838, 'eval_acc_tc57': 0.879, 'eval_acc_tc58': 1.0, 'eval_acc_tc59': 0.983, 'epoch': 10.0, 'step': 810}\n",
    "dh = {'eval_loss': 0.581037, 'eval_acc_0': 0.895, 'eval_acc_tc0': 0.704, 'eval_acc_tc1': 0.741, 'eval_acc_tc2': 0.743, 'eval_acc_tc3': 0.767, 'eval_acc_tc4': 0.522, 'eval_acc_tc5': 0.662, 'eval_acc_tc6': 0.522, 'eval_acc_tc7': 0.659, 'eval_acc_tc8': 0.522, 'eval_acc_tc9': 0.803, 'eval_acc_tc10': 0.785, 'eval_acc_tc11': 0.691, 'eval_acc_tc12': 0.753, 'eval_acc_tc13': 0.772, 'eval_acc_tc14': 0.825, 'eval_acc_tc15': 0.768, 'eval_acc_tc16': 0.761, 'eval_acc_tc17': 0.852, 'eval_acc_tc18': 0.828, 'eval_acc_tc19': 0.754, 'eval_acc_tc20': 0.756, 'eval_acc_tc21': 0.705, 'eval_acc_tc22': 0.671, 'eval_acc_tc23': 0.768, 'eval_acc_tc24': 0.658, 'eval_acc_tc25': 0.741, 'eval_acc_tc26': 0.723, 'eval_acc_tc27': 0.763, 'eval_acc_tc28': 0.703, 'eval_acc_tc29': 0.709, 'eval_acc_tc30': 0.776, 'eval_acc_tc31': 0.803, 'eval_acc_tc32': 0.734, 'eval_acc_tc33': 0.75, 'eval_acc_tc34': 0.762, 'eval_acc_tc35': 0.706, 'epoch': 10.0, 'step': 810}\n",
    "d = {'eval_loss': 0.510559, 'eval_acc_0': 0.895, 'eval_acc_tc0': 0.539, 'eval_acc_tc1': 0.524, 'eval_acc_tc2': 0.551, 'eval_acc_tc3': 0.71, 'eval_acc_tc4': 0.779, 'eval_acc_tc5': 0.734, 'eval_acc_tc6': 0.793, 'eval_acc_tc7': 0.869, 'eval_acc_tc8': 0.833, 'eval_acc_tc9': 0.866, 'eval_acc_tc10': 0.835, 'eval_acc_tc11': 0.908, 'eval_acc_tc12': 0.799, 'eval_acc_tc13': 0.812, 'eval_acc_tc14': 0.8, 'eval_acc_tc15': 0.886, 'epoch': 10.0, 'step': 810}\n",
    "d = {'eval_loss': 0.523077, 'eval_acc_0': 0.895, 'eval_acc_tc0': 0.522, 'eval_acc_tc1': 0.522, 'eval_acc_tc2': 0.522, 'eval_acc_tc3': 0.737, 'eval_acc_tc4': 0.613, 'eval_acc_tc5': 0.712, 'eval_acc_tc6': 0.713, 'eval_acc_tc7': 0.881, 'eval_acc_tc8': 0.811, 'eval_acc_tc9': 0.823, 'eval_acc_tc10': 0.813, 'eval_acc_tc11': 0.909, 'eval_acc_tc12': 0.804, 'eval_acc_tc13': 0.818, 'eval_acc_tc14': 0.81, 'eval_acc_tc15': 0.905, 'epoch': 10.0, 'step': 810}\n",
    "d = {'eval_loss': 0.454114, 'eval_acc_0': 0.895, 'eval_acc_tc0': 0.522, 'eval_acc_tc1': 0.522, 'eval_acc_tc2': 0.522, 'eval_acc_tc3': 0.896, 'eval_acc_tc4': 0.902, 'eval_acc_tc5': 0.716, 'eval_acc_tc6': 0.677, 'eval_acc_tc7': 0.522, 'eval_acc_tc8': 0.522, 'eval_acc_tc9': 0.909, 'eval_acc_tc10': 0.911, 'eval_acc_tc11': 0.863, 'eval_acc_tc12': 0.772, 'eval_acc_tc13': 0.703, 'eval_acc_tc14': 0.768, 'eval_acc_tc15': 0.905, 'eval_acc_tc16': 0.903, 'eval_acc_tc17': 0.906, 'eval_acc_tc18': 0.792, 'eval_acc_tc19': 0.522, 'eval_acc_tc20': 0.788, 'eval_acc_tc21': 0.903, 'eval_acc_tc22': 0.905, 'eval_acc_tc23': 0.905, 'epoch': 10.0, 'step': 810}\n",
    "d = {'eval_loss': 0.570928, 'eval_acc_0': 0.895, 'eval_acc_tc0': 0.52, 'eval_acc_tc1': 0.523, 'eval_acc_tc2': 0.516, 'eval_acc_tc3': 0.503, 'eval_acc_tc4': 0.517, 'eval_acc_tc5': 0.522, 'eval_acc_tc6': 0.517, 'eval_acc_tc7': 0.53, 'eval_acc_tc8': 0.503, 'eval_acc_tc9': 0.518, 'eval_acc_tc10': 0.522, 'eval_acc_tc11': 0.522, 'eval_acc_tc12': 0.573, 'eval_acc_tc13': 0.56, 'eval_acc_tc14': 0.518, 'eval_acc_tc15': 0.522, 'eval_acc_tc16': 0.522, 'eval_acc_tc17': 0.636, 'eval_acc_tc18': 0.684, 'eval_acc_tc19': 0.524, 'eval_acc_tc20': 0.522, 'eval_acc_tc21': 0.522, 'eval_acc_tc22': 0.683, 'eval_acc_tc23': 0.724, 'eval_acc_tc24': 0.647, 'eval_acc_tc25': 0.522, 'eval_acc_tc26': 0.522, 'eval_acc_tc27': 0.691, 'eval_acc_tc28': 0.724, 'eval_acc_tc29': 0.704, 'eval_acc_tc30': 0.522, 'eval_acc_tc31': 0.522, 'eval_acc_tc32': 0.898, 'eval_acc_tc33': 0.9, 'eval_acc_tc34': 0.718, 'eval_acc_tc35': 0.526, 'eval_acc_tc36': 0.522, 'eval_acc_tc37': 0.91, 'eval_acc_tc38': 0.914, 'eval_acc_tc39': 0.869, 'eval_acc_tc40': 0.773, 'eval_acc_tc41': 0.706, 'eval_acc_tc42': 0.904, 'eval_acc_tc43': 0.904, 'eval_acc_tc44': 0.908, 'eval_acc_tc45': 0.8, 'eval_acc_tc46': 0.586, 'eval_acc_tc47': 0.905, 'eval_acc_tc48': 0.905, 'eval_acc_tc49': 0.905, 'epoch': 10.0, 'step': 810}\n",
    "d = {'eval_loss': 0.460391, 'eval_acc_0': 0.895, 'eval_acc_tc0': 0.548, 'eval_acc_tc1': 0.53, 'eval_acc_tc2': 0.513, 'eval_acc_tc3': 0.5, 'eval_acc_tc4': 0.519, 'eval_acc_tc5': 0.676, 'eval_acc_tc6': 0.618, 'eval_acc_tc7': 0.528, 'eval_acc_tc8': 0.502, 'eval_acc_tc9': 0.52, 'eval_acc_tc10': 0.72, 'eval_acc_tc11': 0.694, 'eval_acc_tc12': 0.576, 'eval_acc_tc13': 0.562, 'eval_acc_tc14': 0.518, 'eval_acc_tc15': 0.86, 'eval_acc_tc16': 0.734, 'eval_acc_tc17': 0.638, 'eval_acc_tc18': 0.684, 'eval_acc_tc19': 0.526, 'eval_acc_tc20': 0.845, 'eval_acc_tc21': 0.768, 'eval_acc_tc22': 0.686, 'eval_acc_tc23': 0.725, 'eval_acc_tc24': 0.64, 'eval_acc_tc25': 0.895, 'eval_acc_tc26': 0.891, 'eval_acc_tc27': 0.691, 'eval_acc_tc28': 0.724, 'eval_acc_tc29': 0.703, 'eval_acc_tc30': 0.892, 'eval_acc_tc31': 0.895, 'eval_acc_tc32': 0.898, 'eval_acc_tc33': 0.9, 'eval_acc_tc34': 0.718, 'eval_acc_tc35': 0.888, 'eval_acc_tc36': 0.892, 'eval_acc_tc37': 0.91, 'eval_acc_tc38': 0.914, 'eval_acc_tc39': 0.869, 'eval_acc_tc40': 0.889, 'eval_acc_tc41': 0.893, 'eval_acc_tc42': 0.904, 'eval_acc_tc43': 0.904, 'eval_acc_tc44': 0.908, 'eval_acc_tc45': 0.888, 'eval_acc_tc46': 0.893, 'eval_acc_tc47': 0.905, 'eval_acc_tc48': 0.905, 'eval_acc_tc49': 0.905, 'epoch': 10.0, 'step': 810}\n",
    "d = {'eval_loss': 0.466189, 'eval_acc_0': 0.895, 'eval_acc_tc0': 0.546, 'eval_acc_tc1': 0.568, 'eval_acc_tc2': 0.514, 'eval_acc_tc3': 0.51, 'eval_acc_tc4': 0.514, 'eval_acc_tc5': 0.537, 'eval_acc_tc6': 0.67, 'eval_acc_tc7': 0.588, 'eval_acc_tc8': 0.515, 'eval_acc_tc9': 0.523, 'eval_acc_tc10': 0.548, 'eval_acc_tc11': 0.528, 'eval_acc_tc12': 0.727, 'eval_acc_tc13': 0.685, 'eval_acc_tc14': 0.529, 'eval_acc_tc15': 0.534, 'eval_acc_tc16': 0.565, 'eval_acc_tc17': 0.522, 'eval_acc_tc18': 0.841, 'eval_acc_tc19': 0.724, 'eval_acc_tc20': 0.531, 'eval_acc_tc21': 0.616, 'eval_acc_tc22': 0.666, 'eval_acc_tc23': 0.522, 'eval_acc_tc24': 0.84, 'eval_acc_tc25': 0.776, 'eval_acc_tc26': 0.601, 'eval_acc_tc27': 0.684, 'eval_acc_tc28': 0.723, 'eval_acc_tc29': 0.676, 'eval_acc_tc30': 0.893, 'eval_acc_tc31': 0.898, 'eval_acc_tc32': 0.671, 'eval_acc_tc33': 0.696, 'eval_acc_tc34': 0.731, 'eval_acc_tc35': 0.705, 'eval_acc_tc36': 0.889, 'eval_acc_tc37': 0.896, 'eval_acc_tc38': 0.892, 'eval_acc_tc39': 0.9, 'eval_acc_tc40': 0.899, 'eval_acc_tc41': 0.73, 'eval_acc_tc42': 0.886, 'eval_acc_tc43': 0.895, 'eval_acc_tc44': 0.908, 'eval_acc_tc45': 0.913, 'eval_acc_tc46': 0.91, 'eval_acc_tc47': 0.862, 'eval_acc_tc48': 0.889, 'eval_acc_tc49': 0.892, 'eval_acc_tc50': 0.905, 'eval_acc_tc51': 0.905, 'eval_acc_tc52': 0.905, 'eval_acc_tc53': 0.91, 'eval_acc_tc54': 0.89, 'eval_acc_tc55': 0.897, 'eval_acc_tc56': 0.912, 'eval_acc_tc57': 0.904, 'eval_acc_tc58': 0.902, 'eval_acc_tc59': 0.907, 'epoch': 10.0, 'step': 810}\n",
    "d = {'eval_loss': 0.604412, 'eval_acc_0': 0.0, 'eval_acc_tc0': 0.556, 'eval_acc_tc1': 0.554, 'eval_acc_tc2': 0.517, 'eval_acc_tc3': 0.519, 'eval_acc_tc4': 0.498, 'eval_acc_tc5': 0.551, 'eval_acc_tc6': 0.575, 'eval_acc_tc7': 0.579, 'eval_acc_tc8': 0.517, 'eval_acc_tc9': 0.507, 'eval_acc_tc10': 0.536, 'eval_acc_tc11': 0.541, 'eval_acc_tc12': 0.616, 'eval_acc_tc13': 0.677, 'eval_acc_tc14': 0.526, 'eval_acc_tc15': 0.527, 'eval_acc_tc16': 0.548, 'eval_acc_tc17': 0.523, 'eval_acc_tc18': 0.78, 'eval_acc_tc19': 0.745, 'eval_acc_tc20': 0.562, 'eval_acc_tc21': 0.571, 'eval_acc_tc22': 0.634, 'eval_acc_tc23': 0.517, 'eval_acc_tc24': 0.843, 'eval_acc_tc25': 0.727, 'eval_acc_tc26': 0.529, 'eval_acc_tc27': 0.63, 'eval_acc_tc28': 0.702, 'eval_acc_tc29': 0.681, 'eval_acc_tc30': 0.874, 'eval_acc_tc31': 0.822, 'eval_acc_tc32': 0.61, 'eval_acc_tc33': 0.636, 'eval_acc_tc34': 0.671, 'eval_acc_tc35': 0.555, 'eval_acc_tc36': 0.826, 'eval_acc_tc37': 0.809, 'eval_acc_tc38': 0.637, 'eval_acc_tc39': 0.679, 'eval_acc_tc40': 0.732, 'eval_acc_tc41': 0.656, 'eval_acc_tc42': 0.811, 'eval_acc_tc43': 0.815, 'eval_acc_tc44': 0.627, 'eval_acc_tc45': 0.697, 'eval_acc_tc46': 0.736, 'eval_acc_tc47': 0.546, 'eval_acc_tc48': 0.821, 'eval_acc_tc49': 0.816, 'eval_acc_tc50': 0.599, 'eval_acc_tc51': 0.672, 'eval_acc_tc52': 0.735, 'eval_acc_tc53': 0.767, 'eval_acc_tc54': 0.795, 'eval_acc_tc55': 0.791, 'eval_acc_tc56': 0.649, 'eval_acc_tc57': 0.678, 'eval_acc_tc58': 0.691, 'eval_acc_tc59': 0.522, 'epoch': 10.0, 'step': 810}\n",
    "d = {'eval_loss': 0.457184, 'eval_acc_0': 0.0, 'eval_acc_tc0': 1.0, 'eval_acc_tc1': 1.0, 'eval_acc_tc2': 0.511, 'eval_acc_tc3': 0.501, 'eval_acc_tc4': 0.513, 'eval_acc_tc5': 0.51, 'eval_acc_tc6': 0.513, 'eval_acc_tc7': 0.494, 'eval_acc_tc8': 1.0, 'eval_acc_tc9': 1.0, 'eval_acc_tc10': 0.504, 'eval_acc_tc11': 0.647, 'eval_acc_tc12': 0.846, 'eval_acc_tc13': 0.99, 'eval_acc_tc14': 0.62, 'eval_acc_tc15': 0.56, 'eval_acc_tc16': 1.0, 'eval_acc_tc17': 1.0, 'eval_acc_tc18': 0.503, 'eval_acc_tc19': 0.502, 'eval_acc_tc20': 0.723, 'eval_acc_tc21': 0.952, 'eval_acc_tc22': 0.994, 'eval_acc_tc23': 0.522, 'eval_acc_tc24': 1.0, 'eval_acc_tc25': 1.0, 'eval_acc_tc26': 0.505, 'eval_acc_tc27': 0.498, 'eval_acc_tc28': 0.783, 'eval_acc_tc29': 0.828, 'eval_acc_tc30': 0.963, 'eval_acc_tc31': 0.662, 'eval_acc_tc32': 1.0, 'eval_acc_tc33': 1.0, 'eval_acc_tc34': 0.736, 'eval_acc_tc35': 0.502, 'eval_acc_tc36': 0.92, 'eval_acc_tc37': 0.951, 'eval_acc_tc38': 0.953, 'eval_acc_tc39': 0.633, 'eval_acc_tc40': 1.0, 'eval_acc_tc41': 1.0, 'eval_acc_tc42': 0.503, 'eval_acc_tc43': 0.502, 'eval_acc_tc44': 0.926, 'eval_acc_tc45': 0.962, 'eval_acc_tc46': 0.971, 'eval_acc_tc47': 0.965, 'eval_acc_tc48': 1.0, 'eval_acc_tc49': 1.0, 'eval_acc_tc50': 0.808, 'eval_acc_tc51': 0.649, 'eval_acc_tc52': 0.948, 'eval_acc_tc53': 0.815, 'eval_acc_tc54': 0.925, 'eval_acc_tc55': 0.953, 'eval_acc_tc56': 1.0, 'eval_acc_tc57': 1.0, 'eval_acc_tc58': 0.726, 'eval_acc_tc59': 0.502, 'eval_acc_tc60': 0.941, 'eval_acc_tc61': 0.876, 'eval_acc_tc62': 0.983, 'eval_acc_tc63': 0.937, 'eval_acc_tc64': 1.0, 'eval_acc_tc65': 1.0, 'eval_acc_tc66': 0.77, 'eval_acc_tc67': 0.731, 'eval_acc_tc68': 0.986, 'eval_acc_tc69': 0.833, 'eval_acc_tc70': 0.985, 'eval_acc_tc71': 0.892, 'eval_acc_tc72': 1.0, 'eval_acc_tc73': 1.0, 'eval_acc_tc74': 0.502, 'eval_acc_tc75': 0.717, 'eval_acc_tc76': 0.949, 'eval_acc_tc77': 0.826, 'eval_acc_tc78': 0.955, 'eval_acc_tc79': 0.916, 'epoch': 10.0, 'step': 810}\n",
    "d = {'eval_loss': 0.352654, 'eval_acc_0': 0.894, 'eval_acc_tc0': 1.0, 'eval_acc_tc1': 1.0, 'eval_acc_tc2': 0.51, 'eval_acc_tc3': 0.514, 'eval_acc_tc4': 0.522, 'eval_acc_tc5': 0.517, 'eval_acc_tc6': 0.499, 'eval_acc_tc7': 0.493, 'eval_acc_tc8': 1.0, 'eval_acc_tc9': 1.0, 'eval_acc_tc10': 0.493, 'eval_acc_tc11': 0.656, 'eval_acc_tc12': 0.792, 'eval_acc_tc13': 0.984, 'eval_acc_tc14': 0.596, 'eval_acc_tc15': 0.527, 'eval_acc_tc16': 1.0, 'eval_acc_tc17': 1.0, 'eval_acc_tc18': 0.503, 'eval_acc_tc19': 0.501, 'eval_acc_tc20': 0.716, 'eval_acc_tc21': 0.914, 'eval_acc_tc22': 0.988, 'eval_acc_tc23': 0.516, 'eval_acc_tc24': 1.0, 'eval_acc_tc25': 1.0, 'eval_acc_tc26': 0.501, 'eval_acc_tc27': 0.499, 'eval_acc_tc28': 0.985, 'eval_acc_tc29': 0.96, 'eval_acc_tc30': 0.989, 'eval_acc_tc31': 0.764, 'eval_acc_tc32': 1.0, 'eval_acc_tc33': 1.0, 'eval_acc_tc34': 0.895, 'eval_acc_tc35': 0.499, 'eval_acc_tc36': 0.99, 'eval_acc_tc37': 0.986, 'eval_acc_tc38': 0.982, 'eval_acc_tc39': 0.934, 'eval_acc_tc40': 1.0, 'eval_acc_tc41': 1.0, 'eval_acc_tc42': 0.501, 'eval_acc_tc43': 0.501, 'eval_acc_tc44': 0.997, 'eval_acc_tc45': 0.994, 'eval_acc_tc46': 0.997, 'eval_acc_tc47': 0.982, 'eval_acc_tc48': 1.0, 'eval_acc_tc49': 1.0, 'eval_acc_tc50': 0.729, 'eval_acc_tc51': 0.668, 'eval_acc_tc52': 0.999, 'eval_acc_tc53': 0.999, 'eval_acc_tc54': 1.0, 'eval_acc_tc55': 0.951, 'eval_acc_tc56': 1.0, 'eval_acc_tc57': 1.0, 'eval_acc_tc58': 0.499, 'eval_acc_tc59': 0.683, 'eval_acc_tc60': 1.0, 'eval_acc_tc61': 1.0, 'eval_acc_tc62': 0.997, 'eval_acc_tc63': 0.95, 'eval_acc_tc64': 1.0, 'eval_acc_tc65': 1.0, 'eval_acc_tc66': 0.837, 'eval_acc_tc67': 0.89, 'eval_acc_tc68': 1.0, 'eval_acc_tc69': 1.0, 'eval_acc_tc70': 1.0, 'eval_acc_tc71': 0.997, 'eval_acc_tc72': 1.0, 'eval_acc_tc73': 1.0, 'eval_acc_tc74': 0.799, 'eval_acc_tc75': 0.791, 'eval_acc_tc76': 0.999, 'eval_acc_tc77': 1.0, 'eval_acc_tc78': 0.997, 'eval_acc_tc79': 0.998, 'epoch': 4.938, 'step': 400}\n",
    "d = {'eval_loss': 0.67794, 'eval_acc_0': 0.894, 'eval_acc_tc0': 0.811, 'eval_acc_tc1': 0.514, 'eval_acc_tc2': 0.505, 'eval_acc_tc3': 0.93, 'eval_acc_tc4': 0.902, 'eval_acc_tc5': 0.502, 'eval_acc_tc6': 0.511, 'eval_acc_tc7': 0.657, 'eval_acc_tc8': 0.875, 'eval_acc_tc9': 0.524, 'eval_acc_tc10': 0.504, 'eval_acc_tc11': 0.683, 'eval_acc_tc12': 0.97, 'eval_acc_tc13': 0.597, 'eval_acc_tc14': 0.547, 'eval_acc_tc15': 0.645, 'eval_acc_tc16': 0.502, 'eval_acc_tc17': 0.665, 'eval_acc_tc18': 0.683, 'eval_acc_tc19': 0.784, 'eval_acc_tc20': 0.882, 'eval_acc_tc21': 0.949, 'eval_acc_tc22': 1.0, 'eval_acc_tc23': 0.533, 'eval_acc_tc24': 0.888, 'eval_acc_tc25': 0.901, 'eval_acc_tc26': 0.865, 'eval_acc_tc27': 0.519, 'eval_acc_tc28': 0.932, 'eval_acc_tc29': 0.999, 'eval_acc_tc30': 0.77, 'eval_acc_tc31': 0.894, 'eval_acc_tc32': 0.752, 'eval_acc_tc33': 0.945, 'eval_acc_tc34': 0.994, 'eval_acc_tc35': 0.772, 'epoch': 10.0, 'step': 810}\n",
    "d = {'eval_loss': 0.471527, 'eval_acc_0': 0.894, 'eval_acc_tc0': 0.53, 'eval_acc_tc1': 0.511, 'eval_acc_tc2': 0.501, 'eval_acc_tc3': 0.51, 'eval_acc_tc4': 0.508, 'eval_acc_tc5': 0.507, 'eval_acc_tc6': 0.513, 'eval_acc_tc7': 0.482, 'eval_acc_tc8': 0.519, 'eval_acc_tc9': 0.502, 'eval_acc_tc10': 0.739, 'eval_acc_tc11': 0.988, 'eval_acc_tc12': 0.647, 'eval_acc_tc13': 0.506, 'eval_acc_tc14': 0.502, 'eval_acc_tc15': 0.545, 'eval_acc_tc16': 0.509, 'eval_acc_tc17': 0.755, 'eval_acc_tc18': 0.882, 'eval_acc_tc19': 0.984, 'eval_acc_tc20': 0.609, 'eval_acc_tc21': 0.506, 'eval_acc_tc22': 0.723, 'eval_acc_tc23': 0.486, 'eval_acc_tc24': 0.991, 'eval_acc_tc25': 0.942, 'eval_acc_tc26': 0.98, 'eval_acc_tc27': 0.895, 'eval_acc_tc28': 0.549, 'eval_acc_tc29': 0.527, 'eval_acc_tc30': 0.58, 'eval_acc_tc31': 0.994, 'eval_acc_tc32': 0.983, 'eval_acc_tc33': 0.996, 'eval_acc_tc34': 0.914, 'eval_acc_tc35': 0.502, 'eval_acc_tc36': 0.502, 'eval_acc_tc37': 0.924, 'eval_acc_tc38': 0.997, 'eval_acc_tc39': 0.993, 'eval_acc_tc40': 1.0, 'eval_acc_tc41': 0.977, 'eval_acc_tc42': 0.826, 'eval_acc_tc43': 0.502, 'eval_acc_tc44': 0.504, 'eval_acc_tc45': 1.0, 'eval_acc_tc46': 1.0, 'eval_acc_tc47': 1.0, 'eval_acc_tc48': 0.969, 'eval_acc_tc49': 0.716, 'eval_acc_tc50': 0.721, 'eval_acc_tc51': 0.499, 'eval_acc_tc52': 1.0, 'eval_acc_tc53': 1.0, 'eval_acc_tc54': 0.997, 'eval_acc_tc55': 0.961, 'eval_acc_tc56': 0.843, 'eval_acc_tc57': 0.801, 'eval_acc_tc58': 0.837, 'eval_acc_tc59': 1.0, 'eval_acc_tc60': 1.0, 'eval_acc_tc61': 1.0, 'eval_acc_tc62': 0.997, 'eval_acc_tc63': 0.798, 'eval_acc_tc64': 0.727, 'eval_acc_tc65': 0.785, 'eval_acc_tc66': 1.0, 'eval_acc_tc67': 1.0, 'eval_acc_tc68': 0.999, 'eval_acc_tc69': 1.0, 'epoch': 10.0, 'step': 810}\n",
    "d = {'eval_loss': 0.401869, 'eval_acc_0': 0.894, 'eval_acc_tc0': 0.501, 'eval_acc_tc1': 0.501, 'eval_acc_tc2': 0.488, 'eval_acc_tc3': 0.497, 'eval_acc_tc4': 0.503, 'eval_acc_tc5': 0.486, 'eval_acc_tc6': 0.499, 'eval_acc_tc7': 0.835, 'eval_acc_tc8': 0.99, 'eval_acc_tc9': 0.597, 'eval_acc_tc10': 0.545, 'eval_acc_tc11': 0.574, 'eval_acc_tc12': 0.501, 'eval_acc_tc13': 0.888, 'eval_acc_tc14': 0.893, 'eval_acc_tc15': 0.974, 'eval_acc_tc16': 0.645, 'eval_acc_tc17': 0.548, 'eval_acc_tc18': 0.497, 'eval_acc_tc19': 0.991, 'eval_acc_tc20': 0.964, 'eval_acc_tc21': 0.989, 'eval_acc_tc22': 0.519, 'eval_acc_tc23': 0.715, 'eval_acc_tc24': 0.508, 'eval_acc_tc25': 0.99, 'eval_acc_tc26': 0.983, 'eval_acc_tc27': 0.991, 'eval_acc_tc28': 0.941, 'eval_acc_tc29': 0.933, 'eval_acc_tc30': 0.502, 'eval_acc_tc31': 0.997, 'eval_acc_tc32': 0.995, 'eval_acc_tc33': 0.999, 'eval_acc_tc34': 0.911, 'eval_acc_tc35': 0.971, 'eval_acc_tc36': 0.611, 'eval_acc_tc37': 1.0, 'eval_acc_tc38': 0.997, 'eval_acc_tc39': 1.0, 'eval_acc_tc40': 0.988, 'eval_acc_tc41': 0.953, 'eval_acc_tc42': 0.667, 'eval_acc_tc43': 1.0, 'eval_acc_tc44': 1.0, 'eval_acc_tc45': 0.997, 'eval_acc_tc46': 0.966, 'eval_acc_tc47': 0.965, 'eval_acc_tc48': 0.841, 'eval_acc_tc49': 1.0, 'eval_acc_tc50': 1.0, 'eval_acc_tc51': 1.0, 'eval_acc_tc52': 0.995, 'eval_acc_tc53': 0.997, 'eval_acc_tc54': 0.793, 'eval_acc_tc55': 1.0, 'eval_acc_tc56': 1.0, 'eval_acc_tc57': 0.998, 'eval_acc_tc58': 0.981, 'eval_acc_tc59': 0.997, 'epoch': 10.0, 'step': 810}"
   ]
  },
  {
   "cell_type": "code",
   "execution_count": 330,
   "metadata": {},
   "outputs": [
    {
     "name": "stdout",
     "output_type": "stream",
     "text": [
      "0\t0.811\t0.514\t0.505\t0.93\t0.902\t0.502\t0.511\t0.657\t0.875\t0.524\t0.504\t0.683\t\n",
      "1\t0.97\t0.597\t0.547\t0.645\t0.502\t0.665\t0.683\t0.784\t0.882\t0.949\t1.0\t0.533\t\n",
      "2\t0.888\t0.901\t0.865\t0.519\t0.932\t0.999\t0.77\t0.894\t0.752\t0.945\t0.994\t0.772\t\n"
     ]
    }
   ],
   "source": [
    "for i in range(3):\n",
    "    print(i, end='\\t')\n",
    "    for j in range(12):\n",
    "        print(d['eval_acc_tc' + str(i * 12 + j)], end='\\t')\n",
    "    print()"
   ]
  },
  {
   "cell_type": "code",
   "execution_count": 362,
   "metadata": {},
   "outputs": [
    {
     "name": "stdout",
     "output_type": "stream",
     "text": [
      "0\t0.501\t0.501\t0.488\t0.497\t0.503\t0.486\t\n",
      "1\t0.499\t0.835\t0.99\t0.597\t0.545\t0.574\t\n",
      "2\t0.501\t0.888\t0.893\t0.974\t0.645\t0.548\t\n",
      "3\t0.497\t0.991\t0.964\t0.989\t0.519\t0.715\t\n",
      "4\t0.508\t0.99\t0.983\t0.991\t0.941\t0.933\t\n",
      "5\t0.502\t0.997\t0.995\t0.999\t0.911\t0.971\t\n",
      "6\t0.611\t1.0\t0.997\t1.0\t0.988\t0.953\t\n",
      "7\t0.667\t1.0\t1.0\t0.997\t0.966\t0.965\t\n",
      "8\t0.841\t1.0\t1.0\t1.0\t0.995\t0.997\t\n",
      "9\t0.793\t1.0\t1.0\t0.998\t0.981\t0.997\t\n"
     ]
    }
   ],
   "source": [
    "for i in range(10):\n",
    "    print(i, end='\\t')\n",
    "    for j in range(6):\n",
    "        print(d['eval_acc_tc' + str(i * 6 + j)], end='\\t')\n",
    "    print()"
   ]
  },
  {
   "cell_type": "code",
   "execution_count": 308,
   "metadata": {},
   "outputs": [
    {
     "name": "stdout",
     "output_type": "stream",
     "text": [
      "0\t1.0\t1.0\t0.51\t0.514\t0.522\t0.517\t0.499\t0.493\t\n",
      "1\t1.0\t1.0\t0.493\t0.656\t0.792\t0.984\t0.596\t0.527\t\n",
      "2\t1.0\t1.0\t0.503\t0.501\t0.716\t0.914\t0.988\t0.516\t\n",
      "3\t1.0\t1.0\t0.501\t0.499\t0.985\t0.96\t0.989\t0.764\t\n",
      "4\t1.0\t1.0\t0.895\t0.499\t0.99\t0.986\t0.982\t0.934\t\n",
      "5\t1.0\t1.0\t0.501\t0.501\t0.997\t0.994\t0.997\t0.982\t\n",
      "6\t1.0\t1.0\t0.729\t0.668\t0.999\t0.999\t1.0\t0.951\t\n",
      "7\t1.0\t1.0\t0.499\t0.683\t1.0\t1.0\t0.997\t0.95\t\n",
      "8\t1.0\t1.0\t0.837\t0.89\t1.0\t1.0\t1.0\t0.997\t\n",
      "9\t1.0\t1.0\t0.799\t0.791\t0.999\t1.0\t0.997\t0.998\t\n"
     ]
    }
   ],
   "source": [
    "for i in range(10):\n",
    "    print(i, end='\\t')\n",
    "    for j in range(8):\n",
    "        print(d['eval_acc_tc' + str(i * 8 + j)], end='\\t')\n",
    "    print()"
   ]
  },
  {
   "cell_type": "code",
   "execution_count": 305,
   "metadata": {},
   "outputs": [
    {
     "name": "stdout",
     "output_type": "stream",
     "text": [
      "0\t1.0\t1.0\t0.511\t0.501\t0.513\t0.51\t0.513\t0.494\t\n",
      "1\t1.0\t1.0\t0.504\t0.647\t0.846\t0.99\t0.62\t0.56\t\n",
      "2\t1.0\t1.0\t0.503\t0.502\t0.723\t0.952\t0.994\t0.522\t\n",
      "3\t1.0\t1.0\t0.505\t0.498\t0.783\t0.828\t0.963\t0.662\t\n",
      "4\t1.0\t1.0\t0.736\t0.502\t0.92\t0.951\t0.953\t0.633\t\n",
      "5\t1.0\t1.0\t0.503\t0.502\t0.926\t0.962\t0.971\t0.965\t\n",
      "6\t1.0\t1.0\t0.808\t0.649\t0.948\t0.815\t0.925\t0.953\t\n",
      "7\t1.0\t1.0\t0.726\t0.502\t0.941\t0.876\t0.983\t0.937\t\n",
      "8\t1.0\t1.0\t0.77\t0.731\t0.986\t0.833\t0.985\t0.892\t\n",
      "9\t1.0\t1.0\t0.502\t0.717\t0.949\t0.826\t0.955\t0.916\t\n"
     ]
    }
   ],
   "source": [
    "for i in range(10):\n",
    "    print(i, end='\\t')\n",
    "    for j in range(8):\n",
    "        print(d['eval_acc_tc' + str(i * 8 + j)], end='\\t')\n",
    "    print()"
   ]
  },
  {
   "cell_type": "code",
   "execution_count": 18,
   "metadata": {},
   "outputs": [],
   "source": [
    "output_dir = '/nas/xd/data/models/CHILD/neg0_ent3/'\n",
    "# os.makedirs(output_dir, exist_ok=True)\n",
    "# model.save_pretrained(output_dir)"
   ]
  },
  {
   "cell_type": "code",
   "execution_count": 93,
   "metadata": {},
   "outputs": [],
   "source": [
    "state_dict = torch.load(output_dir + 'pytorch_model.bin')"
   ]
  },
  {
   "cell_type": "code",
   "execution_count": 72,
   "metadata": {},
   "outputs": [
    {
     "name": "stdout",
     "output_type": "stream",
     "text": [
      "loading state_dict took 4.104 sec\n"
     ]
    }
   ],
   "source": [
    "# model = RobertaForMaskedLM.from_pretrained('roberta-base')\n",
    "model = RobertaForMaskedLM.from_pretrained(output_dir)\n",
    "_ = model.to(trainer.args.device)"
   ]
  },
  {
   "cell_type": "code",
   "execution_count": 80,
   "metadata": {},
   "outputs": [],
   "source": [
    "model.roberta.selectively_masked_head = (5, 5)"
   ]
  },
  {
   "cell_type": "code",
   "execution_count": 311,
   "metadata": {},
   "outputs": [],
   "source": [
    "dataloader = DataLoader(\n",
    "    eval_dataset,\n",
    "    sampler=RandomSampler(eval_dataset),\n",
    "    batch_size=trainer.args.eval_batch_size,\n",
    "    collate_fn=trainer.data_collator,\n",
    "    drop_last=trainer.args.dataloader_drop_last,\n",
    ")"
   ]
  },
  {
   "cell_type": "code",
   "execution_count": 312,
   "metadata": {
    "collapsed": true
   },
   "outputs": [
    {
     "name": "stdout",
     "output_type": "stream",
     "text": [
      "0 <s> K is further than U, so U is further?<mask>.</s><pad><pad><pad><pad><pad> ['ĠU', 'ĠU']\n",
      "1 <s> Z is more beautiful than W, so W is more monstrous?<mask>.</s><pad><pad><pad> ['ĠW', 'ĠW']\n",
      "2 <s> P is more successful than Z, so Z is more unsuccessful?<mask>.</s><pad><pad><pad> ['ĠZ', 'ĠZ']\n",
      "3 <s> P is more vacant than K, so K is more occupied?<mask>.</s><pad><pad><pad> ['ĠK', 'ĠK']\n",
      "4 <s> G is more mortal than K, so G is more mortal?<mask>.</s><pad><pad><pad> ['ĠG', 'ĠG']\n",
      "5 <s> S is more partial than G, so S is more partial?<mask>.</s><pad><pad><pad> ['ĠS', 'ĠS']\n",
      "6 <s> S is more insufficient than K, so S is more abundant?<mask>.</s><pad><pad><pad> ['ĠS', 'ĠS']\n",
      "7 <s> P is more ordinary than S, so P is more common?<mask>.</s><pad><pad><pad> ['ĠP', 'ĠP']\n",
      "8 <s> M is more melancholy than K, so K is happier?<mask>.</s><pad><pad><pad><pad> ['ĠK', 'ĠK']\n",
      "9 <s> P is more harmless than G, so G is more harmless?<mask>.</s><pad><pad><pad> ['ĠG', 'ĠG']\n",
      "10 <s> M is tighter than G, so M is more insufficient?<mask>.</s><pad><pad><pad><pad> ['ĠM', 'ĠM']\n",
      "11 <s> M is more moral than U, so M is more moral?<mask>.</s><pad><pad><pad> ['ĠM', 'ĠM']\n",
      "12 <s> G is more unethical than W, so W is more unethical?<mask>.</s><pad><pad><pad> ['ĠW', 'ĠW']\n",
      "13 <s> M is more conscious than P, so M is more unconscious?<mask>.</s><pad><pad><pad> ['ĠM', 'ĠM']\n",
      "14 <s> U is more vacant than Z, so Z is more vacant?<mask>.</s><pad><pad><pad> ['ĠZ', 'ĠZ']\n",
      "15 <s> P is more reasonable than K, so P is more unreasonable?<mask>.</s><pad><pad><pad> ['ĠP', 'ĠP']\n",
      "16 <s> W is more reasonable than G, so W is more unreasonable?<mask>.</s><pad><pad><pad> ['ĠW', 'ĠW']\n",
      "17 <s> S is more unhappy than P, so S is more unhappy?<mask>.</s><pad><pad><pad> ['ĠS', 'ĠS']\n",
      "18 <s> Z is more related than K, so K is more related?<mask>.</s><pad><pad><pad> ['ĠK', 'ĠK']\n",
      "19 <s> M is more related than S, so M is more related?<mask>.</s><pad><pad><pad> ['ĠM', 'ĠM']\n"
     ]
    }
   ],
   "source": [
    "for inputs in dataloader: break\n",
    "\n",
    "for i in range(20):\n",
    "    if i < len(inputs['input_ids']):\n",
    "        print(i, tokenizer.decode(inputs['input_ids'][i]), \n",
    "              [tokenizer.convert_ids_to_tokens(inputs['input_ids'][i])[j] for j in inputs['marked_pos_labels'][i][0]])"
   ]
  },
  {
   "cell_type": "code",
   "execution_count": 159,
   "metadata": {},
   "outputs": [],
   "source": [
    "_ = model.eval()\n",
    "interpretable_embedding = configure_interpretable_embedding_layer(model, 'roberta.embeddings')\n",
    "\n",
    "inputs = trainer._prepare_inputs(inputs, model)\n",
    "input_ids, attention_mask, token_type_ids, position_ids, labels = \\\n",
    "    inputs['input_ids'], inputs['attention_mask'], inputs['token_type_ids'], inputs['position_ids'], inputs['labels']\n",
    "additional_fwd_args = (token_type_ids, position_ids, attention_mask)\n",
    "if 'marked_pos_labels' in inputs and inputs['marked_pos_labels'] is not None:\n",
    "    marked_pos_labels = inputs['marked_pos_labels']\n",
    "    marked_positions = marked_pos_labels[:, 0]  # (bsz, 1, 2) -> (bsz, 2)\n",
    "    cls_positions = (input_ids == model.tokenizer.cls_token_id).nonzero()[:, 1:]\n",
    "    sep_positions = (input_ids == model.tokenizer.sep_token_id).nonzero()[:, 1:]\n",
    "    be_positions = torch.ones_like(cls_positions) * 2\n",
    "    mask_positions = (input_ids == model.tokenizer.mask_token_id).nonzero()[:, 1:]\n",
    "    assert cls_positions.size(0) == sep_positions.size(0) == mask_positions.size(0) == marked_positions.size(0), \\\n",
    "        '%d %d %d %d' % (cls_positions.size(0), sep_positions.size(0), mask_positions.size(0), marked_positions.size(0))\n",
    "#     probe_positions = mask_positions\n",
    "    probe_positions = torch.cat([cls_positions, sep_positions, be_positions, mask_positions], dim=-1)\n",
    "    additional_fwd_args = additional_fwd_args + (marked_pos_labels, probe_positions)\n",
    "additional_fwd_args = additional_fwd_args + (labels,)\n",
    "input_embeddings = interpretable_embedding.indices_to_embeddings(input_ids, token_type_ids=token_type_ids, position_ids=position_ids)\n",
    "all_tokens = normalize_tokens(tokenizer.convert_ids_to_tokens(input_ids[0]))"
   ]
  },
  {
   "cell_type": "code",
   "execution_count": 164,
   "metadata": {},
   "outputs": [],
   "source": [
    "# def mlm_fwd_fn(inputs, token_type_ids=None, position_ids=None, attention_mask=None, labels=None, mask_id=None):\n",
    "def mlm_fwd_fn(inputs, *args):\n",
    "    args, labels, mask_id = args[:-2], args[-2], args[-1]\n",
    "    is_probe_logits = True\n",
    "    logits = model(inputs, *args, detach=False)[int(is_probe_logits)]\n",
    "    if not is_probe_logits:\n",
    "        bsz, seq_len, vocab_size = logits.size()\n",
    "        logits = logits[labels != -100].view(bsz, -1, vocab_size)\n",
    "    return logits[:, mask_id].max(dim=-1).values\n",
    "\n",
    "mask_id = 0\n",
    "layer_attrs = []\n",
    "n_layers = 7 + mask_id or model.config.num_hidden_layers\n",
    "model.zero_grad()\n",
    "for i in range(n_layers):\n",
    "    lc = LayerIntegratedGradients(mlm_fwd_fn, model.roberta.encoder.layer[i])\n",
    "    attributions = lc.attribute(inputs=input_embeddings, \n",
    "                                additional_forward_args=additional_fwd_args + (mask_id,), \n",
    "                                n_steps=20)[0]\n",
    "    layer_attrs.append(summarize_attributions(attributions).cpu().detach().tolist())"
   ]
  },
  {
   "cell_type": "code",
   "execution_count": 165,
   "metadata": {
    "collapsed": true
   },
   "outputs": [
    {
     "data": {
      "image/png": "[encoded data removed]",
      "text/plain": [
       "<Figure size 1080x360 with 2 Axes>"
      ]
     },
     "metadata": {
      "needs_background": "light"
     },
     "output_type": "display_data"
    }
   ],
   "source": [
    "fig, ax = plt.subplots(figsize=(15,5))\n",
    "xticklabels=all_tokens\n",
    "yticklabels=list(range(n_layers))\n",
    "ax = sns.heatmap((np.array(layer_attrs) * 100).astype('int64'), xticklabels=xticklabels, yticklabels=yticklabels, annot=True, fmt='d', linewidth=0.2)\n",
    "# plt.xlabel('Tokens')\n",
    "# plt.ylabel('Layers')\n",
    "plt.show()"
   ]
  },
  {
   "cell_type": "code",
   "execution_count": 167,
   "metadata": {},
   "outputs": [],
   "source": [
    "remove_interpretable_embedding_layer(model, interpretable_embedding)"
   ]
  },
  {
   "cell_type": "code",
   "execution_count": 346,
   "metadata": {
    "scrolled": false
   },
   "outputs": [],
   "source": [
    "_ = model.eval()\n",
    "inputs = trainer._prepare_inputs(inputs, model)\n",
    "with torch.no_grad():\n",
    "    loss, logits, probe_logits, all_attentions = model(**inputs, output_attentions=True, probe_positions=probe_positions)[:4]\n",
    "\n",
    "attn_scores, attn_probs = zip(*all_attentions)\n",
    "attn_scores, attn_probs = torch.stack(attn_scores, dim=0), torch.stack(attn_probs, dim=0)\n",
    "attn_probs = attn_probs.cpu()"
   ]
  },
  {
   "cell_type": "code",
   "execution_count": 322,
   "metadata": {},
   "outputs": [
    {
     "data": {
      "image/png": "[encoded data removed]",
      "text/plain": [
       "<Figure size 1152x648 with 8 Axes>"
      ]
     },
     "metadata": {
      "needs_background": "light"
     },
     "output_type": "display_data"
    }
   ],
   "source": [
    "sample_indices = [[0, 1, 2, 3], \n",
    "                  [4, 5, 6, 7]]\n",
    "# sample_indices = [[0, 0], \n",
    "#                   [0, 0]]\n",
    "n_rows, n_cols = len(sample_indices), len(sample_indices[0])\n",
    "fig, axs = plt.subplots(n_rows, n_cols, sharey=False, figsize=(4 * n_cols, 4.5 * n_rows))\n",
    "sep_id = tokenizer._convert_token_to_id('Ġ,')\n",
    "for row in range(n_rows):\n",
    "    for col in range(n_cols):\n",
    "        i, ax = sample_indices[row][col], axs[row][col]\n",
    "        tokens = normalize_tokens(tokenizer.convert_ids_to_tokens(inputs['input_ids'][i]))\n",
    "        \n",
    "        p, h = inputs['marked_pos_labels'][i][0]\n",
    "        p, h = p.item(), h.item()\n",
    "        so_pos = (inputs['input_ids'][i] == tokenizer._convert_token_to_id('Ġso')).nonzero()[0, 0].item()\n",
    "        be2_pos = so_pos + 2\n",
    "        mask_pos = (inputs['input_ids'][i] == tokenizer.mask_token_id).nonzero()[0, 0].item()\n",
    "#         j = 17\n",
    "        pos_attn = attn_probs[:, i, :, mask_pos, h]\n",
    "        pos_attn[-1, -1] = 1.\n",
    "        ax = sns.heatmap((pos_attn * 100).long(), square=True, cbar=False, annot=False, fmt='d', ax=ax)\n",
    "        ax.tick_params(top=True, labeltop=True)\n",
    "        _ = ax.set_xlabel('%s - %s' % (tokens[p], tokens[h]))"
   ]
  },
  {
   "cell_type": "code",
   "execution_count": 368,
   "metadata": {
    "scrolled": false
   },
   "outputs": [
    {
     "data": {
      "image/png": "[encoded data removed]",
      "text/plain": [
       "<Figure size 720x360 with 4 Axes>"
      ]
     },
     "metadata": {
      "needs_background": "light"
     },
     "output_type": "display_data"
    }
   ],
   "source": [
    "i = 0\n",
    "layer, head = 5, 9\n",
    "seq_len = inputs['attention_mask'][i].sum().item()\n",
    "attn =  attn_probs[layer, i, head, : seq_len, : seq_len]\n",
    "tokens = normalize_tokens(tokenizer.convert_ids_to_tokens(inputs['input_ids'][i])[: seq_len])\n",
    "size = round(attn.size(0) / 3)\n",
    "fig, (ax0, ax1) = plt.subplots(1, 2, figsize=(size  * 2., size), gridspec_kw={'width_ratios': [3, 1]})\n",
    "_ = sns.heatmap((attn * 100).long(), square=True, cbar=True, annot=False, fmt='d', xticklabels=tokens, yticklabels=tokens, ax=ax0)\n",
    "plot_head_attn(attn, tokens, ax1=ax1, marked_positions=inputs['marked_pos_labels'][i])"
   ]
  },
  {
   "cell_type": "code",
   "execution_count": null,
   "metadata": {},
   "outputs": [],
   "source": [
    "H6-4: ,/so/is/more -> h_ent\n",
    "H6-6: ,/so/is/more -> h\n",
    "H6-10: ,/so/is/more -> p\n",
    "H7-9: ?/mask -> so"
   ]
  },
  {
   "cell_type": "code",
   "execution_count": null,
   "metadata": {},
   "outputs": [],
   "source": [
    "#         pos_attn = attn_probs[:, i]\n",
    "#         pos_attn = pos_attn * (pos_attn > 0.3)\n",
    "# #         pos_attn[0] = 0  # layer 0\n",
    "# #         pos_attn[1, 1] = 0  # ->pos-2\n",
    "#         pos_attn = pos_attn.mean(dim=(0, 1))\n",
    "#         input_ids = inputs['input_ids'][i]\n",
    "#         sep_pos = (input_ids == sep_id).nonzero()[0].item()\n",
    "#         segment_ids = torch.zeros_like(input_ids)\n",
    "#         segment_ids[sep_pos + 1:] = 1\n",
    "#         segment_mask = segment_ids.unsqueeze(0) != segment_ids.unsqueeze(1)\n",
    "#         pos_attn = pos_attn * segment_mask.cpu()\n",
    "#         seq_len = inputs['attention_mask'][i].sum().item()\n",
    "#         pos_attn[:, [0, 2, seq_len - 1]] = 0\n",
    "#         k = torch.arange(1, pos_attn.size(0) - 1)\n",
    "#         pos_attn[k, k] = 0\n",
    "#         pos_attn[k, k - 1] = 0\n",
    "#         pos_attn[k, k + 1] = 0\n",
    "#         ax = sns.heatmap((pos_attn * 100).long(), square=True, cbar=False, annot=False, fmt='d', \n",
    "#                          xticklabels=tokens, yticklabels=tokens, ax=ax)"
   ]
  }
 ],
 "metadata": {
  "kernelspec": {
   "display_name": "Python 3",
   "language": "python",
   "name": "python3"
  },
  "language_info": {
   "codemirror_mode": {
    "name": "ipython",
    "version": 3
   },
   "file_extension": ".py",
   "mimetype": "text/x-python",
   "name": "python",
   "nbconvert_exporter": "python",
   "pygments_lexer": "ipython3",
   "version": "3.7.5"
  }
 },
 "nbformat": 4,
 "nbformat_minor": 4
}
