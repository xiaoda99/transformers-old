{
 "cells": [
  {
   "cell_type": "code",
   "execution_count": 1,
   "metadata": {},
   "outputs": [],
   "source": [
    "from IPython import get_ipython\n",
    "%load_ext autoreload\n",
    "%autoreload 2\n",
    "\n",
    "from IPython.core.interactiveshell import InteractiveShell\n",
    "InteractiveShell.ast_node_interactivity = 'all'"
   ]
  },
  {
   "cell_type": "code",
   "execution_count": 2,
   "metadata": {},
   "outputs": [],
   "source": [
    "import sys\n",
    "sys.path.insert(0, '/nas/xd/projects/transformers/src/transformers')\n",
    "import os\n",
    "device_mappings = {0: 1, 1: 5, 2: 6, 3: 7, 4: 2, 5: 3, 6: 0, 7: 4}\n",
    "os.environ[\"CUDA_VISIBLE_DEVICES\"] = str(device_mappings[7])\n",
    "\n",
    "import random\n",
    "import string\n",
    "from collections import defaultdict, OrderedDict\n",
    "from itertools import product, chain\n",
    "import numpy as np\n",
    "from pattern.en import comparative\n",
    "\n",
    "import matplotlib.pyplot as plt\n",
    "import seaborn as sns\n",
    "\n",
    "from captum.attr import IntegratedGradients, LayerConductance, LayerIntegratedGradients\n",
    "from captum.attr import configure_interpretable_embedding_layer, remove_interpretable_embedding_layer"
   ]
  },
  {
   "cell_type": "code",
   "execution_count": 3,
   "metadata": {},
   "outputs": [],
   "source": [
    "import torch\n",
    "from torch import nn\n",
    "import torch.nn.functional as F\n",
    "from torch.nn import CrossEntropyLoss, MSELoss\n",
    "from torch.utils.data.dataset import Dataset\n",
    "from torch.utils.data.dataloader import DataLoader\n",
    "from torch.utils.data.sampler import RandomSampler, Sampler, SequentialSampler\n",
    "from enum import Enum\n",
    "from typing import List, Optional, Union\n",
    "\n",
    "from child_frames import frames\n",
    "from utils import *\n",
    "\n",
    "import logging\n",
    "import os\n",
    "import sys\n",
    "\n",
    "from transformers import HfArgumentParser, Trainer, TrainingArguments, set_seed\n",
    "from transformers import PreTrainedModel, RobertaForMaskedLM, RobertaTokenizer\n",
    "from transformers.modeling_roberta import RobertaForProbing, RobertaDoubleHeadsModel, \\\n",
    "    RobertaDoubleHeadsModel2, RobertaDoubleHeadsModel3, RobertaForSequenceClassification  # XD\n",
    "from transformers.trainer import get_mean_pred_prob  # XD\n",
    "\n",
    "logging.basicConfig(level=logging.ERROR)"
   ]
  },
  {
   "cell_type": "code",
   "execution_count": 4,
   "metadata": {
    "scrolled": true
   },
   "outputs": [
    {
     "data": {
      "text/plain": [
       "[' _X is more confident than _Z .||| _X is more confident .|||e',\n",
       " ' _X is more confident than _Z .||| _Z is more uncertain .|||e',\n",
       " ' _X is more confident than _Z .||| _Z is less confident .|||e',\n",
       " ' _X is more confident than _Z .||| _X is less uncertain .|||e',\n",
       " ' _Z is more uncertain than _X .||| _X is more confident .|||e',\n",
       " ' _Z is more uncertain than _X .||| _Z is more uncertain .|||e',\n",
       " ' _Z is more uncertain than _X .||| _Z is less confident .|||e',\n",
       " ' _Z is more uncertain than _X .||| _X is less uncertain .|||e',\n",
       " ' _X is less confident than _Z .||| _X is less confident .|||e',\n",
       " ' _X is less confident than _Z .||| _Z is less uncertain .|||e',\n",
       " ' _X is less confident than _Z .||| _Z is more confident .|||e',\n",
       " ' _X is less confident than _Z .||| _X is more uncertain .|||e',\n",
       " ' _Z is less uncertain than _X .||| _X is less confident .|||e',\n",
       " ' _Z is less uncertain than _X .||| _Z is less uncertain .|||e',\n",
       " ' _Z is less uncertain than _X .||| _Z is more confident .|||e',\n",
       " ' _Z is less uncertain than _X .||| _X is more uncertain .|||e',\n",
       " ' _X is more confident than _Z .||| _X is less confident .|||c',\n",
       " ' _X is more confident than _Z .||| _Z is less uncertain .|||c',\n",
       " ' _X is more confident than _Z .||| _Z is more confident .|||c',\n",
       " ' _X is more confident than _Z .||| _X is more uncertain .|||c',\n",
       " ' _Z is more uncertain than _X .||| _X is less confident .|||c',\n",
       " ' _Z is more uncertain than _X .||| _Z is less uncertain .|||c',\n",
       " ' _Z is more uncertain than _X .||| _Z is more confident .|||c',\n",
       " ' _Z is more uncertain than _X .||| _X is more uncertain .|||c',\n",
       " ' _X is less confident than _Z .||| _X is more confident .|||c',\n",
       " ' _X is less confident than _Z .||| _Z is more uncertain .|||c',\n",
       " ' _X is less confident than _Z .||| _Z is less confident .|||c',\n",
       " ' _X is less confident than _Z .||| _X is less uncertain .|||c',\n",
       " ' _Z is less uncertain than _X .||| _X is more confident .|||c',\n",
       " ' _Z is less uncertain than _X .||| _Z is more uncertain .|||c',\n",
       " ' _Z is less uncertain than _X .||| _Z is less confident .|||c',\n",
       " ' _Z is less uncertain than _X .||| _X is less uncertain .|||c']"
      ]
     },
     "execution_count": 4,
     "metadata": {},
     "output_type": "execute_result"
    }
   ],
   "source": [
    "A_template = \"{rel_prefix} {dt} {ent0} {rel} {dt} {ent1} {rel_suffix}\"\n",
    "B_template = \"{pred_prefix} {dt} {ent} {pred}\"\n",
    "entailment_templates = [\"{A} ? {conj} , {B} .\", \"{A} , so {B} ? {conj} .\", '\"{A}\" {conj} \"{B}\" .', \"{A} .||| {B} .|||{conj}\"]\n",
    "\n",
    "markers = {'lexical': '*', 'entity': '#'}\n",
    "ans2verb = {'Right': 'means', 'Wrong': 'contradicts', 'Maybe': ','}\n",
    "ans2label = {'Right': 'e', 'Wrong': 'c', 'Maybe': 'n'}\n",
    "\n",
    "def convert_conj(conj): return ans2verb[conj]\n",
    "def extract_rel_id(s): return int(s[s.index(':') + 1])\n",
    "def extract_rel(s): return [t.split(':')[0] for t in s.split() if ':' in t][0]\n",
    "def strip_rel_id(s, lexical_rel=''):\n",
    "    rel_id_span = s[s.index(':'): s.index(':') + 2]\n",
    "    if lexical_rel != '': lexical_rel = ' ( ' + lexical_rel + ' )'\n",
    "    return s.replace(rel_id_span, lexical_rel)\n",
    "        \n",
    "relation_labels = {'entity': ['former', 'latter'], 'lexical': ['same', 'opposite', 'unrelated']}\n",
    "\n",
    "def make_sentences(entities=['_X', '_Z'], entity_set=string.ascii_uppercase, determiner=\"\",\n",
    "                   relation_group=[[\"confident\",], [\"uncertain\",]], rand_relation_group=[[\"short\"], [\"tall\", \"high\"]],\n",
    "                   relation_prefix=\"\", relation_suffix=\"\", predicate_prefix=\"\",\n",
    "                   n_entity_trials=3, has_negA=True, has_negB=True, has_neutral=False, mask_types={'sent_rel'}, \n",
    "                   lexical_relations=None, entity_relations=None, tag_lexical_rel=False, tag_entity_rel=False):\n",
    "#     if tag_lexical_rel: mask_types.add('lexical_rel')\n",
    "#     if tag_entity_rel: mask_types.add('entity_rel')\n",
    "    def get_comparative(word):\n",
    "        compar = comparative(word)\n",
    "        if tag_lexical_rel:\n",
    "            marker = markers['lexical']\n",
    "            compar = compar.replace('more ', 'more %s ' % marker) if compar.startswith('more ') else marker + ' ' + compar\n",
    "        return compar\n",
    "  \n",
    "    def form_As(relations):\n",
    "        return [A_template.format(dt=determiner, ent0=ent0, ent1=ent1, rel=rel, \n",
    "                                  rel_prefix=relation_prefix, rel_suffix=relation_suffix)\n",
    "              for ent0, ent1, rel in [entities + relations[:1], reverse(entities) + reverse(relations)[:1]]]\n",
    "    As = []\n",
    "    for rel0 in relation_group[0]:\n",
    "        for rel1 in relation_group[1]:\n",
    "            relations = [\"is %s:%d than\" % (get_comparative(rel), i) for i, rel in enumerate([rel0, rel1])]\n",
    "            As += form_As(relations)\n",
    "    As = list(set(As))\n",
    "    negAs = join_lists([negate_sent(A)[:1] for A in As]) if has_negA else []\n",
    "\n",
    "    def form_Bs(predicates): \n",
    "        f = mask if 'entity' in mask_types else (lambda x: x)\n",
    "        return [B_template.format(dt=determiner, ent=f(ent), pred=pred, pred_prefix=predicate_prefix)\n",
    "              for ent, pred in zip(entities, predicates)]\n",
    "\n",
    "    Bs, negBs = {'orig': [], 'rand': []}, {}\n",
    "    for k, group in zip(['orig', 'rand'], [relation_group, rand_relation_group]):\n",
    "        for rel0 in group[0]:\n",
    "            for rel1 in group[1]:\n",
    "                predicates = [\"is %s:%d\" % (get_comparative(rel), i) for i, rel in enumerate([rel0, rel1])]\n",
    "                Bs[k] += form_Bs(predicates)\n",
    "    for k in Bs:\n",
    "        Bs[k] = list(set(Bs[k]))\n",
    "        if has_negB:\n",
    "            negBs[k] = join_lists([negate_sent(B)[:1] for B in Bs[k]])\n",
    "            Bs[k], negBs[k] = Bs[k] + [swap_entities(negB) for negB in negBs[k]], negBs[k] + [swap_entities(B) for B in Bs[k]]\n",
    "        else:\n",
    "            negBs[k] = [swap_entities(B) for B in Bs[k]]\n",
    "      \n",
    "    comparatives = [comparative(r).replace('more ', '') for r in join_lists(relation_group) + join_lists(rand_relation_group)]\n",
    "    def form_sentences(sentence_template, As, Bs, conj):\n",
    "        def compare_and_tag_comparative(A, B):\n",
    "            if 'Maybe' in conj:\n",
    "                lexical_rel = 'unrelated'\n",
    "            else:\n",
    "                lexical_rel = 'same' if extract_rel_id(A) == extract_rel_id(B) else 'opposite'\n",
    "            if lexical_relations and lexical_rel not in lexical_relations:\n",
    "                return None, None\n",
    "            if 'lexical_rel' in mask_types: lexical_rel = mask(lexical_rel)\n",
    "            return strip_rel_id(A), strip_rel_id(B, lexical_rel)\n",
    "        def tag_entity(token, recurred_entity, entity_rel=None):\n",
    "            if token != recurred_entity: return token\n",
    "            return markers['entity'] + ' ' + token\n",
    "#             if token not in entities: return token\n",
    "#             entity_rel = 'paired' if token == recurred_entity else 'single'\n",
    "#             if 'entity_rel' in mask_types: entity_rel = mask(entity_rel)\n",
    "#             return token + ' ( %s )' % entity_rel\n",
    "        def compare_and_tag_entity(A, B):\n",
    "            recurred_entity = [e for e in entities if e in B.split()][0]\n",
    "            A = ' '.join([tag_entity(token, recurred_entity) for token in A.split()])\n",
    "            B = ' '.join([tag_entity(token, recurred_entity) for token in B.split()])\n",
    "            entity_rel = 'former' if A.split().index(recurred_entity) in [0, 1] else 'latter'\n",
    "            if entity_relations and entity_rel not in entity_relations: return None, None\n",
    "            if 'entity_rel' in mask_types: entity_rel = mask(entity_rel)\n",
    "            return A, B.replace(recurred_entity, recurred_entity + ' ( ' + entity_rel + ' )')\n",
    "        \n",
    "        if '?' not in sentence_template:\n",
    "            conj = ans2label[conj] if sentence_template.count('|||') == 2 else ans2verb[conj]\n",
    "        if 'sent_rel' in mask_types and conj not in ans2label.values(): conj = mask(conj)\n",
    "        sentences = []\n",
    "        cores = []\n",
    "        for A, B in product(As, Bs):\n",
    "            A, B = compare_and_tag_comparative(A, B) \\\n",
    "                if tag_lexical_rel else (strip_rel_id(A), strip_rel_id(B))\n",
    "            if A is None: continue\n",
    "            if tag_entity_rel: A, B = compare_and_tag_entity(A, B)\n",
    "            if A is None: continue\n",
    "            sent = sentence_template.format(A=A, B=B, conj=conj)\n",
    "            sent = \" \" + \" \".join(sent.split())\n",
    "            sentences.append(sent)\n",
    "        return sentences, cores\n",
    "    \n",
    "    sentences = defaultdict(list)\n",
    "    cores = defaultdict(list)\n",
    "    for entailment_template in entailment_templates[-1:]:\n",
    "        for A, B, conj in [(As, Bs['orig'], 'Right'), (negAs, negBs['orig'], 'Right'), \n",
    "                           (As, negBs['orig'], 'Wrong'), (negAs, Bs['orig'], 'Wrong'),\n",
    "                           (As, Bs['rand'], 'Maybe'), (negAs, negBs['rand'], 'Maybe'), \n",
    "                           (As, negBs['rand'], 'Maybe'), (negAs, Bs['rand'], 'Maybe')]:\n",
    "            ss, cs = form_sentences(entailment_template, A, B, conj)\n",
    "            sentences[conj] += ss\n",
    "            cores[conj] += cs\n",
    "    assert len(sentences['Right']) == len(sentences['Wrong']), \\\n",
    "        '%d %d' % (len(sentences['Right']), len(sentences['Wrong']))\n",
    "    if has_neutral:\n",
    "        sentences['Maybe'] = random.sample(sentences['Maybe'], len(sentences['Right']))\n",
    "    keys = sentences.keys() if has_neutral else ['Right', 'Wrong']\n",
    "    sentences = join_lists(sentences[k] for k in keys)\n",
    "    \n",
    "    def substitute(templates, n_entity_trials):\n",
    "        substituted_groups = []\n",
    "        for template in templates:\n",
    "            group = []\n",
    "            for _ in range(n_entity_trials):\n",
    "                e0, e1 = random.sample(entity_set, 2)\n",
    "                group.append(template.replace(entities[0], e0).replace(entities[1], e1))\n",
    "            substituted_groups.append(group)\n",
    "        return substituted_groups\n",
    "    \n",
    "    substituted_sent_groups = substitute(sentences, n_entity_trials=n_entity_trials)\n",
    "    cores = list(set(join_lists(cores[k] for k in keys)))\n",
    "    cores = balance(cores, relation_labels)\n",
    "    substituted_core_groups = substitute(cores, n_entity_trials=1)\n",
    "    return sentences, substituted_sent_groups #, cores, substituted_core_groups\n",
    "\n",
    "make_sentences(has_negA=True, has_negB=True, has_neutral=False, tag_lexical_rel=False, tag_entity_rel=False,\n",
    "               mask_types={'sent_rel'})[0]"
   ]
  },
  {
   "cell_type": "code",
   "execution_count": 5,
   "metadata": {},
   "outputs": [
    {
     "data": {
      "text/plain": [
       "[' _X is bigger than _Y and _Y is bigger than _Z .||| _X is bigger than _Z .|||e',\n",
       " ' _X is bigger than _Y and _Y is bigger than _Z .||| _Z is smaller than _X .|||e',\n",
       " ' _X is bigger than _Y and _Y is bigger than _Z .||| _X is not smaller than _Z .|||e',\n",
       " ' _X is bigger than _Y and _Y is bigger than _Z .||| _Z is not bigger than _X .|||e',\n",
       " ' _X is bigger than _Y and _Z is smaller than _Y .||| _X is bigger than _Z .|||e',\n",
       " ' _X is bigger than _Y and _Z is smaller than _Y .||| _Z is smaller than _X .|||e',\n",
       " ' _X is bigger than _Y and _Z is smaller than _Y .||| _X is not smaller than _Z .|||e',\n",
       " ' _X is bigger than _Y and _Z is smaller than _Y .||| _Z is not bigger than _X .|||e',\n",
       " ' _X is bigger than _Y and _Y is not smaller than _Z .||| _X is bigger than _Z .|||e',\n",
       " ' _X is bigger than _Y and _Y is not smaller than _Z .||| _Z is smaller than _X .|||e',\n",
       " ' _X is bigger than _Y and _Y is not smaller than _Z .||| _X is not smaller than _Z .|||e',\n",
       " ' _X is bigger than _Y and _Y is not smaller than _Z .||| _Z is not bigger than _X .|||e',\n",
       " ' _X is bigger than _Y and _Z is not bigger than _Y .||| _X is bigger than _Z .|||e',\n",
       " ' _X is bigger than _Y and _Z is not bigger than _Y .||| _Z is smaller than _X .|||e',\n",
       " ' _X is bigger than _Y and _Z is not bigger than _Y .||| _X is not smaller than _Z .|||e',\n",
       " ' _X is bigger than _Y and _Z is not bigger than _Y .||| _Z is not bigger than _X .|||e',\n",
       " ' _Y is smaller than _X and _Y is bigger than _Z .||| _X is bigger than _Z .|||e',\n",
       " ' _Y is smaller than _X and _Y is bigger than _Z .||| _Z is smaller than _X .|||e',\n",
       " ' _Y is smaller than _X and _Y is bigger than _Z .||| _X is not smaller than _Z .|||e',\n",
       " ' _Y is smaller than _X and _Y is bigger than _Z .||| _Z is not bigger than _X .|||e',\n",
       " ' _Y is smaller than _X and _Z is smaller than _Y .||| _X is bigger than _Z .|||e',\n",
       " ' _Y is smaller than _X and _Z is smaller than _Y .||| _Z is smaller than _X .|||e',\n",
       " ' _Y is smaller than _X and _Z is smaller than _Y .||| _X is not smaller than _Z .|||e',\n",
       " ' _Y is smaller than _X and _Z is smaller than _Y .||| _Z is not bigger than _X .|||e',\n",
       " ' _Y is smaller than _X and _Y is not smaller than _Z .||| _X is bigger than _Z .|||e',\n",
       " ' _Y is smaller than _X and _Y is not smaller than _Z .||| _Z is smaller than _X .|||e',\n",
       " ' _Y is smaller than _X and _Y is not smaller than _Z .||| _X is not smaller than _Z .|||e',\n",
       " ' _Y is smaller than _X and _Y is not smaller than _Z .||| _Z is not bigger than _X .|||e',\n",
       " ' _Y is smaller than _X and _Z is not bigger than _Y .||| _X is bigger than _Z .|||e',\n",
       " ' _Y is smaller than _X and _Z is not bigger than _Y .||| _Z is smaller than _X .|||e',\n",
       " ' _Y is smaller than _X and _Z is not bigger than _Y .||| _X is not smaller than _Z .|||e',\n",
       " ' _Y is smaller than _X and _Z is not bigger than _Y .||| _Z is not bigger than _X .|||e',\n",
       " ' _X is not smaller than _Y and _Y is bigger than _Z .||| _X is bigger than _Z .|||e',\n",
       " ' _X is not smaller than _Y and _Y is bigger than _Z .||| _Z is smaller than _X .|||e',\n",
       " ' _X is not smaller than _Y and _Y is bigger than _Z .||| _X is not smaller than _Z .|||e',\n",
       " ' _X is not smaller than _Y and _Y is bigger than _Z .||| _Z is not bigger than _X .|||e',\n",
       " ' _X is not smaller than _Y and _Z is smaller than _Y .||| _X is bigger than _Z .|||e',\n",
       " ' _X is not smaller than _Y and _Z is smaller than _Y .||| _Z is smaller than _X .|||e',\n",
       " ' _X is not smaller than _Y and _Z is smaller than _Y .||| _X is not smaller than _Z .|||e',\n",
       " ' _X is not smaller than _Y and _Z is smaller than _Y .||| _Z is not bigger than _X .|||e',\n",
       " ' _X is not smaller than _Y and _Y is not smaller than _Z .||| _X is bigger than _Z .|||e',\n",
       " ' _X is not smaller than _Y and _Y is not smaller than _Z .||| _Z is smaller than _X .|||e',\n",
       " ' _X is not smaller than _Y and _Y is not smaller than _Z .||| _X is not smaller than _Z .|||e',\n",
       " ' _X is not smaller than _Y and _Y is not smaller than _Z .||| _Z is not bigger than _X .|||e',\n",
       " ' _X is not smaller than _Y and _Z is not bigger than _Y .||| _X is bigger than _Z .|||e',\n",
       " ' _X is not smaller than _Y and _Z is not bigger than _Y .||| _Z is smaller than _X .|||e',\n",
       " ' _X is not smaller than _Y and _Z is not bigger than _Y .||| _X is not smaller than _Z .|||e',\n",
       " ' _X is not smaller than _Y and _Z is not bigger than _Y .||| _Z is not bigger than _X .|||e',\n",
       " ' _Y is not bigger than _X and _Y is bigger than _Z .||| _X is bigger than _Z .|||e',\n",
       " ' _Y is not bigger than _X and _Y is bigger than _Z .||| _Z is smaller than _X .|||e',\n",
       " ' _Y is not bigger than _X and _Y is bigger than _Z .||| _X is not smaller than _Z .|||e',\n",
       " ' _Y is not bigger than _X and _Y is bigger than _Z .||| _Z is not bigger than _X .|||e',\n",
       " ' _Y is not bigger than _X and _Z is smaller than _Y .||| _X is bigger than _Z .|||e',\n",
       " ' _Y is not bigger than _X and _Z is smaller than _Y .||| _Z is smaller than _X .|||e',\n",
       " ' _Y is not bigger than _X and _Z is smaller than _Y .||| _X is not smaller than _Z .|||e',\n",
       " ' _Y is not bigger than _X and _Z is smaller than _Y .||| _Z is not bigger than _X .|||e',\n",
       " ' _Y is not bigger than _X and _Y is not smaller than _Z .||| _X is bigger than _Z .|||e',\n",
       " ' _Y is not bigger than _X and _Y is not smaller than _Z .||| _Z is smaller than _X .|||e',\n",
       " ' _Y is not bigger than _X and _Y is not smaller than _Z .||| _X is not smaller than _Z .|||e',\n",
       " ' _Y is not bigger than _X and _Y is not smaller than _Z .||| _Z is not bigger than _X .|||e',\n",
       " ' _Y is not bigger than _X and _Z is not bigger than _Y .||| _X is bigger than _Z .|||e',\n",
       " ' _Y is not bigger than _X and _Z is not bigger than _Y .||| _Z is smaller than _X .|||e',\n",
       " ' _Y is not bigger than _X and _Z is not bigger than _Y .||| _X is not smaller than _Z .|||e',\n",
       " ' _Y is not bigger than _X and _Z is not bigger than _Y .||| _Z is not bigger than _X .|||e',\n",
       " ' _Y is bigger than _Z and _X is bigger than _Y .||| _X is bigger than _Z .|||e',\n",
       " ' _Y is bigger than _Z and _X is bigger than _Y .||| _Z is smaller than _X .|||e',\n",
       " ' _Y is bigger than _Z and _X is bigger than _Y .||| _X is not smaller than _Z .|||e',\n",
       " ' _Y is bigger than _Z and _X is bigger than _Y .||| _Z is not bigger than _X .|||e',\n",
       " ' _Y is bigger than _Z and _Y is smaller than _X .||| _X is bigger than _Z .|||e',\n",
       " ' _Y is bigger than _Z and _Y is smaller than _X .||| _Z is smaller than _X .|||e',\n",
       " ' _Y is bigger than _Z and _Y is smaller than _X .||| _X is not smaller than _Z .|||e',\n",
       " ' _Y is bigger than _Z and _Y is smaller than _X .||| _Z is not bigger than _X .|||e',\n",
       " ' _Y is bigger than _Z and _X is not smaller than _Y .||| _X is bigger than _Z .|||e',\n",
       " ' _Y is bigger than _Z and _X is not smaller than _Y .||| _Z is smaller than _X .|||e',\n",
       " ' _Y is bigger than _Z and _X is not smaller than _Y .||| _X is not smaller than _Z .|||e',\n",
       " ' _Y is bigger than _Z and _X is not smaller than _Y .||| _Z is not bigger than _X .|||e',\n",
       " ' _Y is bigger than _Z and _Y is not bigger than _X .||| _X is bigger than _Z .|||e',\n",
       " ' _Y is bigger than _Z and _Y is not bigger than _X .||| _Z is smaller than _X .|||e',\n",
       " ' _Y is bigger than _Z and _Y is not bigger than _X .||| _X is not smaller than _Z .|||e',\n",
       " ' _Y is bigger than _Z and _Y is not bigger than _X .||| _Z is not bigger than _X .|||e',\n",
       " ' _Z is smaller than _Y and _X is bigger than _Y .||| _X is bigger than _Z .|||e',\n",
       " ' _Z is smaller than _Y and _X is bigger than _Y .||| _Z is smaller than _X .|||e',\n",
       " ' _Z is smaller than _Y and _X is bigger than _Y .||| _X is not smaller than _Z .|||e',\n",
       " ' _Z is smaller than _Y and _X is bigger than _Y .||| _Z is not bigger than _X .|||e',\n",
       " ' _Z is smaller than _Y and _Y is smaller than _X .||| _X is bigger than _Z .|||e',\n",
       " ' _Z is smaller than _Y and _Y is smaller than _X .||| _Z is smaller than _X .|||e',\n",
       " ' _Z is smaller than _Y and _Y is smaller than _X .||| _X is not smaller than _Z .|||e',\n",
       " ' _Z is smaller than _Y and _Y is smaller than _X .||| _Z is not bigger than _X .|||e',\n",
       " ' _Z is smaller than _Y and _X is not smaller than _Y .||| _X is bigger than _Z .|||e',\n",
       " ' _Z is smaller than _Y and _X is not smaller than _Y .||| _Z is smaller than _X .|||e',\n",
       " ' _Z is smaller than _Y and _X is not smaller than _Y .||| _X is not smaller than _Z .|||e',\n",
       " ' _Z is smaller than _Y and _X is not smaller than _Y .||| _Z is not bigger than _X .|||e',\n",
       " ' _Z is smaller than _Y and _Y is not bigger than _X .||| _X is bigger than _Z .|||e',\n",
       " ' _Z is smaller than _Y and _Y is not bigger than _X .||| _Z is smaller than _X .|||e',\n",
       " ' _Z is smaller than _Y and _Y is not bigger than _X .||| _X is not smaller than _Z .|||e',\n",
       " ' _Z is smaller than _Y and _Y is not bigger than _X .||| _Z is not bigger than _X .|||e',\n",
       " ' _Y is not smaller than _Z and _X is bigger than _Y .||| _X is bigger than _Z .|||e',\n",
       " ' _Y is not smaller than _Z and _X is bigger than _Y .||| _Z is smaller than _X .|||e',\n",
       " ' _Y is not smaller than _Z and _X is bigger than _Y .||| _X is not smaller than _Z .|||e',\n",
       " ' _Y is not smaller than _Z and _X is bigger than _Y .||| _Z is not bigger than _X .|||e',\n",
       " ' _Y is not smaller than _Z and _Y is smaller than _X .||| _X is bigger than _Z .|||e',\n",
       " ' _Y is not smaller than _Z and _Y is smaller than _X .||| _Z is smaller than _X .|||e',\n",
       " ' _Y is not smaller than _Z and _Y is smaller than _X .||| _X is not smaller than _Z .|||e',\n",
       " ' _Y is not smaller than _Z and _Y is smaller than _X .||| _Z is not bigger than _X .|||e',\n",
       " ' _Y is not smaller than _Z and _X is not smaller than _Y .||| _X is bigger than _Z .|||e',\n",
       " ' _Y is not smaller than _Z and _X is not smaller than _Y .||| _Z is smaller than _X .|||e',\n",
       " ' _Y is not smaller than _Z and _X is not smaller than _Y .||| _X is not smaller than _Z .|||e',\n",
       " ' _Y is not smaller than _Z and _X is not smaller than _Y .||| _Z is not bigger than _X .|||e',\n",
       " ' _Y is not smaller than _Z and _Y is not bigger than _X .||| _X is bigger than _Z .|||e',\n",
       " ' _Y is not smaller than _Z and _Y is not bigger than _X .||| _Z is smaller than _X .|||e',\n",
       " ' _Y is not smaller than _Z and _Y is not bigger than _X .||| _X is not smaller than _Z .|||e',\n",
       " ' _Y is not smaller than _Z and _Y is not bigger than _X .||| _Z is not bigger than _X .|||e',\n",
       " ' _Z is not bigger than _Y and _X is bigger than _Y .||| _X is bigger than _Z .|||e',\n",
       " ' _Z is not bigger than _Y and _X is bigger than _Y .||| _Z is smaller than _X .|||e',\n",
       " ' _Z is not bigger than _Y and _X is bigger than _Y .||| _X is not smaller than _Z .|||e',\n",
       " ' _Z is not bigger than _Y and _X is bigger than _Y .||| _Z is not bigger than _X .|||e',\n",
       " ' _Z is not bigger than _Y and _Y is smaller than _X .||| _X is bigger than _Z .|||e',\n",
       " ' _Z is not bigger than _Y and _Y is smaller than _X .||| _Z is smaller than _X .|||e',\n",
       " ' _Z is not bigger than _Y and _Y is smaller than _X .||| _X is not smaller than _Z .|||e',\n",
       " ' _Z is not bigger than _Y and _Y is smaller than _X .||| _Z is not bigger than _X .|||e',\n",
       " ' _Z is not bigger than _Y and _X is not smaller than _Y .||| _X is bigger than _Z .|||e',\n",
       " ' _Z is not bigger than _Y and _X is not smaller than _Y .||| _Z is smaller than _X .|||e',\n",
       " ' _Z is not bigger than _Y and _X is not smaller than _Y .||| _X is not smaller than _Z .|||e',\n",
       " ' _Z is not bigger than _Y and _X is not smaller than _Y .||| _Z is not bigger than _X .|||e',\n",
       " ' _Z is not bigger than _Y and _Y is not bigger than _X .||| _X is bigger than _Z .|||e',\n",
       " ' _Z is not bigger than _Y and _Y is not bigger than _X .||| _Z is smaller than _X .|||e',\n",
       " ' _Z is not bigger than _Y and _Y is not bigger than _X .||| _X is not smaller than _Z .|||e',\n",
       " ' _Z is not bigger than _Y and _Y is not bigger than _X .||| _Z is not bigger than _X .|||e',\n",
       " ' _X is bigger than _Y and _Y is bigger than _Z .||| _Z is bigger than _X .|||c',\n",
       " ' _X is bigger than _Y and _Y is bigger than _Z .||| _X is smaller than _Z .|||c',\n",
       " ' _X is bigger than _Y and _Y is bigger than _Z .||| _Z is not smaller than _X .|||c',\n",
       " ' _X is bigger than _Y and _Y is bigger than _Z .||| _X is not bigger than _Z .|||c',\n",
       " ' _X is bigger than _Y and _Z is smaller than _Y .||| _Z is bigger than _X .|||c',\n",
       " ' _X is bigger than _Y and _Z is smaller than _Y .||| _X is smaller than _Z .|||c',\n",
       " ' _X is bigger than _Y and _Z is smaller than _Y .||| _Z is not smaller than _X .|||c',\n",
       " ' _X is bigger than _Y and _Z is smaller than _Y .||| _X is not bigger than _Z .|||c',\n",
       " ' _X is bigger than _Y and _Y is not smaller than _Z .||| _Z is bigger than _X .|||c',\n",
       " ' _X is bigger than _Y and _Y is not smaller than _Z .||| _X is smaller than _Z .|||c',\n",
       " ' _X is bigger than _Y and _Y is not smaller than _Z .||| _Z is not smaller than _X .|||c',\n",
       " ' _X is bigger than _Y and _Y is not smaller than _Z .||| _X is not bigger than _Z .|||c',\n",
       " ' _X is bigger than _Y and _Z is not bigger than _Y .||| _Z is bigger than _X .|||c',\n",
       " ' _X is bigger than _Y and _Z is not bigger than _Y .||| _X is smaller than _Z .|||c',\n",
       " ' _X is bigger than _Y and _Z is not bigger than _Y .||| _Z is not smaller than _X .|||c',\n",
       " ' _X is bigger than _Y and _Z is not bigger than _Y .||| _X is not bigger than _Z .|||c',\n",
       " ' _Y is smaller than _X and _Y is bigger than _Z .||| _Z is bigger than _X .|||c',\n",
       " ' _Y is smaller than _X and _Y is bigger than _Z .||| _X is smaller than _Z .|||c',\n",
       " ' _Y is smaller than _X and _Y is bigger than _Z .||| _Z is not smaller than _X .|||c',\n",
       " ' _Y is smaller than _X and _Y is bigger than _Z .||| _X is not bigger than _Z .|||c',\n",
       " ' _Y is smaller than _X and _Z is smaller than _Y .||| _Z is bigger than _X .|||c',\n",
       " ' _Y is smaller than _X and _Z is smaller than _Y .||| _X is smaller than _Z .|||c',\n",
       " ' _Y is smaller than _X and _Z is smaller than _Y .||| _Z is not smaller than _X .|||c',\n",
       " ' _Y is smaller than _X and _Z is smaller than _Y .||| _X is not bigger than _Z .|||c',\n",
       " ' _Y is smaller than _X and _Y is not smaller than _Z .||| _Z is bigger than _X .|||c',\n",
       " ' _Y is smaller than _X and _Y is not smaller than _Z .||| _X is smaller than _Z .|||c',\n",
       " ' _Y is smaller than _X and _Y is not smaller than _Z .||| _Z is not smaller than _X .|||c',\n",
       " ' _Y is smaller than _X and _Y is not smaller than _Z .||| _X is not bigger than _Z .|||c',\n",
       " ' _Y is smaller than _X and _Z is not bigger than _Y .||| _Z is bigger than _X .|||c',\n",
       " ' _Y is smaller than _X and _Z is not bigger than _Y .||| _X is smaller than _Z .|||c',\n",
       " ' _Y is smaller than _X and _Z is not bigger than _Y .||| _Z is not smaller than _X .|||c',\n",
       " ' _Y is smaller than _X and _Z is not bigger than _Y .||| _X is not bigger than _Z .|||c',\n",
       " ' _X is not smaller than _Y and _Y is bigger than _Z .||| _Z is bigger than _X .|||c',\n",
       " ' _X is not smaller than _Y and _Y is bigger than _Z .||| _X is smaller than _Z .|||c',\n",
       " ' _X is not smaller than _Y and _Y is bigger than _Z .||| _Z is not smaller than _X .|||c',\n",
       " ' _X is not smaller than _Y and _Y is bigger than _Z .||| _X is not bigger than _Z .|||c',\n",
       " ' _X is not smaller than _Y and _Z is smaller than _Y .||| _Z is bigger than _X .|||c',\n",
       " ' _X is not smaller than _Y and _Z is smaller than _Y .||| _X is smaller than _Z .|||c',\n",
       " ' _X is not smaller than _Y and _Z is smaller than _Y .||| _Z is not smaller than _X .|||c',\n",
       " ' _X is not smaller than _Y and _Z is smaller than _Y .||| _X is not bigger than _Z .|||c',\n",
       " ' _X is not smaller than _Y and _Y is not smaller than _Z .||| _Z is bigger than _X .|||c',\n",
       " ' _X is not smaller than _Y and _Y is not smaller than _Z .||| _X is smaller than _Z .|||c',\n",
       " ' _X is not smaller than _Y and _Y is not smaller than _Z .||| _Z is not smaller than _X .|||c',\n",
       " ' _X is not smaller than _Y and _Y is not smaller than _Z .||| _X is not bigger than _Z .|||c',\n",
       " ' _X is not smaller than _Y and _Z is not bigger than _Y .||| _Z is bigger than _X .|||c',\n",
       " ' _X is not smaller than _Y and _Z is not bigger than _Y .||| _X is smaller than _Z .|||c',\n",
       " ' _X is not smaller than _Y and _Z is not bigger than _Y .||| _Z is not smaller than _X .|||c',\n",
       " ' _X is not smaller than _Y and _Z is not bigger than _Y .||| _X is not bigger than _Z .|||c',\n",
       " ' _Y is not bigger than _X and _Y is bigger than _Z .||| _Z is bigger than _X .|||c',\n",
       " ' _Y is not bigger than _X and _Y is bigger than _Z .||| _X is smaller than _Z .|||c',\n",
       " ' _Y is not bigger than _X and _Y is bigger than _Z .||| _Z is not smaller than _X .|||c',\n",
       " ' _Y is not bigger than _X and _Y is bigger than _Z .||| _X is not bigger than _Z .|||c',\n",
       " ' _Y is not bigger than _X and _Z is smaller than _Y .||| _Z is bigger than _X .|||c',\n",
       " ' _Y is not bigger than _X and _Z is smaller than _Y .||| _X is smaller than _Z .|||c',\n",
       " ' _Y is not bigger than _X and _Z is smaller than _Y .||| _Z is not smaller than _X .|||c',\n",
       " ' _Y is not bigger than _X and _Z is smaller than _Y .||| _X is not bigger than _Z .|||c',\n",
       " ' _Y is not bigger than _X and _Y is not smaller than _Z .||| _Z is bigger than _X .|||c',\n",
       " ' _Y is not bigger than _X and _Y is not smaller than _Z .||| _X is smaller than _Z .|||c',\n",
       " ' _Y is not bigger than _X and _Y is not smaller than _Z .||| _Z is not smaller than _X .|||c',\n",
       " ' _Y is not bigger than _X and _Y is not smaller than _Z .||| _X is not bigger than _Z .|||c',\n",
       " ' _Y is not bigger than _X and _Z is not bigger than _Y .||| _Z is bigger than _X .|||c',\n",
       " ' _Y is not bigger than _X and _Z is not bigger than _Y .||| _X is smaller than _Z .|||c',\n",
       " ' _Y is not bigger than _X and _Z is not bigger than _Y .||| _Z is not smaller than _X .|||c',\n",
       " ' _Y is not bigger than _X and _Z is not bigger than _Y .||| _X is not bigger than _Z .|||c',\n",
       " ' _Y is bigger than _Z and _X is bigger than _Y .||| _Z is bigger than _X .|||c',\n",
       " ' _Y is bigger than _Z and _X is bigger than _Y .||| _X is smaller than _Z .|||c',\n",
       " ' _Y is bigger than _Z and _X is bigger than _Y .||| _Z is not smaller than _X .|||c',\n",
       " ' _Y is bigger than _Z and _X is bigger than _Y .||| _X is not bigger than _Z .|||c',\n",
       " ' _Y is bigger than _Z and _Y is smaller than _X .||| _Z is bigger than _X .|||c',\n",
       " ' _Y is bigger than _Z and _Y is smaller than _X .||| _X is smaller than _Z .|||c',\n",
       " ' _Y is bigger than _Z and _Y is smaller than _X .||| _Z is not smaller than _X .|||c',\n",
       " ' _Y is bigger than _Z and _Y is smaller than _X .||| _X is not bigger than _Z .|||c',\n",
       " ' _Y is bigger than _Z and _X is not smaller than _Y .||| _Z is bigger than _X .|||c',\n",
       " ' _Y is bigger than _Z and _X is not smaller than _Y .||| _X is smaller than _Z .|||c',\n",
       " ' _Y is bigger than _Z and _X is not smaller than _Y .||| _Z is not smaller than _X .|||c',\n",
       " ' _Y is bigger than _Z and _X is not smaller than _Y .||| _X is not bigger than _Z .|||c',\n",
       " ' _Y is bigger than _Z and _Y is not bigger than _X .||| _Z is bigger than _X .|||c',\n",
       " ' _Y is bigger than _Z and _Y is not bigger than _X .||| _X is smaller than _Z .|||c',\n",
       " ' _Y is bigger than _Z and _Y is not bigger than _X .||| _Z is not smaller than _X .|||c',\n",
       " ' _Y is bigger than _Z and _Y is not bigger than _X .||| _X is not bigger than _Z .|||c',\n",
       " ' _Z is smaller than _Y and _X is bigger than _Y .||| _Z is bigger than _X .|||c',\n",
       " ' _Z is smaller than _Y and _X is bigger than _Y .||| _X is smaller than _Z .|||c',\n",
       " ' _Z is smaller than _Y and _X is bigger than _Y .||| _Z is not smaller than _X .|||c',\n",
       " ' _Z is smaller than _Y and _X is bigger than _Y .||| _X is not bigger than _Z .|||c',\n",
       " ' _Z is smaller than _Y and _Y is smaller than _X .||| _Z is bigger than _X .|||c',\n",
       " ' _Z is smaller than _Y and _Y is smaller than _X .||| _X is smaller than _Z .|||c',\n",
       " ' _Z is smaller than _Y and _Y is smaller than _X .||| _Z is not smaller than _X .|||c',\n",
       " ' _Z is smaller than _Y and _Y is smaller than _X .||| _X is not bigger than _Z .|||c',\n",
       " ' _Z is smaller than _Y and _X is not smaller than _Y .||| _Z is bigger than _X .|||c',\n",
       " ' _Z is smaller than _Y and _X is not smaller than _Y .||| _X is smaller than _Z .|||c',\n",
       " ' _Z is smaller than _Y and _X is not smaller than _Y .||| _Z is not smaller than _X .|||c',\n",
       " ' _Z is smaller than _Y and _X is not smaller than _Y .||| _X is not bigger than _Z .|||c',\n",
       " ' _Z is smaller than _Y and _Y is not bigger than _X .||| _Z is bigger than _X .|||c',\n",
       " ' _Z is smaller than _Y and _Y is not bigger than _X .||| _X is smaller than _Z .|||c',\n",
       " ' _Z is smaller than _Y and _Y is not bigger than _X .||| _Z is not smaller than _X .|||c',\n",
       " ' _Z is smaller than _Y and _Y is not bigger than _X .||| _X is not bigger than _Z .|||c',\n",
       " ' _Y is not smaller than _Z and _X is bigger than _Y .||| _Z is bigger than _X .|||c',\n",
       " ' _Y is not smaller than _Z and _X is bigger than _Y .||| _X is smaller than _Z .|||c',\n",
       " ' _Y is not smaller than _Z and _X is bigger than _Y .||| _Z is not smaller than _X .|||c',\n",
       " ' _Y is not smaller than _Z and _X is bigger than _Y .||| _X is not bigger than _Z .|||c',\n",
       " ' _Y is not smaller than _Z and _Y is smaller than _X .||| _Z is bigger than _X .|||c',\n",
       " ' _Y is not smaller than _Z and _Y is smaller than _X .||| _X is smaller than _Z .|||c',\n",
       " ' _Y is not smaller than _Z and _Y is smaller than _X .||| _Z is not smaller than _X .|||c',\n",
       " ' _Y is not smaller than _Z and _Y is smaller than _X .||| _X is not bigger than _Z .|||c',\n",
       " ' _Y is not smaller than _Z and _X is not smaller than _Y .||| _Z is bigger than _X .|||c',\n",
       " ' _Y is not smaller than _Z and _X is not smaller than _Y .||| _X is smaller than _Z .|||c',\n",
       " ' _Y is not smaller than _Z and _X is not smaller than _Y .||| _Z is not smaller than _X .|||c',\n",
       " ' _Y is not smaller than _Z and _X is not smaller than _Y .||| _X is not bigger than _Z .|||c',\n",
       " ' _Y is not smaller than _Z and _Y is not bigger than _X .||| _Z is bigger than _X .|||c',\n",
       " ' _Y is not smaller than _Z and _Y is not bigger than _X .||| _X is smaller than _Z .|||c',\n",
       " ' _Y is not smaller than _Z and _Y is not bigger than _X .||| _Z is not smaller than _X .|||c',\n",
       " ' _Y is not smaller than _Z and _Y is not bigger than _X .||| _X is not bigger than _Z .|||c',\n",
       " ' _Z is not bigger than _Y and _X is bigger than _Y .||| _Z is bigger than _X .|||c',\n",
       " ' _Z is not bigger than _Y and _X is bigger than _Y .||| _X is smaller than _Z .|||c',\n",
       " ' _Z is not bigger than _Y and _X is bigger than _Y .||| _Z is not smaller than _X .|||c',\n",
       " ' _Z is not bigger than _Y and _X is bigger than _Y .||| _X is not bigger than _Z .|||c',\n",
       " ' _Z is not bigger than _Y and _Y is smaller than _X .||| _Z is bigger than _X .|||c',\n",
       " ' _Z is not bigger than _Y and _Y is smaller than _X .||| _X is smaller than _Z .|||c',\n",
       " ' _Z is not bigger than _Y and _Y is smaller than _X .||| _Z is not smaller than _X .|||c',\n",
       " ' _Z is not bigger than _Y and _Y is smaller than _X .||| _X is not bigger than _Z .|||c',\n",
       " ' _Z is not bigger than _Y and _X is not smaller than _Y .||| _Z is bigger than _X .|||c',\n",
       " ' _Z is not bigger than _Y and _X is not smaller than _Y .||| _X is smaller than _Z .|||c',\n",
       " ' _Z is not bigger than _Y and _X is not smaller than _Y .||| _Z is not smaller than _X .|||c',\n",
       " ' _Z is not bigger than _Y and _X is not smaller than _Y .||| _X is not bigger than _Z .|||c',\n",
       " ' _Z is not bigger than _Y and _Y is not bigger than _X .||| _Z is bigger than _X .|||c',\n",
       " ' _Z is not bigger than _Y and _Y is not bigger than _X .||| _X is smaller than _Z .|||c',\n",
       " ' _Z is not bigger than _Y and _Y is not bigger than _X .||| _Z is not smaller than _X .|||c',\n",
       " ' _Z is not bigger than _Y and _Y is not bigger than _X .||| _X is not bigger than _Z .|||c',\n",
       " ' _Z is not bigger than _X and _Y is not bigger than _X .||| _Y is not smaller than _Z .|||n',\n",
       " ' _Z is smaller than _X and _X is not smaller than _Y .||| _Y is smaller than _Z .|||n',\n",
       " ' _Z is smaller than _X and _X is not smaller than _Y .||| _Y is not bigger than _Z .|||n',\n",
       " ' _X is not smaller than _Y and _X is bigger than _Z .||| _Y is not smaller than _Z .|||n',\n",
       " ' _X is not smaller than _Y and _Z is smaller than _X .||| _Y is smaller than _Z .|||n',\n",
       " ' _X is not smaller than _Y and _X is bigger than _Z .||| _Z is smaller than _Y .|||n',\n",
       " ' _X is bigger than _Y and _Z is not bigger than _X .||| _Y is smaller than _Z .|||n',\n",
       " ' _X is bigger than _Z and _X is bigger than _Y .||| _Y is not smaller than _Z .|||n',\n",
       " ' _X is not smaller than _Z and _Y is not bigger than _X .||| _Y is bigger than _Z .|||n',\n",
       " ' _Z is not bigger than _X and _X is bigger than _Y .||| _Y is not smaller than _Z .|||n',\n",
       " ' _X is bigger than _Y and _Z is smaller than _X .||| _Z is not smaller than _Y .|||n',\n",
       " ' _Y is smaller than _X and _Z is not bigger than _X .||| _Y is not bigger than _Z .|||n',\n",
       " ' _Z is not bigger than _X and _Y is smaller than _X .||| _Y is smaller than _Z .|||n',\n",
       " ' _X is not smaller than _Z and _Y is smaller than _X .||| _Z is bigger than _Y .|||n',\n",
       " ' _Y is not bigger than _X and _X is bigger than _Z .||| _Z is smaller than _Y .|||n',\n",
       " ' _Z is not bigger than _X and _Y is not bigger than _X .||| _Y is not bigger than _Z .|||n',\n",
       " ' _Y is not bigger than _X and _Z is smaller than _X .||| _Z is not smaller than _Y .|||n',\n",
       " ' _X is not smaller than _Y and _Z is smaller than _X .||| _Z is not bigger than _Y .|||n',\n",
       " ' _Y is not bigger than _X and _X is bigger than _Z .||| _Z is not smaller than _Y .|||n',\n",
       " ' _X is bigger than _Y and _X is not smaller than _Z .||| _Y is bigger than _Z .|||n',\n",
       " ' _X is not smaller than _Z and _X is not smaller than _Y .||| _Y is smaller than _Z .|||n',\n",
       " ' _Z is not bigger than _X and _Y is smaller than _X .||| _Z is smaller than _Y .|||n',\n",
       " ' _Z is smaller than _X and _Y is smaller than _X .||| _Z is bigger than _Y .|||n',\n",
       " ' _X is bigger than _Y and _Z is smaller than _X .||| _Y is smaller than _Z .|||n',\n",
       " ' _X is not smaller than _Z and _X is not smaller than _Y .||| _Y is bigger than _Z .|||n',\n",
       " ' _Z is not bigger than _X and _X is not smaller than _Y .||| _Y is bigger than _Z .|||n',\n",
       " ' _Y is not bigger than _X and _X is not smaller than _Z .||| _Y is bigger than _Z .|||n',\n",
       " ' _Y is smaller than _X and _Z is smaller than _X .||| _Y is bigger than _Z .|||n',\n",
       " ' _X is bigger than _Z and _Y is not bigger than _X .||| _Z is bigger than _Y .|||n',\n",
       " ' _X is not smaller than _Z and _Y is not bigger than _X .||| _Z is not smaller than _Y .|||n',\n",
       " ' _X is not smaller than _Y and _Z is smaller than _X .||| _Z is smaller than _Y .|||n',\n",
       " ' _Z is smaller than _X and _X is not smaller than _Y .||| _Y is not smaller than _Z .|||n',\n",
       " ' _X is bigger than _Z and _X is not smaller than _Y .||| _Z is bigger than _Y .|||n',\n",
       " ' _Z is not bigger than _X and _X is bigger than _Y .||| _Z is not bigger than _Y .|||n',\n",
       " ' _X is not smaller than _Y and _Z is not bigger than _X .||| _Z is not bigger than _Y .|||n',\n",
       " ' _Z is smaller than _X and _Y is smaller than _X .||| _Z is smaller than _Y .|||n',\n",
       " ' _X is not smaller than _Y and _X is not smaller than _Z .||| _Y is smaller than _Z .|||n',\n",
       " ' _X is not smaller than _Y and _X is bigger than _Z .||| _Y is smaller than _Z .|||n',\n",
       " ' _X is not smaller than _Y and _X is bigger than _Z .||| _Y is bigger than _Z .|||n',\n",
       " ' _Z is smaller than _X and _Y is not bigger than _X .||| _Y is not smaller than _Z .|||n',\n",
       " ' _X is not smaller than _Y and _Z is smaller than _X .||| _Y is not smaller than _Z .|||n',\n",
       " ' _Y is smaller than _X and _Z is not bigger than _X .||| _Z is not bigger than _Y .|||n',\n",
       " ' _X is bigger than _Z and _Y is not bigger than _X .||| _Y is not smaller than _Z .|||n',\n",
       " ' _X is bigger than _Y and _Z is smaller than _X .||| _Y is not bigger than _Z .|||n',\n",
       " ' _X is bigger than _Y and _X is bigger than _Z .||| _Y is not smaller than _Z .|||n',\n",
       " ' _Y is smaller than _X and _Z is smaller than _X .||| _Y is not smaller than _Z .|||n',\n",
       " ' _X is bigger than _Y and _X is bigger than _Z .||| _Z is smaller than _Y .|||n',\n",
       " ' _X is not smaller than _Y and _Z is smaller than _X .||| _Z is bigger than _Y .|||n',\n",
       " ' _X is bigger than _Z and _X is bigger than _Y .||| _Z is smaller than _Y .|||n',\n",
       " ' _X is bigger than _Z and _X is not smaller than _Y .||| _Z is not bigger than _Y .|||n',\n",
       " ' _X is not smaller than _Z and _Y is smaller than _X .||| _Y is not smaller than _Z .|||n',\n",
       " ' _X is not smaller than _Y and _Z is not bigger than _X .||| _Y is smaller than _Z .|||n',\n",
       " ' _X is not smaller than _Y and _Z is smaller than _X .||| _Y is not bigger than _Z .|||n',\n",
       " ' _Z is smaller than _X and _Y is not bigger than _X .||| _Z is not bigger than _Y .|||n',\n",
       " ' _X is bigger than _Y and _X is not smaller than _Z .||| _Z is bigger than _Y .|||n',\n",
       " ' _Z is smaller than _X and _X is bigger than _Y .||| _Y is smaller than _Z .|||n',\n",
       " ' _X is not smaller than _Z and _X is not smaller than _Y .||| _Y is not smaller than _Z .|||n',\n",
       " ' _Z is smaller than _X and _X is not smaller than _Y .||| _Z is bigger than _Y .|||n',\n",
       " ' _Y is smaller than _X and _X is not smaller than _Z .||| _Z is not bigger than _Y .|||n',\n",
       " ' _X is bigger than _Z and _X is bigger than _Y .||| _Z is not smaller than _Y .|||n',\n",
       " ' _X is not smaller than _Z and _X is bigger than _Y .||| _Z is smaller than _Y .|||n',\n",
       " ' _X is bigger than _Z and _Y is not bigger than _X .||| _Z is smaller than _Y .|||n',\n",
       " ' _Z is not bigger than _X and _X is bigger than _Y .||| _Y is smaller than _Z .|||n',\n",
       " ' _X is bigger than _Z and _Y is not bigger than _X .||| _Y is smaller than _Z .|||n',\n",
       " ' _Z is smaller than _X and _Y is not bigger than _X .||| _Y is not bigger than _Z .|||n',\n",
       " ' _X is bigger than _Y and _Z is smaller than _X .||| _Y is not smaller than _Z .|||n',\n",
       " ' _Z is not bigger than _X and _X is bigger than _Y .||| _Z is smaller than _Y .|||n',\n",
       " ' _X is not smaller than _Z and _Y is not bigger than _X .||| _Z is smaller than _Y .|||n',\n",
       " ' _X is bigger than _Z and _X is not smaller than _Y .||| _Y is smaller than _Z .|||n',\n",
       " ' _Y is smaller than _X and _X is bigger than _Z .||| _Y is not bigger than _Z .|||n',\n",
       " ' _Z is not bigger than _X and _X is not smaller than _Y .||| _Z is not bigger than _Y .|||n',\n",
       " ' _X is not smaller than _Y and _Z is not bigger than _X .||| _Z is bigger than _Y .|||n',\n",
       " ' _Y is not bigger than _X and _Z is smaller than _X .||| _Z is bigger than _Y .|||n',\n",
       " ' _X is not smaller than _Z and _X is bigger than _Y .||| _Z is bigger than _Y .|||n',\n",
       " ' _X is not smaller than _Y and _X is not smaller than _Z .||| _Z is smaller than _Y .|||n',\n",
       " ' _X is not smaller than _Z and _Y is not bigger than _X .||| _Z is bigger than _Y .|||n',\n",
       " ' _Y is not bigger than _X and _X is not smaller than _Z .||| _Y is not smaller than _Z .|||n',\n",
       " ' _X is bigger than _Y and _Z is smaller than _X .||| _Z is not bigger than _Y .|||n',\n",
       " ' _Z is not bigger than _X and _Y is smaller than _X .||| _Y is not bigger than _Z .|||n',\n",
       " ' _Y is not bigger than _X and _X is not smaller than _Z .||| _Y is smaller than _Z .|||n',\n",
       " ' _X is bigger than _Y and _X is bigger than _Z .||| _Z is not bigger than _Y .|||n',\n",
       " ' _Y is smaller than _X and _Z is not bigger than _X .||| _Z is smaller than _Y .|||n',\n",
       " ' _Z is smaller than _X and _Y is smaller than _X .||| _Y is smaller than _Z .|||n',\n",
       " ' _X is not smaller than _Y and _X is not smaller than _Z .||| _Z is bigger than _Y .|||n',\n",
       " ' _X is bigger than _Y and _X is bigger than _Z .||| _Z is not smaller than _Y .|||n',\n",
       " ' _X is bigger than _Y and _X is bigger than _Z .||| _Y is smaller than _Z .|||n',\n",
       " ' _X is not smaller than _Z and _Y is not bigger than _X .||| _Z is not bigger than _Y .|||n',\n",
       " ' _Z is not bigger than _X and _Y is smaller than _X .||| _Y is bigger than _Z .|||n',\n",
       " ' _X is not smaller than _Y and _Z is not bigger than _X .||| _Z is not smaller than _Y .|||n',\n",
       " ' _Y is not bigger than _X and _Z is smaller than _X .||| _Y is bigger than _Z .|||n',\n",
       " ' _Y is smaller than _X and _X is not smaller than _Z .||| _Y is smaller than _Z .|||n',\n",
       " ' _X is bigger than _Z and _Y is smaller than _X .||| _Z is not smaller than _Y .|||n',\n",
       " ' _Z is not bigger than _X and _X is not smaller than _Y .||| _Z is bigger than _Y .|||n',\n",
       " ' _Z is smaller than _X and _X is not smaller than _Y .||| _Z is not bigger than _Y .|||n',\n",
       " ' _Z is smaller than _X and _Y is smaller than _X .||| _Y is bigger than _Z .|||n',\n",
       " ' _Y is not bigger than _X and _X is bigger than _Z .||| _Y is not bigger than _Z .|||n',\n",
       " ' _Z is smaller than _X and _Y is smaller than _X .||| _Y is not bigger than _Z .|||n',\n",
       " ' _X is bigger than _Z and _Y is smaller than _X .||| _Z is not bigger than _Y .|||n',\n",
       " ' _X is bigger than _Y and _Z is smaller than _X .||| _Z is bigger than _Y .|||n',\n",
       " ' _X is bigger than _Y and _X is bigger than _Z .||| _Z is bigger than _Y .|||n',\n",
       " ' _X is bigger than _Z and _X is bigger than _Y .||| _Z is bigger than _Y .|||n',\n",
       " ' _X is bigger than _Z and _Y is smaller than _X .||| _Z is bigger than _Y .|||n',\n",
       " ' _Z is smaller than _X and _Y is not bigger than _X .||| _Y is smaller than _Z .|||n',\n",
       " ' _Y is smaller than _X and _Z is smaller than _X .||| _Y is not bigger than _Z .|||n',\n",
       " ' _X is not smaller than _Y and _X is not smaller than _Z .||| _Y is not bigger than _Z .|||n',\n",
       " ' _X is not smaller than _Z and _Y is smaller than _X .||| _Z is not smaller than _Y .|||n',\n",
       " ' _Y is not bigger than _X and _X is not smaller than _Z .||| _Z is smaller than _Y .|||n',\n",
       " ' _X is not smaller than _Y and _Z is not bigger than _X .||| _Z is smaller than _Y .|||n',\n",
       " ' _Y is smaller than _X and _X is bigger than _Z .||| _Z is not bigger than _Y .|||n',\n",
       " ' _Y is not bigger than _X and _Z is smaller than _X .||| _Y is not bigger than _Z .|||n',\n",
       " ' _X is not smaller than _Y and _Z is not bigger than _X .||| _Y is not smaller than _Z .|||n',\n",
       " ' _Y is smaller than _X and _Z is smaller than _X .||| _Y is smaller than _Z .|||n',\n",
       " ' _X is bigger than _Y and _Z is not bigger than _X .||| _Z is not smaller than _Y .|||n',\n",
       " ' _Z is smaller than _X and _Y is not bigger than _X .||| _Z is not smaller than _Y .|||n',\n",
       " ' _Z is smaller than _X and _X is bigger than _Y .||| _Z is not smaller than _Y .|||n',\n",
       " ' _Z is not bigger than _X and _X is bigger than _Y .||| _Z is not smaller than _Y .|||n',\n",
       " ' _X is not smaller than _Y and _X is bigger than _Z .||| _Z is not smaller than _Y .|||n',\n",
       " ' _Z is not bigger than _X and _X is not smaller than _Y .||| _Y is smaller than _Z .|||n',\n",
       " ' _Z is not bigger than _X and _X is not smaller than _Y .||| _Z is not smaller than _Y .|||n',\n",
       " ' _Y is smaller than _X and _X is not smaller than _Z .||| _Y is not smaller than _Z .|||n',\n",
       " ' _Y is not bigger than _X and _Z is smaller than _X .||| _Z is not bigger than _Y .|||n',\n",
       " ' _X is not smaller than _Z and _X is not smaller than _Y .||| _Z is smaller than _Y .|||n',\n",
       " ' _Z is smaller than _X and _X is bigger than _Y .||| _Z is smaller than _Y .|||n',\n",
       " ' _X is bigger than _Y and _Z is not bigger than _X .||| _Y is not smaller than _Z .|||n',\n",
       " ' _X is not smaller than _Z and _Y is not bigger than _X .||| _Y is smaller than _Z .|||n',\n",
       " ' _Y is smaller than _X and _X is bigger than _Z .||| _Z is bigger than _Y .|||n',\n",
       " ' _Z is smaller than _X and _X is bigger than _Y .||| _Z is not bigger than _Y .|||n',\n",
       " ' _Y is not bigger than _X and _X is not smaller than _Z .||| _Z is bigger than _Y .|||n']"
      ]
     },
     "execution_count": 5,
     "metadata": {},
     "output_type": "execute_result"
    }
   ],
   "source": [
    "P_template = '{ent0} {rel} {ent1}'\n",
    "# transitive_template = '{p0} and {p1} , so {Q} ? {conj} .'\n",
    "transitive_template = '{p0} and {p1} .||| {Q} .|||{conj}'\n",
    "transitive_wh_QA_template = '{which} is {pred} ? {ent} .'\n",
    "\n",
    "def make_transitive(entities=[\"_X\", \"_Y\", \"_Z\"], entity_set=string.ascii_uppercase,\n",
    "                    relation_group=[[\"big\", ], [\"small\", ]], n_entity_trials=3,\n",
    "                    has_negA=True, has_negB=True, has_neutral=False, mask_types=['sent_rel'],\n",
    "                    tag_lexical_rel=False, tag_entity_rel=False):\n",
    "    has_negP, has_negQ = has_negA, has_negB\n",
    "    def get_comparative(word): return comparative(word)\n",
    "    def form_atoms(relations, entities, has_neg=True):\n",
    "        atoms = [P_template.format(ent0=ent0, ent1=ent1, rel=rel) for ent0, ent1, rel in\n",
    "                 [entities + relations[:1], reverse(entities) + reverse(relations)[:1]]]\n",
    "        if has_neg:\n",
    "            neg_rels = [r.replace('is ', 'is not ') for r in relations]\n",
    "            atoms += [P_template.format(ent0=ent0, ent1=ent1, rel=rel) for ent0, ent1, rel in\n",
    "                      [entities + reverse(neg_rels)[:1], reverse(entities) + neg_rels[:1]]]\n",
    "        return atoms\n",
    "\n",
    "    def form_sentences(sentence_template, Ps, Qs, conj):\n",
    "        sentences = []\n",
    "        if '?' not in sentence_template:\n",
    "            conj = ans2label[conj] if sentence_template.count('|||') == 2 else ans2verb[conj]\n",
    "        if 'sent_rel' in mask_types and conj not in ans2label.values(): conj = mask(conj)\n",
    "        for (p0, p1), Q in product(Ps, Qs):\n",
    "            sent = sentence_template.format(p0=strip_rel_id(p0), p1=strip_rel_id(p1),\n",
    "                                              Q=strip_rel_id(Q), conj=conj)\n",
    "            sent = \" \" + \" \".join(sent.split())\n",
    "            sentences.append(sent)\n",
    "        return sentences\n",
    "\n",
    "    def form_all(P0_entities, P1_entities, Q_entities, neutral=False):\n",
    "        P0, P1 = [], []\n",
    "        for rel0 in relation_group[0]:\n",
    "            for rel1 in relation_group[1]:\n",
    "                relations = [\"is %s:%d than\" % (get_comparative(rel), i)\n",
    "                             for i, rel in enumerate([rel0, rel1])]\n",
    "                P0 += form_atoms(relations, P0_entities, has_neg=has_negP)\n",
    "                P1 += form_atoms(relations, P1_entities, has_neg=has_negP)\n",
    "        Ps = [(p0, p1) for p0, p1 in list(product(P0, P1)) + list(product(P1, P0))]\n",
    "\n",
    "        Qs = form_atoms(relations, Q_entities, has_neg=has_negQ)\n",
    "        negQs = [swap_entities(Q, *Q_entities) for Q in Qs]\n",
    "\n",
    "        for P, Q, conj in [(Ps, Qs, 'Right'), (Ps, negQs, 'Wrong')]:\n",
    "            if neutral: conj = 'Maybe'\n",
    "            sentences[conj] += form_sentences(transitive_template, P, Q, conj)\n",
    "        return sentences\n",
    "\n",
    "    e0, e1, e2 = entities\n",
    "    sentences = defaultdict(list)\n",
    "    form_all(P0_entities=[e0, e1], P1_entities=[e1, e2], Q_entities=[e0, e2])\n",
    "    assert len(sentences['Right']) == len(sentences['Wrong']), \\\n",
    "        '%d %d' % (len(sentences['Right']), len(sentences['Wrong']))\n",
    "    sample_ratio = len(relation_group[0]) * len(relation_group[1])\n",
    "    if sample_ratio > 1:\n",
    "        for key in sentences:\n",
    "            sentences[key] = random.sample(sentences[key], len(sentences[key]) // sample_ratio)\n",
    "#     print('nRight =', len(sentences['Right']))\n",
    "    if has_neutral:\n",
    "        form_all(P0_entities=[e0, e1], P1_entities=[e0, e2], Q_entities=[e1, e2], neutral=True)\n",
    "        sentences['Maybe'] = random.sample(sentences['Maybe'], len(sentences['Right']))\n",
    "    keys = sentences.keys() if has_neutral else ['Right', 'Wrong']\n",
    "    sentences = join_lists(sentences[k] for k in keys)\n",
    "\n",
    "    substituted_sent_groups = []\n",
    "    for sent in sentences:\n",
    "        sent_group = []\n",
    "        for _ in range(n_entity_trials):\n",
    "            e0, e1, e2 = random.sample(entity_set, 3)\n",
    "            sent_group.append(sent.replace(entities[0], e0)\n",
    "                              .replace(entities[1], e1)\n",
    "                              .replace(entities[2], e2))\n",
    "        substituted_sent_groups.append(sent_group)\n",
    "    return sentences, substituted_sent_groups\n",
    "\n",
    "make_transitive(has_negA=True, has_negB=True, has_neutral=True)[0]"
   ]
  },
  {
   "cell_type": "code",
   "execution_count": 6,
   "metadata": {
    "scrolled": true
   },
   "outputs": [],
   "source": [
    "tokenizer_class, shortcut = RobertaTokenizer, 'roberta-base'\n",
    "tokenizer = tokenizer_class.from_pretrained(shortcut)"
   ]
  },
  {
   "cell_type": "code",
   "execution_count": 7,
   "metadata": {},
   "outputs": [],
   "source": [
    "## rand_relation_group=_frames[(i + 1) % len(_frames)], \n",
    "random.seed(42)\n",
    "random.shuffle(frames)\n",
    "entity_set = list(string.ascii_uppercase)\n",
    "random.shuffle(entity_set)\n",
    "split_pct = [0.7, 0.3]"
   ]
  },
  {
   "cell_type": "code",
   "execution_count": 8,
   "metadata": {},
   "outputs": [
    {
     "data": {
      "text/plain": [
       "[' D is more conventional than R and D is more conventional than V .||| V is more conventional than R .|||n',\n",
       " ' V is more unfamiliar than X and V is more familiar than D .||| D is not stranger than X .|||c',\n",
       " ' Y is not more ignorant than X and I is not more knowledgeable than X .||| I is not more knowledgeable than Y .|||e',\n",
       " ' E is more unprepared than T and C is not more unprepared than T .||| E is more unprepared than C .|||e',\n",
       " ' T is more unaffected than E and T is more affected than A .||| A is more affected than E .|||c',\n",
       " ' V is more benevolent than B and V is more vicious than O .||| O is not more benevolent than B .|||c',\n",
       " ' X is not more faded than N and N is not more neutral than C .||| C is not more colorful than X .|||e',\n",
       " ' J is stranger than F and F is stranger than D .||| D is more familiar than J .|||e',\n",
       " ' Y is quicker than V and O is not slower than V .||| O is not slower than Y .|||n',\n",
       " ' I is not more manual than J and I is not more automatic than R .||| J is not more manual than R .|||c']"
      ]
     },
     "execution_count": 8,
     "metadata": {},
     "output_type": "execute_result"
    },
    {
     "name": "stdout",
     "output_type": "stream",
     "text": [
      "nTrain = 118656, nValid = 10000\n"
     ]
    }
   ],
   "source": [
    "tag2id = {'same': 0, 'opposite': 1, 'unrelated': 2, 'former': 0, 'latter': 1, 'another': 5, 'single': 6, 'paired': 7}\n",
    "tag2id = {'Ġ' + k: v for k, v in tag2id.items()}\n",
    "id2tag = {v: k for k, v in tag2id.items()}\n",
    "\n",
    "n_entity_trials = 3\n",
    "kwargs = {'n_entity_trials': n_entity_trials, 'has_neutral': True, 'has_negA': True, 'has_negB': True, \n",
    "          'tag_lexical_rel': False, 'tag_entity_rel': False, 'mask_types': {'sent_rel',}}\n",
    "train_lines, eval_lines = [[make_transitive(relation_group=rg, entity_set=_ent_set, **kwargs)[1] for i, rg in enumerate(_frames)]\n",
    "                           for _frames, _ent_set in zip(split(frames, split_pct), split(entity_set, split_pct))]\n",
    "random.sample(flatten(train_lines), 10)\n",
    "# all_lines = [make_transitive(relation_group=rg, n_entity_trials=n_entity_trials,\n",
    "#                              has_negP=True, has_negQ=True, has_neutral=True, mask_types=['sent_rel'])[1]\n",
    "#              for i, rg in enumerate(frames)]\n",
    "# all_lines = join_lists(all_lines)\n",
    "# all_lines = join_lists(all_lines)\n",
    "tokenizer.tag2id, tokenizer.id2tag = tag2id, id2tag\n",
    "# for k in CHILDDataset.all_lines: CHILDDataset.all_lines[k] = None\n",
    "kwargs = {'has_tags': False, 'max_noise_len': 0, 'n_replicas': 1}\n",
    "train_dataset = CHILDDataset(train_lines, tokenizer, mode='train', **kwargs)\n",
    "eval_dataset = CHILDDataset(eval_lines, tokenizer, mode='dev', **kwargs)\n",
    "print('nTrain = %d, nValid = %d' % (len(train_dataset), len(eval_dataset)))"
   ]
  },
  {
   "cell_type": "code",
   "execution_count": null,
   "metadata": {
    "scrolled": true
   },
   "outputs": [
    {
     "name": "stdout",
     "output_type": "stream",
     "text": [
      "loading state_dict took 2.817 sec\n"
     ]
    },
    {
     "data": {
      "application/vnd.jupyter.widget-view+json": {
       "model_id": "5189e3fb0f8b4d83b427e7ae3b3aaba3",
       "version_major": 2,
       "version_minor": 0
      },
      "text/plain": [
       "HBox(children=(FloatProgress(value=0.0, description='Epoch', max=3.0, style=ProgressStyle(description_width='i…"
      ]
     },
     "metadata": {},
     "output_type": "display_data"
    },
    {
     "data": {
      "application/vnd.jupyter.widget-view+json": {
       "model_id": "f8d4c89f588848379d0e4bfd10f37861",
       "version_major": 2,
       "version_minor": 0
      },
      "text/plain": [
       "HBox(children=(FloatProgress(value=0.0, description='Evaluation', max=157.0, style=ProgressStyle(description_w…"
      ]
     },
     "metadata": {},
     "output_type": "display_data"
    },
    {
     "name": "stdout",
     "output_type": "stream",
     "text": [
      "\n",
      "{'eval_loss': 1.421565, 'eval_acc_0': 0.394, 'eval_stat_0': '<s> 0.32 0.68, <pad> 0.09 0.51, </s> 0.58 0.71, ', 'epoch': 0, 'step': 0}\n"
     ]
    },
    {
     "data": {
      "application/vnd.jupyter.widget-view+json": {
       "model_id": "ce4bc925556c458c9ae1c09d9ea2269b",
       "version_major": 2,
       "version_minor": 0
      },
      "text/plain": [
       "HBox(children=(FloatProgress(value=0.0, description='Iteration', max=3708.0, style=ProgressStyle(description_w…"
      ]
     },
     "metadata": {},
     "output_type": "display_data"
    },
    {
     "name": "stdout",
     "output_type": "stream",
     "text": [
      "{'loss': 0.121083, 'learning_rate': 1.8333333333333333e-05, 'epoch': 0.25, 'step': 927}\n"
     ]
    },
    {
     "data": {
      "application/vnd.jupyter.widget-view+json": {
       "model_id": "c6c6342245b7464485582cf85c605708",
       "version_major": 2,
       "version_minor": 0
      },
      "text/plain": [
       "HBox(children=(FloatProgress(value=0.0, description='Evaluation', max=157.0, style=ProgressStyle(description_w…"
      ]
     },
     "metadata": {},
     "output_type": "display_data"
    },
    {
     "name": "stdout",
     "output_type": "stream",
     "text": [
      "\n",
      "{'eval_loss': 0.620081, 'eval_acc_0': 0.933, 'eval_stat_0': '<s> 0.33 1.00, <pad> 0.34 1.00, </s> 0.33 1.00, ', 'epoch': 0.25, 'step': 927}\n",
      "{'loss': 0.036956, 'learning_rate': 1.6666666666666667e-05, 'epoch': 0.5, 'step': 1854}\n"
     ]
    },
    {
     "data": {
      "application/vnd.jupyter.widget-view+json": {
       "model_id": "fee864cb81764d47916523febf3b7f90",
       "version_major": 2,
       "version_minor": 0
      },
      "text/plain": [
       "HBox(children=(FloatProgress(value=0.0, description='Evaluation', max=157.0, style=ProgressStyle(description_w…"
      ]
     },
     "metadata": {},
     "output_type": "display_data"
    },
    {
     "name": "stdout",
     "output_type": "stream",
     "text": [
      "\n",
      "{'eval_loss': 0.138495, 'eval_acc_0': 0.98, 'eval_stat_0': '<s> 0.33 1.00, <pad> 0.33 1.00, </s> 0.34 1.00, ', 'epoch': 0.5, 'step': 1854}\n"
     ]
    }
   ],
   "source": [
    "model = RobertaForSequenceClassification.from_pretrained(\"ynie/roberta-large-snli_mnli_fever_anli_R1_R2_R3-nli\")\n",
    "# model = RobertaForSequenceClassification.from_pretrained(\"roberta-large-mnli\")\n",
    "# model_class = RobertaForMaskedLM\n",
    "# # model_class = RobertaForProbing\n",
    "# model = model_class.from_pretrained('roberta-base', state_dict=state_dict)\n",
    "steps = max(int(round(100 * n_entity_trials / 3)), int(len(train_dataset) / 32 / 4))\n",
    "training_args = TrainingArguments(output_dir=\"./models/model_name\", \n",
    "    overwrite_output_dir=True, do_train=True, do_eval=True,\n",
    "    per_device_train_batch_size=32, per_device_eval_batch_size=64,\n",
    "    learning_rate=2e-5, num_train_epochs=3,\n",
    "    logging_steps=steps, eval_steps=steps, save_steps=0,\n",
    "    no_cuda=False, evaluate_during_training=True,\n",
    ")\n",
    "trainer = Trainer(model, training_args, train_dataset=train_dataset, eval_dataset=eval_dataset)\n",
    "trainer.tokenizer = tokenizer\n",
    "model.tokenizer = tokenizer\n",
    "trainer.train()"
   ]
  },
  {
   "cell_type": "code",
   "execution_count": null,
   "metadata": {},
   "outputs": [],
   "source": [
    " 6  0.51/0.51  0.51/0.51  0.51/0.52  0.51/0.52  0.57/0.53  0.51/0.52  0.60/0.54  0.51/0.51  0.51/0.51  0.53/0.51  0.60/0.54  0.51/0.52  \n",
    " 7  0.52/0.51  0.51/0.54  0.61/0.52  0.54/0.51  0.51/0.55  0.52/0.52  0.51/0.51  0.51/0.52  0.51/0.52  0.53/0.51  0.65/0.55  0.62/0.54  \n",
    " 8  0.51/0.52  0.51/0.52  0.58/0.51  0.59/0.52  0.51/0.51  0.51/0.51  0.54/0.52  0.51/0.51  0.51/0.51  0.51/0.53  0.51/0.52  0.51/0.52 "
   ]
  },
  {
   "cell_type": "code",
   "execution_count": null,
   "metadata": {},
   "outputs": [],
   "source": [
    "lexical_rel per_layer\n",
    " 0  0.60/0.53  0.61/0.52  0.50/0.51  0.51/0.51  0.50/0.52  0.49/0.51  \n",
    " 1  0.70/0.55  0.58/0.54  0.51/0.52  0.51/0.51  0.51/0.51  0.51/0.52  \n",
    " 2  0.64/0.54  0.62/0.60  0.51/0.52  0.51/0.52  0.52/0.52  0.52/0.51  \n",
    " 3  0.82/0.64  0.74/0.60  0.51/0.52  0.51/0.52  0.54/0.52  0.55/0.51  \n",
    " 4  0.72/0.56  0.77/0.58  0.51/0.52  0.51/0.52  0.62/0.53  0.60/0.52  \n",
    " 5  0.82/0.68  0.83/0.70  0.51/0.52  0.51/0.52  0.60/0.54  0.59/0.52  \n",
    " 6  0.72/0.66  0.73/0.67  0.51/0.52  0.51/0.52  0.65/0.59  0.60/0.52  \n",
    " 7  0.71/0.58  0.73/0.59  0.51/0.52  0.51/0.52  0.68/0.61  0.67/0.54  \n",
    " 8  0.77/0.56  0.75/0.58  0.51/0.52  0.56/0.53  0.59/0.54  0.72/0.53  \n",
    " 9  0.60/0.55  0.78/0.55  0.51/0.52  0.50/0.52  0.52/0.53  0.53/0.53  \n",
    "10  0.70/0.56  0.67/0.57  0.52/0.51  0.51/0.52  0.61/0.52  0.57/0.53  \n",
    "11  0.71/0.58  0.74/0.62  0.55/0.52  0.56/0.52  0.68/0.54  0.56/0.53 "
   ]
  },
  {
   "cell_type": "code",
   "execution_count": null,
   "metadata": {},
   "outputs": [],
   "source": [
    "lexical_rel cumulative\n",
    " 0  0.52/0.57  0.54/0.55  0.51/0.51  0.51/0.51  0.53/0.52  0.54/0.51  \n",
    " 1  0.63/0.55  0.58/0.56  0.51/0.51  0.51/0.51  0.51/0.52  0.53/0.51  \n",
    " 2  0.62/0.55  0.65/0.66  0.51/0.51  0.51/0.52  0.54/0.52  0.54/0.51  \n",
    " 3  0.78/0.64  0.71/0.71  0.51/0.52  0.51/0.52  0.57/0.52  0.55/0.51  \n",
    " 4  0.82/0.66  0.74/0.72  0.51/0.52  0.51/0.52  0.64/0.53  0.57/0.52  \n",
    " 5  0.86/0.75  0.79/0.77  0.51/0.52  0.51/0.52  0.66/0.54  0.67/0.52  \n",
    " 6  0.84/0.75  0.81/0.79  0.51/0.51  0.51/0.52  0.67/0.62  0.67/0.52  \n",
    " 7  0.84/0.72  0.82/0.78  0.51/0.52  0.51/0.51  0.69/0.65  0.72/0.53  \n",
    " 8  0.83/0.71  0.80/0.76  0.51/0.52  0.51/0.52  0.67/0.64  0.73/0.54  \n",
    " 9  0.80/0.67  0.77/0.73  0.51/0.52  0.51/0.52  0.65/0.61  0.66/0.53  \n",
    "10  0.75/0.66  0.76/0.71  0.51/0.51  0.51/0.52  0.63/0.59  0.67/0.53  \n",
    "11  0.69/0.60  0.70/0.63  0.51/0.52  0.51/0.52  0.60/0.54  0.56/0.52 "
   ]
  },
  {
   "cell_type": "code",
   "execution_count": null,
   "metadata": {},
   "outputs": [],
   "source": [
    "entity_rel per_layer\n",
    " 0  1.00/0.94  0.97/0.59  0.47/0.51  0.50/0.51  0.50/0.51  0.49/0.51  \n",
    " 1  1.00/0.95  1.00/0.77  0.53/0.50  0.85/0.52  1.00/0.68  0.63/0.51  \n",
    " 2  1.00/0.97  1.00/0.90  0.50/0.50  0.80/0.51  0.91/0.58  0.90/0.51  \n",
    " 3  1.00/0.92  1.00/0.85  0.51/0.50  0.73/0.50  0.97/0.58  0.94/0.55  \n",
    " 4  1.00/0.92  1.00/0.89  0.99/0.51  0.55/0.50  1.00/0.74  1.00/0.62  \n",
    " 5  1.00/0.95  1.00/0.96  0.97/0.50  0.93/0.51  1.00/0.86  0.99/0.60  \n",
    " 6  1.00/0.97  1.00/0.95  0.96/0.51  0.97/0.51  1.00/0.94  0.98/0.76  \n",
    " 7  1.00/0.96  1.00/0.95  0.78/0.56  0.78/0.53  1.00/0.96  0.98/0.84  \n",
    " 8  1.00/0.95  1.00/0.91  0.87/0.74  0.91/0.79  1.00/0.92  1.00/0.93  \n",
    " 9  1.00/0.92  0.99/0.84  0.87/0.71  0.86/0.73  0.99/0.84  0.99/0.88  \n",
    "10  1.00/0.89  0.95/0.79  0.82/0.71  0.84/0.71  0.96/0.81  0.97/0.85  \n",
    "11  1.00/0.88  0.99/0.83  0.82/0.74  0.84/0.76  0.97/0.89  0.87/0.79  "
   ]
  },
  {
   "cell_type": "code",
   "execution_count": null,
   "metadata": {},
   "outputs": [],
   "source": [
    "0  1.00/0.98  1.00/0.90  0.51/0.51  0.51/0.51  0.48/0.51  0.50/0.51  \n",
    "1  1.00/0.98  1.00/0.90  0.51/0.50  0.58/0.51  0.99/0.61  0.59/0.51  \n",
    "2  1.00/0.98  1.00/0.91  0.52/0.50  0.76/0.51  0.97/0.61  0.70/0.52  \n",
    "3  1.00/0.98  1.00/0.94  0.53/0.50  0.57/0.50  0.91/0.59  0.86/0.52  \n",
    "4  1.00/0.98  1.00/0.95  0.51/0.50  0.52/0.50  0.94/0.59  0.90/0.53  \n",
    "5  1.00/0.98  1.00/0.95  0.87/0.50  0.50/0.50  0.96/0.60  0.97/0.56  \n",
    "6  1.00/0.98  1.00/0.95  0.92/0.50  0.50/0.50  0.81/0.67  0.96/0.58  \n",
    "7  1.00/0.98  1.00/0.93  0.80/0.51  0.50/0.51  0.88/0.68  0.86/0.57  \n",
    "8  1.00/0.97  1.00/0.90  0.83/0.50  0.73/0.52  0.83/0.65  0.92/0.56  \n",
    "9  1.00/0.96  1.00/0.86  0.75/0.51  0.72/0.53  0.82/0.62  0.89/0.57  \n",
    "10  1.00/0.95  1.00/0.83  0.75/0.51  0.73/0.52  0.78/0.60  0.89/0.57  \n",
    "11  0.99/0.84  0.98/0.68  0.65/0.52  0.64/0.52  0.74/0.56  0.80/0.56 "
   ]
  },
  {
   "cell_type": "code",
   "execution_count": 11,
   "metadata": {},
   "outputs": [],
   "source": [
    "output_dir = '/nas/xd/data/models/CHILD/neg0_ent3/'\n",
    "# os.makedirs(output_dir, exist_ok=True)\n",
    "# model.save_pretrained(output_dir)"
   ]
  },
  {
   "cell_type": "code",
   "execution_count": 12,
   "metadata": {},
   "outputs": [],
   "source": [
    "state_dict = torch.load(output_dir + 'pytorch_model.bin')"
   ]
  },
  {
   "cell_type": "code",
   "execution_count": 72,
   "metadata": {},
   "outputs": [
    {
     "name": "stdout",
     "output_type": "stream",
     "text": [
      "loading state_dict took 4.104 sec\n"
     ]
    }
   ],
   "source": [
    "# model = RobertaForMaskedLM.from_pretrained('roberta-base')\n",
    "model = RobertaForMaskedLM.from_pretrained(output_dir)\n",
    "_ = model.to(trainer.args.device)"
   ]
  },
  {
   "cell_type": "code",
   "execution_count": 80,
   "metadata": {},
   "outputs": [],
   "source": [
    "model.roberta.selectively_masked_head = (5, 5)"
   ]
  },
  {
   "cell_type": "code",
   "execution_count": 185,
   "metadata": {},
   "outputs": [],
   "source": [
    "dataloader = DataLoader(\n",
    "    eval_dataset,\n",
    "    sampler=RandomSampler(eval_dataset),\n",
    "    batch_size=1 or trainer.args.eval_batch_size,\n",
    "    collate_fn=trainer.data_collator,\n",
    "    drop_last=trainer.args.dataloader_drop_last,\n",
    ")"
   ]
  },
  {
   "cell_type": "code",
   "execution_count": 186,
   "metadata": {},
   "outputs": [
    {
     "name": "stdout",
     "output_type": "stream",
     "text": [
      "0 <s> S is further than G, so G is further?<mask>.</s><pad><pad><pad><pad><pad> ['Ġfurther', 'Ġfurther']\n"
     ]
    }
   ],
   "source": [
    "for inputs in dataloader: break\n",
    "\n",
    "for i in range(20):\n",
    "    if i < len(inputs['input_ids']):\n",
    "        print(i, tokenizer.decode(inputs['input_ids'][i]), \n",
    "              [tokenizer.convert_ids_to_tokens(inputs['input_ids'][i])[j] for j in inputs['marked_pos_labels'][i][0]])\n",
    "inputs = trainer._prepare_inputs(inputs, model)"
   ]
  },
  {
   "cell_type": "code",
   "execution_count": 159,
   "metadata": {},
   "outputs": [],
   "source": [
    "_ = model.eval()\n",
    "interpretable_embedding = configure_interpretable_embedding_layer(model, 'roberta.embeddings')\n",
    "\n",
    "inputs = trainer._prepare_inputs(inputs, model)\n",
    "input_ids, attention_mask, token_type_ids, position_ids, labels = \\\n",
    "    inputs['input_ids'], inputs['attention_mask'], inputs['token_type_ids'], inputs['position_ids'], inputs['labels']\n",
    "additional_fwd_args = (token_type_ids, position_ids, attention_mask)\n",
    "if 'marked_pos_labels' in inputs and inputs['marked_pos_labels'] is not None:\n",
    "    marked_pos_labels = inputs['marked_pos_labels']\n",
    "    marked_positions = marked_pos_labels[:, 0]  # (bsz, 1, 2) -> (bsz, 2)\n",
    "    cls_positions = (input_ids == model.tokenizer.cls_token_id).nonzero()[:, 1:]\n",
    "    sep_positions = (input_ids == model.tokenizer.sep_token_id).nonzero()[:, 1:]\n",
    "    be_positions = torch.ones_like(cls_positions) * 2\n",
    "    mask_positions = (input_ids == model.tokenizer.mask_token_id).nonzero()[:, 1:]\n",
    "    assert cls_positions.size(0) == sep_positions.size(0) == mask_positions.size(0) == marked_positions.size(0), \\\n",
    "        '%d %d %d %d' % (cls_positions.size(0), sep_positions.size(0), mask_positions.size(0), marked_positions.size(0))\n",
    "#     probe_positions = mask_positions\n",
    "    probe_positions = torch.cat([cls_positions, sep_positions, be_positions, mask_positions], dim=-1)\n",
    "    additional_fwd_args = additional_fwd_args + (marked_pos_labels, probe_positions)\n",
    "additional_fwd_args = additional_fwd_args + (labels,)\n",
    "input_embeddings = interpretable_embedding.indices_to_embeddings(input_ids, token_type_ids=token_type_ids, position_ids=position_ids)\n",
    "all_tokens = normalize_tokens(tokenizer.convert_ids_to_tokens(input_ids[0]))"
   ]
  },
  {
   "cell_type": "code",
   "execution_count": 164,
   "metadata": {},
   "outputs": [],
   "source": [
    "# def mlm_fwd_fn(inputs, token_type_ids=None, position_ids=None, attention_mask=None, labels=None, mask_id=None):\n",
    "def mlm_fwd_fn(inputs, *args):\n",
    "    args, labels, mask_id = args[:-2], args[-2], args[-1]\n",
    "    is_probe_logits = True\n",
    "    logits = model(inputs, *args, detach=False)[int(is_probe_logits)]\n",
    "    if not is_probe_logits:\n",
    "        bsz, seq_len, vocab_size = logits.size()\n",
    "        logits = logits[labels != -100].view(bsz, -1, vocab_size)\n",
    "    return logits[:, mask_id].max(dim=-1).values\n",
    "\n",
    "mask_id = 0\n",
    "layer_attrs = []\n",
    "n_layers = 7 + mask_id or model.config.num_hidden_layers\n",
    "model.zero_grad()\n",
    "for i in range(n_layers):\n",
    "    lc = LayerIntegratedGradients(mlm_fwd_fn, model.roberta.encoder.layer[i])\n",
    "    attributions = lc.attribute(inputs=input_embeddings, \n",
    "                                additional_forward_args=additional_fwd_args + (mask_id,), \n",
    "                                n_steps=20)[0]\n",
    "    layer_attrs.append(summarize_attributions(attributions).cpu().detach().tolist())"
   ]
  },
  {
   "cell_type": "code",
   "execution_count": 165,
   "metadata": {
    "collapsed": true
   },
   "outputs": [
    {
     "data": {
      "image/png": "[encoded data removed]",
      "text/plain": [
       "<Figure size 1080x360 with 2 Axes>"
      ]
     },
     "metadata": {
      "needs_background": "light"
     },
     "output_type": "display_data"
    }
   ],
   "source": [
    "fig, ax = plt.subplots(figsize=(15,5))\n",
    "xticklabels=all_tokens\n",
    "yticklabels=list(range(n_layers))\n",
    "ax = sns.heatmap((np.array(layer_attrs) * 100).astype('int64'), xticklabels=xticklabels, yticklabels=yticklabels, annot=True, fmt='d', linewidth=0.2)\n",
    "# plt.xlabel('Tokens')\n",
    "# plt.ylabel('Layers')\n",
    "plt.show()"
   ]
  },
  {
   "cell_type": "code",
   "execution_count": 167,
   "metadata": {},
   "outputs": [],
   "source": [
    "remove_interpretable_embedding_layer(model, interpretable_embedding)"
   ]
  },
  {
   "cell_type": "code",
   "execution_count": 227,
   "metadata": {
    "scrolled": false
   },
   "outputs": [],
   "source": [
    "_ = model.eval()\n",
    "model.zero_grad()\n",
    "# with torch.no_grad():\n",
    "_, logits, probe_logits, all_attentions = model(**inputs, output_attentions=True, detach=False)[:4]\n",
    "attn_probs = all_attentions  # torch.stack(all_attentions, dim=0).cpu()"
   ]
  },
  {
   "cell_type": "code",
   "execution_count": 228,
   "metadata": {},
   "outputs": [],
   "source": [
    "base_layer, layer = 6, 6\n",
    "H, bsz = 12, probe_logits.size(0)\n",
    "tc_labels = inputs['tc_labels'][inputs['tc_labels'] != -100]\n",
    "so_token_id, mask_token_id = tokenizer._convert_token_to_id('Ġso'), tokenizer.mask_token_id\n",
    "pos = (inputs['input_ids'] == so_token_id).nonzero()[:, 1].item()\n",
    "tokens = normalize_tokens(tokenizer.convert_ids_to_tokens(inputs['input_ids'][0]))\n",
    "attn_probs[layer].retain_grad()\n",
    "probe_logits[torch.arange(bsz), (layer - base_layer) * H: (layer - base_layer + 1) * H, tc_labels].mean().backward()"
   ]
  },
  {
   "cell_type": "code",
   "execution_count": 229,
   "metadata": {},
   "outputs": [
    {
     "data": {
      "text/plain": [
       "0.8664488792419434"
      ]
     },
     "execution_count": 229,
     "metadata": {},
     "output_type": "execute_result"
    },
    {
     "data": {
      "image/png": "[encoded data removed]",
      "text/plain": [
       "<Figure size 432x288 with 1 Axes>"
      ]
     },
     "metadata": {
      "needs_background": "light"
     },
     "output_type": "display_data"
    }
   ],
   "source": [
    "head = 6\n",
    "ga = attn_probs[layer].grad[:, head][0, pos]\n",
    "a = attn_probs[layer][:, head][0, pos]\n",
    "nn.Softmax(dim=-1)(probe_logits)[torch.arange(bsz), (layer - base_layer) * H + head, tc_labels].item()\n",
    "\n",
    "_ = plt.plot(normalize(ga.cpu()))\n",
    "_ = plt.plot(a.detach().cpu())\n",
    "_ = plt.bar(range(len(tokens)), normalize((ga * a.detach()).cpu()), alpha=0.3)\n",
    "_ = plt.axhline(y=0, linewidth=0.5, color='k')\n",
    "_ = plt.xticks(range(len(tokens)), tokens, rotation=45)"
   ]
  },
  {
   "cell_type": "code",
   "execution_count": 220,
   "metadata": {},
   "outputs": [
    {
     "data": {
      "text/plain": [
       "0.5935156941413879"
      ]
     },
     "execution_count": 220,
     "metadata": {},
     "output_type": "execute_result"
    },
    {
     "data": {
      "image/png": "[encoded data removed]",
      "text/plain": [
       "<Figure size 432x288 with 1 Axes>"
      ]
     },
     "metadata": {
      "needs_background": "light"
     },
     "output_type": "display_data"
    }
   ],
   "source": [
    "head = 10\n",
    "ga = attn_probs[layer].grad[:, head][0, pos]\n",
    "a = attn_probs[layer][:, head][0, pos]\n",
    "nn.Softmax(dim=-1)(probe_logits)[torch.arange(bsz), (layer - base_layer) * H + head, tc_labels].item()\n",
    "\n",
    "_ = plt.plot(normalize(ga.cpu()))\n",
    "_ = plt.plot(a.detach().cpu())\n",
    "_ = plt.bar(range(len(tokens)), normalize((ga * a.detach()).cpu()), alpha=0.3)\n",
    "_ = plt.axhline(y=0, linewidth=0.5, color='k')\n",
    "_ = plt.xticks(range(len(tokens)), tokens, rotation=45)"
   ]
  },
  {
   "cell_type": "code",
   "execution_count": 406,
   "metadata": {},
   "outputs": [
    {
     "data": {
      "image/png": "[encoded data removed]",
      "text/plain": [
       "<Figure size 1152x648 with 8 Axes>"
      ]
     },
     "metadata": {
      "needs_background": "light"
     },
     "output_type": "display_data"
    }
   ],
   "source": [
    "sample_indices = [[0, 1, 2, 3], \n",
    "                  [4, 5, 6, 7]]\n",
    "# sample_indices = [[0, 0], \n",
    "#                   [0, 0]]\n",
    "n_rows, n_cols = len(sample_indices), len(sample_indices[0])\n",
    "fig, axs = plt.subplots(n_rows, n_cols, sharey=False, figsize=(4 * n_cols, 4.5 * n_rows))\n",
    "sep_id = tokenizer._convert_token_to_id('Ġ,')\n",
    "for row in range(n_rows):\n",
    "    for col in range(n_cols):\n",
    "        i, ax = sample_indices[row][col], axs[row][col]\n",
    "        tokens = normalize_tokens(tokenizer.convert_ids_to_tokens(inputs['input_ids'][i]))\n",
    "        \n",
    "        p, h = inputs['marked_pos_labels'][i][0]\n",
    "        p, h = p.item(), h.item()\n",
    "        so_pos = (inputs['input_ids'][i] == tokenizer._convert_token_to_id('Ġso')).nonzero()[0, 0].item()\n",
    "        be2_pos = so_pos + 2\n",
    "        mask_pos = (inputs['input_ids'][i] == tokenizer.mask_token_id).nonzero()[0, 0].item()\n",
    "#         j = 17\n",
    "        pos_attn = attn_probs[:, i, :, mask_pos, h]\n",
    "        pos_attn[-1, -1] = 1.\n",
    "        ax = sns.heatmap((pos_attn * 100).long(), square=True, cbar=False, annot=False, fmt='d', ax=ax)\n",
    "        ax.tick_params(top=True, labeltop=True)\n",
    "        _ = ax.set_xlabel('%s - %s' % (tokens[p], tokens[h]))"
   ]
  },
  {
   "cell_type": "code",
   "execution_count": 209,
   "metadata": {
    "scrolled": false
   },
   "outputs": [
    {
     "data": {
      "image/png": "[encoded data removed]",
      "text/plain": [
       "<Figure size 720x360 with 4 Axes>"
      ]
     },
     "metadata": {
      "needs_background": "light"
     },
     "output_type": "display_data"
    }
   ],
   "source": [
    "i = 0\n",
    "layer, head = 7, 10\n",
    "seq_len = inputs['attention_mask'][i].sum().item()\n",
    "attn =  attn_probs[layer][i, head, : seq_len, : seq_len]\n",
    "tokens = normalize_tokens(tokenizer.convert_ids_to_tokens(inputs['input_ids'][i])[: seq_len])\n",
    "size = round(attn.size(0) / 3)\n",
    "fig, (ax0, ax1) = plt.subplots(1, 2, figsize=(size  * 2., size), gridspec_kw={'width_ratios': [3, 1]})\n",
    "_ = sns.heatmap((attn * 100).long().cpu(), square=True, cbar=True, annot=True, fmt='d', xticklabels=tokens, yticklabels=tokens, ax=ax0)\n",
    "plot_head_attn(attn, tokens, ax1=ax1, marked_positions=inputs['marked_pos_labels'][i])"
   ]
  },
  {
   "cell_type": "markdown",
   "metadata": {},
   "source": [
    "H5-8, H6-4, H7-6(+1), H7-10: ,/so/is/more -> h_ent  \n",
    "H8-6: ?/mask -> so\n",
    "\n",
    "H6-6: ,/so/is/more -> h  \n",
    "H6-10: ,/so/is/more -> p  \n",
    "H7-9: ?/mask -> so"
   ]
  },
  {
   "cell_type": "code",
   "execution_count": null,
   "metadata": {},
   "outputs": [],
   "source": [
    "#         pos_attn = attn_probs[:, i]\n",
    "#         pos_attn = pos_attn * (pos_attn > 0.3)\n",
    "# #         pos_attn[0] = 0  # layer 0\n",
    "# #         pos_attn[1, 1] = 0  # ->pos-2\n",
    "#         pos_attn = pos_attn.mean(dim=(0, 1))\n",
    "#         input_ids = inputs['input_ids'][i]\n",
    "#         sep_pos = (input_ids == sep_id).nonzero()[0].item()\n",
    "#         segment_ids = torch.zeros_like(input_ids)\n",
    "#         segment_ids[sep_pos + 1:] = 1\n",
    "#         segment_mask = segment_ids.unsqueeze(0) != segment_ids.unsqueeze(1)\n",
    "#         pos_attn = pos_attn * segment_mask.cpu()\n",
    "#         seq_len = inputs['attention_mask'][i].sum().item()\n",
    "#         pos_attn[:, [0, 2, seq_len - 1]] = 0\n",
    "#         k = torch.arange(1, pos_attn.size(0) - 1)\n",
    "#         pos_attn[k, k] = 0\n",
    "#         pos_attn[k, k - 1] = 0\n",
    "#         pos_attn[k, k + 1] = 0\n",
    "#         ax = sns.heatmap((pos_attn * 100).long(), square=True, cbar=False, annot=False, fmt='d', \n",
    "#                          xticklabels=tokens, yticklabels=tokens, ax=ax)"
   ]
  },
  {
   "cell_type": "code",
   "execution_count": 231,
   "metadata": {},
   "outputs": [],
   "source": [
    "length = 4\n",
    "range_vec = torch.arange(length)\n",
    "range_mat = range_vec.unsqueeze(-1).expand(-1, length).transpose(0, 1)\n",
    "distance_mat = range_mat - range_mat.transpose(0, 1)"
   ]
  },
  {
   "cell_type": "code",
   "execution_count": 232,
   "metadata": {},
   "outputs": [
    {
     "data": {
      "text/plain": [
       "tensor([0, 1, 2, 3])"
      ]
     },
     "execution_count": 232,
     "metadata": {},
     "output_type": "execute_result"
    }
   ],
   "source": [
    "range_vec"
   ]
  },
  {
   "cell_type": "code",
   "execution_count": 233,
   "metadata": {},
   "outputs": [
    {
     "data": {
      "text/plain": [
       "tensor([[0, 1, 2, 3],\n",
       "        [0, 1, 2, 3],\n",
       "        [0, 1, 2, 3],\n",
       "        [0, 1, 2, 3]])"
      ]
     },
     "execution_count": 233,
     "metadata": {},
     "output_type": "execute_result"
    }
   ],
   "source": [
    "range_mat"
   ]
  },
  {
   "cell_type": "code",
   "execution_count": 234,
   "metadata": {},
   "outputs": [
    {
     "data": {
      "text/plain": [
       "tensor([[ 0,  1,  2,  3],\n",
       "        [-1,  0,  1,  2],\n",
       "        [-2, -1,  0,  1],\n",
       "        [-3, -2, -1,  0]])"
      ]
     },
     "execution_count": 234,
     "metadata": {},
     "output_type": "execute_result"
    }
   ],
   "source": [
    "distance_mat"
   ]
  },
  {
   "cell_type": "code",
   "execution_count": 238,
   "metadata": {},
   "outputs": [],
   "source": [
    "max_relative_positions = 2"
   ]
  },
  {
   "cell_type": "code",
   "execution_count": 239,
   "metadata": {},
   "outputs": [],
   "source": [
    "distance_mat_clipped = torch.clamp(distance_mat,\n",
    "                                   min=-max_relative_positions,\n",
    "                                   max=max_relative_positions)"
   ]
  },
  {
   "cell_type": "code",
   "execution_count": 240,
   "metadata": {},
   "outputs": [
    {
     "data": {
      "text/plain": [
       "tensor([[ 0,  1,  2,  2],\n",
       "        [-1,  0,  1,  2],\n",
       "        [-2, -1,  0,  1],\n",
       "        [-2, -2, -1,  0]])"
      ]
     },
     "execution_count": 240,
     "metadata": {},
     "output_type": "execute_result"
    }
   ],
   "source": [
    "distance_mat_clipped"
   ]
  },
  {
   "cell_type": "code",
   "execution_count": 241,
   "metadata": {},
   "outputs": [],
   "source": [
    "final_mat = distance_mat_clipped + max_relative_positions"
   ]
  },
  {
   "cell_type": "code",
   "execution_count": 242,
   "metadata": {},
   "outputs": [
    {
     "data": {
      "text/plain": [
       "tensor([[2, 3, 4, 4],\n",
       "        [1, 2, 3, 4],\n",
       "        [0, 1, 2, 3],\n",
       "        [0, 0, 1, 2]])"
      ]
     },
     "execution_count": 242,
     "metadata": {},
     "output_type": "execute_result"
    }
   ],
   "source": [
    "final_mat"
   ]
  },
  {
   "cell_type": "code",
   "execution_count": 243,
   "metadata": {},
   "outputs": [
    {
     "data": {
      "text/plain": [
       "tensor([[-3, -2, -1,  0]])"
      ]
     },
     "execution_count": 243,
     "metadata": {},
     "output_type": "execute_result"
    }
   ],
   "source": [
    "torch.arange(-length + 1, 1, 1).unsqueeze(0)"
   ]
  }
 ],
 "metadata": {
  "kernelspec": {
   "display_name": "Python 3",
   "language": "python",
   "name": "python3"
  },
  "language_info": {
   "codemirror_mode": {
    "name": "ipython",
    "version": 3
   },
   "file_extension": ".py",
   "mimetype": "text/x-python",
   "name": "python",
   "nbconvert_exporter": "python",
   "pygments_lexer": "ipython3",
   "version": "3.7.5"
  }
 },
 "nbformat": 4,
 "nbformat_minor": 4
}
