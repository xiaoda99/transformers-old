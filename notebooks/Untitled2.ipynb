{
 "cells": [
  {
   "cell_type": "code",
   "execution_count": 92,
   "metadata": {},
   "outputs": [
    {
     "name": "stdout",
     "output_type": "stream",
     "text": [
      "The autoreload extension is already loaded. To reload it, use:\n",
      "  %reload_ext autoreload\n"
     ]
    }
   ],
   "source": [
    "from IPython import get_ipython\n",
    "%load_ext autoreload\n",
    "%autoreload 2\n",
    "\n",
    "from IPython.core.interactiveshell import InteractiveShell\n",
    "InteractiveShell.ast_node_interactivity = 'all'"
   ]
  },
  {
   "cell_type": "code",
   "execution_count": 110,
   "metadata": {},
   "outputs": [],
   "source": [
    "import os\n",
    "os.environ[\"CUDA_VISIBLE_DEVICES\"] = '1'\n",
    "\n",
    "import random\n",
    "import string\n",
    "from collections import defaultdict\n",
    "from itertools import product, chain\n",
    "import numpy as np\n",
    "from pattern.en import comparative\n",
    "\n",
    "import matplotlib.pyplot as plt\n",
    "import seaborn as sns"
   ]
  },
  {
   "cell_type": "code",
   "execution_count": 154,
   "metadata": {},
   "outputs": [],
   "source": [
    "import torch\n",
    "import torch.nn.functional as F\n",
    "from torch.utils.data.dataset import Dataset\n",
    "from torch.utils.data.dataloader import DataLoader\n",
    "from torch.utils.data.sampler import RandomSampler, Sampler, SequentialSampler\n",
    "from enum import Enum\n",
    "from typing import List, Optional, Union\n",
    "\n",
    "from child_frames import frames\n",
    "from utils import *\n",
    "\n",
    "import sys\n",
    "sys.path.insert(0, '/nas/xd/projects/transformers/src/transformers')\n",
    "\n",
    "import dataclasses\n",
    "import logging\n",
    "import os\n",
    "import sys\n",
    "from dataclasses import dataclass, field\n",
    "from typing import Dict, Optional\n",
    "\n",
    "from transformers import AutoConfig, AutoModelForSequenceClassification, AutoTokenizer, EvalPrediction, GlueDataset\n",
    "from transformers import GlueDataTrainingArguments as DataTrainingArguments\n",
    "from transformers import HfArgumentParser, Trainer, TrainingArguments, set_seed\n",
    "from transformers import RobertaForMaskedLM, RobertaTokenizer\n",
    "from transformers.modeling_roberta import RobertaDoubleHeadsModel  # XD\n",
    "\n",
    "logging.basicConfig(level=logging.ERROR)"
   ]
  },
  {
   "cell_type": "code",
   "execution_count": 162,
   "metadata": {
    "scrolled": true
   },
   "outputs": [
    {
     "data": {
      "text/plain": [
       "([' _X is * bigger than _Z , so _Z ( [ latter ] ) is * smaller ( [ opposite ] ) ? [ Right ] .',\n",
       "  ' _X is * bigger than _Z , so _X ( [ former ] ) is * bigger ( [ same ] ) ? [ Right ] .',\n",
       "  ' _X is * bigger than _Z , so _X ( [ former ] ) is not * smaller ( [ opposite ] ) ? [ Right ] .',\n",
       "  ' _X is * bigger than _Z , so _Z ( [ latter ] ) is not * bigger ( [ same ] ) ? [ Right ] .',\n",
       "  ' _Z is * smaller than _X , so _Z ( [ former ] ) is * smaller ( [ same ] ) ? [ Right ] .',\n",
       "  ' _Z is * smaller than _X , so _X ( [ latter ] ) is * bigger ( [ opposite ] ) ? [ Right ] .',\n",
       "  ' _Z is * smaller than _X , so _X ( [ latter ] ) is not * smaller ( [ same ] ) ? [ Right ] .',\n",
       "  ' _Z is * smaller than _X , so _Z ( [ former ] ) is not * bigger ( [ opposite ] ) ? [ Right ] .',\n",
       "  ' _X is not * bigger than _Z , so _Z ( [ latter ] ) is not * smaller ( [ opposite ] ) ? [ Right ] .',\n",
       "  ' _X is not * bigger than _Z , so _X ( [ former ] ) is not * bigger ( [ same ] ) ? [ Right ] .',\n",
       "  ' _X is not * bigger than _Z , so _X ( [ former ] ) is * smaller ( [ opposite ] ) ? [ Right ] .',\n",
       "  ' _X is not * bigger than _Z , so _Z ( [ latter ] ) is * bigger ( [ same ] ) ? [ Right ] .',\n",
       "  ' _Z is not * smaller than _X , so _Z ( [ former ] ) is not * smaller ( [ same ] ) ? [ Right ] .',\n",
       "  ' _Z is not * smaller than _X , so _X ( [ latter ] ) is not * bigger ( [ opposite ] ) ? [ Right ] .',\n",
       "  ' _Z is not * smaller than _X , so _X ( [ latter ] ) is * smaller ( [ same ] ) ? [ Right ] .',\n",
       "  ' _Z is not * smaller than _X , so _Z ( [ former ] ) is * bigger ( [ opposite ] ) ? [ Right ] .',\n",
       "  ' _X is * bigger than _Z , so _Z ( [ latter ] ) is not * smaller ( [ opposite ] ) ? [ Wrong ] .',\n",
       "  ' _X is * bigger than _Z , so _X ( [ former ] ) is not * bigger ( [ same ] ) ? [ Wrong ] .',\n",
       "  ' _X is * bigger than _Z , so _X ( [ former ] ) is * smaller ( [ opposite ] ) ? [ Wrong ] .',\n",
       "  ' _X is * bigger than _Z , so _Z ( [ latter ] ) is * bigger ( [ same ] ) ? [ Wrong ] .',\n",
       "  ' _Z is * smaller than _X , so _Z ( [ former ] ) is not * smaller ( [ same ] ) ? [ Wrong ] .',\n",
       "  ' _Z is * smaller than _X , so _X ( [ latter ] ) is not * bigger ( [ opposite ] ) ? [ Wrong ] .',\n",
       "  ' _Z is * smaller than _X , so _X ( [ latter ] ) is * smaller ( [ same ] ) ? [ Wrong ] .',\n",
       "  ' _Z is * smaller than _X , so _Z ( [ former ] ) is * bigger ( [ opposite ] ) ? [ Wrong ] .',\n",
       "  ' _X is not * bigger than _Z , so _Z ( [ latter ] ) is * smaller ( [ opposite ] ) ? [ Wrong ] .',\n",
       "  ' _X is not * bigger than _Z , so _X ( [ former ] ) is * bigger ( [ same ] ) ? [ Wrong ] .',\n",
       "  ' _X is not * bigger than _Z , so _X ( [ former ] ) is not * smaller ( [ opposite ] ) ? [ Wrong ] .',\n",
       "  ' _X is not * bigger than _Z , so _Z ( [ latter ] ) is not * bigger ( [ same ] ) ? [ Wrong ] .',\n",
       "  ' _Z is not * smaller than _X , so _Z ( [ former ] ) is * smaller ( [ same ] ) ? [ Wrong ] .',\n",
       "  ' _Z is not * smaller than _X , so _X ( [ latter ] ) is * bigger ( [ opposite ] ) ? [ Wrong ] .',\n",
       "  ' _Z is not * smaller than _X , so _X ( [ latter ] ) is not * smaller ( [ same ] ) ? [ Wrong ] .',\n",
       "  ' _Z is not * smaller than _X , so _Z ( [ former ] ) is not * bigger ( [ opposite ] ) ? [ Wrong ] .'],\n",
       " [[' U is * bigger than D , so D ( [ latter ] ) is * smaller ( [ opposite ] ) ? [ Right ] .',\n",
       "   ' A is * bigger than X , so X ( [ latter ] ) is * smaller ( [ opposite ] ) ? [ Right ] .',\n",
       "   ' I is * bigger than H , so H ( [ latter ] ) is * smaller ( [ opposite ] ) ? [ Right ] .'],\n",
       "  [' H is * bigger than E , so H ( [ former ] ) is * bigger ( [ same ] ) ? [ Right ] .',\n",
       "   ' X is * bigger than D , so X ( [ former ] ) is * bigger ( [ same ] ) ? [ Right ] .',\n",
       "   ' V is * bigger than X , so V ( [ former ] ) is * bigger ( [ same ] ) ? [ Right ] .'],\n",
       "  [' R is * bigger than C , so R ( [ former ] ) is not * smaller ( [ opposite ] ) ? [ Right ] .',\n",
       "   ' S is * bigger than N , so S ( [ former ] ) is not * smaller ( [ opposite ] ) ? [ Right ] .',\n",
       "   ' B is * bigger than A , so B ( [ former ] ) is not * smaller ( [ opposite ] ) ? [ Right ] .'],\n",
       "  [' C is * bigger than G , so G ( [ latter ] ) is not * bigger ( [ same ] ) ? [ Right ] .',\n",
       "   ' H is * bigger than Q , so Q ( [ latter ] ) is not * bigger ( [ same ] ) ? [ Right ] .',\n",
       "   ' T is * bigger than A , so A ( [ latter ] ) is not * bigger ( [ same ] ) ? [ Right ] .'],\n",
       "  [' G is * smaller than R , so G ( [ former ] ) is * smaller ( [ same ] ) ? [ Right ] .',\n",
       "   ' U is * smaller than W , so U ( [ former ] ) is * smaller ( [ same ] ) ? [ Right ] .',\n",
       "   ' R is * smaller than W , so R ( [ former ] ) is * smaller ( [ same ] ) ? [ Right ] .'],\n",
       "  [' H is * smaller than N , so N ( [ latter ] ) is * bigger ( [ opposite ] ) ? [ Right ] .',\n",
       "   ' S is * smaller than O , so O ( [ latter ] ) is * bigger ( [ opposite ] ) ? [ Right ] .',\n",
       "   ' Z is * smaller than I , so I ( [ latter ] ) is * bigger ( [ opposite ] ) ? [ Right ] .'],\n",
       "  [' Y is * smaller than A , so A ( [ latter ] ) is not * smaller ( [ same ] ) ? [ Right ] .',\n",
       "   ' F is * smaller than Z , so Z ( [ latter ] ) is not * smaller ( [ same ] ) ? [ Right ] .',\n",
       "   ' N is * smaller than W , so W ( [ latter ] ) is not * smaller ( [ same ] ) ? [ Right ] .'],\n",
       "  [' I is * smaller than K , so I ( [ former ] ) is not * bigger ( [ opposite ] ) ? [ Right ] .',\n",
       "   ' G is * smaller than E , so G ( [ former ] ) is not * bigger ( [ opposite ] ) ? [ Right ] .',\n",
       "   ' K is * smaller than Y , so K ( [ former ] ) is not * bigger ( [ opposite ] ) ? [ Right ] .'],\n",
       "  [' D is not * bigger than C , so C ( [ latter ] ) is not * smaller ( [ opposite ] ) ? [ Right ] .',\n",
       "   ' M is not * bigger than D , so D ( [ latter ] ) is not * smaller ( [ opposite ] ) ? [ Right ] .',\n",
       "   ' L is not * bigger than T , so T ( [ latter ] ) is not * smaller ( [ opposite ] ) ? [ Right ] .'],\n",
       "  [' I is not * bigger than Z , so I ( [ former ] ) is not * bigger ( [ same ] ) ? [ Right ] .',\n",
       "   ' B is not * bigger than X , so B ( [ former ] ) is not * bigger ( [ same ] ) ? [ Right ] .',\n",
       "   ' O is not * bigger than R , so O ( [ former ] ) is not * bigger ( [ same ] ) ? [ Right ] .'],\n",
       "  [' D is not * bigger than M , so D ( [ former ] ) is * smaller ( [ opposite ] ) ? [ Right ] .',\n",
       "   ' C is not * bigger than R , so C ( [ former ] ) is * smaller ( [ opposite ] ) ? [ Right ] .',\n",
       "   ' J is not * bigger than U , so J ( [ former ] ) is * smaller ( [ opposite ] ) ? [ Right ] .'],\n",
       "  [' T is not * bigger than L , so L ( [ latter ] ) is * bigger ( [ same ] ) ? [ Right ] .',\n",
       "   ' S is not * bigger than G , so G ( [ latter ] ) is * bigger ( [ same ] ) ? [ Right ] .',\n",
       "   ' W is not * bigger than C , so C ( [ latter ] ) is * bigger ( [ same ] ) ? [ Right ] .'],\n",
       "  [' V is not * smaller than B , so V ( [ former ] ) is not * smaller ( [ same ] ) ? [ Right ] .',\n",
       "   ' Y is not * smaller than H , so Y ( [ former ] ) is not * smaller ( [ same ] ) ? [ Right ] .',\n",
       "   ' C is not * smaller than J , so C ( [ former ] ) is not * smaller ( [ same ] ) ? [ Right ] .'],\n",
       "  [' D is not * smaller than H , so H ( [ latter ] ) is not * bigger ( [ opposite ] ) ? [ Right ] .',\n",
       "   ' I is not * smaller than M , so M ( [ latter ] ) is not * bigger ( [ opposite ] ) ? [ Right ] .',\n",
       "   ' U is not * smaller than O , so O ( [ latter ] ) is not * bigger ( [ opposite ] ) ? [ Right ] .'],\n",
       "  [' F is not * smaller than L , so L ( [ latter ] ) is * smaller ( [ same ] ) ? [ Right ] .',\n",
       "   ' G is not * smaller than L , so L ( [ latter ] ) is * smaller ( [ same ] ) ? [ Right ] .',\n",
       "   ' I is not * smaller than V , so V ( [ latter ] ) is * smaller ( [ same ] ) ? [ Right ] .'],\n",
       "  [' V is not * smaller than W , so V ( [ former ] ) is * bigger ( [ opposite ] ) ? [ Right ] .',\n",
       "   ' C is not * smaller than U , so C ( [ former ] ) is * bigger ( [ opposite ] ) ? [ Right ] .',\n",
       "   ' U is not * smaller than T , so U ( [ former ] ) is * bigger ( [ opposite ] ) ? [ Right ] .'],\n",
       "  [' F is * bigger than R , so R ( [ latter ] ) is not * smaller ( [ opposite ] ) ? [ Wrong ] .',\n",
       "   ' X is * bigger than H , so H ( [ latter ] ) is not * smaller ( [ opposite ] ) ? [ Wrong ] .',\n",
       "   ' F is * bigger than O , so O ( [ latter ] ) is not * smaller ( [ opposite ] ) ? [ Wrong ] .'],\n",
       "  [' M is * bigger than I , so M ( [ former ] ) is not * bigger ( [ same ] ) ? [ Wrong ] .',\n",
       "   ' U is * bigger than W , so U ( [ former ] ) is not * bigger ( [ same ] ) ? [ Wrong ] .',\n",
       "   ' R is * bigger than H , so R ( [ former ] ) is not * bigger ( [ same ] ) ? [ Wrong ] .'],\n",
       "  [' V is * bigger than K , so V ( [ former ] ) is * smaller ( [ opposite ] ) ? [ Wrong ] .',\n",
       "   ' Y is * bigger than B , so Y ( [ former ] ) is * smaller ( [ opposite ] ) ? [ Wrong ] .',\n",
       "   ' H is * bigger than B , so H ( [ former ] ) is * smaller ( [ opposite ] ) ? [ Wrong ] .'],\n",
       "  [' Z is * bigger than K , so K ( [ latter ] ) is * bigger ( [ same ] ) ? [ Wrong ] .',\n",
       "   ' M is * bigger than I , so I ( [ latter ] ) is * bigger ( [ same ] ) ? [ Wrong ] .',\n",
       "   ' C is * bigger than G , so G ( [ latter ] ) is * bigger ( [ same ] ) ? [ Wrong ] .'],\n",
       "  [' W is * smaller than S , so W ( [ former ] ) is not * smaller ( [ same ] ) ? [ Wrong ] .',\n",
       "   ' G is * smaller than K , so G ( [ former ] ) is not * smaller ( [ same ] ) ? [ Wrong ] .',\n",
       "   ' P is * smaller than U , so P ( [ former ] ) is not * smaller ( [ same ] ) ? [ Wrong ] .'],\n",
       "  [' U is * smaller than M , so M ( [ latter ] ) is not * bigger ( [ opposite ] ) ? [ Wrong ] .',\n",
       "   ' E is * smaller than O , so O ( [ latter ] ) is not * bigger ( [ opposite ] ) ? [ Wrong ] .',\n",
       "   ' E is * smaller than I , so I ( [ latter ] ) is not * bigger ( [ opposite ] ) ? [ Wrong ] .'],\n",
       "  [' X is * smaller than H , so H ( [ latter ] ) is * smaller ( [ same ] ) ? [ Wrong ] .',\n",
       "   ' I is * smaller than R , so R ( [ latter ] ) is * smaller ( [ same ] ) ? [ Wrong ] .',\n",
       "   ' S is * smaller than X , so X ( [ latter ] ) is * smaller ( [ same ] ) ? [ Wrong ] .'],\n",
       "  [' S is * smaller than N , so S ( [ former ] ) is * bigger ( [ opposite ] ) ? [ Wrong ] .',\n",
       "   ' L is * smaller than M , so L ( [ former ] ) is * bigger ( [ opposite ] ) ? [ Wrong ] .',\n",
       "   ' E is * smaller than H , so E ( [ former ] ) is * bigger ( [ opposite ] ) ? [ Wrong ] .'],\n",
       "  [' Q is not * bigger than P , so P ( [ latter ] ) is * smaller ( [ opposite ] ) ? [ Wrong ] .',\n",
       "   ' C is not * bigger than Y , so Y ( [ latter ] ) is * smaller ( [ opposite ] ) ? [ Wrong ] .',\n",
       "   ' B is not * bigger than D , so D ( [ latter ] ) is * smaller ( [ opposite ] ) ? [ Wrong ] .'],\n",
       "  [' E is not * bigger than U , so E ( [ former ] ) is * bigger ( [ same ] ) ? [ Wrong ] .',\n",
       "   ' F is not * bigger than Z , so F ( [ former ] ) is * bigger ( [ same ] ) ? [ Wrong ] .',\n",
       "   ' V is not * bigger than N , so V ( [ former ] ) is * bigger ( [ same ] ) ? [ Wrong ] .'],\n",
       "  [' T is not * bigger than C , so T ( [ former ] ) is not * smaller ( [ opposite ] ) ? [ Wrong ] .',\n",
       "   ' M is not * bigger than T , so M ( [ former ] ) is not * smaller ( [ opposite ] ) ? [ Wrong ] .',\n",
       "   ' O is not * bigger than Q , so O ( [ former ] ) is not * smaller ( [ opposite ] ) ? [ Wrong ] .'],\n",
       "  [' I is not * bigger than R , so R ( [ latter ] ) is not * bigger ( [ same ] ) ? [ Wrong ] .',\n",
       "   ' A is not * bigger than V , so V ( [ latter ] ) is not * bigger ( [ same ] ) ? [ Wrong ] .',\n",
       "   ' X is not * bigger than D , so D ( [ latter ] ) is not * bigger ( [ same ] ) ? [ Wrong ] .'],\n",
       "  [' R is not * smaller than V , so R ( [ former ] ) is * smaller ( [ same ] ) ? [ Wrong ] .',\n",
       "   ' I is not * smaller than Y , so I ( [ former ] ) is * smaller ( [ same ] ) ? [ Wrong ] .',\n",
       "   ' U is not * smaller than Y , so U ( [ former ] ) is * smaller ( [ same ] ) ? [ Wrong ] .'],\n",
       "  [' D is not * smaller than K , so K ( [ latter ] ) is * bigger ( [ opposite ] ) ? [ Wrong ] .',\n",
       "   ' N is not * smaller than J , so J ( [ latter ] ) is * bigger ( [ opposite ] ) ? [ Wrong ] .',\n",
       "   ' O is not * smaller than F , so F ( [ latter ] ) is * bigger ( [ opposite ] ) ? [ Wrong ] .'],\n",
       "  [' X is not * smaller than A , so A ( [ latter ] ) is not * smaller ( [ same ] ) ? [ Wrong ] .',\n",
       "   ' I is not * smaller than X , so X ( [ latter ] ) is not * smaller ( [ same ] ) ? [ Wrong ] .',\n",
       "   ' Y is not * smaller than Q , so Q ( [ latter ] ) is not * smaller ( [ same ] ) ? [ Wrong ] .'],\n",
       "  [' Q is not * smaller than F , so Q ( [ former ] ) is not * bigger ( [ opposite ] ) ? [ Wrong ] .',\n",
       "   ' U is not * smaller than D , so U ( [ former ] ) is not * bigger ( [ opposite ] ) ? [ Wrong ] .',\n",
       "   ' U is not * smaller than J , so U ( [ former ] ) is not * bigger ( [ opposite ] ) ? [ Wrong ] .']])"
      ]
     },
     "execution_count": 162,
     "metadata": {},
     "output_type": "execute_result"
    }
   ],
   "source": [
    "A_template = \"{rel_prefix} {dt} {ent0} {rel} {dt} {ent1} {rel_suffix}\"\n",
    "B_templates = [\"{pred_prefix} {dt} {ent} {pred}\", \"{pred_prefix} {pred} {dt} {ent}\"]\n",
    "B_template = B_templates[0]\n",
    "entailment_templates = [\n",
    "    \"{A} ? {conj} , {B} .\",  # yes/no/maybe\n",
    "    \"{A} , so {B} ? {conj} .\",\n",
    "]\n",
    "marker = '*'\n",
    "def get_comparative(word, add_marker=True):\n",
    "    compar = comparative(word)\n",
    "    if add_marker:\n",
    "        compar = compar.replace('more ', 'more %s ' % marker) if compar.startswith('more ') else marker + ' ' + compar\n",
    "    return compar\n",
    "    \n",
    "def negate_sent(sent):\n",
    "    assert ' is ' in sent\n",
    "    neg_sents = []\n",
    "    neg_sent0 = sent.replace(' is ', ' is not ') if 'more ' not in sent else sent.replace('more ', 'less ')\n",
    "    neg_sents.append(neg_sent0)\n",
    "    neg_sents.append('it is unlikely that ' + sent)\n",
    "    return neg_sents\n",
    "\n",
    "def strip_rel_id(s, lexical_rel=''):\n",
    "    rel_id_span = s[s.index(':'): s.index(':') + 2]\n",
    "    if lexical_rel != '': lexical_rel = ' ( ' + lexical_rel + ' )'\n",
    "    return s.replace(rel_id_span, lexical_rel)\n",
    "        \n",
    "tag2id = {'Ġsame': 0, 'Ġopposite': 1, 'Ġunrelated': 2, 'Ġformer': 3, 'Ġlatter': 4, 'Ġanother': 5}\n",
    "id2tag = {v: k for k, v in tag2id.items()}\n",
    "\n",
    "def make_sentences(index=-1, entities=[\"_X\", \"_Z\"], entity_set=string.ascii_uppercase, determiner=\"\",\n",
    "                   relation_group=[[\"big\",], [\"small\"]], rand_relation_group=[[\"short\"], [\"tall\", \"high\"]],\n",
    "                   relation_prefix=\"\", relation_suffix=\"\", predicate_prefix=\"\",\n",
    "                   n_entity_trials=3, has_negA=True, has_negB=True, has_neutral=False, mask_types={'sent_rel'}, \n",
    "                   lexical_relations=['same', 'opposite', 'unrelated'], tag_lexical_rel=False, tag_entity_rel=False):\n",
    "    if tag_lexical_rel: mask_types.add('lexical_rel')\n",
    "    if tag_entity_rel: mask_types.add('entity_rel')\n",
    "        \n",
    "    def form_As(relations):\n",
    "        return [A_template.format(dt=determiner, ent0=ent0, ent1=ent1, rel=rel, rel_prefix=relation_prefix, rel_suffix=relation_suffix)\n",
    "              for ent0, ent1, rel in [entities + relations[:1], reverse(entities) + reverse(relations)[:1]]]\n",
    "\n",
    "    As = []\n",
    "    for rel0 in relation_group[0]:\n",
    "        for rel1 in relation_group[1]:\n",
    "            relations = [\"is %s:%d than\" % (get_comparative(rel), i) for i, rel in enumerate([rel0, rel1])]\n",
    "            As += form_As(relations)\n",
    "    As = list(set(As))\n",
    "    negAs = join_lists([negate_sent(A)[:1] for A in As]) if has_negA else []\n",
    "\n",
    "    def form_Bs(predicates): \n",
    "        f = mask if 'entity' in mask_types else (lambda x: x)\n",
    "        return [B_template.format(dt=determiner, ent=f(ent), pred=pred, pred_prefix=predicate_prefix)\n",
    "              for ent, pred in zip(entities, predicates)]\n",
    "\n",
    "    Bs, negBs = {'orig': [], 'rand': []}, {}\n",
    "    for k, group in zip(['orig', 'rand'], [relation_group, rand_relation_group]):\n",
    "        for rel0 in group[0]:\n",
    "            for rel1 in group[1]:\n",
    "                predicates = [\"is %s:%d\" % (get_comparative(rel), i) for i, rel in enumerate([rel0, rel1])]\n",
    "                Bs[k] += form_Bs(predicates)\n",
    "    for k in Bs:\n",
    "        Bs[k] = list(set(Bs[k]))\n",
    "        if has_negB:\n",
    "            negBs[k] = join_lists([negate_sent(B)[:1] for B in Bs[k]])\n",
    "            Bs[k], negBs[k] = Bs[k] + [swap_entities(negB) for negB in negBs[k]], negBs[k] + [swap_entities(B) for B in Bs[k]]\n",
    "        else:\n",
    "            negBs[k] = [swap_entities(B) for B in Bs[k]]\n",
    "\n",
    "    def form_sentences(sentence_template, As, Bs, conj):\n",
    "        def extract_rel_id(s): return int(s[s.index(':') + 1])\n",
    "        def get_lexical_rel(rel_id_A, rel_id_B): return 'same' if rel_id_A == rel_id_B else 'opposite'\n",
    "        def compare_and_tag_entity(B, A):\n",
    "            entity = [e for e in entities if e in B][0]\n",
    "            entity_rel = 'former' if A.strip().startswith(entity) else 'latter'\n",
    "            if 'entity_rel' in mask_types: entity_rel = mask(entity_rel)\n",
    "            return B.replace(entity, entity + ' ( ' + entity_rel + ' )')                    \n",
    "        \n",
    "        if 'sent_rel' in mask_types: conj = mask(conj)\n",
    "        As_with_rel_ids = [(A, extract_rel_id(A)) for A in As]\n",
    "        Bs_with_rel_ids = [(B, extract_rel_id(B)) for B in Bs]\n",
    "            \n",
    "        sentences = []\n",
    "        for (A, rel_id_A), (B, rel_id_B) in product(As_with_rel_ids, Bs_with_rel_ids):\n",
    "            lexical_rel = 'unrelated' if 'Maybe' in conj else get_lexical_rel(rel_id_A, rel_id_B)\n",
    "            if lexical_rel in lexical_relations:\n",
    "                if tag_entity_rel: B = compare_and_tag_entity(B, A)\n",
    "                if not tag_lexical_rel: lexical_rel = ''\n",
    "                elif 'lexical_rel' in mask_types: lexical_rel = mask(lexical_rel)\n",
    "                sent = sentence_template.format(A=strip_rel_id(A), B=strip_rel_id(B, lexical_rel), conj=conj)\n",
    "                sent = \" \" + \" \".join(sent.split())\n",
    "                sentences.append(sent)\n",
    "        return sentences\n",
    "\n",
    "    sentences = defaultdict(list)\n",
    "    for entailment_template in entailment_templates[-1:]:\n",
    "        for A, B, conj in [(As, Bs['orig'], 'Right'), \n",
    "                           (negAs, negBs['orig'], 'Right'), \n",
    "                           (As, negBs['orig'], 'Wrong'), \n",
    "                           (negAs, Bs['orig'], 'Wrong'),\n",
    "                           (As, Bs['rand'], 'Maybe'), \n",
    "                           (negAs, negBs['rand'], 'Maybe'), \n",
    "                           (As, negBs['rand'], 'Maybe'), \n",
    "                           (negAs, Bs['rand'], 'Maybe'),\n",
    "                          ]:\n",
    "            sentences[conj] += form_sentences(entailment_template, A, B, conj)\n",
    "    assert len(sentences['Right']) == len(sentences['Wrong']), '%d %d' % (len(sentences['Right']), len(sentences['Wrong']))\n",
    "    if has_neutral: sentences['Maybe'] = random.sample(sentences['Maybe'], len(sentences['Right']))\n",
    "    sentences = join_lists(sentences[k] for k in (sentences.keys() if has_neutral else ['Right', 'Wrong']))\n",
    "    \n",
    "    substituted_sent_groups = []\n",
    "    for sent in sentences:\n",
    "        sent_group = []\n",
    "        for _ in range(n_entity_trials):\n",
    "            e0, e1 = random.sample(entity_set, 2)\n",
    "            sent_group.append(sent.replace(entities[0], e0).replace(entities[1], e1))\n",
    "        substituted_sent_groups.append(sent_group)\n",
    "    return sentences, substituted_sent_groups\n",
    "\n",
    "# make_sentences(has_negA=True, has_negB=True, has_neutral=False, tag_lexical_rel=True, tag_entity_rel=True, \n",
    "#                mask_types={'sent_rel'})[0]"
   ]
  },
  {
   "cell_type": "code",
   "execution_count": 18,
   "metadata": {
    "collapsed": true
   },
   "outputs": [
    {
     "data": {
      "text/plain": [
       "([' _X is bigger than _Y and _Y is bigger than _Z , so _X is bigger than _Z ? [ Right ] .',\n",
       "  ' _X is bigger than _Y and _Y is bigger than _Z , so _Z is smaller than _X ? [ Right ] .',\n",
       "  ' _X is bigger than _Y and _Z is smaller than _Y , so _X is bigger than _Z ? [ Right ] .',\n",
       "  ' _X is bigger than _Y and _Z is smaller than _Y , so _Z is smaller than _X ? [ Right ] .',\n",
       "  ' _Y is smaller than _X and _Y is bigger than _Z , so _X is bigger than _Z ? [ Right ] .',\n",
       "  ' _Y is smaller than _X and _Y is bigger than _Z , so _Z is smaller than _X ? [ Right ] .',\n",
       "  ' _Y is smaller than _X and _Z is smaller than _Y , so _X is bigger than _Z ? [ Right ] .',\n",
       "  ' _Y is smaller than _X and _Z is smaller than _Y , so _Z is smaller than _X ? [ Right ] .',\n",
       "  ' _Y is bigger than _Z and _X is bigger than _Y , so _X is bigger than _Z ? [ Right ] .',\n",
       "  ' _Y is bigger than _Z and _X is bigger than _Y , so _Z is smaller than _X ? [ Right ] .',\n",
       "  ' _Y is bigger than _Z and _Y is smaller than _X , so _X is bigger than _Z ? [ Right ] .',\n",
       "  ' _Y is bigger than _Z and _Y is smaller than _X , so _Z is smaller than _X ? [ Right ] .',\n",
       "  ' _Z is smaller than _Y and _X is bigger than _Y , so _X is bigger than _Z ? [ Right ] .',\n",
       "  ' _Z is smaller than _Y and _X is bigger than _Y , so _Z is smaller than _X ? [ Right ] .',\n",
       "  ' _Z is smaller than _Y and _Y is smaller than _X , so _X is bigger than _Z ? [ Right ] .',\n",
       "  ' _Z is smaller than _Y and _Y is smaller than _X , so _Z is smaller than _X ? [ Right ] .',\n",
       "  ' _X is bigger than _Y and _Y is bigger than _Z , so _Z is bigger than _X ? [ Wrong ] .',\n",
       "  ' _X is bigger than _Y and _Y is bigger than _Z , so _X is smaller than _Z ? [ Wrong ] .',\n",
       "  ' _X is bigger than _Y and _Z is smaller than _Y , so _Z is bigger than _X ? [ Wrong ] .',\n",
       "  ' _X is bigger than _Y and _Z is smaller than _Y , so _X is smaller than _Z ? [ Wrong ] .',\n",
       "  ' _Y is smaller than _X and _Y is bigger than _Z , so _Z is bigger than _X ? [ Wrong ] .',\n",
       "  ' _Y is smaller than _X and _Y is bigger than _Z , so _X is smaller than _Z ? [ Wrong ] .',\n",
       "  ' _Y is smaller than _X and _Z is smaller than _Y , so _Z is bigger than _X ? [ Wrong ] .',\n",
       "  ' _Y is smaller than _X and _Z is smaller than _Y , so _X is smaller than _Z ? [ Wrong ] .',\n",
       "  ' _Y is bigger than _Z and _X is bigger than _Y , so _Z is bigger than _X ? [ Wrong ] .',\n",
       "  ' _Y is bigger than _Z and _X is bigger than _Y , so _X is smaller than _Z ? [ Wrong ] .',\n",
       "  ' _Y is bigger than _Z and _Y is smaller than _X , so _Z is bigger than _X ? [ Wrong ] .',\n",
       "  ' _Y is bigger than _Z and _Y is smaller than _X , so _X is smaller than _Z ? [ Wrong ] .',\n",
       "  ' _Z is smaller than _Y and _X is bigger than _Y , so _Z is bigger than _X ? [ Wrong ] .',\n",
       "  ' _Z is smaller than _Y and _X is bigger than _Y , so _X is smaller than _Z ? [ Wrong ] .',\n",
       "  ' _Z is smaller than _Y and _Y is smaller than _X , so _Z is bigger than _X ? [ Wrong ] .',\n",
       "  ' _Z is smaller than _Y and _Y is smaller than _X , so _X is smaller than _Z ? [ Wrong ] .'],\n",
       " [[' U is bigger than D and D is bigger than A , so U is bigger than A ? [ Right ] .',\n",
       "   ' X is bigger than I and I is bigger than H , so X is bigger than H ? [ Right ] .',\n",
       "   ' H is bigger than E and E is bigger than X , so H is bigger than X ? [ Right ] .'],\n",
       "  [' D is bigger than V and V is bigger than X , so X is smaller than D ? [ Right ] .',\n",
       "   ' R is bigger than C and C is bigger than S , so S is smaller than R ? [ Right ] .',\n",
       "   ' N is bigger than B and B is bigger than A , so A is smaller than N ? [ Right ] .'],\n",
       "  [' C is bigger than G and H is smaller than G , so C is bigger than H ? [ Right ] .',\n",
       "   ' Q is bigger than T and A is smaller than T , so Q is bigger than A ? [ Right ] .',\n",
       "   ' R is bigger than G and W is smaller than G , so R is bigger than W ? [ Right ] .'],\n",
       "  [' U is bigger than W and R is smaller than W , so R is smaller than U ? [ Right ] .',\n",
       "   ' N is bigger than H and O is smaller than H , so O is smaller than N ? [ Right ] .',\n",
       "   ' S is bigger than I and Z is smaller than I , so Z is smaller than S ? [ Right ] .'],\n",
       "  [' Y is smaller than A and Y is bigger than Z , so A is bigger than Z ? [ Right ] .',\n",
       "   ' W is smaller than F and W is bigger than N , so F is bigger than N ? [ Right ] .',\n",
       "   ' I is smaller than K and I is bigger than E , so K is bigger than E ? [ Right ] .'],\n",
       "  [' Y is smaller than G and Y is bigger than K , so K is smaller than G ? [ Right ] .',\n",
       "   ' C is smaller than D and C is bigger than M , so M is smaller than D ? [ Right ] .',\n",
       "   ' L is smaller than D and L is bigger than T , so T is smaller than D ? [ Right ] .'],\n",
       "  [' Z is smaller than I and B is smaller than Z , so I is bigger than B ? [ Right ] .',\n",
       "   ' O is smaller than X and R is smaller than O , so X is bigger than R ? [ Right ] .',\n",
       "   ' M is smaller than D and C is smaller than M , so D is bigger than C ? [ Right ] .'],\n",
       "  [' J is smaller than R and U is smaller than J , so U is smaller than R ? [ Right ] .',\n",
       "   ' L is smaller than T and S is smaller than L , so S is smaller than T ? [ Right ] .',\n",
       "   ' W is smaller than G and C is smaller than W , so C is smaller than G ? [ Right ] .'],\n",
       "  [' V is bigger than H and B is bigger than V , so B is bigger than H ? [ Right ] .',\n",
       "   ' J is bigger than C and Y is bigger than J , so Y is bigger than C ? [ Right ] .',\n",
       "   ' D is bigger than M and H is bigger than D , so H is bigger than M ? [ Right ] .'],\n",
       "  [' O is bigger than U and I is bigger than O , so U is smaller than I ? [ Right ] .',\n",
       "   ' F is bigger than G and L is bigger than F , so G is smaller than L ? [ Right ] .',\n",
       "   ' I is bigger than W and V is bigger than I , so W is smaller than V ? [ Right ] .'],\n",
       "  [' U is bigger than C and U is smaller than V , so V is bigger than C ? [ Right ] .',\n",
       "   ' U is bigger than F and U is smaller than T , so T is bigger than F ? [ Right ] .',\n",
       "   ' X is bigger than H and X is smaller than R , so R is bigger than H ? [ Right ] .'],\n",
       "  [' O is bigger than M and O is smaller than F , so M is smaller than F ? [ Right ] .',\n",
       "   ' U is bigger than W and U is smaller than I , so W is smaller than I ? [ Right ] .',\n",
       "   ' H is bigger than V and H is smaller than R , so V is smaller than R ? [ Right ] .'],\n",
       "  [' B is smaller than Y and K is bigger than Y , so K is bigger than B ? [ Right ] .',\n",
       "   ' Z is smaller than B and H is bigger than B , so H is bigger than Z ? [ Right ] .',\n",
       "   ' I is smaller than M and K is bigger than M , so K is bigger than I ? [ Right ] .'],\n",
       "  [' S is smaller than G and C is bigger than G , so S is smaller than C ? [ Right ] .',\n",
       "   ' G is smaller than K and W is bigger than K , so G is smaller than W ? [ Right ] .',\n",
       "   ' M is smaller than P and U is bigger than P , so M is smaller than U ? [ Right ] .'],\n",
       "  [' E is smaller than O and O is smaller than U , so U is bigger than E ? [ Right ] .',\n",
       "   ' H is smaller than E and E is smaller than I , so I is bigger than H ? [ Right ] .',\n",
       "   ' I is smaller than R and R is smaller than X , so X is bigger than I ? [ Right ] .'],\n",
       "  [' N is smaller than S and S is smaller than X , so N is smaller than X ? [ Right ] .',\n",
       "   ' L is smaller than M and M is smaller than S , so L is smaller than S ? [ Right ] .',\n",
       "   ' Q is smaller than E and E is smaller than H , so Q is smaller than H ? [ Right ] .'],\n",
       "  [' P is bigger than C and C is bigger than Y , so Y is bigger than P ? [ Wrong ] .',\n",
       "   ' B is bigger than D and D is bigger than E , so E is bigger than B ? [ Wrong ] .',\n",
       "   ' U is bigger than F and F is bigger than Z , so Z is bigger than U ? [ Wrong ] .'],\n",
       "  [' V is bigger than N and N is bigger than T , so V is smaller than T ? [ Wrong ] .',\n",
       "   ' C is bigger than M and M is bigger than T , so C is smaller than T ? [ Wrong ] .',\n",
       "   ' O is bigger than Q and Q is bigger than I , so O is smaller than I ? [ Wrong ] .'],\n",
       "  [' R is bigger than A and V is smaller than A , so V is bigger than R ? [ Wrong ] .',\n",
       "   ' X is bigger than D and V is smaller than D , so V is bigger than X ? [ Wrong ] .',\n",
       "   ' R is bigger than Y and I is smaller than Y , so I is bigger than R ? [ Wrong ] .'],\n",
       "  [' Y is bigger than U and K is smaller than U , so Y is smaller than K ? [ Wrong ] .',\n",
       "   ' D is bigger than J and N is smaller than J , so D is smaller than N ? [ Wrong ] .',\n",
       "   ' F is bigger than O and A is smaller than O , so F is smaller than A ? [ Wrong ] .'],\n",
       "  [' I is smaller than X and I is bigger than Q , so Q is bigger than X ? [ Wrong ] .',\n",
       "   ' F is smaller than Y and F is bigger than Q , so Q is bigger than Y ? [ Wrong ] .',\n",
       "   ' U is smaller than D and U is bigger than J , so J is bigger than D ? [ Wrong ] .'],\n",
       "  [' Q is smaller than U and Q is bigger than T , so U is smaller than T ? [ Wrong ] .',\n",
       "   ' E is smaller than G and E is bigger than L , so G is smaller than L ? [ Wrong ] .',\n",
       "   ' F is smaller than Y and F is bigger than R , so Y is smaller than R ? [ Wrong ] .'],\n",
       "  [' Q is smaller than Y and A is smaller than Q , so A is bigger than Y ? [ Wrong ] .',\n",
       "   ' K is smaller than T and P is smaller than K , so P is bigger than T ? [ Wrong ] .',\n",
       "   ' D is smaller than A and L is smaller than D , so L is bigger than A ? [ Wrong ] .'],\n",
       "  [' J is smaller than Z and H is smaller than J , so Z is smaller than H ? [ Wrong ] .',\n",
       "   ' H is smaller than B and S is smaller than H , so B is smaller than S ? [ Wrong ] .',\n",
       "   ' X is smaller than C and P is smaller than X , so C is smaller than P ? [ Wrong ] .'],\n",
       "  [' Y is bigger than R and C is bigger than Y , so R is bigger than C ? [ Wrong ] .',\n",
       "   ' E is bigger than V and Y is bigger than E , so V is bigger than Y ? [ Wrong ] .',\n",
       "   ' R is bigger than F and P is bigger than R , so F is bigger than P ? [ Wrong ] .'],\n",
       "  [' Q is bigger than T and I is bigger than Q , so I is smaller than T ? [ Wrong ] .',\n",
       "   ' G is bigger than R and N is bigger than G , so N is smaller than R ? [ Wrong ] .',\n",
       "   ' X is bigger than W and Y is bigger than X , so Y is smaller than W ? [ Wrong ] .'],\n",
       "  [' W is bigger than J and W is smaller than G , so J is bigger than G ? [ Wrong ] .',\n",
       "   ' V is bigger than U and V is smaller than M , so U is bigger than M ? [ Wrong ] .',\n",
       "   ' O is bigger than Q and O is smaller than L , so Q is bigger than L ? [ Wrong ] .'],\n",
       "  [' D is bigger than H and D is smaller than O , so O is smaller than H ? [ Wrong ] .',\n",
       "   ' C is bigger than K and C is smaller than H , so H is smaller than K ? [ Wrong ] .',\n",
       "   ' S is bigger than R and S is smaller than A , so A is smaller than R ? [ Wrong ] .'],\n",
       "  [' A is smaller than S and H is bigger than S , so A is bigger than H ? [ Wrong ] .',\n",
       "   ' U is smaller than W and C is bigger than W , so U is bigger than C ? [ Wrong ] .',\n",
       "   ' C is smaller than H and B is bigger than H , so C is bigger than B ? [ Wrong ] .'],\n",
       "  [' C is smaller than K and B is bigger than K , so B is smaller than C ? [ Wrong ] .',\n",
       "   ' I is smaller than H and Q is bigger than H , so Q is smaller than I ? [ Wrong ] .',\n",
       "   ' G is smaller than P and V is bigger than P , so V is smaller than G ? [ Wrong ] .'],\n",
       "  [' X is smaller than E and E is smaller than R , so X is bigger than R ? [ Wrong ] .',\n",
       "   ' H is smaller than P and P is smaller than S , so H is bigger than S ? [ Wrong ] .',\n",
       "   ' N is smaller than P and P is smaller than Z , so N is bigger than Z ? [ Wrong ] .'],\n",
       "  [' V is smaller than D and D is smaller than G , so G is smaller than V ? [ Wrong ] .',\n",
       "   ' O is smaller than L and L is smaller than N , so N is smaller than O ? [ Wrong ] .',\n",
       "   ' V is smaller than B and B is smaller than X , so X is smaller than V ? [ Wrong ] .']])"
      ]
     },
     "execution_count": 18,
     "metadata": {},
     "output_type": "execute_result"
    }
   ],
   "source": [
    "P_template = '{ent0} {rel} {ent1}'\n",
    "transitive_template = '{p0} and {p1} , so {Q} ? {conj} .'\n",
    "transitive_wh_QA_template = '{which} is {pred} ? {ent} .'\n",
    "    \n",
    "def make_transitive(entities=[\"_X\", \"_Y\", \"_Z\"], entity_set=string.ascii_uppercase, relation_group=[[\"big\", ], [\"small\", ]], \n",
    "                    n_entity_trials=3, has_negP=True, has_negQ=True, has_neutral=False, mask_types=['sent_rel']):\n",
    "    def form_atoms(relations, entities, has_neg=True):\n",
    "        atoms = [P_template.format(ent0=ent0, ent1=ent1, rel=rel) \n",
    "                 for ent0, ent1, rel in [entities + relations[:1], reverse(entities) + reverse(relations)[:1]]]\n",
    "        if has_neg:\n",
    "            neg_relations = [r.replace('is ', 'is not ') for r in relations]\n",
    "            atoms += [P_template.format(ent0=ent0, ent1=ent1, rel=rel) \n",
    "                      for ent0, ent1, rel in [entities + reverse(neg_relations)[:1], reverse(entities) + neg_relations[:1]]]\n",
    "        return atoms\n",
    " \n",
    "    def form_sentences(transitive_template, Ps, Qs, conj):\n",
    "        sentences = []\n",
    "        if 'sent_rel' in mask_types: conj = mask(conj)\n",
    "        for (p0, p1), Q in product(Ps, Qs):\n",
    "            sent = transitive_template.format(p0=strip_rel_id(p0), p1=strip_rel_id(p1), Q=strip_rel_id(Q), conj=conj)\n",
    "            sent = \" \" + \" \".join(sent.split())\n",
    "            sentences.append(sent)\n",
    "        return sentences\n",
    "    \n",
    "    def form_all(P0_entities, P1_entities, Q_entities, neutral=False):\n",
    "        P0, P1 = [], []\n",
    "        for rel0 in relation_group[0]:\n",
    "            for rel1 in relation_group[1]:\n",
    "                relations = [\"is %s:%d than\" % (get_comparative(rel), i) for i, rel in enumerate([rel0, rel1])]\n",
    "                P0 += form_atoms(relations, P0_entities, has_neg=has_negP)\n",
    "                P1 += form_atoms(relations, P1_entities, has_neg=has_negP)\n",
    "        Ps = [(p0, p1) for p0, p1 in list(product(P0, P1)) + list(product(P1, P0))]\n",
    "\n",
    "        Qs = form_atoms(relations, Q_entities, has_neg=has_negQ)\n",
    "        negQs = [swap_entities(Q, *Q_entities) for Q in Qs]\n",
    "        \n",
    "        for P, Q, conj in [(Ps, Qs, 'Right'), (Ps, negQs, 'Wrong')]:\n",
    "            if neutral: conj = 'Maybe'\n",
    "            sentences[conj] += form_sentences(transitive_template, P, Q, conj)\n",
    "        return sentences\n",
    "    \n",
    "    e0, e1, e2 = entities\n",
    "    sentences = defaultdict(list)\n",
    "    form_all(P0_entities=[e0, e1], P1_entities=[e1, e2], Q_entities=[e0, e2])\n",
    "    assert len(sentences['Right']) == len(sentences['Wrong']), '%d %d' % (len(sentences['Right']), len(sentences['Wrong']))\n",
    "    sample_ratio = len(relation_group[0]) * len(relation_group[1])\n",
    "    if sample_ratio > 1:\n",
    "        for key in sentences: sentences[key] = random.sample(sentences[key], len(sentences[key]) // sample_ratio)\n",
    "#     print('nRight =', len(sentences['Right']))\n",
    "    if has_neutral:\n",
    "        form_all(P0_entities=[e0, e1], P1_entities=[e0, e2], Q_entities=[e1, e2], neutral=True)\n",
    "        sentences['Maybe'] = random.sample(sentences['Maybe'], len(sentences['Right']))\n",
    "    sentences = join_lists(sentences[k] for k in (sentences.keys() if has_neutral else ['Right', 'Wrong']))\n",
    "    \n",
    "    substituted_sent_groups = []\n",
    "    for sent in sentences:\n",
    "        sent_group = []\n",
    "        for _ in range(n_entity_trials):\n",
    "            e0, e1, e2 = random.sample(entity_set, 3)\n",
    "            sent_group.append(sent.replace(entities[0], e0).replace(entities[1], e1).replace(entities[2], e2))\n",
    "        substituted_sent_groups.append(sent_group)\n",
    "    return sentences, substituted_sent_groups\n",
    "\n",
    "# make_transitive(has_negP=False, has_negQ=False, has_neutral=False)"
   ]
  },
  {
   "cell_type": "code",
   "execution_count": 10,
   "metadata": {
    "scrolled": true
   },
   "outputs": [],
   "source": [
    "model_class, tokenizer_class, shortcut = RobertaForMaskedLM, RobertaTokenizer, 'roberta-large'\n",
    "# model_class = RobertaDoubleHeadsModel\n",
    "model, tokenizer = None, tokenizer_class.from_pretrained(shortcut)"
   ]
  },
  {
   "cell_type": "code",
   "execution_count": 96,
   "metadata": {},
   "outputs": [
    {
     "name": "stdout",
     "output_type": "stream",
     "text": [
      "in convert_example_to_features: features.labels = [-100, -100, -100, -100, -100, -100, -100, -100, -100, -100, -100, 5442, -100, -100, -100, -100, 5483, -100, -100, 5143, -100, -100, -100, -100, -100, -100, -100, -100, -100]\n",
      "in convert_example_to_features: features.labels = [-100, -100, -100, -100, -100, -100, -100, -100, -100, -100, -100, 5442, -100, -100, -100, -100, -100, 5483, -100, -100, 5143, -100, -100, -100, -100]\n",
      "nTrain = 16680, nValid = 7880\n"
     ]
    }
   ],
   "source": [
    "random.shuffle(frames)\n",
    "n_entity_trials = 5\n",
    "all_lines = [make_sentences(relation_group=rg, rand_relation_group=frames[(i + 1) % len(frames)], n_entity_trials=n_entity_trials, \n",
    "                            has_negA=True, has_negB=True, tag_lexical_rel=True, tag_entity_rel=True,\n",
    "                            has_neutral=False, mask_types={'sent_rel'})[1] \n",
    "             for i, rg in enumerate(frames)]\n",
    "# all_lines = [make_transitive(relation_group=rg, n_entity_trials=10, \n",
    "#                              has_negP=False, has_negQ=False, has_neutral=False, mask_types=['sent_rel'])[1] \n",
    "#              for i, rg in enumerate(frames)]\n",
    "# all_lines = join_lists(all_lines)\n",
    "# all_lines = join_lists(all_lines)\n",
    "tokenizer.tag2id, tokenizer.id2tag = tag2id, id2tag\n",
    "for k in CHILDDataset.all_lines: CHILDDataset.all_lines[k] = None\n",
    "train_dataset = CHILDDataset(all_lines, tokenizer, has_markers=True, max_noise_len=0, split_pct=[0.7, 0.3, 0.0], mode='train')\n",
    "eval_dataset = CHILDDataset(all_lines, tokenizer, has_markers=True, max_noise_len=0, split_pct=[0.7, 0.3, 0.0], mode='dev')\n",
    "print('nTrain = %d, nValid = %d' % (len(train_dataset), len(eval_dataset)))"
   ]
  },
  {
   "cell_type": "code",
   "execution_count": 97,
   "metadata": {
    "scrolled": false
   },
   "outputs": [
    {
     "data": {
      "application/vnd.jupyter.widget-view+json": {
       "model_id": "6a0de32e1ad343258199691ff53e80df",
       "version_major": 2,
       "version_minor": 0
      },
      "text/plain": [
       "HBox(children=(FloatProgress(value=0.0, description='Epoch', max=3.0, style=ProgressStyle(description_width='i…"
      ]
     },
     "metadata": {},
     "output_type": "display_data"
    },
    {
     "data": {
      "application/vnd.jupyter.widget-view+json": {
       "model_id": "a845d119023f4f25ae0c0b284dbf1750",
       "version_major": 2,
       "version_minor": 0
      },
      "text/plain": [
       "HBox(children=(FloatProgress(value=0.0, description='Iteration', max=522.0, style=ProgressStyle(description_wi…"
      ]
     },
     "metadata": {},
     "output_type": "display_data"
    },
    {
     "name": "stdout",
     "output_type": "stream",
     "text": [
      "{'loss': 0.499, 'learning_rate': 1.7867177522349936e-05, 'epoch': 0.32, 'step': 167}\n"
     ]
    },
    {
     "data": {
      "application/vnd.jupyter.widget-view+json": {
       "model_id": "dc886a7b9cab4f6bad58844cbcdcd92e",
       "version_major": 2,
       "version_minor": 0
      },
      "text/plain": [
       "HBox(children=(FloatProgress(value=0.0, description='Evaluation', max=124.0, style=ProgressStyle(description_w…"
      ]
     },
     "metadata": {},
     "output_type": "display_data"
    },
    {
     "name": "stdout",
     "output_type": "stream",
     "text": [
      "\n",
      "{'eval_loss': 0.397, 'eval_acc_0': 1.0, 'eval_stat_0': 'Ġformer 0.50 1.00, Ġlatter 0.50 1.00, ', 'eval_acc_1': 0.92, 'eval_stat_1': 'Ġsame 0.53 0.98, Ġopposite 0.47 0.98, ', 'eval_acc_2': 0.504, 'eval_stat_2': 'ĠWrong 1.00 0.74, ', 'epoch': 0.32, 'step': 167}\n",
      "{'loss': 0.247, 'learning_rate': 1.5734355044699873e-05, 'epoch': 0.64, 'step': 334}\n"
     ]
    },
    {
     "data": {
      "application/vnd.jupyter.widget-view+json": {
       "model_id": "3fe870f7d10a4aa090c34278a0451ec8",
       "version_major": 2,
       "version_minor": 0
      },
      "text/plain": [
       "HBox(children=(FloatProgress(value=0.0, description='Evaluation', max=124.0, style=ProgressStyle(description_w…"
      ]
     },
     "metadata": {},
     "output_type": "display_data"
    },
    {
     "name": "stdout",
     "output_type": "stream",
     "text": [
      "\n",
      "{'eval_loss': 0.466, 'eval_acc_0': 1.0, 'eval_stat_0': 'Ġformer 0.50 1.00, Ġlatter 0.50 1.00, ', 'eval_acc_1': 0.923, 'eval_stat_1': 'Ġsame 0.50 0.99, Ġopposite 0.50 0.99, ', 'eval_acc_2': 0.504, 'eval_stat_2': 'ĠWrong 1.00 0.67, ', 'epoch': 0.64, 'step': 334}\n",
      "{'loss': 0.242, 'learning_rate': 1.3601532567049809e-05, 'epoch': 0.96, 'step': 501}\n"
     ]
    },
    {
     "data": {
      "application/vnd.jupyter.widget-view+json": {
       "model_id": "8f930fa50f11401591a332d56c95eabc",
       "version_major": 2,
       "version_minor": 0
      },
      "text/plain": [
       "HBox(children=(FloatProgress(value=0.0, description='Evaluation', max=124.0, style=ProgressStyle(description_w…"
      ]
     },
     "metadata": {},
     "output_type": "display_data"
    },
    {
     "name": "stdout",
     "output_type": "stream",
     "text": [
      "\n",
      "{'eval_loss': 0.4, 'eval_acc_0': 1.0, 'eval_stat_0': 'Ġformer 0.50 1.00, Ġlatter 0.50 1.00, ', 'eval_acc_1': 0.943, 'eval_stat_1': 'Ġsame 0.51 0.99, Ġopposite 0.49 0.99, ', 'eval_acc_2': 0.504, 'eval_stat_2': 'ĠWrong 1.00 0.55, ', 'epoch': 0.96, 'step': 501}\n",
      "\n"
     ]
    },
    {
     "data": {
      "application/vnd.jupyter.widget-view+json": {
       "model_id": "4b182b954a434217ab8dd0794e62fa85",
       "version_major": 2,
       "version_minor": 0
      },
      "text/plain": [
       "HBox(children=(FloatProgress(value=0.0, description='Iteration', max=522.0, style=ProgressStyle(description_wi…"
      ]
     },
     "metadata": {},
     "output_type": "display_data"
    },
    {
     "name": "stdout",
     "output_type": "stream",
     "text": [
      "{'loss': 0.239, 'learning_rate': 1.1468710089399747e-05, 'epoch': 1.28, 'step': 668}\n"
     ]
    },
    {
     "data": {
      "application/vnd.jupyter.widget-view+json": {
       "model_id": "bbf86d5c281041d3b638f65c9e9146cf",
       "version_major": 2,
       "version_minor": 0
      },
      "text/plain": [
       "HBox(children=(FloatProgress(value=0.0, description='Evaluation', max=124.0, style=ProgressStyle(description_w…"
      ]
     },
     "metadata": {},
     "output_type": "display_data"
    },
    {
     "name": "stdout",
     "output_type": "stream",
     "text": [
      "\n",
      "{'eval_loss': 0.431, 'eval_acc_0': 1.0, 'eval_stat_0': 'Ġformer 0.50 1.00, Ġlatter 0.50 1.00, ', 'eval_acc_1': 0.952, 'eval_stat_1': 'Ġsame 0.51 1.00, Ġopposite 0.49 1.00, ', 'eval_acc_2': 0.504, 'eval_stat_2': 'ĠWrong 1.00 0.61, ', 'epoch': 1.28, 'step': 668}\n",
      "{'loss': 0.239, 'learning_rate': 9.33588761174968e-06, 'epoch': 1.6, 'step': 835}\n"
     ]
    },
    {
     "data": {
      "application/vnd.jupyter.widget-view+json": {
       "model_id": "650028ee07154e59a50e95d531be94fe",
       "version_major": 2,
       "version_minor": 0
      },
      "text/plain": [
       "HBox(children=(FloatProgress(value=0.0, description='Evaluation', max=124.0, style=ProgressStyle(description_w…"
      ]
     },
     "metadata": {},
     "output_type": "display_data"
    },
    {
     "name": "stdout",
     "output_type": "stream",
     "text": [
      "\n",
      "{'eval_loss': 0.435, 'eval_acc_0': 1.0, 'eval_stat_0': 'Ġformer 0.50 1.00, Ġlatter 0.50 1.00, ', 'eval_acc_1': 0.948, 'eval_stat_1': 'Ġsame 0.51 1.00, Ġopposite 0.49 1.00, ', 'eval_acc_2': 0.496, 'eval_stat_2': 'ĠRight 1.00 0.56, ', 'epoch': 1.6, 'step': 835}\n",
      "{'loss': 0.236, 'learning_rate': 7.2030651340996175e-06, 'epoch': 1.92, 'step': 1002}\n"
     ]
    },
    {
     "data": {
      "application/vnd.jupyter.widget-view+json": {
       "model_id": "1f29f0e6e55a4b20a40b22a7497cff36",
       "version_major": 2,
       "version_minor": 0
      },
      "text/plain": [
       "HBox(children=(FloatProgress(value=0.0, description='Evaluation', max=124.0, style=ProgressStyle(description_w…"
      ]
     },
     "metadata": {},
     "output_type": "display_data"
    },
    {
     "name": "stdout",
     "output_type": "stream",
     "text": [
      "\n",
      "{'eval_loss': 0.456, 'eval_acc_0': 1.0, 'eval_stat_0': 'Ġformer 0.50 1.00, Ġlatter 0.50 1.00, ', 'eval_acc_1': 0.95, 'eval_stat_1': 'Ġsame 0.50 1.00, Ġopposite 0.50 0.99, ', 'eval_acc_2': 0.504, 'eval_stat_2': 'ĠWrong 1.00 0.58, ', 'epoch': 1.92, 'step': 1002}\n",
      "\n"
     ]
    },
    {
     "data": {
      "application/vnd.jupyter.widget-view+json": {
       "model_id": "4fdcb460322f41faa49d4a8b81d2cf97",
       "version_major": 2,
       "version_minor": 0
      },
      "text/plain": [
       "HBox(children=(FloatProgress(value=0.0, description='Iteration', max=522.0, style=ProgressStyle(description_wi…"
      ]
     },
     "metadata": {},
     "output_type": "display_data"
    },
    {
     "name": "stdout",
     "output_type": "stream",
     "text": [
      "{'loss': 0.234, 'learning_rate': 5.070242656449553e-06, 'epoch': 2.239, 'step': 1169}\n"
     ]
    },
    {
     "data": {
      "application/vnd.jupyter.widget-view+json": {
       "model_id": "fc0e75bdd5904936bd5c2e03122efb09",
       "version_major": 2,
       "version_minor": 0
      },
      "text/plain": [
       "HBox(children=(FloatProgress(value=0.0, description='Evaluation', max=124.0, style=ProgressStyle(description_w…"
      ]
     },
     "metadata": {},
     "output_type": "display_data"
    },
    {
     "name": "stdout",
     "output_type": "stream",
     "text": [
      "\n",
      "{'eval_loss': 0.445, 'eval_acc_0': 1.0, 'eval_stat_0': 'Ġformer 0.50 1.00, Ġlatter 0.50 1.00, ', 'eval_acc_1': 0.944, 'eval_stat_1': 'Ġsame 0.50 1.00, Ġopposite 0.50 0.99, ', 'eval_acc_2': 0.504, 'eval_stat_2': 'ĠWrong 1.00 0.63, ', 'epoch': 2.239, 'step': 1169}\n",
      "{'loss': 0.143, 'learning_rate': 2.9374201787994896e-06, 'epoch': 2.559, 'step': 1336}\n"
     ]
    },
    {
     "data": {
      "application/vnd.jupyter.widget-view+json": {
       "model_id": "82a52f77bfae4529a9e0ccd28a6d2148",
       "version_major": 2,
       "version_minor": 0
      },
      "text/plain": [
       "HBox(children=(FloatProgress(value=0.0, description='Evaluation', max=124.0, style=ProgressStyle(description_w…"
      ]
     },
     "metadata": {},
     "output_type": "display_data"
    },
    {
     "name": "stdout",
     "output_type": "stream",
     "text": [
      "\n",
      "{'eval_loss': 0.344, 'eval_acc_0': 1.0, 'eval_stat_0': 'Ġformer 0.50 1.00, Ġlatter 0.50 1.00, ', 'eval_acc_1': 0.952, 'eval_stat_1': 'Ġsame 0.49 1.00, Ġopposite 0.51 1.00, ', 'eval_acc_2': 0.859, 'eval_stat_2': 'ĠRight 0.51 0.93, ĠWrong 0.49 0.93, ', 'epoch': 2.559, 'step': 1336}\n",
      "{'loss': 0.068, 'learning_rate': 8.045977011494253e-07, 'epoch': 2.879, 'step': 1503}\n"
     ]
    },
    {
     "data": {
      "application/vnd.jupyter.widget-view+json": {
       "model_id": "1c98abebd4c84e2a96d37107a8fd24d0",
       "version_major": 2,
       "version_minor": 0
      },
      "text/plain": [
       "HBox(children=(FloatProgress(value=0.0, description='Evaluation', max=124.0, style=ProgressStyle(description_w…"
      ]
     },
     "metadata": {},
     "output_type": "display_data"
    },
    {
     "name": "stdout",
     "output_type": "stream",
     "text": [
      "\n",
      "{'eval_loss': 0.362, 'eval_acc_0': 1.0, 'eval_stat_0': 'Ġformer 0.50 1.00, Ġlatter 0.50 1.00, ', 'eval_acc_1': 0.95, 'eval_stat_1': 'Ġsame 0.50 1.00, Ġopposite 0.50 1.00, ', 'eval_acc_2': 0.879, 'eval_stat_2': 'ĠRight 0.50 0.95, ĠWrong 0.50 0.95, ', 'epoch': 2.879, 'step': 1503}\n",
      "\n",
      "\n"
     ]
    },
    {
     "data": {
      "application/vnd.jupyter.widget-view+json": {
       "model_id": "3c4dce1be8754339a8e877a2fbadd0f2",
       "version_major": 2,
       "version_minor": 0
      },
      "text/plain": [
       "HBox(children=(FloatProgress(value=0.0, description='Evaluation', max=124.0, style=ProgressStyle(description_w…"
      ]
     },
     "metadata": {},
     "output_type": "display_data"
    },
    {
     "name": "stdout",
     "output_type": "stream",
     "text": [
      "\n",
      "{'eval_loss': 0.365, 'eval_acc_0': 1.0, 'eval_stat_0': 'Ġformer 0.50 1.00, Ġlatter 0.50 1.00, ', 'eval_acc_1': 0.95, 'eval_stat_1': 'Ġsame 0.50 1.00, Ġopposite 0.50 1.00, ', 'eval_acc_2': 0.881, 'eval_stat_2': 'ĠRight 0.52 0.96, ĠWrong 0.48 0.96, ', 'epoch': 3.0, 'step': 1566}\n"
     ]
    },
    {
     "data": {
      "text/plain": [
       "TrainOutput(global_step=1566, training_loss=0.23126971515402256)"
      ]
     },
     "execution_count": 97,
     "metadata": {},
     "output_type": "execute_result"
    }
   ],
   "source": [
    "model = model_class.from_pretrained('roberta-base', model=model)\n",
    "steps = int(round(100 * n_entity_trials / 3))\n",
    "training_args = TrainingArguments(output_dir=\"./models/model_name\", \n",
    "    overwrite_output_dir=True, do_train=True, do_eval=True,\n",
    "    per_device_train_batch_size=32, per_device_eval_batch_size=64,\n",
    "    learning_rate=2e-5, num_train_epochs=3,\n",
    "    logging_steps=steps, eval_steps=steps, save_steps=0,\n",
    "    no_cuda=False, evaluate_during_training=True,\n",
    ")\n",
    "trainer = Trainer(model=model, args=training_args, train_dataset=train_dataset, eval_dataset=eval_dataset)\n",
    "trainer.tokenizer = tokenizer\n",
    "trainer.train()"
   ]
  },
  {
   "cell_type": "code",
   "execution_count": 98,
   "metadata": {},
   "outputs": [],
   "source": [
    "dataloader = DataLoader(\n",
    "    eval_dataset,\n",
    "    sampler=RandomSampler(eval_dataset),\n",
    "    batch_size=trainer.args.eval_batch_size,\n",
    "    collate_fn=trainer.data_collator,\n",
    "    drop_last=trainer.args.dataloader_drop_last,\n",
    ")"
   ]
  },
  {
   "cell_type": "code",
   "execution_count": 99,
   "metadata": {},
   "outputs": [],
   "source": [
    "for inputs in dataloader: break"
   ]
  },
  {
   "cell_type": "code",
   "execution_count": 100,
   "metadata": {},
   "outputs": [
    {
     "data": {
      "text/plain": [
       "torch.Size([64, 2])"
      ]
     },
     "execution_count": 100,
     "metadata": {},
     "output_type": "execute_result"
    }
   ],
   "source": [
    "inputs['marked_positions'].size()"
   ]
  },
  {
   "cell_type": "code",
   "execution_count": 141,
   "metadata": {},
   "outputs": [
    {
     "name": "stdout",
     "output_type": "stream",
     "text": [
      "0 <s>E is more moral than J, so J (<mask> ) is less moral (<mask> )?<mask>.</s><s><s> ['Ġmoral', 'Ġmoral']\n",
      "1 <s>K is more arrogant than E, so E (<mask> ) is more arrogant (<mask> )?<mask>.</s><s><s> ['Ġarrogant', 'Ġarrogant']\n",
      "2 <s>Y is more empirical than N, so N (<mask> ) is more empirical (<mask> )?<mask>.</s><s><s> ['Ġempirical', 'Ġempirical']\n",
      "3 <s>O is less insufficient than V, so O (<mask> ) is less insufficient (<mask> )?<mask>.</s><s><s> ['Ġinsufficient', 'Ġinsufficient']\n",
      "4 <s>C is nearer than G, so G (<mask> ) is less distant (<mask> )?<mask>.</s><s><s><s> ['Ġnearer', 'Ġdistant']\n",
      "5 <s>U is more unhappy than P, so U (<mask> ) is more unhappy (<mask> )?<mask>.</s><s><s> ['Ġunhappy', 'Ġunhappy']\n",
      "6 <s>M is not shorter than B, so M (<mask> ) is not shorter (<mask> )?<mask>.</s><s><s> ['Ġshorter', 'Ġshorter']\n",
      "7 <s>X is tighter than P, so X (<mask> ) is not tighter (<mask> )?<mask>.</s><s><s><s> ['Ġtighter', 'Ġtighter']\n",
      "8 <s>E is not longer than H, so H (<mask> ) is not shorter (<mask> )?<mask>.</s><s><s> ['Ġlonger', 'Ġshorter']\n",
      "9 <s>A is more grotesque than S, so S (<mask> ) is less monstrous (<mask> )?<mask>.</s><s><s> ['Ġgrotesque', 'Ġmonstrous']\n",
      "10 <s>Y is less moral than O, so O (<mask> ) is less immoral (<mask> )?<mask>.</s><s><s> ['Ġmoral', 'Ġimmoral']\n",
      "11 <s>G is brighter than I, so G (<mask> ) is brighter (<mask> )?<mask>.</s><s><s><s><s> ['Ġbrighter', 'Ġbrighter']\n",
      "12 <s>V is less informal than C, so C (<mask> ) is more liberal (<mask> )?<mask>.</s><s><s> ['Ġinformal', 'Ġliberal']\n",
      "13 <s>K is fewer than N, so K (<mask> ) is fewer (<mask> )?<mask>.</s><s><s><s><s> ['Ġfewer', 'Ġfewer']\n",
      "14 <s>V is less beautiful than G, so V (<mask> ) is more grotesque (<mask> )?<mask>.</s><s><s> ['Ġbeautiful', 'Ġgrotesque']\n",
      "15 <s>T is less unreasonable than P, so T (<mask> ) is more unreasonable (<mask> )?<mask>.</s><s><s> ['Ġunreasonable', 'Ġunreasonable']\n",
      "16 <s>H is less conditional than X, so X (<mask> ) is less unconditional (<mask> )?<mask>.</s><s><s> ['Ġconditional', 'Ġunconditional']\n",
      "17 <s>A is less unfavorable than K, so A (<mask> ) is less unfavorable (<mask> )?<mask>.</s><s><s> ['Ġunfavorable', 'Ġunfavorable']\n",
      "18 <s>V is not more than F, so F (<mask> ) is not more (<mask> )?<mask>.</s><s><s> ['Ġmore', 'Ġmore']\n",
      "19 <s>T is less informal than L, so T (<mask> ) is less informal (<mask> )?<mask>.</s><s><s> ['Ġinformal', 'Ġinformal']\n"
     ]
    }
   ],
   "source": [
    "for i in range(20):\n",
    "    print(i, tokenizer.decode(inputs['input_ids'][i]), \n",
    "          [tokenizer.convert_ids_to_tokens(inputs['input_ids'][i])[j] for j in inputs['marked_positions'][i]])"
   ]
  },
  {
   "cell_type": "code",
   "execution_count": 137,
   "metadata": {},
   "outputs": [],
   "source": [
    "_ = model.eval()\n",
    "inputs = trainer._prepare_inputs(inputs, model)\n",
    "with torch.no_grad():\n",
    "    loss, logits, attns = model(**inputs, output_attentions=True)\n",
    "\n",
    "attn_scores, attn_probs = zip(*attns)\n",
    "attn_scores, attn_probs = torch.stack(attn_scores, dim=0), torch.stack(attn_probs, dim=0)\n",
    "attn_probs = attn_probs.cpu()"
   ]
  },
  {
   "cell_type": "code",
   "execution_count": 158,
   "metadata": {},
   "outputs": [],
   "source": [
    "def normalize_tokens(tokens):\n",
    "    return ['@' + token if not token.startswith('Ġ') and token not in ['<s>', '</s>', '<mask>'] else token.replace('Ġ', '') \n",
    "                  for token in tokens] "
   ]
  },
  {
   "cell_type": "code",
   "execution_count": 159,
   "metadata": {},
   "outputs": [
    {
     "data": {
      "image/png": "[encoded data removed]",
      "text/plain": [
       "<Figure size 1152x648 with 8 Axes>"
      ]
     },
     "metadata": {
      "needs_background": "light"
     },
     "output_type": "display_data"
    }
   ],
   "source": [
    "sample_indices = [[4, 8, 10, 12], \n",
    "                  [6, 9, 15, 18]]\n",
    "n_rows, n_cols = len(sample_indices), len(sample_indices[0])\n",
    "fig, axs = plt.subplots(n_rows, n_cols, sharey=False, figsize=(4 * n_cols, 4.5 * n_rows))\n",
    "for row in range(n_rows):\n",
    "    for col in range(n_cols):\n",
    "        i, ax = sample_indices[row][col], axs[row][col]\n",
    "        p, h = inputs['marked_positions'][i]\n",
    "        p, h = p.item(), h.item()\n",
    "        pos_attn = attn_probs[:, i, :, h, p]\n",
    "        tokens = normalize_tokens(tokenizer.convert_ids_to_tokens(inputs['input_ids'][i]))\n",
    "        ax = sns.heatmap(pos_attn, square=True, cbar=False, ax=ax)\n",
    "        ax.tick_params(top=True, labeltop=True)\n",
    "        _ = ax.set_xlabel('%s - %s' % (tokens[p], tokens[h]))"
   ]
  },
  {
   "cell_type": "code",
   "execution_count": 171,
   "metadata": {},
   "outputs": [
    {
     "data": {
      "text/plain": [
       "tensor(22, device='cuda:0')"
      ]
     },
     "execution_count": 171,
     "metadata": {},
     "output_type": "execute_result"
    }
   ],
   "source": []
  },
  {
   "cell_type": "code",
   "execution_count": 175,
   "metadata": {},
   "outputs": [
    {
     "data": {
      "image/png": "[encoded data removed]",
      "text/plain": [
       "<Figure size 1008x504 with 4 Axes>"
      ]
     },
     "metadata": {
      "needs_background": "light"
     },
     "output_type": "display_data"
    }
   ],
   "source": [
    "i = 4\n",
    "layer, head = 5, 5\n",
    "seq_len = inputs['attention_mask'][4].sum().item()\n",
    "attn =  attn_probs[layer, i, head, : seq_len, : seq_len]\n",
    "tokens = normalize_tokens(tokenizer.convert_ids_to_tokens(inputs['input_ids'][i])[: seq_len])\n",
    "size = round(attn.size(0) / 3)\n",
    "fig, (ax0, ax1) = plt.subplots(1, 2, figsize=(size  * 2., size), gridspec_kw={'width_ratios': [3, 1]})\n",
    "_ = sns.heatmap((attn * 100).long(), square=True, cbar=True, annot=False, fmt='d', xticklabels=tokens, yticklabels=tokens, ax=ax0)\n",
    "plot_head_attn(attn, tokens, ax1=ax1, marked_positions=inputs['marked_positions'][i]) "
   ]
  },
  {
   "cell_type": "code",
   "execution_count": null,
   "metadata": {},
   "outputs": [],
   "source": [
    "model.roberta.encoder.layer[0].attention.self"
   ]
  }
 ],
 "metadata": {
  "kernelspec": {
   "display_name": "Python 3",
   "language": "python",
   "name": "python3"
  },
  "language_info": {
   "codemirror_mode": {
    "name": "ipython",
    "version": 3
   },
   "file_extension": ".py",
   "mimetype": "text/x-python",
   "name": "python",
   "nbconvert_exporter": "python",
   "pygments_lexer": "ipython3",
   "version": "3.7.5"
  }
 },
 "nbformat": 4,
 "nbformat_minor": 4
}
