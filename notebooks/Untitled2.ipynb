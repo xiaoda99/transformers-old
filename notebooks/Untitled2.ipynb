{
 "cells": [
  {
   "cell_type": "code",
   "execution_count": 1,
   "metadata": {},
   "outputs": [],
   "source": [
    "from IPython import get_ipython\n",
    "%load_ext autoreload\n",
    "%autoreload 2\n",
    "\n",
    "from IPython.core.interactiveshell import InteractiveShell\n",
    "InteractiveShell.ast_node_interactivity = 'all'"
   ]
  },
  {
   "cell_type": "code",
   "execution_count": 2,
   "metadata": {},
   "outputs": [],
   "source": [
    "import sys\n",
    "sys.path.insert(0, '/nas/xd/projects/transformers/src/transformers')\n",
    "import os\n",
    "device_mappings = {0: 1, 1: 5, 2: 6, 3: 7, 4: 2, 5: 3, 6: 0, 1: 4}\n",
    "os.environ[\"CUDA_VISIBLE_DEVICES\"] = str(device_mappings[2])\n",
    "\n",
    "import random\n",
    "import string\n",
    "from collections import defaultdict, OrderedDict\n",
    "from itertools import product, chain\n",
    "import math\n",
    "import numpy as np\n",
    "from pattern.en import comparative\n",
    "\n",
    "import matplotlib.pyplot as plt\n",
    "import seaborn as sns\n",
    "\n",
    "from captum.attr import IntegratedGradients, LayerConductance, LayerIntegratedGradients\n",
    "from captum.attr import configure_interpretable_embedding_layer, remove_interpretable_embedding_layer"
   ]
  },
  {
   "cell_type": "code",
   "execution_count": 3,
   "metadata": {},
   "outputs": [
    {
     "name": "stdout",
     "output_type": "stream",
     "text": [
      "TRANSFORMERS_CACHE = /home/xd/.cache/torch/transformers\n"
     ]
    }
   ],
   "source": [
    "import torch\n",
    "from torch import nn\n",
    "import torch.nn.functional as F\n",
    "from torch.nn import CrossEntropyLoss, MSELoss\n",
    "from torch.utils.data.dataset import Dataset, IterableDataset\n",
    "from torch.utils.data.dataloader import DataLoader\n",
    "from torch.utils.data.sampler import RandomSampler, Sampler, SequentialSampler\n",
    "from enum import Enum\n",
    "from typing import List, Optional, Union\n",
    "\n",
    "from child_frames import frames\n",
    "from utils import *\n",
    "\n",
    "import logging\n",
    "import os\n",
    "import sys\n",
    "\n",
    "from transformers import HfArgumentParser, Trainer, TrainingArguments, set_seed\n",
    "from transformers import AutoConfig, PreTrainedModel, RobertaForMaskedLM, RobertaTokenizer\n",
    "from transformers.modeling_roberta import RobertaForProbing, RobertaDoubleHeadsModel, \\\n",
    "    RobertaDoubleHeadsModel2, RobertaDoubleHeadsModel3, RobertaForSequenceClassification  # XD\n",
    "from transformers.trainer import get_mean_pred_prob  # XD\n",
    "from transformers.data.data_collator import DataCollator, default_data_collator\n",
    "from transformers import T5Tokenizer, T5ForConditionalGeneration\n",
    "\n",
    "logging.basicConfig(level=logging.ERROR)"
   ]
  },
  {
   "cell_type": "code",
   "execution_count": 4,
   "metadata": {},
   "outputs": [
    {
     "data": {
      "text/plain": [
       "['_X is larger than _Z? < Yes >, _X is larger.',\n",
       " '_X is larger than _Z? < Yes >, _Z is smaller.',\n",
       " '_X is larger than _Z? < Yes >, _Z is not larger.',\n",
       " '_X is larger than _Z? < Yes >, _X is not smaller.',\n",
       " '_Z is smaller than _X? < Yes >, _X is larger.',\n",
       " '_Z is smaller than _X? < Yes >, _Z is smaller.',\n",
       " '_Z is smaller than _X? < Yes >, _Z is not larger.',\n",
       " '_Z is smaller than _X? < Yes >, _X is not smaller.',\n",
       " '_X is not larger than _Z? < Yes >, _X is not larger.',\n",
       " '_X is not larger than _Z? < Yes >, _Z is not smaller.',\n",
       " '_X is not larger than _Z? < Yes >, _Z is larger.',\n",
       " '_X is not larger than _Z? < Yes >, _X is smaller.',\n",
       " '_Z is not smaller than _X? < Yes >, _X is not larger.',\n",
       " '_Z is not smaller than _X? < Yes >, _Z is not smaller.',\n",
       " '_Z is not smaller than _X? < Yes >, _Z is larger.',\n",
       " '_Z is not smaller than _X? < Yes >, _X is smaller.',\n",
       " '_X is larger than _Z? < No >, _X is not larger.',\n",
       " '_X is larger than _Z? < No >, _Z is not smaller.',\n",
       " '_X is larger than _Z? < No >, _Z is larger.',\n",
       " '_X is larger than _Z? < No >, _X is smaller.',\n",
       " '_Z is smaller than _X? < No >, _X is not larger.',\n",
       " '_Z is smaller than _X? < No >, _Z is not smaller.',\n",
       " '_Z is smaller than _X? < No >, _Z is larger.',\n",
       " '_Z is smaller than _X? < No >, _X is smaller.',\n",
       " '_X is not larger than _Z? < No >, _X is larger.',\n",
       " '_X is not larger than _Z? < No >, _Z is smaller.',\n",
       " '_X is not larger than _Z? < No >, _Z is not larger.',\n",
       " '_X is not larger than _Z? < No >, _X is not smaller.',\n",
       " '_Z is not smaller than _X? < No >, _X is larger.',\n",
       " '_Z is not smaller than _X? < No >, _Z is smaller.',\n",
       " '_Z is not smaller than _X? < No >, _Z is not larger.',\n",
       " '_Z is not smaller than _X? < No >, _X is not smaller.']"
      ]
     },
     "execution_count": 4,
     "metadata": {},
     "output_type": "execute_result"
    }
   ],
   "source": [
    "A_template = \"{rel_prefix} {dt} {ent0} {rel} {dt} {ent1}\"\n",
    "B_template = \"{pred_prefix} {dt} {ent} {pred}\"\n",
    "entailment_templates = [\"{A} , so {B} ? {conj} .\", '\"{A}\" {conj} \"{B}\" .', \"{A} .||| {B} .|||{conj}\", \"{A}? {conj}, {B}.\"]\n",
    "\n",
    "_tag2id = {'same': 0, 'opposite': 1, 'unrelated': 2, 'former': 0, 'latter': 1, 'another': 5, 'single': 6, 'paired': 7}\n",
    "tag2id = {'Ġ' + k: v for k, v in _tag2id.items()}\n",
    "id2tag = {v: k for k, v in tag2id.items()}\n",
    "\n",
    "markers = {'lexical': '*', 'entity': '#'}\n",
    "ans2verb = {'Right': 'means', 'Wrong': 'contradicts', 'Maybe': ','}\n",
    "ans2adj = {'Right': 'clear', 'Wrong': 'unlikely', 'Maybe': 'possible'}\n",
    "ans2label = {'Right': 'e', 'Wrong': 'c', 'Maybe': 'n'}\n",
    "ans2yesno = {'Right': 'Yes', 'Wrong': 'No', 'Maybe': 'Maybe'}\n",
    "\n",
    "def convert_conj(conj): return ans2verb[conj]\n",
    "def extract_rel_id(s): return int(s[s.index(':') + 1])\n",
    "def extract_rel(s): return [t.split(':')[0] for t in s.split() if ':' in t][0]\n",
    "def strip_rel_id(s, lexical_rel=''):\n",
    "    rel_id_span = s[s.index(':'): s.index(':') + 2]\n",
    "    if lexical_rel != '': lexical_rel = ' ( ' + lexical_rel + ' )'\n",
    "    return s.replace(rel_id_span, lexical_rel)\n",
    "        \n",
    "relation_labels = {'entity': ['former', 'latter'], 'lexical': ['same', 'opposite', 'unrelated']}\n",
    "\n",
    "def make_sentences(entities=['_X', '_Z'], entity_set=string.ascii_uppercase, determiner=\"\",\n",
    "                   relation_group=[['large'], ['small']], rand_relation_group=[[\"short\"], [\"tall\", \"high\"]],\n",
    "                   relation_prefix=\"\", relation_suffix=\"\", predicate_prefix=\"\",\n",
    "                   n_entity_trials=3, has_negA=True, has_negB=True, has_neutral=False, mask_types={'sent_rel'}, \n",
    "                   lexical_relations=None, entity_relations=None, tag_lexical_rel=False, tag_entity_rel=False, sample_ratio=None):\n",
    "#     if tag_lexical_rel: mask_types.add('lexical_rel')\n",
    "#     if tag_entity_rel: mask_types.add('entity_rel')\n",
    "    def get_comparative(word):\n",
    "        compar = comparative(word)\n",
    "        if tag_lexical_rel:\n",
    "            marker = markers['lexical']\n",
    "            compar = compar.replace('more ', 'more %s ' % marker) if compar.startswith('more ') else marker + ' ' + compar\n",
    "        return compar\n",
    "  \n",
    "    def form_As(relations):\n",
    "        return [A_template.format(dt=determiner, ent0=ent0, ent1=ent1, rel=rel, rel_prefix=relation_prefix)\n",
    "              for ent0, ent1, rel in [entities + relations[:1], reverse(entities) + reverse(relations)[:1]]]\n",
    "    As = []\n",
    "    for rel0 in relation_group[0]:\n",
    "        for rel1 in relation_group[1]:\n",
    "            relations = [\"is %s:%d than\" % (get_comparative(rel), i) for i, rel in enumerate([rel0, rel1])]\n",
    "            As += form_As(relations)\n",
    "    As = list(set(As))\n",
    "    negAs = join_lists([negate_sent(A)[:1] for A in As]) if has_negA else []\n",
    "\n",
    "    def form_Bs(predicates): \n",
    "        f = mask if 'entity' in mask_types else (lambda x: x)\n",
    "        return [B_template.format(dt=determiner, ent=f(ent), pred=pred, pred_prefix=predicate_prefix)\n",
    "              for ent, pred in zip(entities, predicates)]\n",
    "\n",
    "    Bs, negBs = {'orig': [], 'rand': []}, {}\n",
    "    for k, group in zip(['orig', 'rand'], [relation_group, rand_relation_group]):\n",
    "        for rel0 in group[0]:\n",
    "            for rel1 in group[1]:\n",
    "                predicates = [\"is %s:%d\" % (get_comparative(rel), i) for i, rel in enumerate([rel0, rel1])]\n",
    "                Bs[k] += form_Bs(predicates)\n",
    "    for k in Bs:\n",
    "        Bs[k] = list(set(Bs[k]))\n",
    "        if has_negB:\n",
    "            negBs[k] = join_lists([negate_sent(B)[:1] for B in Bs[k]])\n",
    "            Bs[k], negBs[k] = Bs[k] + [swap_entities(negB) for negB in negBs[k]], negBs[k] + [swap_entities(B) for B in Bs[k]]\n",
    "        else:\n",
    "            negBs[k] = [swap_entities(B) for B in Bs[k]]\n",
    "      \n",
    "    comparatives = [comparative(r).replace('more ', '') for r in join_lists(relation_group) + join_lists(rand_relation_group)]\n",
    "    def form_sentences(sentence_template, As, Bs, conj):\n",
    "        def compare_and_tag_comparative(A, B):\n",
    "            if 'Maybe' in conj:\n",
    "                lexical_rel = 'unrelated'\n",
    "            else:\n",
    "                lexical_rel = 'same' if extract_rel_id(A) == extract_rel_id(B) else 'opposite'\n",
    "            if lexical_relations and lexical_rel not in lexical_relations:\n",
    "                return None, None\n",
    "            if 'lexical_rel' in mask_types: lexical_rel = mask(lexical_rel)\n",
    "            return strip_rel_id(A), strip_rel_id(B, lexical_rel) if tag_lexical_rel else strip_rel_id(B)\n",
    "        def tag_entity(token, recurred_entity, entity_rel=None):\n",
    "            if token != recurred_entity: return token\n",
    "            return markers['entity'] + ' ' + token\n",
    "#             if token not in entities: return token\n",
    "#             entity_rel = 'paired' if token == recurred_entity else 'single'\n",
    "#             if 'entity_rel' in mask_types: entity_rel = mask(entity_rel)\n",
    "#             return token + ' ( %s )' % entity_rel\n",
    "        def compare_and_tag_entity(A, B):\n",
    "            recurred_entity = [e for e in entities if e in B.split()][0]\n",
    "            if tag_entity_rel:\n",
    "                A = ' '.join([tag_entity(token, recurred_entity) for token in A.split()])\n",
    "                B = ' '.join([tag_entity(token, recurred_entity) for token in B.split()])\n",
    "            entity_rel = 'former' if A.split().index(recurred_entity) in [0, 1] else 'latter'\n",
    "            if entity_relations and entity_rel not in entity_relations: return None, None\n",
    "            if 'entity_rel' in mask_types: entity_rel = mask(entity_rel)\n",
    "            if tag_entity_rel: B = B.replace(recurred_entity, recurred_entity + ' ( ' + entity_rel + ' )')\n",
    "            return A, B\n",
    "        \n",
    "        if '?' not in sentence_template:\n",
    "            conj = ans2label[conj] if sentence_template.count('|||') == 2 else ans2verb[conj]\n",
    "        conj = ans2yesno[conj]\n",
    "        if 'sent_rel' in mask_types and conj not in ans2label.values(): conj = mask(conj)\n",
    "        sentences = []\n",
    "        cores = []\n",
    "        for A, B in product(As, Bs):\n",
    "            A, B = compare_and_tag_comparative(A, B) \\\n",
    "                if tag_lexical_rel or lexical_relations else (strip_rel_id(A), strip_rel_id(B))\n",
    "            if A is None: continue\n",
    "            if tag_entity_rel or entity_relations: A, B = compare_and_tag_entity(A, B)\n",
    "            if A is None: continue\n",
    "            sent = sentence_template.format(A=A, B=B, conj=conj)\n",
    "            sent = \" \".join(sent.split())\n",
    "            # sent = \" \" + sent\n",
    "            sentences.append(sent)\n",
    "        return sentences, cores\n",
    "    \n",
    "    sentences = defaultdict(list)\n",
    "    cores = defaultdict(list)\n",
    "    for entailment_template in entailment_templates[-1:]:\n",
    "        for A, B, conj in [(As, Bs['orig'], 'Right'), (negAs, negBs['orig'], 'Right'), \n",
    "                           (As, negBs['orig'], 'Wrong'), (negAs, Bs['orig'], 'Wrong'),\n",
    "                           (As, Bs['rand'], 'Maybe'), (negAs, negBs['rand'], 'Maybe'), \n",
    "                           (As, negBs['rand'], 'Maybe'), (negAs, Bs['rand'], 'Maybe')]:\n",
    "            ss, cs = form_sentences(entailment_template, A, B, conj)\n",
    "            sentences[conj] += ss\n",
    "            cores[conj] += cs\n",
    "    if len(sentences['Right']) != len(sentences['Wrong']):\n",
    "        assert entity_relations is not None and len(relation_group[0]) != len(relation_group[1])\n",
    "        min_len = min(len(sentences['Right']), len(sentences['Wrong']))\n",
    "        for key in ['Right', 'Wrong']:\n",
    "            if len(sentences[key]) > min_len: sentences[key] = random.sample(sentences[key], min_len)\n",
    "    if has_neutral:\n",
    "        sentences['Maybe'] = random.sample(sentences['Maybe'], len(sentences['Right']))\n",
    "#     if sample_ratio > 1:\n",
    "#         for key in sentences:\n",
    "#             sentences[key] = random.sample(sentences[key], math.ceil(len(sentences[key]) / sample_ratio))\n",
    "    keys = sentences.keys() if has_neutral else ['Right', 'Wrong']\n",
    "    sentences = join_lists(sentences[k] for k in keys)\n",
    "    if sample_ratio is not None:\n",
    "        if sample_ratio < 1: sample_ratio = int(round(len(sentences) / sample_ratio))\n",
    "        sentences = random.sample(sentences, sample_ratio) \n",
    "    \n",
    "    def substitute(templates, n_entity_trials):\n",
    "        substituted_groups = []\n",
    "        for template in templates:\n",
    "            group = []\n",
    "            for _ in range(n_entity_trials):\n",
    "                e0, e1 = random.sample(entity_set, 2)\n",
    "                group.append(template.replace(entities[0], e0).replace(entities[1], e1))\n",
    "            substituted_groups.append(group)\n",
    "        return substituted_groups\n",
    "    \n",
    "    substituted_sent_groups = substitute(sentences, n_entity_trials=n_entity_trials)\n",
    "    return sentences, substituted_sent_groups #, cores, substituted_core_groups\n",
    "\n",
    "make_sentences(has_negA=True, has_negB=True, has_neutral=False, tag_lexical_rel=False, tag_entity_rel=False,\n",
    "               mask_types={'sent_rel'}, entity_relations={'former', 'latter'})[0]"
   ]
  },
  {
   "cell_type": "code",
   "execution_count": 5,
   "metadata": {},
   "outputs": [
    {
     "data": {
      "text/plain": [
       "['_Y is not larger than _X and _Y is not smaller than _Z. It is < clear > that _Z is smaller than _X.',\n",
       " '_X is bigger than _Y and _Y is bigger than _Z. It is < clear > that _Z is smaller than _X.',\n",
       " '_X is not smaller than _Y and _Y is not smaller than _Z. It is < clear > that _X is larger than _Z.',\n",
       " '_X is bigger than _Y and _Y is bigger than _Z. It is < clear > that _X is not smaller than _Z.',\n",
       " '_Y is not bigger than _X and _Y is bigger than _Z. It is < unlikely > that _Z is larger than _X.',\n",
       " '_Y is smaller than _X and _Y is not smaller than _Z. It is < unlikely > that _Z is not smaller than _X.',\n",
       " '_X is bigger than _Y and _Z is not bigger than _Y. It is < unlikely > that _X is smaller than _Z.',\n",
       " '_Y is smaller than _X and _Z is smaller than _Y. It is < unlikely > that _X is not larger than _Z.',\n",
       " '_X is larger than _Y and _Z is not larger than _X. It is < possible > that _Y is larger than _Z.',\n",
       " '_X is bigger than _Y and _Z is smaller than _X. It is < possible > that _Y is smaller than _Z.',\n",
       " '_X is not smaller than _Y and _X is not smaller than _Z. It is < possible > that _Y is not smaller than _Z.',\n",
       " '_Z is smaller than _X and _X is bigger than _Y. It is < possible > that _Z is larger than _Y.']"
      ]
     },
     "execution_count": 5,
     "metadata": {},
     "output_type": "execute_result"
    }
   ],
   "source": [
    "P_template = '{ent0} {rel} {ent1}'\n",
    "# transitive_template = '{p0} and {p1} , so {Q} ? {conj} .'\n",
    "transitive_template = '{p0} and {p1} .||| {Q} .|||{conj}'\n",
    "transitive_template = '{p0} and {p1}. It is {conj} that {Q}.'\n",
    "transitive_wh_QA_template = '{which} is {pred} ? {ent} .'\n",
    "\n",
    "def make_transitive(entities=[\"_X\", \"_Y\", \"_Z\"], entity_set=string.ascii_uppercase,\n",
    "                    relation_group=[[\"big\", \"large\"], [\"small\", ]], rand_relation_group=[], n_entity_trials=3,\n",
    "                    has_negA=True, has_negB=True, has_neutral=False, mask_types=['sent_rel'],\n",
    "                    tag_lexical_rel=False, tag_entity_rel=False, sample_ratio=1):\n",
    "    has_negP, has_negQ = has_negA, has_negB\n",
    "    def get_comparative(word): return comparative(word)\n",
    "    def form_atoms(relations, entities, has_neg=True):\n",
    "        atoms = [P_template.format(ent0=ent0, ent1=ent1, rel=rel) for ent0, ent1, rel in\n",
    "                 [entities + relations[:1], reverse(entities) + reverse(relations)[:1]]]\n",
    "        if has_neg:\n",
    "            neg_rels = [r.replace('is ', 'is not ') for r in relations]\n",
    "            atoms += [P_template.format(ent0=ent0, ent1=ent1, rel=rel) for ent0, ent1, rel in\n",
    "                      [entities + reverse(neg_rels)[:1], reverse(entities) + neg_rels[:1]]]\n",
    "        return atoms\n",
    "\n",
    "    def form_sentences(sentence_template, Ps, Qs, conj):\n",
    "        sentences = []\n",
    "        if '?' not in sentence_template:\n",
    "            conj = ans2label[conj] if sentence_template.count('|||') == 2 else ans2adj[conj]\n",
    "        if 'sent_rel' in mask_types and conj not in ans2label.values(): conj = mask(conj)\n",
    "        for (p0, p1), Q in product(Ps, Qs):\n",
    "            sent = sentence_template.format(p0=strip_rel_id(p0), p1=strip_rel_id(p1),\n",
    "                                              Q=strip_rel_id(Q), conj=conj)\n",
    "            sent = \" \".join(sent.split())\n",
    "#             sent = \" \" + sent\n",
    "            sentences.append(sent)\n",
    "        return sentences\n",
    "\n",
    "    def form_all(P0_entities, P1_entities, Q_entities, neutral=False):\n",
    "        P0, P1 = [], []\n",
    "        for rel0 in relation_group[0]:\n",
    "            for rel1 in relation_group[1]:\n",
    "                relations = [\"is %s:%d than\" % (get_comparative(rel), i)\n",
    "                             for i, rel in enumerate([rel0, rel1])]\n",
    "                P0 += form_atoms(relations, P0_entities, has_neg=has_negP)\n",
    "                P1 += form_atoms(relations, P1_entities, has_neg=has_negP)\n",
    "        Ps = [(p0, p1) for p0, p1 in list(product(P0, P1)) + list(product(P1, P0))]\n",
    "\n",
    "        Qs = form_atoms(relations, Q_entities, has_neg=has_negQ)\n",
    "        negQs = [swap_entities(Q, *Q_entities) for Q in Qs]\n",
    "\n",
    "        for P, Q, conj in [(Ps, Qs, 'Right'), (Ps, negQs, 'Wrong')]:\n",
    "            if neutral: conj = 'Maybe'\n",
    "            sentences[conj] += form_sentences(transitive_template, P, Q, conj)\n",
    "        return sentences\n",
    "\n",
    "    e0, e1, e2 = entities\n",
    "    sentences = defaultdict(list)\n",
    "    form_all(P0_entities=[e0, e1], P1_entities=[e1, e2], Q_entities=[e0, e2])\n",
    "    assert len(sentences['Right']) == len(sentences['Wrong']), \\\n",
    "        '%d %d' % (len(sentences['Right']), len(sentences['Wrong']))\n",
    "    _sample_ratio = len(relation_group[0]) * len(relation_group[1])\n",
    "    if _sample_ratio > 1:\n",
    "        for key in sentences:\n",
    "            sentences[key] = random.sample(sentences[key], len(sentences[key]) // _sample_ratio)\n",
    "    if has_neutral:\n",
    "        form_all(P0_entities=[e0, e1], P1_entities=[e0, e2], Q_entities=[e1, e2], neutral=True)\n",
    "        sentences['Maybe'] = random.sample(sentences['Maybe'], len(sentences['Right']))\n",
    "    if sample_ratio > 1:\n",
    "        for key in sentences:\n",
    "            sentences[key] = random.sample(sentences[key], math.ceil(len(sentences[key]) / sample_ratio))\n",
    "    keys = sentences.keys() if has_neutral else ['Right', 'Wrong']\n",
    "    sentences = join_lists(sentences[k] for k in keys)\n",
    "\n",
    "    substituted_sent_groups = []\n",
    "    for sent in sentences:\n",
    "        sent_group = []\n",
    "        for _ in range(n_entity_trials):\n",
    "            e0, e1, e2 = random.sample(entity_set, 3)\n",
    "            sent_group.append(sent.replace(entities[0], e0)\n",
    "                              .replace(entities[1], e1)\n",
    "                              .replace(entities[2], e2))\n",
    "        substituted_sent_groups.append(sent_group)\n",
    "    return sentences, substituted_sent_groups\n",
    "\n",
    "make_transitive(has_negA=True, has_negB=True, has_neutral=True, sample_ratio=64)[0]"
   ]
  },
  {
   "cell_type": "code",
   "execution_count": 6,
   "metadata": {},
   "outputs": [
    {
     "name": "stdout",
     "output_type": "stream",
     "text": [
      "In cached_path: url_or_filename = https://s3.amazonaws.com/models.huggingface.co/bert/roberta-large-vocab.json\n",
      "In cached_path: output_path = /home/xd/.cache/torch/transformers/1ae1f5b6e2b22b25ccc04c000bb79ca847aa226d0761536b011cf7e5868f0655.ef00af9e673c7160b4d41cfda1f48c5f4cba57d5142754525572a846a1ab1b9b\n",
      "In cached_path: url_or_filename = https://s3.amazonaws.com/models.huggingface.co/bert/roberta-large-merges.txt\n",
      "In cached_path: output_path = /home/xd/.cache/torch/transformers/f8f83199a6270d582d6245dc100e99c4155de81c9745c6248077018fe01abcfb.70bec105b4158ed9a1747fea67a43f5dee97855c64d62b6ec3742f4cfdb5feda\n"
     ]
    }
   ],
   "source": [
    "tokenizer_class, shortcut = RobertaTokenizer, 'roberta-large'\n",
    "tokenizer = tokenizer_roberta = tokenizer_class.from_pretrained(shortcut)\n",
    "model = None"
   ]
  },
  {
   "cell_type": "code",
   "execution_count": 7,
   "metadata": {
    "scrolled": true
   },
   "outputs": [],
   "source": [
    "## rand_relation_group=_frames[(i + 1) % len(_frames)], \n",
    "random.seed(42)\n",
    "random.shuffle(frames)\n",
    "entity_set = list(string.ascii_uppercase)\n",
    "random.shuffle(entity_set)\n",
    "split_pct = [0.6, 0.4]"
   ]
  },
  {
   "cell_type": "code",
   "execution_count": 8,
   "metadata": {},
   "outputs": [
    {
     "data": {
      "text/plain": [
       "['H is more * voluntary than # D? < Yes >, # D ( latter ) is more * involuntary ( opposite ).',\n",
       " '# T is * harder than J? < No >, # T ( former ) is * easier ( opposite ).',\n",
       " 'T is more * unlimited than # N? < No >, # N ( latter ) is more * unlimited ( same ).',\n",
       " 'V is more * sudden than # B? < No >, # B ( latter ) is more * sudden ( same ).',\n",
       " 'R is more * uncertain than # Q? < No >, # Q ( latter ) is more * uncertain ( same ).',\n",
       " '# H is more * available than F? < No >, # H ( former ) is more * unavailable ( opposite ).',\n",
       " '# Y is more * benevolent than I? < No >, # Y ( former ) is more * vicious ( opposite ).',\n",
       " '# X is * easier than Y? < No >, # X ( former ) is * harder ( opposite ).',\n",
       " 'N is * higher than # B? < Yes >, # B ( latter ) is * lower ( opposite ).',\n",
       " 'V is more * rural than # X? < No >, # X ( latter ) is more * rural ( same ).']"
      ]
     },
     "execution_count": 8,
     "metadata": {},
     "output_type": "execute_result"
    },
    {
     "name": "stdout",
     "output_type": "stream",
     "text": [
      "1024 688\n",
      "../data/train_neg0_64rgx8_tagged.txt\n",
      "../data/eval_neg0_43rgx8_tagged.txt\n"
     ]
    }
   ],
   "source": [
    "# random.seed(4242)\n",
    "n_entity_trials = 2\n",
    "sample_ratios = [8, 8]\n",
    "kwargs = {'n_entity_trials': n_entity_trials, 'has_neutral': False, 'has_negA': False, 'has_negB': False, \n",
    "          'tag_lexical_rel': True, 'tag_entity_rel': True, 'mask_types': {'sent_rel',}}#, 'entity_relations': {'former'}}\n",
    "train_lines, eval_lines = [[make_sentences(relation_group=rg, rand_relation_group=_frames[(i+1) % len(_frames)], \n",
    "                                           entity_set=_ent_set, sample_ratio=_sample_ratio, **kwargs)[1] for i, rg in enumerate(_frames)]\n",
    "                           for _frames, _ent_set, _sample_ratio in zip(split(frames, split_pct), split(entity_set, split_pct), sample_ratios)]\n",
    "random.sample(flatten(train_lines), 10)\n",
    "print(len(flatten(train_lines)), len(flatten(eval_lines)))\n",
    "\n",
    "train_pathname, eval_pathname = dump_datasets([flatten(train_lines), flatten(eval_lines)], split(frames, split_pct), \n",
    "    sample_ratios, [None, None], has_neg=False, tagged=kwargs['tag_lexical_rel'] or kwargs['tag_entity_rel'])"
   ]
  },
  {
   "cell_type": "code",
   "execution_count": 194,
   "metadata": {},
   "outputs": [
    {
     "name": "stdout",
     "output_type": "stream",
     "text": [
      "Ġnational\n",
      "Ġnational\n",
      "Ġlocal\n",
      "Ġlocal\n",
      "Ġnational\n",
      "Ġnational\n",
      "Ġlocal\n",
      "Ġlocal\n",
      "Ġlocal\n",
      "Ġlocal\n",
      "Ġnational\n",
      "Ġnational\n",
      "Ġnational\n",
      "Ġnational\n",
      "Ġlocal\n",
      "Ġlocal\n",
      "Ġperipheral\n",
      "Ġperipheral\n",
      "Ġcentral\n",
      "Ġcentral\n",
      "Ġcentral\n",
      "Ġcentral\n",
      "Ġperipheral\n",
      "Ġperipheral\n",
      "Ġperipheral\n",
      "Ġperipheral\n",
      "Ġcentral\n",
      "Ġcentral\n",
      "Ġperipheral\n",
      "Ġperipheral\n",
      "Ġcentral\n",
      "Ġcentral\n",
      "Ġunrealistic\n",
      "Ġunrealistic\n",
      "Ġrealistic\n",
      "Ġrealistic\n",
      "Ġunrealistic\n",
      "Ġunrealistic\n",
      "Ġunrealistic\n",
      "Ġunrealistic\n",
      "Ġrealistic\n",
      "Ġrealistic\n",
      "Ġrealistic\n",
      "Ġrealistic\n",
      "Ġrealistic\n",
      "Ġrealistic\n",
      "Ġunrealistic\n",
      "Ġunrealistic\n",
      "Ġincompatible\n",
      "Ġincompatible\n",
      "Ġincompatible\n",
      "Ġincompatible\n",
      "Ġcompatible\n",
      "Ġcompatible\n",
      "Ġcompatible\n",
      "Ġcompatible\n",
      "Ġincompatible\n",
      "Ġincompatible\n",
      "Ġcompatible\n",
      "Ġcompatible\n",
      "Ġincompatible\n",
      "Ġincompatible\n",
      "Ġcompatible\n",
      "Ġcompatible\n",
      "Ġspontaneous\n",
      "Ġspontaneous\n",
      "Ġinduced\n",
      "Ġinduced\n",
      "Ġspontaneous\n",
      "Ġspontaneous\n",
      "Ġinduced\n",
      "Ġinduced\n",
      "Ġspontaneous\n",
      "Ġspontaneous\n",
      "Ġinduced\n",
      "Ġinduced\n",
      "Ġinduced\n",
      "Ġinduced\n",
      "Ġspontaneous\n",
      "Ġspontaneous\n",
      "Ġbrighter\n",
      "Ġbrighter\n",
      "Ġbrighter\n",
      "Ġbrighter\n",
      "Ġbrighter\n",
      "Ġbrighter\n",
      "Ġdarker\n",
      "Ġdarker\n",
      "Ġdarker\n",
      "Ġdarker\n",
      "Ġdarker\n",
      "Ġdarker\n",
      "Ġdarker\n",
      "Ġdarker\n",
      "Ġbrighter\n",
      "Ġbrighter\n",
      "Ġemotional\n",
      "Ġemotional\n",
      "Ġcerebral\n",
      "Ġcerebral\n",
      "Ġcerebral\n",
      "Ġcerebral\n",
      "Ġcerebral\n",
      "Ġcerebral\n",
      "Ġemotional\n",
      "Ġemotional\n",
      "Ġemotional\n",
      "Ġemotional\n",
      "Ġemotional\n",
      "Ġemotional\n",
      "Ġcerebral\n",
      "Ġcerebral\n",
      "Ġolder\n",
      "Ġolder\n",
      "Ġolder\n",
      "Ġolder\n",
      "Ġnewer\n",
      "Ġnewer\n",
      "Ġnewer\n",
      "Ġnewer\n",
      "Ġnewer\n",
      "Ġnewer\n",
      "Ġolder\n",
      "Ġolder\n",
      "Ġolder\n",
      "Ġolder\n",
      "Ġnewer\n",
      "Ġnewer\n",
      "Ġundesirable\n",
      "Ġundesirable\n",
      "Ġdesirable\n",
      "Ġdesirable\n",
      "Ġdesirable\n",
      "Ġdesirable\n",
      "Ġdesirable\n",
      "Ġdesirable\n",
      "Ġdesirable\n",
      "Ġdesirable\n",
      "Ġundesirable\n",
      "Ġundesirable\n",
      "Ġundesirable\n",
      "Ġundesirable\n",
      "Ġundesirable\n",
      "Ġundesirable\n",
      "Ġsofter\n",
      "Ġsofter\n",
      "Ġsofter\n",
      "Ġsofter\n",
      "Ġsofter\n",
      "Ġsofter\n",
      "Ġharder\n",
      "Ġharder\n",
      "Ġsofter\n",
      "Ġsofter\n",
      "Ġharder\n",
      "Ġharder\n",
      "Ġharder\n",
      "Ġharder\n",
      "Ġharder\n",
      "Ġharder\n",
      "Ġlater\n",
      "Ġlater\n",
      "Ġlater\n",
      "Ġlater\n",
      "Ġearlier\n",
      "Ġearlier\n",
      "Ġearlier\n",
      "Ġearlier\n",
      "Ġlater\n",
      "Ġlater\n",
      "Ġlater\n",
      "Ġlater\n",
      "Ġearlier\n",
      "Ġearlier\n",
      "Ġearlier\n",
      "Ġearlier\n",
      "Ġsensitive\n",
      "Ġsensitive\n",
      "Ġsensitive\n",
      "Ġsensitive\n",
      "Ġinsensitive\n",
      "Ġinsensitive\n",
      "Ġinsensitive\n",
      "Ġinsensitive\n",
      "Ġinsensitive\n",
      "Ġinsensitive\n",
      "Ġsensitive\n",
      "Ġsensitive\n",
      "Ġinsensitive\n",
      "Ġinsensitive\n",
      "Ġsensitive\n",
      "Ġsensitive\n",
      "Ġunpredictable\n",
      "Ġunpredictable\n",
      "Ġunpredictable\n",
      "Ġunpredictable\n",
      "Ġunpredictable\n",
      "Ġunpredictable\n",
      "Ġpredictable\n",
      "Ġpredictable\n",
      "Ġpredictable\n",
      "Ġpredictable\n",
      "Ġpredictable\n",
      "Ġpredictable\n",
      "Ġpredictable\n",
      "Ġpredictable\n",
      "Ġunpredictable\n",
      "Ġunpredictable\n",
      "Ġunrelated\n",
      "Ġunrelated\n",
      "Ġrelated\n",
      "Ġrelated\n",
      "Ġrelated\n",
      "Ġrelated\n",
      "Ġrelated\n",
      "Ġrelated\n",
      "Ġunrelated\n",
      "Ġunrelated\n",
      "Ġrelated\n",
      "Ġrelated\n",
      "Ġunrelated\n",
      "Ġunrelated\n",
      "Ġunrelated\n",
      "Ġunrelated\n",
      "Ġresponsible\n",
      "Ġresponsible\n",
      "Ġirresponsible\n",
      "Ġirresponsible\n",
      "Ġresponsible\n",
      "Ġresponsible\n",
      "Ġresponsible\n",
      "Ġresponsible\n",
      "Ġirresponsible\n",
      "Ġirresponsible\n",
      "Ġirresponsible\n",
      "Ġirresponsible\n",
      "Ġresponsible\n",
      "Ġresponsible\n",
      "Ġirresponsible\n",
      "Ġirresponsible\n",
      "Ġunsuccessful\n",
      "Ġunsuccessful\n",
      "Ġsuccessful\n",
      "Ġsuccessful\n",
      "Ġsuccessful\n",
      "Ġsuccessful\n",
      "Ġunsuccessful\n",
      "Ġunsuccessful\n",
      "Ġsuccessful\n",
      "Ġsuccessful\n",
      "Ġunsuccessful\n",
      "Ġunsuccessful\n",
      "Ġsuccessful\n",
      "Ġsuccessful\n",
      "Ġunsuccessful\n",
      "Ġunsuccessful\n",
      "Ġconditional\n",
      "Ġconditional\n",
      "Ġconditional\n",
      "Ġconditional\n",
      "Ġconditional\n",
      "Ġconditional\n",
      "Ġunconditional\n",
      "Ġunconditional\n",
      "Ġunconditional\n",
      "Ġunconditional\n",
      "Ġunconditional\n",
      "Ġunconditional\n",
      "Ġconditional\n",
      "Ġconditional\n",
      "Ġunconditional\n",
      "Ġunconditional\n",
      "Ġnearer\n",
      "Ġnearer\n",
      "Ġnearer\n",
      "Ġnearer\n",
      "Ġfurther\n",
      "Ġfurther\n",
      "Ġdistant\n",
      "Ġdistant\n",
      "Ġfurther\n",
      "Ġfurther\n",
      "Ġdistant\n",
      "Ġdistant\n",
      "Ġdistant\n",
      "Ġdistant\n",
      "Ġnearer\n",
      "Ġnearer\n",
      "Ġusual\n",
      "Ġusual\n",
      "Ġunusual\n",
      "Ġunusual\n",
      "Ġunusual\n",
      "Ġunusual\n",
      "Ġusual\n",
      "Ġusual\n",
      "Ġunusual\n",
      "Ġunusual\n",
      "Ġusual\n",
      "Ġusual\n",
      "Ġunusual\n",
      "Ġunusual\n",
      "Ġusual\n",
      "Ġusual\n",
      "Ġunconstitutional\n",
      "Ġunconstitutional\n",
      "Ġconstitutional\n",
      "Ġconstitutional\n",
      "Ġconstitutional\n",
      "Ġconstitutional\n",
      "Ġunconstitutional\n",
      "Ġunconstitutional\n",
      "Ġconstitutional\n",
      "Ġconstitutional\n",
      "Ġunconstitutional\n",
      "Ġunconstitutional\n",
      "Ġunconstitutional\n",
      "Ġunconstitutional\n",
      "Ġconstitutional\n",
      "Ġconstitutional\n",
      "Ġtheoretical\n",
      "Ġtheoretical\n",
      "Ġempirical\n",
      "Ġempirical\n",
      "Ġempirical\n",
      "Ġempirical\n",
      "Ġempirical\n",
      "Ġempirical\n",
      "Ġtheoretical\n",
      "Ġtheoretical\n",
      "Ġempirical\n",
      "Ġempirical\n",
      "Ġtheoretical\n",
      "Ġtheoretical\n",
      "Ġtheoretical\n",
      "Ġtheoretical\n",
      "Ġexternal\n",
      "Ġexternal\n",
      "Ġinternal\n",
      "Ġinternal\n",
      "Ġexternal\n",
      "Ġexternal\n",
      "Ġexternal\n",
      "Ġexternal\n",
      "Ġinternal\n",
      "Ġinternal\n",
      "Ġexternal\n",
      "Ġexternal\n",
      "Ġinternal\n",
      "Ġinternal\n",
      "Ġinternal\n",
      "Ġinternal\n",
      "Ġcasual\n",
      "Ġcasual\n",
      "Ġcasual\n",
      "Ġcasual\n",
      "Ġconcerned\n",
      "Ġconcerned\n",
      "Ġconcerned\n",
      "Ġconcerned\n",
      "Ġconcerned\n",
      "Ġconcerned\n",
      "Ġcasual\n",
      "Ġcasual\n",
      "Ġdetached\n",
      "Ġdetached\n",
      "Ġconcerned\n",
      "Ġconcerned\n",
      "Ġuncommon\n",
      "Ġuncommon\n",
      "Ġextraordinary\n",
      "Ġextraordinary\n",
      "Ġordinary\n",
      "Ġordinary\n",
      "Ġextraordinary\n",
      "Ġextraordinary\n",
      "Ġextraordinary\n",
      "Ġextraordinary\n",
      "Ġuncommon\n",
      "Ġuncommon\n",
      "Ġuncommon\n",
      "Ġuncommon\n",
      "Ġordinary\n",
      "Ġordinary\n",
      "Ġimpractical\n",
      "Ġimpractical\n",
      "Ġpractical\n",
      "Ġpractical\n",
      "Ġpractical\n",
      "Ġpractical\n",
      "Ġimpractical\n",
      "Ġimpractical\n",
      "Ġimpractical\n",
      "Ġimpractical\n",
      "Ġpractical\n",
      "Ġpractical\n",
      "Ġpractical\n",
      "Ġpractical\n",
      "Ġimpractical\n",
      "Ġimpractical\n",
      "Ġfrivolous\n",
      "Ġfrivolous\n",
      "Ġfrivolous\n",
      "Ġfrivolous\n",
      "Ġfrivolous\n",
      "Ġfrivolous\n",
      "Ġfrivolous\n",
      "Ġfrivolous\n",
      "Ġserious\n",
      "Ġserious\n",
      "Ġserious\n",
      "Ġserious\n",
      "Ġserious\n",
      "Ġserious\n",
      "Ġserious\n",
      "Ġserious\n",
      "Ġoccupied\n",
      "Ġoccupied\n",
      "Ġoccupied\n",
      "Ġoccupied\n",
      "Ġvacant\n",
      "Ġvacant\n",
      "Ġoccupied\n",
      "Ġoccupied\n",
      "Ġvacant\n",
      "Ġvacant\n",
      "Ġvacant\n",
      "Ġvacant\n",
      "Ġoccupied\n",
      "Ġoccupied\n",
      "Ġvacant\n",
      "Ġvacant\n",
      "Ġstronger\n",
      "Ġstronger\n",
      "Ġstronger\n",
      "Ġstronger\n",
      "Ġweaker\n",
      "Ġweaker\n",
      "Ġweaker\n",
      "Ġweaker\n",
      "Ġweaker\n",
      "Ġweaker\n",
      "Ġweaker\n",
      "Ġweaker\n",
      "Ġstronger\n",
      "Ġstronger\n",
      "Ġstronger\n",
      "Ġstronger\n",
      "Ġaccessible\n",
      "Ġaccessible\n",
      "Ġaccessible\n",
      "Ġaccessible\n",
      "Ġaccessible\n",
      "Ġaccessible\n",
      "Ġaccessible\n",
      "Ġaccessible\n",
      "Ġinaccessible\n",
      "Ġinaccessible\n",
      "Ġinaccessible\n",
      "Ġinaccessible\n",
      "Ġinaccessible\n",
      "Ġinaccessible\n",
      "Ġinaccessible\n",
      "Ġinaccessible\n",
      "Ġincorrect\n",
      "Ġincorrect\n",
      "Ġcorrect\n",
      "Ġcorrect\n",
      "Ġincorrect\n",
      "Ġincorrect\n",
      "Ġcorrect\n",
      "Ġcorrect\n",
      "Ġcorrect\n",
      "Ġcorrect\n",
      "Ġcorrect\n",
      "Ġcorrect\n",
      "Ġincorrect\n",
      "Ġincorrect\n",
      "Ġincorrect\n",
      "Ġincorrect\n",
      "Ġcivilian\n",
      "Ġcivilian\n",
      "Ġcivilian\n",
      "Ġcivilian\n",
      "Ġmilitary\n",
      "Ġmilitary\n",
      "Ġmilitary\n",
      "Ġmilitary\n",
      "Ġcivilian\n",
      "Ġcivilian\n",
      "Ġcivilian\n",
      "Ġcivilian\n",
      "Ġmilitary\n",
      "Ġmilitary\n",
      "Ġmilitary\n",
      "Ġmilitary\n",
      "Ġpartial\n",
      "Ġpartial\n",
      "Ġpartial\n",
      "Ġpartial\n",
      "Ġpartial\n",
      "Ġpartial\n",
      "Ġpartial\n",
      "Ġpartial\n",
      "Ġimpartial\n",
      "Ġimpartial\n",
      "Ġimpartial\n",
      "Ġimpartial\n",
      "Ġimpartial\n",
      "Ġimpartial\n",
      "Ġimpartial\n",
      "Ġimpartial\n",
      "Ġunconscious\n",
      "Ġunconscious\n",
      "Ġunconscious\n",
      "Ġunconscious\n",
      "Ġunconscious\n",
      "Ġunconscious\n",
      "Ġconscious\n",
      "Ġconscious\n",
      "Ġconscious\n",
      "Ġconscious\n",
      "Ġconscious\n",
      "Ġconscious\n",
      "Ġconscious\n",
      "Ġconscious\n",
      "Ġunconscious\n",
      "Ġunconscious\n",
      "Ġtighter\n",
      "Ġtighter\n",
      "Ġtighter\n",
      "Ġtighter\n",
      "Ġtighter\n",
      "Ġtighter\n",
      "Ġinsufficient\n",
      "Ġinsufficient\n",
      "Ġinsufficient\n",
      "Ġinsufficient\n",
      "Ġtighter\n",
      "Ġtighter\n",
      "Ġabundant\n",
      "Ġabundant\n",
      "Ġabundant\n",
      "Ġabundant\n",
      "Ġethical\n",
      "Ġethical\n",
      "Ġunethical\n",
      "Ġunethical\n",
      "Ġethical\n",
      "Ġethical\n",
      "Ġunethical\n",
      "Ġunethical\n",
      "Ġunethical\n",
      "Ġunethical\n",
      "Ġethical\n",
      "Ġethical\n",
      "Ġunethical\n",
      "Ġunethical\n",
      "Ġethical\n",
      "Ġethical\n",
      "Ġshorter\n",
      "Ġshorter\n",
      "Ġtaller\n",
      "Ġtaller\n",
      "Ġshorter\n",
      "Ġshorter\n",
      "Ġshorter\n",
      "Ġshorter\n",
      "Ġtaller\n",
      "Ġtaller\n",
      "Ġtaller\n",
      "Ġtaller\n",
      "Ġlonger\n",
      "Ġlonger\n",
      "Ġlonger\n",
      "Ġlonger\n",
      "Ġinefficient\n",
      "Ġinefficient\n",
      "Ġcompetent\n",
      "Ġcompetent\n",
      "Ġincompetent\n",
      "Ġincompetent\n",
      "Ġincompetent\n",
      "Ġincompetent\n",
      "Ġincompetent\n",
      "Ġincompetent\n",
      "Ġinefficient\n",
      "Ġinefficient\n",
      "Ġcompetent\n",
      "Ġcompetent\n",
      "Ġcompetent\n",
      "Ġcompetent\n",
      "Ġsafer\n",
      "Ġsafer\n",
      "Ġdangerous\n",
      "Ġdangerous\n",
      "Ġsafer\n",
      "Ġsafer\n",
      "Ġharmless\n",
      "Ġharmless\n",
      "Ġharmless\n",
      "Ġharmless\n",
      "Ġharmless\n",
      "Ġharmless\n",
      "Ġharmless\n",
      "Ġharmless\n",
      "Ġharmless\n",
      "Ġharmless\n",
      "Ġunhappy\n",
      "Ġunhappy\n",
      "Ġhappier\n",
      "Ġhappier\n",
      "Ġunhappy\n",
      "Ġunhappy\n",
      "Ġunhappy\n",
      "Ġunhappy\n",
      "Ġunhappy\n",
      "Ġunhappy\n",
      "Ġmelancholy\n",
      "Ġmelancholy\n",
      "Ġmelancholy\n",
      "Ġmelancholy\n",
      "Ġmelancholy\n",
      "Ġmelancholy\n",
      "Ġmoral\n",
      "Ġmoral\n",
      "Ġmoral\n",
      "Ġmoral\n",
      "Ġimmoral\n",
      "Ġimmoral\n",
      "Ġmoral\n",
      "Ġmoral\n",
      "Ġmoral\n",
      "Ġmoral\n",
      "Ġimmoral\n",
      "Ġimmoral\n",
      "Ġimmoral\n",
      "Ġimmoral\n",
      "Ġimmoral\n",
      "Ġimmoral\n",
      "Ġimmortal\n",
      "Ġimmortal\n",
      "Ġimmortal\n",
      "Ġimmortal\n",
      "Ġimmortal\n",
      "Ġimmortal\n",
      "Ġimmortal\n",
      "Ġimmortal\n",
      "Ġmortal\n",
      "Ġmortal\n",
      "Ġmortal\n",
      "Ġmortal\n",
      "Ġmortal\n",
      "Ġmortal\n",
      "Ġmortal\n",
      "Ġmortal\n",
      "Ġmonstrous\n",
      "Ġmonstrous\n",
      "Ġbeautiful\n",
      "Ġbeautiful\n",
      "Ġmonstrous\n",
      "Ġmonstrous\n",
      "Ġmonstrous\n",
      "Ġmonstrous\n",
      "Ġbeautiful\n",
      "Ġbeautiful\n",
      "Ġgrotesque\n",
      "Ġgrotesque\n",
      "Ġbeautiful\n",
      "Ġbeautiful\n",
      "Ġbeautiful\n",
      "Ġbeautiful\n",
      "Ġunreasonable\n",
      "Ġunreasonable\n",
      "Ġunreasonable\n",
      "Ġunreasonable\n",
      "Ġreasonable\n",
      "Ġreasonable\n",
      "Ġreasonable\n",
      "Ġreasonable\n",
      "Ġunreasonable\n",
      "Ġunreasonable\n",
      "Ġreasonable\n",
      "Ġreasonable\n",
      "Ġunreasonable\n",
      "Ġunreasonable\n",
      "Ġreasonable\n",
      "Ġreasonable\n"
     ]
    }
   ],
   "source": [
    "train_pathname = '../data/train_neg0_64rgx8x2_tagged.txt'\n",
    "eval_pathname = '../data/eval_neg0_43rgx8x2_tagged.txt'\n",
    "tokenizer.tag2id, tokenizer.id2tag = tag2id, id2tag\n",
    "kwargs = {'has_tags': True, 'max_noise_len': 0, 'n_replicas': 1}\n",
    "# train_dataset = CHILDDataset(train_pathname, tokenizer, mode='train', **kwargs)\n",
    "eval_dataset = CHILDDataset(eval_pathname, tokenizer, mode='dev', **kwargs)\n",
    "# # for i in random.sample(range(len(eval_dataset)), 10): top_tokens, top_probs = predict_mask(eval_dataset[i].__dict__, model, tokenizer)\n",
    "# print('nTrain = %d, nValid = %d' % (len(train_dataset), len(eval_dataset)))\n",
    "# eval_datasets = None\n",
    "# if 'neg0' not in eval_pathname:\n",
    "#     eval_datasets = {}\n",
    "#     for suffix in ['neg0', 'neg1', 'neg2']:\n",
    "#         eval_datasets[suffix] = CHILDDataset(eval_pathname + '.' + suffix, tokenizer, mode='dev', **kwargs)"
   ]
  },
  {
   "cell_type": "code",
   "execution_count": 164,
   "metadata": {},
   "outputs": [],
   "source": [
    "model = RobertaForProbing.from_pretrained('roberta-large', state_dict=state_dict)\n",
    "# model = RobertaForMaskedLM.from_pretrained('roberta-large', model=model)#, state_dict=state_dict)"
   ]
  },
  {
   "cell_type": "code",
   "execution_count": 165,
   "metadata": {},
   "outputs": [],
   "source": [
    "steps = len(train_dataset) / 16 # max(int(round(100 * n_entity_trials / 3)), int(len(train_dataset) / 32 / 4))\n",
    "training_args = TrainingArguments(output_dir=\"./models/model_name\", \n",
    "    overwrite_output_dir=True, do_train=True, do_eval=True,\n",
    "    per_device_train_batch_size=16, per_device_eval_batch_size=64,\n",
    "    weight_decay=0.01,\n",
    "#     adam_beta2=0.98, adam_epsilon=1e-6,\n",
    "    learning_rate=1e-2, num_train_epochs=8,\n",
    "    logging_steps=steps, eval_steps=steps, save_steps=0,\n",
    "    no_cuda=False, evaluate_during_training=True,\n",
    ")\n",
    "trainer = Trainer(model, training_args, train_dataset=train_dataset, eval_dataset=eval_dataset)\n",
    "trainer.tokenizer = tokenizer\n",
    "# trainer.eval_datasets = eval_datasets\n",
    "model.tokenizer = tokenizer\n",
    "\n",
    "torch.cuda.empty_cache()"
   ]
  },
  {
   "cell_type": "code",
   "execution_count": 166,
   "metadata": {
    "scrolled": true
   },
   "outputs": [
    {
     "data": {
      "application/vnd.jupyter.widget-view+json": {
       "model_id": "c1ee3cd1f781430c993f858487315e77",
       "version_major": 2,
       "version_minor": 0
      },
      "text/plain": [
       "HBox(children=(FloatProgress(value=0.0, description='Epoch', max=8.0, style=ProgressStyle(description_width='i…"
      ]
     },
     "metadata": {},
     "output_type": "display_data"
    },
    {
     "data": {
      "application/vnd.jupyter.widget-view+json": {
       "model_id": "ec2eb644bf3f4643b84965b5122a0e1e",
       "version_major": 2,
       "version_minor": 0
      },
      "text/plain": [
       "HBox(children=(FloatProgress(value=0.0, description='Iteration', max=64.0, style=ProgressStyle(description_wid…"
      ]
     },
     "metadata": {},
     "output_type": "display_data"
    },
    {
     "name": "stdout",
     "output_type": "stream",
     "text": [
      "{'loss': 0.686581, 'learning_rate': 0.01, 'epoch': 1.0, 'step': 64}\n"
     ]
    },
    {
     "data": {
      "application/vnd.jupyter.widget-view+json": {
       "model_id": "4e0fa58cdea742b6bb058b5ca1a820a5",
       "version_major": 2,
       "version_minor": 0
      },
      "text/plain": [
       "HBox(children=(FloatProgress(value=0.0, description='Evaluation', max=11.0, style=ProgressStyle(description_wi…"
      ]
     },
     "metadata": {},
     "output_type": "display_data"
    },
    {
     "name": "stdout",
     "output_type": "stream",
     "text": [
      "\n",
      "{'eval_loss': 0.423715, 'epoch': 1.0}\n",
      "L\\     e0     e1     r0     r1    be0    be1      ?      ,    cls    sep   mask  \n",
      "10  54/69  59/70  81/94  53/51  63/66  58/74  58/56  59/62  56/54  49/71  59/57  \n",
      "11  53/71  73/76  89/94  49/57  76/69  90/85  75/60  73/70  49/68  49/66  55/65  \n",
      "12  63/70  78/79  95/99  50/63  82/78  79/92  78/67  82/85  49/63  49/66  81/75  \n",
      "13  66/75  85/85  96/98  50/55  92/88  95/98  68/73  88/95  50/63  49/66  79/81  \n",
      "14  74/77  87/86  95/98  50/67  91/91  96/98  86/77  92/95  87/55  49/67  92/94  \n",
      "15  79/82  94/94  95/99  50/64  91/90  96/98  83/82  94/96  84/56  68/53  91/93  \n",
      "16  81/80  95/95  96/98  50/57  93/90  96/98  84/82  93/96  73/57  49/70  93/93  \n",
      "17  86/85  92/93  96/98  50/64  93/92  96/98  81/80  92/97  50/55  49/59  91/93  \n",
      "18  88/85  93/94  94/96  50/61  93/91  95/96  77/80  94/94  50/65  49/66  93/93  \n",
      "19  85/83  92/93  94/96  58/59  94/91  97/97  89/80  93/94  50/73  49/62  93/94  \n",
      "20  79/82  94/94  94/95  50/77  94/90  96/96  88/80  94/94  50/71  50/71  94/94  \n",
      "21  78/81  92/91  92/95  50/63  94/89  95/94  89/79  95/96  83/60  50/63  93/93  \n",
      "22  82/79  93/93  89/93  49/59  92/86  93/94  63/85  94/94  60/62  50/56  93/93  \n",
      "23  57/72  80/82  87/89  75/56  86/76  95/92  76/71  84/82  74/59  72/59  87/82  \n",
      "\n"
     ]
    },
    {
     "data": {
      "application/vnd.jupyter.widget-view+json": {
       "model_id": "06d346f0279e4d2096f2ef78a12f00e6",
       "version_major": 2,
       "version_minor": 0
      },
      "text/plain": [
       "HBox(children=(FloatProgress(value=0.0, description='Iteration', max=64.0, style=ProgressStyle(description_wid…"
      ]
     },
     "metadata": {},
     "output_type": "display_data"
    },
    {
     "name": "stdout",
     "output_type": "stream",
     "text": [
      "{'loss': 0.462168, 'learning_rate': 0.01, 'epoch': 2.0, 'step': 128}\n"
     ]
    },
    {
     "data": {
      "application/vnd.jupyter.widget-view+json": {
       "model_id": "7fb503e04c1f41ae9bbbf99958e21d85",
       "version_major": 2,
       "version_minor": 0
      },
      "text/plain": [
       "HBox(children=(FloatProgress(value=0.0, description='Evaluation', max=11.0, style=ProgressStyle(description_wi…"
      ]
     },
     "metadata": {},
     "output_type": "display_data"
    },
    {
     "name": "stdout",
     "output_type": "stream",
     "text": [
      "\n",
      "{'eval_loss': 0.443259, 'epoch': 2.0}\n",
      "L\\     e0     e1     r0     r1    be0    be1      ?      ,    cls    sep   mask  \n",
      "10  55/72  55/72  91/94  49/62  50/71  61/75  50/69  50/71  49/60  50/87  50/85  \n",
      "11  64/76  68/84  92/96  49/64  74/73  86/87  52/69  54/76  57/56  50/87  50/95  \n",
      "12  66/77  69/88  96/99  49/62  85/80  92/94  64/75  62/81  64/55  50/81  59/76  \n",
      "13  69/79  81/88  97/99  49/57  92/91  96/97  51/76  90/93  90/59  50/87  84/84  \n",
      "14  80/81  82/89  95/99  49/59  93/94  96/96  67/79  95/95  67/57  50/89  91/94  \n",
      "15  85/85  94/95  96/99  49/66  90/92  97/98  77/80  95/97  84/62  50/75  92/93  \n",
      "16  87/86  94/95  95/99  72/56  94/94  97/98  88/85  95/97  89/64  73/55  91/93  \n",
      "17  92/90  95/96  94/99  49/64  95/94  97/98  83/82  95/96  86/61  50/83  92/91  \n",
      "18  90/88  94/97  94/98  72/65  94/93  97/98  79/82  95/97  92/61  51/55  95/95  \n",
      "19  89/89  94/96  94/98  71/66  95/93  98/98  76/80  95/97  93/64  50/92  95/95  \n",
      "20  85/86  94/96  93/97  71/55  94/94  97/98  69/79  95/97  77/65  50/97  95/95  \n",
      "21  81/84  93/94  91/96  49/59  94/93  97/97  69/78  95/97  72/70  50/85  95/94  \n",
      "22  86/83  94/95  92/96  49/69  92/90  97/97  92/81  95/96  81/69  68/52  92/92  \n",
      "23  75/75  84/86  94/93  69/59  93/81  96/95  89/72  94/90  74/67  75/65  94/89  \n",
      "\n"
     ]
    },
    {
     "data": {
      "application/vnd.jupyter.widget-view+json": {
       "model_id": "3e7b16ca4da44c4b880bac7d72d95f95",
       "version_major": 2,
       "version_minor": 0
      },
      "text/plain": [
       "HBox(children=(FloatProgress(value=0.0, description='Iteration', max=64.0, style=ProgressStyle(description_wid…"
      ]
     },
     "metadata": {},
     "output_type": "display_data"
    },
    {
     "name": "stdout",
     "output_type": "stream",
     "text": [
      "{'loss': 0.492453, 'learning_rate': 0.01, 'epoch': 3.0, 'step': 192}\n"
     ]
    },
    {
     "data": {
      "application/vnd.jupyter.widget-view+json": {
       "model_id": "db2472c4769d49849b4de67ed3a6234e",
       "version_major": 2,
       "version_minor": 0
      },
      "text/plain": [
       "HBox(children=(FloatProgress(value=0.0, description='Evaluation', max=11.0, style=ProgressStyle(description_wi…"
      ]
     },
     "metadata": {},
     "output_type": "display_data"
    },
    {
     "name": "stdout",
     "output_type": "stream",
     "text": [
      "\n",
      "{'eval_loss': 0.449257, 'epoch': 3.0}\n",
      "L\\     e0     e1     r0     r1    be0    be1      ?      ,    cls    sep   mask  \n",
      "10  58/71  57/73  91/95  49/76  59/71  75/76  49/91  49/69  53/57  49/96  49/86  \n",
      "11  71/74  72/86  94/96  49/79  74/78  89/88  51/69  57/70  66/56  49/95  51/68  \n",
      "12  76/75  69/89  96/98  49/77  78/83  92/95  71/71  76/76  49/70  49/94  64/73  \n",
      "13  75/77  86/91  96/99  49/76  92/91  95/98  66/74  94/94  70/62  49/91  79/81  \n",
      "14  86/82  92/94  96/99  49/74  93/94  96/98  76/80  94/96  70/62  49/94  94/95  \n",
      "15  87/86  94/98  96/99  49/78  91/92  96/99  83/85  95/98  73/67  49/91  94/93  \n",
      "16  87/89  94/97  95/99  72/57  95/96  97/98  89/86  95/97  84/68  64/56  93/95  \n",
      "17  90/90  92/96  95/99  49/63  95/95  97/98  72/89  95/96  73/67  49/87  94/96  \n",
      "18  92/91  94/97  95/99  92/67  95/94  96/98  60/75  95/97  72/67  72/57  95/97  \n",
      "19  90/91  94/97  92/96  72/71  95/95  96/97  71/81  95/96  72/71  49/89  94/95  \n",
      "20  85/89  93/96  93/96  85/55  94/95  95/97  79/86  94/96  72/70  49/89  95/96  \n",
      "21  86/87  89/94  91/95  78/52  95/94  96/97  67/80  95/97  82/71  49/62  93/95  \n",
      "22  84/85  94/95  87/94  49/61  94/92  95/97  84/83  95/97  92/70  49/65  95/95  \n",
      "23  67/76  86/85  82/89  78/61  79/81  95/95  91/76  95/92  72/72  82/66  93/91  \n",
      "\n"
     ]
    },
    {
     "data": {
      "application/vnd.jupyter.widget-view+json": {
       "model_id": "77279d0c870144d280a508e069e45912",
       "version_major": 2,
       "version_minor": 0
      },
      "text/plain": [
       "HBox(children=(FloatProgress(value=0.0, description='Iteration', max=64.0, style=ProgressStyle(description_wid…"
      ]
     },
     "metadata": {},
     "output_type": "display_data"
    },
    {
     "name": "stdout",
     "output_type": "stream",
     "text": [
      "{'loss': 0.478544, 'learning_rate': 0.01, 'epoch': 4.0, 'step': 256}\n"
     ]
    },
    {
     "data": {
      "application/vnd.jupyter.widget-view+json": {
       "model_id": "a04b86ec1daa43e9ae9454699b427bf6",
       "version_major": 2,
       "version_minor": 0
      },
      "text/plain": [
       "HBox(children=(FloatProgress(value=0.0, description='Evaluation', max=11.0, style=ProgressStyle(description_wi…"
      ]
     },
     "metadata": {},
     "output_type": "display_data"
    },
    {
     "name": "stdout",
     "output_type": "stream",
     "text": [
      "\n",
      "{'eval_loss': 0.358695, 'epoch': 4.0}\n",
      "L\\     e0     e1     r0     r1    be0    be1      ?      ,    cls    sep   mask  \n",
      "10  58/73  63/75  83/94  50/57  76/71  80/76  55/64  66/65  50/65  50/56  65/61  \n",
      "11  71/77  75/84  85/95  50/62  76/75  89/89  72/70  78/78  50/61  53/56  64/73  \n",
      "12  71/79  77/89  97/99  50/65  86/84  87/94  75/73  87/87  50/61  52/57  81/83  \n",
      "13  76/80  87/91  97/99  50/66  93/93  98/98  78/78  94/96  58/64  59/57  86/89  \n",
      "14  88/84  94/95  96/99  50/66  93/94  97/99  81/84  96/97  53/64  63/57  94/95  \n",
      "15  89/89  94/96  96/98  50/57  91/93  97/99  86/88  95/98  82/68  80/57  94/96  \n",
      "16  92/90  95/97  95/97  74/59  94/95  97/99  85/89  94/98  90/71  49/84  94/96  \n",
      "17  91/92  95/98  96/98  93/56  93/92  98/98  81/89  95/97  64/64  82/59  93/95  \n",
      "18  84/88  95/97  94/97  91/69  95/95  98/99  92/91  96/98  63/62  49/76  95/97  \n",
      "19  87/90  95/98  95/97  94/70  95/96  98/98  86/88  96/96  58/66  82/61  93/95  \n",
      "20  87/90  95/97  93/96  77/55  95/96  97/98  90/89  96/97  60/65  50/72  95/96  \n",
      "21  88/88  95/96  93/96  76/52  94/94  96/98  86/89  96/96  75/69  49/84  96/95  \n",
      "22  80/87  95/96  92/95  49/61  94/94  93/95  84/88  95/95  81/75  66/54  95/96  \n",
      "23  78/80  91/89  90/92  81/64  93/87  95/95  71/78  94/93  66/69  85/67  90/89  \n",
      "\n"
     ]
    },
    {
     "data": {
      "application/vnd.jupyter.widget-view+json": {
       "model_id": "02ce33ce09a5449baac8bb1027340a40",
       "version_major": 2,
       "version_minor": 0
      },
      "text/plain": [
       "HBox(children=(FloatProgress(value=0.0, description='Iteration', max=64.0, style=ProgressStyle(description_wid…"
      ]
     },
     "metadata": {},
     "output_type": "display_data"
    },
    {
     "name": "stdout",
     "output_type": "stream",
     "text": [
      "{'loss': 0.434484, 'learning_rate': 0.01, 'epoch': 5.0, 'step': 320}\n"
     ]
    },
    {
     "data": {
      "application/vnd.jupyter.widget-view+json": {
       "model_id": "3522556afb9c4fcfafabba727914e15a",
       "version_major": 2,
       "version_minor": 0
      },
      "text/plain": [
       "HBox(children=(FloatProgress(value=0.0, description='Evaluation', max=11.0, style=ProgressStyle(description_wi…"
      ]
     },
     "metadata": {},
     "output_type": "display_data"
    },
    {
     "name": "stdout",
     "output_type": "stream",
     "text": [
      "\n",
      "{'eval_loss': 0.362424, 'epoch': 5.0}\n",
      "L\\     e0     e1     r0     r1    be0    be1      ?      ,    cls    sep   mask  \n",
      "10  58/77  58/74  91/95  65/52  62/72  69/76  50/69  62/66  66/57  62/55  62/62  \n",
      "11  62/83  69/88  90/95  49/63  74/79  70/89  77/69  68/80  76/59  78/55  53/71  \n",
      "12  61/84  72/89  97/99  49/53  83/83  91/97  75/77  68/87  80/59  75/55  62/81  \n",
      "13  69/84  91/93  97/99  85/54  92/93  96/98  74/79  94/96  86/67  71/57  89/89  \n",
      "14  88/85  94/95  97/99  80/53  93/95  98/99  88/85  95/97  88/67  64/56  94/95  \n",
      "15  90/90  96/97  97/99  60/53  89/93  98/99  86/86  94/98  91/72  76/60  94/97  \n",
      "16  89/89  94/97  97/99  93/59  86/93  97/98  89/89  94/98  93/74  50/75  94/97  \n",
      "17  93/92  95/98  96/98  69/56  95/96  98/98  90/89  96/98  93/70  51/59  94/96  \n",
      "18  91/90  95/97  94/97  84/68  95/96  97/99  82/88  96/98  94/69  50/70  95/97  \n",
      "19  90/90  95/97  92/96  84/71  95/96  98/99  90/91  97/97  93/72  72/64  96/96  \n",
      "20  84/90  94/96  92/95  73/59  95/97  97/98  92/91  94/96  94/71  49/81  95/95  \n",
      "21  84/88  95/97  89/95  72/54  94/95  96/97  93/91  94/96  87/73  50/54  95/97  \n",
      "22  84/88  93/95  86/95  50/68  94/93  96/96  92/89  95/98  74/71  49/63  94/97  \n",
      "23  80/80  91/91  87/90  60/65  90/85  95/94  89/79  96/94  84/71  81/68  89/90  \n",
      "\n"
     ]
    },
    {
     "data": {
      "application/vnd.jupyter.widget-view+json": {
       "model_id": "cb82161b6acb408e82f8b0cc2429d384",
       "version_major": 2,
       "version_minor": 0
      },
      "text/plain": [
       "HBox(children=(FloatProgress(value=0.0, description='Iteration', max=64.0, style=ProgressStyle(description_wid…"
      ]
     },
     "metadata": {},
     "output_type": "display_data"
    },
    {
     "name": "stdout",
     "output_type": "stream",
     "text": [
      "{'loss': 0.468111, 'learning_rate': 0.01, 'epoch': 6.0, 'step': 384}\n"
     ]
    },
    {
     "data": {
      "application/vnd.jupyter.widget-view+json": {
       "model_id": "09d367f842b74e46b1aefc75abdcf2c1",
       "version_major": 2,
       "version_minor": 0
      },
      "text/plain": [
       "HBox(children=(FloatProgress(value=0.0, description='Evaluation', max=11.0, style=ProgressStyle(description_wi…"
      ]
     },
     "metadata": {},
     "output_type": "display_data"
    },
    {
     "name": "stdout",
     "output_type": "stream",
     "text": [
      "\n",
      "{'eval_loss': 0.36308, 'epoch': 6.0}\n",
      "L\\     e0     e1     r0     r1    be0    be1      ?      ,    cls    sep   mask  \n",
      "10  56/77  55/80  90/96  50/63  63/73  71/79  61/62  50/73  50/67  66/54  71/61  \n",
      "11  62/80  58/89  89/96  50/66  74/80  84/91  67/72  67/81  54/60  72/56  57/73  \n",
      "12  64/82  62/88  97/98  62/53  88/85  88/93  78/78  79/86  54/62  57/57  70/84  \n",
      "13  71/82  79/90  97/99  69/54  90/91  98/98  84/80  94/96  81/69  50/73  90/90  \n",
      "14  81/86  91/95  97/99  74/54  93/93  98/98  82/85  95/97  84/68  50/78  94/94  \n",
      "15  88/89  94/98  97/99  72/55  95/95  93/96  89/89  95/98  83/71  55/60  95/96  \n",
      "16  92/91  95/98  96/98  72/61  96/96  97/98  87/89  94/98  78/71  91/59  93/96  \n",
      "17  90/92  94/96  97/98  92/57  95/94  98/98  88/89  95/98  93/72  59/57  95/95  \n",
      "18  90/90  94/96  95/98  95/72  96/95  98/99  94/93  97/98  87/68  71/61  95/96  \n",
      "19  87/91  95/97  94/96  94/74  96/97  98/98  94/94  96/97  93/72  49/78  96/96  \n",
      "20  85/91  96/97  94/96  93/56  96/96  98/98  92/90  96/97  90/70  50/65  95/97  \n",
      "21  88/91  96/97  94/96  49/65  95/95  97/97  90/90  96/96  94/74  50/55  95/97  \n",
      "22  88/90  96/97  93/97  61/54  95/93  97/97  94/91  97/97  89/77  49/61  95/97  \n",
      "23  80/81  82/87  92/94  69/66  93/89  97/98  87/79  91/91  89/71  85/70  95/93  \n",
      "\n"
     ]
    },
    {
     "data": {
      "application/vnd.jupyter.widget-view+json": {
       "model_id": "f2beedad5dc94c1c8c978e7ec46328f3",
       "version_major": 2,
       "version_minor": 0
      },
      "text/plain": [
       "HBox(children=(FloatProgress(value=0.0, description='Iteration', max=64.0, style=ProgressStyle(description_wid…"
      ]
     },
     "metadata": {},
     "output_type": "display_data"
    },
    {
     "name": "stdout",
     "output_type": "stream",
     "text": [
      "{'loss': 0.436391, 'learning_rate': 0.01, 'epoch': 7.0, 'step': 448}\n"
     ]
    },
    {
     "data": {
      "application/vnd.jupyter.widget-view+json": {
       "model_id": "bf84d7ae41464e4a96ed35d8243ec799",
       "version_major": 2,
       "version_minor": 0
      },
      "text/plain": [
       "HBox(children=(FloatProgress(value=0.0, description='Evaluation', max=11.0, style=ProgressStyle(description_wi…"
      ]
     },
     "metadata": {},
     "output_type": "display_data"
    },
    {
     "name": "stdout",
     "output_type": "stream",
     "text": [
      "\n",
      "{'eval_loss': 0.381907, 'epoch': 7.0}\n",
      "L\\     e0     e1     r0     r1    be0    be1      ?      ,    cls    sep   mask  \n",
      "10  61/71  60/78  91/96  50/53  57/73  52/79  58/61  50/72  54/60  50/79  50/91  \n",
      "11  68/78  73/89  92/97  77/53  70/79  71/89  58/72  62/82  51/62  50/89  54/75  \n",
      "12  69/81  76/90  97/99  49/54  86/85  89/95  67/79  78/88  56/62  50/87  61/82  \n",
      "13  72/82  85/93  96/99  85/55  95/94  95/98  71/82  94/97  84/70  50/80  72/85  \n",
      "14  85/86  91/95  96/99  49/63  94/94  96/98  79/85  96/97  80/68  50/79  94/95  \n",
      "15  89/90  95/97  97/99  72/55  95/95  98/98  86/88  94/97  91/74  50/76  95/96  \n",
      "16  81/91  95/96  97/99  92/60  88/92  97/98  86/89  94/97  93/78  59/59  94/95  \n",
      "17  93/94  94/95  95/98  74/59  94/96  97/98  89/91  95/97  77/73  50/75  94/95  \n",
      "18  92/94  94/95  94/98  95/74  93/96  97/98  92/93  96/99  74/73  50/70  96/97  \n",
      "19  91/93  96/97  95/98  91/74  94/96  95/97  92/92  96/97  86/75  50/83  95/97  \n",
      "20  87/91  96/96  95/97  74/59  95/96  96/98  81/88  95/96  94/73  50/74  95/96  \n",
      "21  88/90  96/97  94/97  62/53  92/93  96/98  92/91  95/97  90/73  50/77  95/96  \n",
      "22  89/90  95/96  93/96  83/54  94/93  96/98  94/91  96/98  83/73  49/66  95/97  \n",
      "23  83/83  86/88  92/95  56/67  94/91  96/97  73/81  96/95  89/74  86/70  94/92  \n",
      "\n"
     ]
    },
    {
     "data": {
      "application/vnd.jupyter.widget-view+json": {
       "model_id": "933fa80b8a8f440caf13a5692d849aa5",
       "version_major": 2,
       "version_minor": 0
      },
      "text/plain": [
       "HBox(children=(FloatProgress(value=0.0, description='Iteration', max=64.0, style=ProgressStyle(description_wid…"
      ]
     },
     "metadata": {},
     "output_type": "display_data"
    },
    {
     "name": "stdout",
     "output_type": "stream",
     "text": [
      "{'loss': 0.406977, 'learning_rate': 0.01, 'epoch': 8.0, 'step': 512}\n"
     ]
    },
    {
     "data": {
      "application/vnd.jupyter.widget-view+json": {
       "model_id": "5b99da58ae9045ca824d28257db0e176",
       "version_major": 2,
       "version_minor": 0
      },
      "text/plain": [
       "HBox(children=(FloatProgress(value=0.0, description='Evaluation', max=11.0, style=ProgressStyle(description_wi…"
      ]
     },
     "metadata": {},
     "output_type": "display_data"
    },
    {
     "name": "stdout",
     "output_type": "stream",
     "text": [
      "\n",
      "{'eval_loss': 0.371152, 'epoch': 8.0}\n",
      "L\\     e0     e1     r0     r1    be0    be1      ?      ,    cls    sep   mask  \n",
      "10  60/73  61/77  85/95  70/53  71/72  71/79  50/74  53/71  50/63  50/77  56/65  \n",
      "11  71/79  78/86  88/97  64/53  70/81  83/90  51/73  65/81  59/61  59/57  57/74  \n",
      "12  72/81  79/89  95/99  83/53  78/85  92/98  57/79  83/90  72/62  64/59  86/86  \n",
      "13  70/83  90/93  96/99  90/55  86/92  97/99  62/81  94/97  79/71  66/60  86/88  \n",
      "14  90/89  94/96  96/99  92/55  93/95  97/99  83/87  95/99  86/70  57/61  94/96  \n",
      "15  87/90  95/98  97/99  51/55  95/95  96/99  86/88  95/99  91/75  70/61  94/95  \n",
      "16  93/93  95/98  95/99  93/62  95/96  96/99  92/91  95/98  91/76  87/60  90/93  \n",
      "17  93/94  93/97  95/99  72/61  96/97  96/99  94/92  95/98  92/74  65/59  95/97  \n",
      "18  92/94  92/95  94/99  94/76  95/97  97/99  94/94  95/99  94/72  72/62  92/96  \n",
      "19  90/93  95/97  96/99  94/78  93/96  97/99  95/94  95/99  93/76  53/61  94/99  \n",
      "20  87/91  95/97  95/97  79/56  93/95  97/99  94/93  96/99  94/74  61/60  95/98  \n",
      "21  84/89  95/97  93/97  50/65  93/94  96/99  94/92  96/98  89/77  49/91  95/98  \n",
      "22  83/90  92/95  93/97  81/55  93/93  95/99  90/88  95/98  76/80  49/74  95/98  \n",
      "23  87/81  69/86  92/95  86/68  94/90  95/96  93/82  95/96  91/74  87/72  95/95  \n",
      "\n",
      "\n"
     ]
    },
    {
     "data": {
      "application/vnd.jupyter.widget-view+json": {
       "model_id": "9520ea476323437cbd1029df3bdb49ac",
       "version_major": 2,
       "version_minor": 0
      },
      "text/plain": [
       "HBox(children=(FloatProgress(value=0.0, description='Evaluation', max=11.0, style=ProgressStyle(description_wi…"
      ]
     },
     "metadata": {},
     "output_type": "display_data"
    },
    {
     "name": "stdout",
     "output_type": "stream",
     "text": [
      "\n",
      "{'eval_loss': 0.371152, 'epoch': 8.0}\n",
      "L\\     e0     e1     r0     r1    be0    be1      ?      ,    cls    sep   mask  \n",
      "10  60/73  61/77  85/95  70/53  71/72  71/79  50/74  53/71  50/63  50/77  56/65  \n",
      "11  71/79  78/86  88/97  64/53  70/81  83/90  51/73  65/81  59/61  59/57  57/74  \n",
      "12  72/81  79/89  95/99  83/53  78/85  92/98  57/79  83/90  72/62  64/59  86/86  \n",
      "13  70/83  90/93  96/99  90/55  86/92  97/99  62/81  94/97  79/71  66/60  86/88  \n",
      "14  90/89  94/96  96/99  92/55  93/95  97/99  83/87  95/99  86/70  57/61  94/96  \n",
      "15  87/90  95/98  97/99  51/55  95/95  96/99  86/88  95/99  91/75  70/61  94/95  \n",
      "16  93/93  95/98  95/99  93/62  95/96  96/99  92/91  95/98  91/76  87/60  90/93  \n",
      "17  93/94  93/97  95/99  72/61  96/97  96/99  94/92  95/98  92/74  65/59  95/97  \n",
      "18  92/94  92/95  94/99  94/76  95/97  97/99  94/94  95/99  94/72  72/62  92/96  \n",
      "19  90/93  95/97  96/99  94/78  93/96  97/99  95/94  95/99  93/76  53/61  94/99  \n",
      "20  87/91  95/97  95/97  79/56  93/95  97/99  94/93  96/99  94/74  61/60  95/98  \n",
      "21  84/89  95/97  93/97  50/65  93/94  96/99  94/92  96/98  89/77  49/91  95/98  \n",
      "22  83/90  92/95  93/97  81/55  93/93  95/99  90/88  95/98  76/80  49/74  95/98  \n",
      "23  87/81  69/86  92/95  86/68  94/90  95/96  93/82  95/96  91/74  87/72  95/95  \n"
     ]
    },
    {
     "data": {
      "text/plain": [
       "TrainOutput(global_step=512, training_loss=0.4832135520991869)"
      ]
     },
     "execution_count": 166,
     "metadata": {},
     "output_type": "execute_result"
    }
   ],
   "source": [
    "trainer.train()"
   ]
  },
  {
   "cell_type": "code",
   "execution_count": 10,
   "metadata": {},
   "outputs": [],
   "source": [
    "output_dir = '/nas/xd/data/models/CHILD/roberta-large_sRICA-neg0-48-tagged_acc94e4/'\n",
    "# os.makedirs(output_dir, exist_ok=True)\n",
    "# model.save_pretrained(output_dir)\n",
    "\n",
    "state_dict = torch.load(output_dir + 'pytorch_model.bin')"
   ]
  },
  {
   "cell_type": "code",
   "execution_count": 11,
   "metadata": {},
   "outputs": [],
   "source": [
    "state_dict = torch.load(output_dir + 'pytorch_model.bin')"
   ]
  },
  {
   "cell_type": "code",
   "execution_count": 72,
   "metadata": {},
   "outputs": [
    {
     "name": "stdout",
     "output_type": "stream",
     "text": [
      "loading state_dict took 4.104 sec\n"
     ]
    }
   ],
   "source": [
    "# model = RobertaForMaskedLM.from_pretrained('roberta-base')\n",
    "model = RobertaForMaskedLM.from_pretrained(output_dir)\n",
    "_ = model.to(trainer.args.device)"
   ]
  },
  {
   "cell_type": "code",
   "execution_count": 167,
   "metadata": {},
   "outputs": [],
   "source": [
    "dataloader = DataLoader(\n",
    "    eval_dataset,\n",
    "    sampler=RandomSampler(eval_dataset),\n",
    "    batch_size=8, # or trainer.args.eval_batch_size,\n",
    "    collate_fn=default_data_collator, #trainer.data_collator,\n",
    "    drop_last=False, #trainer.args.dataloader_drop_last,\n",
    ")\n",
    "\n",
    "for inputs in dataloader: break"
   ]
  },
  {
   "cell_type": "code",
   "execution_count": 183,
   "metadata": {},
   "outputs": [
    {
     "data": {
      "text/plain": [
       "'.'"
      ]
     },
     "execution_count": 183,
     "metadata": {},
     "output_type": "execute_result"
    },
    {
     "data": {
      "text/plain": [
       "'.'"
      ]
     },
     "execution_count": 183,
     "metadata": {},
     "output_type": "execute_result"
    },
    {
     "data": {
      "text/plain": [
       "'.'"
      ]
     },
     "execution_count": 183,
     "metadata": {},
     "output_type": "execute_result"
    },
    {
     "data": {
      "text/plain": [
       "'.'"
      ]
     },
     "execution_count": 183,
     "metadata": {},
     "output_type": "execute_result"
    },
    {
     "data": {
      "text/plain": [
       "'.'"
      ]
     },
     "execution_count": 183,
     "metadata": {},
     "output_type": "execute_result"
    },
    {
     "data": {
      "text/plain": [
       "'.'"
      ]
     },
     "execution_count": 183,
     "metadata": {},
     "output_type": "execute_result"
    },
    {
     "data": {
      "text/plain": [
       "'.'"
      ]
     },
     "execution_count": 183,
     "metadata": {},
     "output_type": "execute_result"
    },
    {
     "data": {
      "text/plain": [
       "'.'"
      ]
     },
     "execution_count": 183,
     "metadata": {},
     "output_type": "execute_result"
    }
   ],
   "source": [
    "for i, input_ids in enumerate(inputs['input_ids']):\n",
    "    pos = model.roberta.encoder.probe_positions[i][3].item()\n",
    "    tokenizer.convert_ids_to_tokens(input_ids)[pos]"
   ]
  },
  {
   "cell_type": "code",
   "execution_count": 188,
   "metadata": {},
   "outputs": [
    {
     "data": {
      "text/plain": [
       "(['ĠU',\n",
       "  'Ġis',\n",
       "  'Ġmore',\n",
       "  'Ġnational',\n",
       "  'Ġthan',\n",
       "  'ĠZ',\n",
       "  '?',\n",
       "  '<ĠYes>',\n",
       "  ',',\n",
       "  'ĠU',\n",
       "  '(Ġformer)',\n",
       "  'Ġis',\n",
       "  'Ġmore',\n",
       "  'Ġnational',\n",
       "  '(Ġsame)',\n",
       "  '.'],\n",
       " {'#': [1, 10], '*': [4, 14]})"
      ]
     },
     "execution_count": 188,
     "metadata": {},
     "output_type": "execute_result"
    }
   ],
   "source": [
    "line = '# U is more * national than Z? < Yes >, # U ( former ) is more * national ( same ).'\n",
    "tokens_a = rejoin_tokens(tokenizer.tokenize(line))\n",
    "process_markers(tokens_a, pos_offset=1)"
   ]
  },
  {
   "cell_type": "code",
   "execution_count": 248,
   "metadata": {
    "collapsed": true
   },
   "outputs": [
    {
     "name": "stdout",
     "output_type": "stream",
     "text": [
      "0 G is more distant than U?<extra_id_0> G is nearer. No,\n",
      "1 S is more unusual than U?<extra_id_0> S is more usual. No,\n",
      "2 G is stronger than M?<extra_id_0> M is weaker. Yes,\n",
      "3 Z is more ethical than W?<extra_id_0> Z is more ethical. Yes,\n",
      "4 G is more empirical than M?<extra_id_0> G is more empirical. Yes,\n",
      "5 P is more external than K?<extra_id_0> P is more external. Yes,\n",
      "6 S is more constitutional than Z?<extra_id_0> S is more constitutional. Yes,\n",
      "7 Z is more melancholy than P?<extra_id_0> P is happier. Yes,\n"
     ]
    }
   ],
   "source": [
    "for i, inputs in enumerate(dataloader):\n",
    "    if i == 1: break\n",
    "    labels = inputs['labels']\n",
    "    del inputs['labels']\n",
    "    # inputs = trainer._prepare_inputs(inputs, model)\n",
    "#     outputs = model.generate(**inputs, max_length=8)\n",
    "#     outputs2 = model2.generate(**inputs, max_length=8)\n",
    "\n",
    "    for i in range(len(inputs['input_ids'])):\n",
    "        print(i, tokenizer.decode_old(inputs['input_ids'][i]), tokenizer.decode_strip_special_tokens(labels[i]))#, \n",
    "#               tokenizer.decode_strip_special_tokens(outputs[i]), tokenizer.decode_strip_special_tokens(outputs2[i]))\n",
    "    #           [tokenizer.convert_ids_to_tokens(inputs['input_ids'][i])[j] for j in inputs['marked_pos_labels'][i][0]])"
   ]
  },
  {
   "cell_type": "code",
   "execution_count": 169,
   "metadata": {},
   "outputs": [],
   "source": [
    "H = model.config.num_attention_heads\n",
    "base_layer, layer, head = model.probe_layers[0], 13, 4\n",
    "\n",
    "_ = model.eval()\n",
    "inputs = trainer._prepare_inputs(inputs, model)\n",
    "_, logits, probe_logits, all_attentions = model(**inputs, output_attentions=True, detach=False)[:4]\n",
    "outputs = probe_logits[:, (layer - base_layer) * H + head].max(dim=1).values\n",
    "\n",
    "attns = all_attentions[layer]\n",
    "attns.retain_grad()\n",
    "model.zero_grad()\n",
    "grads = torch.autograd.grad(torch.unbind(outputs), attns)[0]"
   ]
  },
  {
   "cell_type": "code",
   "execution_count": 163,
   "metadata": {
    "scrolled": false
   },
   "outputs": [
    {
     "data": {
      "image/png": "[encoded data removed]",
      "text/plain": [
       "<Figure size 1080x360 with 6 Axes>"
      ]
     },
     "metadata": {
      "needs_background": "light"
     },
     "output_type": "display_data"
    },
    {
     "data": {
      "image/png": "[encoded data removed]",
      "text/plain": [
       "<Figure size 1080x360 with 6 Axes>"
      ]
     },
     "metadata": {
      "needs_background": "light"
     },
     "output_type": "display_data"
    },
    {
     "data": {
      "image/png": "[encoded data removed]",
      "text/plain": [
       "<Figure size 1080x360 with 6 Axes>"
      ]
     },
     "metadata": {
      "needs_background": "light"
     },
     "output_type": "display_data"
    },
    {
     "data": {
      "image/png": "[encoded data removed]",
      "text/plain": [
       "<Figure size 1080x360 with 6 Axes>"
      ]
     },
     "metadata": {
      "needs_background": "light"
     },
     "output_type": "display_data"
    },
    {
     "data": {
      "image/png": "[encoded data removed]",
      "text/plain": [
       "<Figure size 1080x360 with 6 Axes>"
      ]
     },
     "metadata": {
      "needs_background": "light"
     },
     "output_type": "display_data"
    },
    {
     "data": {
      "image/png": "[encoded data removed]",
      "text/plain": [
       "<Figure size 1080x360 with 6 Axes>"
      ]
     },
     "metadata": {
      "needs_background": "light"
     },
     "output_type": "display_data"
    },
    {
     "data": {
      "image/png": "[encoded data removed]",
      "text/plain": [
       "<Figure size 1080x360 with 6 Axes>"
      ]
     },
     "metadata": {
      "needs_background": "light"
     },
     "output_type": "display_data"
    },
    {
     "data": {
      "image/png": "[encoded data removed]",
      "text/plain": [
       "<Figure size 1080x360 with 6 Axes>"
      ]
     },
     "metadata": {
      "needs_background": "light"
     },
     "output_type": "display_data"
    }
   ],
   "source": [
    "for i in range(len(attns)):\n",
    "    seq_len = inputs['attention_mask'][i].sum().item()\n",
    "    attn =  attns[i, head, : seq_len, : seq_len]\n",
    "    grad = grads[i, head, : seq_len, : seq_len]\n",
    "    tokens = normalize_tokens(tokenizer.convert_ids_to_tokens(inputs['input_ids'][i])[: seq_len])\n",
    "    size = round(attn.size(0) / 3)\n",
    "    fig, (ax0, ax1, ax2) = plt.subplots(1, 3, figsize=(size * 3., size))#, gridspec_kw={'width_ratios': [3, 1]})\n",
    "    _ = sns.heatmap(attn.detach().cpu(), square=True, cbar=True, annot=False, fmt='d', xticklabels=tokens, yticklabels=tokens, ax=ax0)\n",
    "    _ = sns.heatmap((attn * grad).detach().cpu(), square=True, cbar=True, annot=False, xticklabels=tokens, yticklabels=tokens, ax=ax1)\n",
    "    _ = sns.heatmap(grad.detach().cpu(), square=True, cbar=True, annot=False, xticklabels=tokens, yticklabels=tokens, ax=ax2)"
   ]
  },
  {
   "cell_type": "code",
   "execution_count": 227,
   "metadata": {
    "scrolled": false
   },
   "outputs": [],
   "source": [
    "_ = model.eval()\n",
    "model.zero_grad()\n",
    "# with torch.no_grad():\n",
    "_, logits, probe_logits, all_attentions = model(**inputs, output_attentions=True, detach=False)[:4]\n",
    "attn_probs = all_attentions  # torch.stack(all_attentions, dim=0).cpu()"
   ]
  },
  {
   "cell_type": "code",
   "execution_count": 228,
   "metadata": {},
   "outputs": [],
   "source": [
    "base_layer, layer = 6, 6\n",
    "H, bsz = 12, probe_logits.size(0)\n",
    "tc_labels = inputs['tc_labels'][inputs['tc_labels'] != -100]\n",
    "so_token_id, mask_token_id = tokenizer._convert_token_to_id('Ġso'), tokenizer.mask_token_id\n",
    "pos = (inputs['input_ids'] == so_token_id).nonzero()[:, 1].item()\n",
    "tokens = normalize_tokens(tokenizer.convert_ids_to_tokens(inputs['input_ids'][0]))\n",
    "attn_probs[layer].retain_grad()\n",
    "probe_logits[torch.arange(bsz), (layer - base_layer) * H: (layer - base_layer + 1) * H, tc_labels].mean().backward()"
   ]
  },
  {
   "cell_type": "code",
   "execution_count": 229,
   "metadata": {},
   "outputs": [
    {
     "data": {
      "text/plain": [
       "0.8664488792419434"
      ]
     },
     "execution_count": 229,
     "metadata": {},
     "output_type": "execute_result"
    },
    {
     "data": {
      "image/png": "[encoded data removed]",
      "text/plain": [
       "<Figure size 432x288 with 1 Axes>"
      ]
     },
     "metadata": {
      "needs_background": "light"
     },
     "output_type": "display_data"
    }
   ],
   "source": [
    "head = 6\n",
    "ga = attn_probs[layer].grad[:, head][0, pos]\n",
    "a = attn_probs[layer][:, head][0, pos]\n",
    "nn.Softmax(dim=-1)(probe_logits)[torch.arange(bsz), (layer - base_layer) * H + head, tc_labels].item()\n",
    "\n",
    "_ = plt.plot(normalize(ga.cpu()))\n",
    "_ = plt.plot(a.detach().cpu())\n",
    "_ = plt.bar(range(len(tokens)), normalize((ga * a.detach()).cpu()), alpha=0.3)\n",
    "_ = plt.axhline(y=0, linewidth=0.5, color='k')\n",
    "_ = plt.xticks(range(len(tokens)), tokens, rotation=45)"
   ]
  },
  {
   "cell_type": "code",
   "execution_count": 220,
   "metadata": {},
   "outputs": [
    {
     "data": {
      "text/plain": [
       "0.5935156941413879"
      ]
     },
     "execution_count": 220,
     "metadata": {},
     "output_type": "execute_result"
    },
    {
     "data": {
      "image/png": "[encoded data removed]",
      "text/plain": [
       "<Figure size 432x288 with 1 Axes>"
      ]
     },
     "metadata": {
      "needs_background": "light"
     },
     "output_type": "display_data"
    }
   ],
   "source": [
    "head = 10\n",
    "ga = attn_probs[layer].grad[:, head][0, pos]\n",
    "a = attn_probs[layer][:, head][0, pos]\n",
    "nn.Softmax(dim=-1)(probe_logits)[torch.arange(bsz), (layer - base_layer) * H + head, tc_labels].item()\n",
    "\n",
    "_ = plt.plot(normalize(ga.cpu()))\n",
    "_ = plt.plot(a.detach().cpu())\n",
    "_ = plt.bar(range(len(tokens)), normalize((ga * a.detach()).cpu()), alpha=0.3)\n",
    "_ = plt.axhline(y=0, linewidth=0.5, color='k')\n",
    "_ = plt.xticks(range(len(tokens)), tokens, rotation=45)"
   ]
  },
  {
   "cell_type": "code",
   "execution_count": 406,
   "metadata": {},
   "outputs": [
    {
     "data": {
      "image/png": "[encoded data removed]",
      "text/plain": [
       "<Figure size 1152x648 with 8 Axes>"
      ]
     },
     "metadata": {
      "needs_background": "light"
     },
     "output_type": "display_data"
    }
   ],
   "source": [
    "sample_indices = [[0, 1, 2, 3], \n",
    "                  [4, 5, 6, 7]]\n",
    "# sample_indices = [[0, 0], \n",
    "#                   [0, 0]]\n",
    "n_rows, n_cols = len(sample_indices), len(sample_indices[0])\n",
    "fig, axs = plt.subplots(n_rows, n_cols, sharey=False, figsize=(4 * n_cols, 4.5 * n_rows))\n",
    "sep_id = tokenizer._convert_token_to_id('Ġ,')\n",
    "for row in range(n_rows):\n",
    "    for col in range(n_cols):\n",
    "        i, ax = sample_indices[row][col], axs[row][col]\n",
    "        tokens = normalize_tokens(tokenizer.convert_ids_to_tokens(inputs['input_ids'][i]))\n",
    "        \n",
    "        p, h = inputs['marked_pos_labels'][i][0]\n",
    "        p, h = p.item(), h.item()\n",
    "        so_pos = (inputs['input_ids'][i] == tokenizer._convert_token_to_id('Ġso')).nonzero()[0, 0].item()\n",
    "        be2_pos = so_pos + 2\n",
    "        mask_pos = (inputs['input_ids'][i] == tokenizer.mask_token_id).nonzero()[0, 0].item()\n",
    "#         j = 17\n",
    "        pos_attn = attn_probs[:, i, :, mask_pos, h]\n",
    "        pos_attn[-1, -1] = 1.\n",
    "        ax = sns.heatmap((pos_attn * 100).long(), square=True, cbar=False, annot=False, fmt='d', ax=ax)\n",
    "        ax.tick_params(top=True, labeltop=True)\n",
    "        _ = ax.set_xlabel('%s - %s' % (tokens[p], tokens[h]))"
   ]
  },
  {
   "cell_type": "code",
   "execution_count": 209,
   "metadata": {
    "scrolled": false
   },
   "outputs": [
    {
     "data": {
      "image/png": "[encoded data removed]",
      "text/plain": [
       "<Figure size 720x360 with 4 Axes>"
      ]
     },
     "metadata": {
      "needs_background": "light"
     },
     "output_type": "display_data"
    }
   ],
   "source": [
    "i = 0\n",
    "layer, head = 7, 10\n",
    "seq_len = inputs['attention_mask'][i].sum().item()\n",
    "attn =  attn_probs[layer][i, head, : seq_len, : seq_len]\n",
    "tokens = normalize_tokens(tokenizer.convert_ids_to_tokens(inputs['input_ids'][i])[: seq_len])\n",
    "size = round(attn.size(0) / 3)\n",
    "fig, (ax0, ax1) = plt.subplots(1, 2, figsize=(size  * 2., size), gridspec_kw={'width_ratios': [3, 1]})\n",
    "_ = sns.heatmap((attn * 100).long().cpu(), square=True, cbar=True, annot=True, fmt='d', xticklabels=tokens, yticklabels=tokens, ax=ax0)\n",
    "plot_head_attn(attn, tokens, ax1=ax1, marked_positions=inputs['marked_pos_labels'][i])"
   ]
  },
  {
   "cell_type": "markdown",
   "metadata": {},
   "source": [
    "H5-8, H6-4, H7-6(+1), H7-10: ,/so/is/more -> h_ent  \n",
    "H8-6: ?/mask -> so\n",
    "\n",
    "H6-6: ,/so/is/more -> h  \n",
    "H6-10: ,/so/is/more -> p  \n",
    "H7-9: ?/mask -> so"
   ]
  },
  {
   "cell_type": "code",
   "execution_count": null,
   "metadata": {},
   "outputs": [],
   "source": [
    "#         pos_attn = attn_probs[:, i]\n",
    "#         pos_attn = pos_attn * (pos_attn > 0.3)\n",
    "# #         pos_attn[0] = 0  # layer 0\n",
    "# #         pos_attn[1, 1] = 0  # ->pos-2\n",
    "#         pos_attn = pos_attn.mean(dim=(0, 1))\n",
    "#         input_ids = inputs['input_ids'][i]\n",
    "#         sep_pos = (input_ids == sep_id).nonzero()[0].item()\n",
    "#         segment_ids = torch.zeros_like(input_ids)\n",
    "#         segment_ids[sep_pos + 1:] = 1\n",
    "#         segment_mask = segment_ids.unsqueeze(0) != segment_ids.unsqueeze(1)\n",
    "#         pos_attn = pos_attn * segment_mask.cpu()\n",
    "#         seq_len = inputs['attention_mask'][i].sum().item()\n",
    "#         pos_attn[:, [0, 2, seq_len - 1]] = 0\n",
    "#         k = torch.arange(1, pos_attn.size(0) - 1)\n",
    "#         pos_attn[k, k] = 0\n",
    "#         pos_attn[k, k - 1] = 0\n",
    "#         pos_attn[k, k + 1] = 0\n",
    "#         ax = sns.heatmap((pos_attn * 100).long(), square=True, cbar=False, annot=False, fmt='d', \n",
    "#                          xticklabels=tokens, yticklabels=tokens, ax=ax)"
   ]
  },
  {
   "cell_type": "code",
   "execution_count": 231,
   "metadata": {},
   "outputs": [],
   "source": [
    "length = 4\n",
    "range_vec = torch.arange(length)\n",
    "range_mat = range_vec.unsqueeze(-1).expand(-1, length).transpose(0, 1)\n",
    "distance_mat = range_mat - range_mat.transpose(0, 1)"
   ]
  },
  {
   "cell_type": "code",
   "execution_count": 232,
   "metadata": {},
   "outputs": [
    {
     "data": {
      "text/plain": [
       "tensor([0, 1, 2, 3])"
      ]
     },
     "execution_count": 232,
     "metadata": {},
     "output_type": "execute_result"
    }
   ],
   "source": [
    "range_vec"
   ]
  },
  {
   "cell_type": "code",
   "execution_count": 233,
   "metadata": {},
   "outputs": [
    {
     "data": {
      "text/plain": [
       "tensor([[0, 1, 2, 3],\n",
       "        [0, 1, 2, 3],\n",
       "        [0, 1, 2, 3],\n",
       "        [0, 1, 2, 3]])"
      ]
     },
     "execution_count": 233,
     "metadata": {},
     "output_type": "execute_result"
    }
   ],
   "source": [
    "range_mat"
   ]
  },
  {
   "cell_type": "code",
   "execution_count": 234,
   "metadata": {},
   "outputs": [
    {
     "data": {
      "text/plain": [
       "tensor([[ 0,  1,  2,  3],\n",
       "        [-1,  0,  1,  2],\n",
       "        [-2, -1,  0,  1],\n",
       "        [-3, -2, -1,  0]])"
      ]
     },
     "execution_count": 234,
     "metadata": {},
     "output_type": "execute_result"
    }
   ],
   "source": [
    "distance_mat"
   ]
  },
  {
   "cell_type": "code",
   "execution_count": 238,
   "metadata": {},
   "outputs": [],
   "source": [
    "max_relative_positions = 2"
   ]
  },
  {
   "cell_type": "code",
   "execution_count": 239,
   "metadata": {},
   "outputs": [],
   "source": [
    "distance_mat_clipped = torch.clamp(distance_mat,\n",
    "                                   min=-max_relative_positions,\n",
    "                                   max=max_relative_positions)"
   ]
  },
  {
   "cell_type": "code",
   "execution_count": 240,
   "metadata": {},
   "outputs": [
    {
     "data": {
      "text/plain": [
       "tensor([[ 0,  1,  2,  2],\n",
       "        [-1,  0,  1,  2],\n",
       "        [-2, -1,  0,  1],\n",
       "        [-2, -2, -1,  0]])"
      ]
     },
     "execution_count": 240,
     "metadata": {},
     "output_type": "execute_result"
    }
   ],
   "source": [
    "distance_mat_clipped"
   ]
  },
  {
   "cell_type": "code",
   "execution_count": 241,
   "metadata": {},
   "outputs": [],
   "source": [
    "final_mat = distance_mat_clipped + max_relative_positions"
   ]
  },
  {
   "cell_type": "code",
   "execution_count": 242,
   "metadata": {},
   "outputs": [
    {
     "data": {
      "text/plain": [
       "tensor([[2, 3, 4, 4],\n",
       "        [1, 2, 3, 4],\n",
       "        [0, 1, 2, 3],\n",
       "        [0, 0, 1, 2]])"
      ]
     },
     "execution_count": 242,
     "metadata": {},
     "output_type": "execute_result"
    }
   ],
   "source": [
    "final_mat"
   ]
  },
  {
   "cell_type": "code",
   "execution_count": 243,
   "metadata": {},
   "outputs": [
    {
     "data": {
      "text/plain": [
       "tensor([[-3, -2, -1,  0]])"
      ]
     },
     "execution_count": 243,
     "metadata": {},
     "output_type": "execute_result"
    }
   ],
   "source": [
    "torch.arange(-length + 1, 1, 1).unsqueeze(0)"
   ]
  }
 ],
 "metadata": {
  "kernelspec": {
   "display_name": "Python 3",
   "language": "python",
   "name": "python3"
  },
  "language_info": {
   "codemirror_mode": {
    "name": "ipython",
    "version": 3
   },
   "file_extension": ".py",
   "mimetype": "text/x-python",
   "name": "python",
   "nbconvert_exporter": "python",
   "pygments_lexer": "ipython3",
   "version": "3.7.5"
  }
 },
 "nbformat": 4,
 "nbformat_minor": 4
}
