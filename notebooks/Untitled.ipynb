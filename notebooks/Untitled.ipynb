{
 "cells": [
  {
   "cell_type": "code",
   "execution_count": 274,
   "metadata": {},
   "outputs": [
    {
     "name": "stdout",
     "output_type": "stream",
     "text": [
      "The autoreload extension is already loaded. To reload it, use:\n",
      "  %reload_ext autoreload\n"
     ]
    }
   ],
   "source": [
    "%load_ext autoreload\n",
    "%autoreload 2\n",
    "\n",
    "# from IPython.core.interactiveshell import InteractiveShell\n",
    "# InteractiveShell.ast_node_interactivity = 'all'"
   ]
  },
  {
   "cell_type": "code",
   "execution_count": 279,
   "metadata": {},
   "outputs": [],
   "source": [
    "import numpy as np\n",
    "import json\n",
    "import random\n",
    "from random import sample\n",
    "\n",
    "import matplotlib.pyplot as plt\n",
    "import seaborn as sns"
   ]
  },
  {
   "cell_type": "code",
   "execution_count": 58,
   "metadata": {},
   "outputs": [],
   "source": [
    "from pattern.en import comparative"
   ]
  },
  {
   "cell_type": "code",
   "execution_count": 4,
   "metadata": {},
   "outputs": [],
   "source": [
    "import torch\n",
    "import torch.nn.functional as F\n",
    "\n",
    "from transformers import *"
   ]
  },
  {
   "cell_type": "code",
   "execution_count": 5,
   "metadata": {},
   "outputs": [],
   "source": [
    "models = {}"
   ]
  },
  {
   "cell_type": "code",
   "execution_count": 5,
   "metadata": {},
   "outputs": [
    {
     "name": "stderr",
     "output_type": "stream",
     "text": [
      "Some weights of RobertaForMaskedLM were not initialized from the model checkpoint at roberta-base and are newly initialized: ['lm_head.decoder.bias']\n",
      "You should probably TRAIN this model on a down-stream task to be able to use it for predictions and inference.\n"
     ]
    }
   ],
   "source": [
    "model_class, tokenizer_class, shortcut, mask_token = RobertaForMaskedLM, RobertaTokenizer, 'roberta-base', '<mask>'\n",
    "model, tokenizer = model_class.from_pretrained(shortcut), tokenizer_class.from_pretrained(shortcut)\n",
    "models[shortcut] = (model, tokenizer, mask_token)"
   ]
  },
  {
   "cell_type": "code",
   "execution_count": 6,
   "metadata": {},
   "outputs": [
    {
     "name": "stderr",
     "output_type": "stream",
     "text": [
      "Some weights of RobertaForMaskedLM were not initialized from the model checkpoint at roberta-large and are newly initialized: ['lm_head.decoder.bias']\n",
      "You should probably TRAIN this model on a down-stream task to be able to use it for predictions and inference.\n"
     ]
    }
   ],
   "source": [
    "model_class, tokenizer_class, shortcut, mask_token = RobertaForMaskedLM, RobertaTokenizer, 'roberta-large', '<mask>'\n",
    "model, tokenizer = model_class.from_pretrained(shortcut), tokenizer_class.from_pretrained(shortcut)\n",
    "models[shortcut] = (model, tokenizer, mask_token)"
   ]
  },
  {
   "cell_type": "code",
   "execution_count": 78,
   "metadata": {},
   "outputs": [],
   "source": [
    "model_class, tokenizer_class, shortcut, mask_token = GPT2LMHeadModel, GPT2Tokenizer, 'gpt2', None\n",
    "model, tokenizer = model_class.from_pretrained(shortcut), tokenizer_class.from_pretrained(shortcut)\n",
    "models[shortcut] = (model, tokenizer, mask_token)"
   ]
  },
  {
   "cell_type": "code",
   "execution_count": 21,
   "metadata": {},
   "outputs": [],
   "source": [
    "model_class, tokenizer_class, shortcut, mask_token = GPT2LMHeadModel, GPT2Tokenizer, 'gpt2-large', None\n",
    "model, tokenizer = model_class.from_pretrained(shortcut), tokenizer_class.from_pretrained(shortcut)\n",
    "models[shortcut] = (model, tokenizer, mask_token)"
   ]
  },
  {
   "cell_type": "code",
   "execution_count": 48,
   "metadata": {},
   "outputs": [],
   "source": [
    "model_class, tokenizer_class, shortcut, mask_token = GPT2LMHeadModel, GPT2Tokenizer, 'gpt2-xl', None\n",
    "model, tokenizer = model_class.from_pretrained(shortcut), tokenizer_class.from_pretrained(shortcut)\n",
    "models[shortcut] = (model, tokenizer, mask_token)"
   ]
  },
  {
   "cell_type": "code",
   "execution_count": 7,
   "metadata": {},
   "outputs": [],
   "source": [
    "model, tokenizer, mask_token = models['roberta-large']"
   ]
  },
  {
   "cell_type": "code",
   "execution_count": null,
   "metadata": {},
   "outputs": [],
   "source": [
    "text = 'Paris is the _ of France'\n",
    "text = 'Paris is the captital of'\n",
    "text = 'Q: 4 and 9, which is larger? A:'\n",
    "text = '''Q: 3 and 5, which is larger? A: 5.\n",
    "Q: 4 and 9, which is larger? A:'''\n",
    "text = '''Q: 5, 3, 3, which is different from the others? A: 5.\n",
    "Q: 2, 2, 7, which is different from the others? A: 7.\n",
    "Q: 9, 4, 9, which is different from the others? A:'''\n",
    "text = '''Q: 5, 3, 2. Which is in the middle? A: 3.\n",
    "Q: 5, 4, 2. Which is in the middle? A:'''\n",
    "texts = [\n",
    "'''\\\n",
    "Q: double c. A: c c.\n",
    "Q: double b. A:''',\n",
    "'''\\\n",
    "Q: b b b, c c. Which is more, b or c? A: b.\n",
    "Q: e e , f f f. Which is more, e or f? A: f.\n",
    "Q: g g g, d d. Which is more, g or d? A:''',\n",
    "'''\\\n",
    "a b c changes to a b d.\n",
    "p q r changes to p q s.\n",
    "i j k changes to''',\n",
    "'''\\\n",
    "a b c changes to a b d.\n",
    "p q r s changes to p q r t.\n",
    "i j k l m changes to''',\n",
    "    \n",
    "    \n",
    "    \n",
    "# '''\\\n",
    "# i i j j k k changes to i i j j l l.\n",
    "# a a b b c c changes to a a b b d d.\n",
    "# p p q q r r changes to''',\n",
    "# '''\\\n",
    "# a b c changes to a b d.\n",
    "# e f g h changes to e f g i.\n",
    "# u v w x y changes to''',\n",
    "# '''\\\n",
    "# Q: b b b, c c. Which is more, former or latter? A: former.\n",
    "# Q: e e , f f f. Which is more, former or latter? A: latter.\n",
    "# Q: g g g, d d. Which is more, former or latter? A:''',\n",
    "# '''\\\n",
    "# Q: Surround f with b. A: b f b.\n",
    "# Q: Surround a with d. A: d a d.\n",
    "# Q: Surround c with e. A:''',\n",
    "# '''\\\n",
    "# Q: c, b, f. Which letter follows c? A: b.\n",
    "# Q: b, a, g. Which letter follows a? A: g\n",
    "# Q: f, g, d. Which letter follows f? A:''',\n",
    "]\n",
    "\n",
    "# text = '''Q: 5, 3, 3, which is special? A: 5.\n",
    "# Q: 2, 2, 7, which is special? A: 7.\n",
    "# Q: 9, 4, 9, which is special? A:'''\n",
    "\n",
    "# text = '''Q: 1, 0, 3, 0, 0, 5. Remove 0s. A: 1, 3, 5.\n",
    "# Q: 0, 1, 3, 0, 5, 5. Remove 0s. A: 1, 3, 5.\n",
    "# Q: 2, 0, 0, 4, 1, 0. Remove 0s. A:'''\n",
    "\n",
    "# text = '''Q: 4, 9, 5, which is the largest? A: 9.\n",
    "# Q: 8, 2, 6, which is the largest? A: 8.\n",
    "# Q: 3, 1, 7, which is the largest? A: 7.\n",
    "# Q: 1, 7, 3, which is the largest? A:'''\n",
    "\n",
    "# text = '''Q: Swap 4 and 7. A: 7 and 4.\n",
    "# Q: Swap 9 and 3. A: 3 and 9.\n",
    "# Q: Swap 5 and 2. A:'''\n",
    "\n",
    "# text = '''Q: 4 = 4? A: Yes.\n",
    "# Q: 6 = 2? A: No.\n",
    "# Q: 2 = 2? A: Yes.\n",
    "# Q: 5 = 5? A:'''\n",
    "\n",
    "# text = '''Q: 4 and 4. A: Same.\n",
    "# Q: 6 and 2. A: Different.\n",
    "# Q: 2 and 2. A: Same.\n",
    "# Q: 2 and 2. A:'''\n",
    "\n",
    "# text = '''Q: Which is the former of 5 and 2? A: 5.\n",
    "# Q: Which is the latter of 7 and 9? A: 9.\n",
    "# Q: Which is the latter of 1 and 7? A: 7.\n",
    "# Q: Which is the latter of 6 and 3? A:'''  # former is wrong\n",
    "\n",
    "# text = '''Q: 5 and 2, which is the former? A: 5.\n",
    "# Q: 7 and 9, which is the latter? A: 9.\n",
    "# Q: 1 and 7, Which is the latter? A: 7.\n",
    "# Q: 6 and 3. Which is the latter? A:'''\n",
    "\n",
    "# text = '''Q: 5, 3, 2. Which is the first? A: 5.\n",
    "# Q: 7, 9, 2. Which is the second? A: 9.\n",
    "# Q: 1, 4, 7. Which is the third? A: 7.\n",
    "# Q: 5, 4, 2. Which is the second? A:'''\n",
    "\n",
    "# text = '''Q: 5, 3, 3. How many 3s? A: 2.\n",
    "# Q: 4, 2, 7. How many 4s? A: 1.\n",
    "# Q: 1, 1, 1. How many 1s? A: 3.\n",
    "# Q: 2, 4, 2. How many 5s? A: 0.\n",
    "# Q: 6, 1, 6. How many 6s? A:'''\n",
    "\n",
    "text = texts[-1]"
   ]
  },
  {
   "cell_type": "code",
   "execution_count": 25,
   "metadata": {},
   "outputs": [
    {
     "name": "stdout",
     "output_type": "stream",
     "text": [
      "ĠX ĠX\n",
      "['<s>', '@Is', 'X', 'bigger', 'than', 'Y', '?', '<mask>', ',', 'X', 'is', 'bigger', '.', '</s>']\n",
      "['ĠYes', 'ĠNo', 'ĠYES', 'Ġyes', 'ĠWell']\n",
      "tensor([0.9040, 0.0563, 0.0084, 0.0056, 0.0027])\n",
      "ĠX ĠX\n",
      "['<s>', '@Is', 'X', 'bigger', 'than', 'Y', '?', '<mask>', ',', 'X', 'is', 'smaller', '.', '</s>']\n",
      "['ĠNo', 'ĠYes', 'Ġno', 'ĠNO', 'ĠWell']\n",
      "tensor([0.7831, 0.1600, 0.0118, 0.0100, 0.0024])\n",
      "ĠY ĠY\n",
      "['<s>', '@Is', 'X', 'bigger', 'than', 'Y', '?', '<mask>', ',', 'Y', 'is', 'bigger', '.', '</s>']\n",
      "['ĠYes', 'ĠNo', 'ĠYES', 'Ġno', 'ĠWell']\n",
      "tensor([0.5265, 0.4101, 0.0070, 0.0053, 0.0051])\n",
      "ĠY ĠY\n",
      "['<s>', '@Is', 'X', 'bigger', 'than', 'Y', '?', '<mask>', ',', 'Y', 'is', 'smaller', '.', '</s>']\n",
      "['ĠNo', 'ĠYes', 'Ġno', 'ĠNO', 'ĠWell']\n",
      "tensor([0.6096, 0.3209, 0.0099, 0.0068, 0.0049])\n"
     ]
    }
   ],
   "source": [
    "texts = [\n",
    "    'The ball does not fit into the box because the _ is larger than the _ .',\n",
    "    'The box can not hold the ball because the _ is small .',\n",
    "    'John borrowed money from Mary because she was rich .',\n",
    "    'John borrowed money from Mary because he was poor .',\n",
    "    'John beat Mary because he was strong .',\n",
    "    'John beat Mary because she was weak .',\n",
    "#     'John borrowed from Mary because she was rich .',\n",
    "    'John surpassed Mary because he was fast .',\n",
    "#     'John surpassed Mary because she was slow .',\n",
    "    'Thing X _broke thing Y because thing X was _brittle .',\n",
    "    'John is _taller than Mary means that Mary is _shorter than John .',\n",
    "    'John is _older than Mary means that Mary is _younger than John .',\n",
    "    'John is _stronger than Mary means that Mary is _weaker than John .',\n",
    "    'John is _old but Mary is _young .',\n",
    "    'John is old but Mary is _ .',\n",
    "    'John is rich but Mary is _ .',\n",
    "    'John is tall but Mary is _ .',\n",
    "#     'Husky is a kind of _ .',\n",
    "#     'Lark is a kind of _ .',\n",
    "#     'Ball A is * bigger than ball B and ball A is * bigger .',\n",
    "#     'Ball A is * bigger than ball B so ball B is * smaller .',\n",
    "#     'Ball A is * bigger than ball B and ball A is * heavier .',\n",
    "#     'Ball A is * bigger than ball B so ball B is * lighter .',\n",
    "#     'A * dog is a kind of * animal .',\n",
    "#     'An * apple is a kind of * fruit .',\n",
    "#     'What is a * dog ? It is a kind of * animal .',\n",
    "#     'What is an * apple ? It is a kind of * fruit .',\n",
    "    'Is * X bigger than Y ? _ , * X is bigger .',\n",
    "    'Is * X bigger than Y ? _ , * X is smaller .',\n",
    "    'Is X bigger than * Y ? _ , * Y is bigger .',\n",
    "    'Is X bigger than * Y ? _ , * Y is smaller .',\n",
    "#     'Is X smaller than Y ? _ , X is smaller .',\n",
    "]\n",
    "templates = [\n",
    "    'A * %s is a kind of * %s .',\n",
    "    'A %s is a kind of %s .',\n",
    "#     'What is an * %s ? It is a kind of * %s .',\n",
    "    'Is X %s than Y ? _, X is %s .',\n",
    "]\n",
    "pairs = [\n",
    "    ('dog', 'animal'),\n",
    "    ('banana', 'fruit'),\n",
    "    ('hammer', 'tool'),\n",
    "    ('gun', 'weapon'),\n",
    "#     ('dog', '_'),\n",
    "#     ('banana', '_'),\n",
    "#     ('hammer', '_'),\n",
    "#     ('gun', '_'),\n",
    "]\n",
    "# text = texts[-4: -2]\n",
    "all_attn_probs, idx_pairs, tokenses = [], [], []\n",
    "for text in texts[-4:]:\n",
    "# for pair in pairs[-4:]:\n",
    "#     text = templates[1] % pair\n",
    "    if mask_token is not None:\n",
    "        text = text.replace(' _ ', ' %s ' % mask_token)\n",
    "    tokens = tokenizer.convert_ids_to_tokens(tokenizer.encode(text, add_special_tokens=True))\n",
    "    tokens = ['*' if token in ['*', 'Ġ*'] else token for token in tokens]\n",
    "    marker = '*'\n",
    "    if marker in tokens:\n",
    "        assert tokens.count(marker) == 2, str(tokens)\n",
    "        p, h = [i for i, token in enumerate(tokens) if token == marker]\n",
    "        tokens = [token for token in tokens if token != marker]\n",
    "        h -= 1\n",
    "        print(tokens[p], tokens[h])\n",
    "        idx_pairs.append((p, h))\n",
    "    tokenses.append(tokens)\n",
    "    \n",
    "    token_ids = tokenizer.convert_tokens_to_ids(tokens)\n",
    "    pred_idx = [i for i, token in enumerate(tokens) if token == mask_token] if mask_token is not None else [-1]\n",
    "    tokens = ['@' + token if not token.startswith('Ġ') and token not in ['<s>', '</s>', '<mask>'] else token.replace('Ġ', '') \n",
    "              for token in tokens] \n",
    "    print(tokens)\n",
    "    \n",
    "    input_ids = torch.tensor([token_ids])\n",
    "    with torch.no_grad():\n",
    "        logits, attns = model(input_ids, output_attentions=True)\n",
    "        probs = F.softmax(logits, dim=-1)\n",
    "\n",
    "    for i in pred_idx:\n",
    "#         print(i)\n",
    "        top_probs, top_indexes = probs[0][i].topk(5)\n",
    "        top_tokens = tokenizer.convert_ids_to_tokens(top_indexes)\n",
    "        print(top_tokens)\n",
    "        print(top_probs)\n",
    "\n",
    "    attn_scores, attn_probs = zip(*attns)\n",
    "    attn_scores, attn_probs = torch.cat(attn_scores, dim=0), torch.cat(attn_probs, dim=0)\n",
    "    all_attn_probs.append(attn_probs)\n",
    "#     token_pairs.append((tokens[p].replace('Ġ', ''), tokens[h].replace('Ġ', '')))"
   ]
  },
  {
   "cell_type": "code",
   "execution_count": 41,
   "metadata": {},
   "outputs": [
    {
     "data": {
      "text/plain": [
       "3"
      ]
     },
     "execution_count": 41,
     "metadata": {},
     "output_type": "execute_result"
    }
   ],
   "source": [
    "tokenizer._convert_token_to_id('Ġfireman')"
   ]
  },
  {
   "cell_type": "code",
   "execution_count": 48,
   "metadata": {},
   "outputs": [
    {
     "data": {
      "text/plain": [
       "3"
      ]
     },
     "execution_count": 48,
     "metadata": {},
     "output_type": "execute_result"
    }
   ],
   "source": [
    "tokenizer._convert_token_to_id('<unk>')"
   ]
  },
  {
   "cell_type": "code",
   "execution_count": 24,
   "metadata": {},
   "outputs": [
    {
     "data": {
      "image/png": "[encoded data removed]",
      "text/plain": [
       "<Figure size 1152x432 with 4 Axes>"
      ]
     },
     "metadata": {
      "needs_background": "light"
     },
     "output_type": "display_data"
    }
   ],
   "source": [
    "fig, axs = plt.subplots(1,len(all_attn_probs),sharey=False, figsize=(4 * len(all_attn_probs), 6))\n",
    "for attn_probs, (p, h), tokens, ax in zip(all_attn_probs, idx_pairs, tokenses, axs):\n",
    "    ax = sns.heatmap(attn_probs[:, :, h, p], square=True, cbar=False, ax=ax)\n",
    "    ax.tick_params(top=True, labeltop=True)\n",
    "    ax.set_xlabel('%s - %s' % (tokens[p], tokens[h]))"
   ]
  },
  {
   "cell_type": "code",
   "execution_count": 290,
   "metadata": {},
   "outputs": [
    {
     "data": {
      "image/png": "[encoded data removed]",
      "text/plain": [
       "<Figure size 720x360 with 3 Axes>"
      ]
     },
     "metadata": {
      "needs_background": "light"
     },
     "output_type": "display_data"
    }
   ],
   "source": [
    "i = 0\n",
    "layer, head = 11, 5\n",
    "attn = all_attn_probs[i][layer, head]\n",
    "tokens = tokenses[i]\n",
    "size = round(attn.size(0) / 3)\n",
    "fig, (ax0, ax1) = plt.subplots(1, 2, figsize=(size  * 2., size), gridspec_kw={'width_ratios': [3, 1]})\n",
    "sns.heatmap((attn * 100).long(), square=True, cbar=False, annot=True, fmt='d', xticklabels=tokens, yticklabels=tokens, ax=ax0)\n",
    "plot_head_attn(attn, tokens, ax1=ax1) "
   ]
  },
  {
   "cell_type": "code",
   "execution_count": 161,
   "metadata": {},
   "outputs": [],
   "source": [
    "def plot_head_attn(attn, tokens, ax1=None):\n",
    "    assert attn.size(0) == attn.size(1) == len(tokens)\n",
    "#     fig = plt.figure(figsize=(4, round(attn.size(0) / 4)))\n",
    "    if ax1 is None: ax1 = plt.gca()\n",
    "    for i in range(attn.size(0)):\n",
    "        for j in range(attn.size(1)):\n",
    "            if j in [0, attn.size(1) - 1] or attn[i, j].item() < 0.2: continue\n",
    "            plt.plot([0, 1], [i, j], color='b', alpha=attn[i, j].item())\n",
    "    ax1.set_xticks([0, 1])\n",
    "    ax1.set_xlim(0, 1)\n",
    "    ax1.axes.xaxis.set_visible(False)\n",
    "\n",
    "    ax2 = ax1.twinx()\n",
    "    for ax in [ax1, ax2]: # has to duplicate axes to set color of yticklabel\n",
    "        ax.set_yticks(np.arange(attn.size(0)))\n",
    "        ax.set_yticklabels(tokens, fontsize=12)\n",
    "        for i, yticklabel in enumerate(ax.get_yticklabels()):\n",
    "            if i in [p, h]:\n",
    "                yticklabel.set_color('r')\n",
    "        ax.tick_params(length=0)\n",
    "        ax.set_ylim(attn.size(0) - 1, 0)\n",
    "\n",
    "        ax.spines['top'].set_visible(False)\n",
    "        ax.spines['right'].set_visible(False)\n",
    "        ax.spines['bottom'].set_visible(False)\n",
    "        ax.spines['left'].set_visible(False)\n",
    "    plt.show()"
   ]
  },
  {
   "cell_type": "code",
   "execution_count": 267,
   "metadata": {},
   "outputs": [
    {
     "name": "stderr",
     "output_type": "stream",
     "text": [
      "Setting `pad_token_id` to 50256 (first `eos_token_id`) to generate sequence\n"
     ]
    },
    {
     "name": "stdout",
     "output_type": "stream",
     "text": [
      "i i j j k k changes to i i j j l l.\n",
      "a a b b c c changes to a a b b d d.\n",
      "p p q q r r changes to p p q q r r r.\n",
      "a\n"
     ]
    }
   ],
   "source": [
    "output_sequences = model.generate(\n",
    "    input_ids=input_ids,\n",
    "    max_length=10 + len(input_ids[0]),\n",
    "    temperature=1.,\n",
    "    top_k=0,\n",
    "    top_p=0,\n",
    "    repetition_penalty=1,\n",
    "    do_sample=True,\n",
    "    num_return_sequences=1,\n",
    ")\n",
    "\n",
    "for s in output_sequences:\n",
    "    print(tokenizer.decode(s))"
   ]
  },
  {
   "cell_type": "code",
   "execution_count": 144,
   "metadata": {},
   "outputs": [],
   "source": [
    "lines = open(\"../data/semantic_relations/BATS_3.0/4_Lexicographic_semantics/antonyms_comparable.txt\").readlines()"
   ]
  },
  {
   "cell_type": "code",
   "execution_count": 73,
   "metadata": {},
   "outputs": [],
   "source": [
    "def comparative_in_vocab(word, unk_id=unk_id):\n",
    "    return all(tokenizer._convert_token_to_id('Ġ' + w) != unk_id for w in comparative(word).split())"
   ]
  },
  {
   "cell_type": "code",
   "execution_count": 276,
   "metadata": {},
   "outputs": [
    {
     "name": "stdout",
     "output_type": "stream",
     "text": [
      "more unlikely\n",
      "['It', 'Ġis', 'Ġmore', 'Ġunlikely', '.']\n"
     ]
    }
   ],
   "source": [
    "adj = 'unlikely'\n",
    "print(comparative(adj))\n",
    "print(tokenizer.tokenize('It is %s.' % comparative(adj)))"
   ]
  },
  {
   "cell_type": "code",
   "execution_count": 291,
   "metadata": {},
   "outputs": [
    {
     "name": "stdout",
     "output_type": "stream",
     "text": [
      "more uneasy\n",
      "['It', 'Ġis', 'Ġmore', 'Ġuneasy', '.']\n"
     ]
    }
   ],
   "source": [
    "import string\n",
    "def random_string_generator_variable_size(min_size=3, max_size=12, allowed_chars=string.ascii_lowercase):\n",
    "    return ''.join(random.choice(allowed_chars) for x in range(random.randint(min_size, max_size)))\n",
    "\n",
    "s = 'uneasy'\n",
    "print(comparative(s))\n",
    "print(tokenizer.tokenize('It is %s.' % comparative(s)))"
   ]
  },
  {
   "cell_type": "code",
   "execution_count": 145,
   "metadata": {
    "collapsed": true
   },
   "outputs": [
    {
     "name": "stdout",
     "output_type": "stream",
     "text": [
      "abundant ['tight', 'insufficient', 'deficient']\n",
      "beautiful ['grotesque', 'monstrous', 'hideous', 'awkward']\n",
      "big ['small', 'atomic', 'microscopic', 'micro', 'miniature']\n",
      "bright ['neutral', 'faded']\n",
      "cheap ['expensive']\n",
      "clear ['unclear', 'undefined']\n",
      "close ['distant', 'removed', 'far', '']\n",
      "colorful ['neutral', 'faded']\n",
      "common ['uncommon', 'extraordinary']\n",
      "competent ['incompetent', 'inefficient']\n",
      "concerned ['casual', 'detached', 'indifferent', 'careless']\n",
      "cooked ['natural']\n",
      "dangerous ['safe', 'harmless']\n",
      "decisive ['hesitant']\n",
      "energetic ['inactive']\n",
      "familiar ['unfamiliar', 'strange', 'unknown', 'foreign', 'strange', 'unknown']\n",
      "full ['stripped', 'clean', 'lifeless', 'looted', 'vacant']\n",
      "generous ['cheap', 'close', 'near', 'tight', 'selfish']\n",
      "happy ['melancholy', 'tragic']\n",
      "hard ['soft', 'brushed', 'padded', 'yielding', 'velvet']\n",
      "hot ['cold', 'cool']\n",
      "interesting ['boring', 'slow', 'tedious']\n",
      "large ['small', 'little', 'atomic', 'microscopic', 'micro', 'miniature']\n",
      "long ['short', 'shortened', 'clipped', 'fleeting', 'fugitive', 'close', 'shortened', 'compact', 'thick']\n",
      "normal ['abnormal', 'irregular', 'defective', 'unusual', 'exceptional', 'unnatural']\n",
      "rich ['poor', 'broke', 'impoverished']\n",
      "short ['tall', 'long']\n",
      "simple ['difficult', 'challenging', 'hard', 'complicated', 'demanding', 'daunting', 'taxing']\n",
      "slow ['fast', 'quick', 'accelerated', 'hot', 'express', 'immediate', 'quick', 'instantaneous', 'instant', 'rapid']\n",
      "tight ['liberal', 'informal', 'unofficial']\n",
      "warm ['cool', 'cold', 'cool']\n",
      "wide ['narrow', 'narrowing', 'narrowed', 'thin', 'limited']\n",
      "willing ['unwilling', 'involuntary', 'backward', 'hesitant', 'reluctant']\n",
      "young ['old', 'aged', 'elderly', 'senior', 'aging', 'ageing', 'ancient', 'darkened', 'venerable', 'experienced', 'senior']\n",
      "34\n"
     ]
    }
   ],
   "source": [
    "# lines = [line.strip() for line in lines if '\\t' in line]\n",
    "unk_id = tokenizer._convert_token_to_id('<unk>')\n",
    "groups0 = []\n",
    "for line in lines:\n",
    "    head, tails = line.split()\n",
    "    tails = tails.split('/')\n",
    "    if comparative_in_vocab(head):\n",
    "        tails = [tail for tail in tails if comparative_in_vocab(tail)]\n",
    "        if len(tails) > 0:\n",
    "            print(head, tails)\n",
    "            groups0.append([head, tails[:2]])\n",
    "print(len(groups0))"
   ]
  },
  {
   "cell_type": "code",
   "execution_count": 146,
   "metadata": {},
   "outputs": [],
   "source": [
    "lines = open(\"../data/semantic_relations/am-for-bert/dataset/antonyms_comparable.txt\").readlines()"
   ]
  },
  {
   "cell_type": "code",
   "execution_count": 147,
   "metadata": {
    "collapsed": true
   },
   "outputs": [
    {
     "name": "stdout",
     "output_type": "stream",
     "text": [
      "new ['old']\n",
      "many ['few']\n",
      "high ['low']\n",
      "general ['specific']\n",
      "international ['national']\n",
      "local ['national']\n",
      "small ['big', 'large']\n",
      "large ['little', 'small']\n",
      "much ['little']\n",
      "old ['young']\n",
      "few ['many']\n",
      "popular ['unpopular']\n",
      "young ['old']\n",
      "northern ['southern']\n",
      "married ['unmarried']\n",
      "southern ['northern']\n",
      "little ['big', 'large']\n",
      "good ['bad']\n",
      "available ['unavailable']\n",
      "successful ['unsuccessful']\n",
      "natural ['unnatural']\n",
      "big ['little', 'small']\n",
      "strong ['weak']\n",
      "limited ['unlimited']\n",
      "low ['high']\n",
      "foreign ['domestic']\n",
      "related ['unrelated']\n",
      "legal ['illegal']\n",
      "specific ['general']\n",
      "hard ['easy']\n",
      "likely ['unlikely']\n",
      "clear ['unclear']\n",
      "difficult ['easy']\n",
      "rural ['urban']\n",
      "potential ['actual']\n",
      "normal ['abnormal']\n",
      "necessary ['unnecessary']\n",
      "nuclear ['conventional']\n",
      "bad ['good']\n",
      "positive ['negative']\n",
      "internal ['external']\n",
      "effective ['ineffective']\n",
      "actual ['potential']\n",
      "rich ['poor']\n",
      "domestic ['foreign']\n",
      "formal ['informal']\n",
      "external ['internal']\n",
      "easy ['difficult']\n",
      "affected ['unaffected']\n",
      "experienced ['inexperienced']\n",
      "unusual ['usual']\n",
      "safe ['dangerous']\n",
      "instrumental ['vocal']\n",
      "illegal ['legal']\n",
      "happy ['unhappy']\n",
      "vocal ['instrumental']\n",
      "dangerous ['safe']\n",
      "civilian ['military']\n",
      "conventional ['unconventional']\n",
      "unsuccessful ['successful']\n",
      "soft ['hard']\n",
      "usual ['unusual']\n",
      "endemic ['epidemic']\n",
      "ordinary ['extraordinary']\n",
      "vertical ['inclined']\n",
      "automatic ['manual']\n",
      "weak ['strong']\n",
      "accessible ['inaccessible']\n",
      "artificial ['natural']\n",
      "familiar ['unfamiliar']\n",
      "emotional ['cerebral']\n",
      "theoretical ['empirical']\n",
      "eligible ['ineligible']\n",
      "willing ['unwilling']\n",
      "valid ['invalid']\n",
      "extraordinary ['ordinary']\n",
      "sudden ['gradual']\n",
      "voluntary ['involuntary']\n",
      "informal ['formal']\n",
      "reasonable ['unreasonable']\n",
      "compatible ['incompatible']\n",
      "acceptable ['unacceptable']\n",
      "comfortable ['uncomfortable']\n",
      "uncommon ['common']\n",
      "rational ['irrational']\n",
      "supernatural ['natural']\n",
      "unrelated ['related']\n",
      "unconscious ['conscious']\n",
      "homosexual ['bisexual']\n",
      "induced ['spontaneous']\n",
      "unlimited ['limited']\n",
      "unhappy ['happy']\n",
      "gradual ['sudden']\n",
      "unpopular ['popular']\n",
      "epidemic ['endemic']\n",
      "unnecessary ['necessary']\n",
      "empirical ['theoretical']\n",
      "peripheral ['central']\n",
      "unwilling ['willing']\n",
      "spontaneous ['induced']\n",
      "inexpensive ['expensive']\n",
      "unavailable ['available']\n",
      "ineffective ['effective']\n",
      "cerebral ['emotional']\n",
      "invalid ['valid']\n",
      "unconstitutional ['constitutional']\n",
      "abnormal ['normal']\n",
      "unmarried ['married']\n",
      "bisexual ['heterosexual']\n",
      "uncomfortable ['comfortable']\n",
      "unconventional ['conventional']\n",
      "incompatible ['compatible']\n",
      "lawful ['unlawful']\n",
      "undesirable ['desirable']\n",
      "heterosexual ['homosexual']\n",
      "unfamiliar ['familiar']\n",
      "ineligible ['eligible']\n",
      "inexperienced ['experienced']\n",
      "unpredictable ['predictable']\n",
      "predictable ['unpredictable']\n",
      "inaccessible ['accessible']\n",
      "affirmative ['negative']\n",
      "impractical ['practical']\n",
      "adoptive ['biological']\n",
      "unaffected ['affected']\n",
      "unequal ['equal']\n",
      "irrational ['rational']\n",
      "involuntary ['voluntary']\n",
      "uneasy ['easy']\n",
      "immoral ['moral']\n",
      "unconditional ['conditional']\n",
      "unfavorable ['favorable']\n",
      "unnatural ['natural']\n",
      "unreasonable ['reasonable']\n",
      "unrealistic ['realistic']\n",
      "impartial ['partial']\n",
      "unhealthy ['healthy']\n",
      "irresponsible ['responsible']\n",
      "unprepared ['prepared']\n",
      "insensitive ['sensitive']\n",
      "unethical ['ethical']\n",
      "frivolous ['serious']\n",
      "pessimistic ['optimistic']\n",
      "believable ['incredible']\n",
      "144\n"
     ]
    }
   ],
   "source": [
    "groups1 = []\n",
    "for line in lines:\n",
    "    parts = line.split()\n",
    "    assert len(parts) in [7, 9], line\n",
    "    if len(parts) == 7:\n",
    "        _, subset, head, head_info, relation, tail, tail_info = parts\n",
    "        tails = [tail]\n",
    "    else:\n",
    "        _, subset, head, head_info, relation, tail, tail_info, tail2, tail2_info = parts\n",
    "        tails = [tail, tail2]\n",
    "    assert relation == 'antonym'\n",
    "    if comparative_in_vocab(head):\n",
    "        tails = [tail for tail in tails if comparative_in_vocab(tail)]\n",
    "        if len(tails) > 0:\n",
    "            print(head, tails)\n",
    "            groups1.append([head, tails])\n",
    "print(len(groups1))"
   ]
  },
  {
   "cell_type": "code",
   "execution_count": 148,
   "metadata": {
    "collapsed": true
   },
   "outputs": [
    {
     "name": "stdout",
     "output_type": "stream",
     "text": [
      "['small', ['big', 'large']] dropped\n",
      "['large', ['little', 'small']] dropped\n",
      "['old', ['young']] dropped\n",
      "['young', ['old']] dropped\n",
      "['little', ['big', 'large']] ['large', ['small', 'little']] +\n",
      "[['big', ['small', 'little']]]\n",
      "['little', ['big', 'large']] dropped\n",
      "['natural', ['unnatural']] ['cooked', ['natural']] +\n",
      "[['unnatural', ['natural']]]\n",
      "['natural', ['unnatural']] dropped\n",
      "['big', ['little', 'small']] ['big', ['small', 'atomic']] ->\n",
      "['big', ['little', 'small']]\n",
      "['big', ['little', 'small']] dropped\n",
      "['hard', ['easy']] ['hard', ['soft', 'brushed']] ->\n",
      "['hard', ['easy', 'soft']]\n",
      "['hard', ['easy']] dropped\n",
      "['clear', ['unclear']] dropped\n",
      "['difficult', ['easy']] ['simple', ['difficult', 'challenging']] +\n",
      "[['easy', ['difficult', 'challenging']]]\n",
      "['difficult', ['easy']] dropped\n",
      "['normal', ['abnormal']] dropped\n",
      "['rich', ['poor']] dropped\n",
      "['easy', ['difficult']] ['hard', ['easy', 'soft']] +\n",
      "[['difficult', ['easy', 'soft']]]\n",
      "['easy', ['difficult']] dropped\n",
      "['safe', ['dangerous']] dropped\n",
      "['happy', ['unhappy']] ['happy', ['melancholy', 'tragic']] ->\n",
      "['happy', ['unhappy', 'melancholy']]\n",
      "['happy', ['unhappy']] dropped\n",
      "['dangerous', ['safe']] dropped\n",
      "['soft', ['hard']] dropped\n",
      "['familiar', ['unfamiliar']] dropped\n",
      "['willing', ['unwilling']] dropped\n",
      "['extraordinary', ['ordinary']] ['common', ['uncommon', 'extraordinary']] +\n",
      "[['ordinary', ['uncommon', 'extraordinary']]]\n",
      "['extraordinary', ['ordinary']] dropped\n",
      "['informal', ['formal']] ['tight', ['liberal', 'informal']] +\n",
      "[['formal', ['liberal', 'informal']]]\n",
      "['informal', ['formal']] dropped\n",
      "['uncommon', ['common']] dropped\n",
      "['unhappy', ['happy']] dropped\n",
      "['unwilling', ['willing']] dropped\n",
      "['abnormal', ['normal']] dropped\n",
      "['unfamiliar', ['familiar']] dropped\n",
      "['involuntary', ['voluntary']] ['willing', ['unwilling', 'involuntary']] +\n",
      "[['voluntary', ['unwilling', 'involuntary']]]\n",
      "['involuntary', ['voluntary']] dropped\n",
      "117 7\n"
     ]
    }
   ],
   "source": [
    "new_groups1, added_groups0 = [], []\n",
    "for group1 in groups1:\n",
    "    head1, tails1 = group1\n",
    "    drop = False\n",
    "    for group0 in groups0:\n",
    "        head0, tails0 = group0\n",
    "        if head1 == head0 or head1 in tails0:\n",
    "            if head1 == head0 and not set(tails1).issubset(set(tails0)):\n",
    "                print(group1, group0, '->', end=' ')\n",
    "                for t in tails1:\n",
    "                    if t not in tails0:\n",
    "                        tails0.insert(0, t)\n",
    "                group0[1] = tails0[:2]\n",
    "                print(group0)\n",
    "            elif head1 in tails0:\n",
    "                new_heads0 = set(tails1) - set(head for head, tails in groups0 if head1 in tails)\n",
    "                if len(new_heads0) > 0:\n",
    "                    print(group1, group0, '+', end=' ')\n",
    "                    added_group0 = [[head, tails0] for head in new_heads0]\n",
    "                    added_groups0 += added_group0\n",
    "                    print(added_group0)\n",
    "            drop = True\n",
    "            break\n",
    "    if not drop:\n",
    "        new_groups1.append(group1)\n",
    "    else:\n",
    "        print(group1, 'dropped')\n",
    "groups0 += added_groups0\n",
    "print(len(new_groups1), len(added_groups0))"
   ]
  },
  {
   "cell_type": "code",
   "execution_count": 163,
   "metadata": {
    "scrolled": false
   },
   "outputs": [
    {
     "data": {
      "text/plain": [
       "[[['new'], ['old']],\n",
       " [['many'], ['few']],\n",
       " [['high'], ['low']],\n",
       " [['general'], ['specific']],\n",
       " [['international'], ['national']],\n",
       " [['local'], ['national']],\n",
       " [['much'], ['little']],\n",
       " [['few'], ['many']],\n",
       " [['popular'], ['unpopular']],\n",
       " [['northern'], ['southern']],\n",
       " [['married'], ['unmarried']],\n",
       " [['southern'], ['northern']],\n",
       " [['good'], ['bad']],\n",
       " [['available'], ['unavailable']],\n",
       " [['successful'], ['unsuccessful']],\n",
       " [['strong'], ['weak']],\n",
       " [['limited'], ['unlimited']],\n",
       " [['low'], ['high']],\n",
       " [['foreign'], ['domestic']],\n",
       " [['related'], ['unrelated']],\n",
       " [['legal'], ['illegal']],\n",
       " [['specific'], ['general']],\n",
       " [['likely'], ['unlikely']],\n",
       " [['rural'], ['urban']],\n",
       " [['potential'], ['actual']],\n",
       " [['necessary'], ['unnecessary']],\n",
       " [['nuclear'], ['conventional']],\n",
       " [['bad'], ['good']],\n",
       " [['positive'], ['negative']],\n",
       " [['internal'], ['external']],\n",
       " [['effective'], ['ineffective']],\n",
       " [['actual'], ['potential']],\n",
       " [['domestic'], ['foreign']],\n",
       " [['formal'], ['informal']],\n",
       " [['external'], ['internal']],\n",
       " [['affected'], ['unaffected']],\n",
       " [['experienced'], ['inexperienced']],\n",
       " [['unusual'], ['usual']],\n",
       " [['instrumental'], ['vocal']],\n",
       " [['illegal'], ['legal']],\n",
       " [['vocal'], ['instrumental']],\n",
       " [['civilian'], ['military']],\n",
       " [['conventional'], ['unconventional']],\n",
       " [['unsuccessful'], ['successful']],\n",
       " [['usual'], ['unusual']],\n",
       " [['endemic'], ['epidemic']],\n",
       " [['ordinary'], ['extraordinary']],\n",
       " [['vertical'], ['inclined']],\n",
       " [['automatic'], ['manual']],\n",
       " [['weak'], ['strong']],\n",
       " [['accessible'], ['inaccessible']],\n",
       " [['artificial'], ['natural']],\n",
       " [['emotional'], ['cerebral']],\n",
       " [['theoretical'], ['empirical']],\n",
       " [['eligible'], ['ineligible']],\n",
       " [['valid'], ['invalid']],\n",
       " [['sudden'], ['gradual']],\n",
       " [['voluntary'], ['involuntary']],\n",
       " [['reasonable'], ['unreasonable']],\n",
       " [['compatible'], ['incompatible']],\n",
       " [['acceptable'], ['unacceptable']],\n",
       " [['comfortable'], ['uncomfortable']],\n",
       " [['rational'], ['irrational']],\n",
       " [['supernatural'], ['natural']],\n",
       " [['unrelated'], ['related']],\n",
       " [['unconscious'], ['conscious']],\n",
       " [['homosexual'], ['bisexual']],\n",
       " [['induced'], ['spontaneous']],\n",
       " [['unlimited'], ['limited']],\n",
       " [['gradual'], ['sudden']],\n",
       " [['unpopular'], ['popular']],\n",
       " [['epidemic'], ['endemic']],\n",
       " [['unnecessary'], ['necessary']],\n",
       " [['empirical'], ['theoretical']],\n",
       " [['peripheral'], ['central']],\n",
       " [['spontaneous'], ['induced']],\n",
       " [['inexpensive'], ['expensive']],\n",
       " [['unavailable'], ['available']],\n",
       " [['ineffective'], ['effective']],\n",
       " [['cerebral'], ['emotional']],\n",
       " [['invalid'], ['valid']],\n",
       " [['unconstitutional'], ['constitutional']],\n",
       " [['unmarried'], ['married']],\n",
       " [['bisexual'], ['heterosexual']],\n",
       " [['uncomfortable'], ['comfortable']],\n",
       " [['unconventional'], ['conventional']],\n",
       " [['incompatible'], ['compatible']],\n",
       " [['lawful'], ['unlawful']],\n",
       " [['undesirable'], ['desirable']],\n",
       " [['heterosexual'], ['homosexual']],\n",
       " [['ineligible'], ['eligible']],\n",
       " [['inexperienced'], ['experienced']],\n",
       " [['unpredictable'], ['predictable']],\n",
       " [['predictable'], ['unpredictable']],\n",
       " [['inaccessible'], ['accessible']],\n",
       " [['affirmative'], ['negative']],\n",
       " [['impractical'], ['practical']],\n",
       " [['adoptive'], ['biological']],\n",
       " [['unaffected'], ['affected']],\n",
       " [['unequal'], ['equal']],\n",
       " [['irrational'], ['rational']],\n",
       " [['uneasy'], ['easy']],\n",
       " [['immoral'], ['moral']],\n",
       " [['unconditional'], ['conditional']],\n",
       " [['unfavorable'], ['favorable']],\n",
       " [['unnatural'], ['natural']],\n",
       " [['unreasonable'], ['reasonable']],\n",
       " [['unrealistic'], ['realistic']],\n",
       " [['impartial'], ['partial']],\n",
       " [['unhealthy'], ['healthy']],\n",
       " [['irresponsible'], ['responsible']],\n",
       " [['unprepared'], ['prepared']],\n",
       " [['insensitive'], ['sensitive']],\n",
       " [['unethical'], ['ethical']],\n",
       " [['frivolous'], ['serious']],\n",
       " [['pessimistic'], ['optimistic']],\n",
       " [['believable'], ['incredible']]]"
      ]
     },
     "execution_count": 163,
     "metadata": {},
     "output_type": "execute_result"
    }
   ],
   "source": [
    "[[[head], tails] for head, tails in new_groups1]"
   ]
  },
  {
   "cell_type": "code",
   "execution_count": 160,
   "metadata": {},
   "outputs": [
    {
     "data": {
      "text/plain": [
       "[[['abundant'], ['tight', 'insufficient']],\n",
       " [['beautiful'], ['grotesque', 'monstrous']],\n",
       " [['big'], ['little', 'small']],\n",
       " [['bright'], ['neutral', 'faded']],\n",
       " [['cheap'], ['expensive']],\n",
       " [['clear'], ['unclear', 'undefined']],\n",
       " [['close'], ['distant', 'removed']],\n",
       " [['colorful'], ['neutral', 'faded']],\n",
       " [['common'], ['uncommon', 'extraordinary']],\n",
       " [['competent'], ['incompetent', 'inefficient']],\n",
       " [['concerned'], ['casual', 'detached']],\n",
       " [['cooked'], ['natural']],\n",
       " [['dangerous'], ['safe', 'harmless']],\n",
       " [['decisive'], ['hesitant']],\n",
       " [['energetic'], ['inactive']],\n",
       " [['familiar'], ['unfamiliar', 'strange']],\n",
       " [['full'], ['stripped', 'clean']],\n",
       " [['generous'], ['cheap', 'close']],\n",
       " [['happy'], ['unhappy', 'melancholy']],\n",
       " [['hard'], ['easy', 'soft']],\n",
       " [['hot'], ['cold', 'cool']],\n",
       " [['interesting'], ['boring', 'slow']],\n",
       " [['large'], ['small', 'little']],\n",
       " [['long'], ['short', 'shortened']],\n",
       " [['normal'], ['abnormal', 'irregular']],\n",
       " [['rich'], ['poor', 'broke']],\n",
       " [['short'], ['tall', 'long']],\n",
       " [['simple'], ['difficult', 'challenging']],\n",
       " [['slow'], ['fast', 'quick']],\n",
       " [['tight'], ['liberal', 'informal']],\n",
       " [['warm'], ['cool', 'cold']],\n",
       " [['wide'], ['narrow', 'narrowing']],\n",
       " [['willing'], ['unwilling', 'involuntary']],\n",
       " [['young'], ['old', 'aged']],\n",
       " [['big'], ['small', 'little']],\n",
       " [['unnatural'], ['natural']],\n",
       " [['easy'], ['difficult', 'challenging']],\n",
       " [['difficult'], ['easy', 'soft']],\n",
       " [['ordinary'], ['uncommon', 'extraordinary']],\n",
       " [['formal'], ['liberal', 'informal']],\n",
       " [['voluntary'], ['unwilling', 'involuntary']]]"
      ]
     },
     "execution_count": 160,
     "metadata": {},
     "output_type": "execute_result"
    }
   ],
   "source": [
    "[[[head], tails] for head, tails in groups0]"
   ]
  },
  {
   "cell_type": "code",
   "execution_count": 381,
   "metadata": {},
   "outputs": [],
   "source": [
    "def first(): return 0\n",
    "def last(): return -1\n",
    "def middle(): return \n",
    "\n",
    "def _inc(val):\n",
    "    return str((int(val) + 1) % 10) if val.isdigit() else next_alpha(val)\n",
    "\n",
    "def _dec(val):\n",
    "    return str((int(val) - 1) % 10) if val.isdigit() else prev_alpha(val)\n",
    "\n",
    "def inc(pos, val):\n",
    "    if type(val) == list:\n",
    "        return pos, list(map(_inc, val))\n",
    "    return pos, _inc(val)\n",
    "\n",
    "def dec(pos, val):\n",
    "    if type(val) == list:\n",
    "        return pos, list(map(_dec, val))\n",
    "    return pos, _dec(val)\n",
    "\n",
    "def upper(x): return x.upper()\n",
    "def lower(x): return x.lower()\n",
    "\n"
   ]
  },
  {
   "cell_type": "code",
   "execution_count": 387,
   "metadata": {},
   "outputs": [],
   "source": [
    "def twice(pos, val):\n",
    "    val =  val * 2 if type(val) == list else [val] * 2\n",
    "    return pos, val\n",
    "\n",
    "def thrice(item):\n",
    "    val =  val * 3 if type(val) == list else [val] * 3\n",
    "    return pos, val"
   ]
  },
  {
   "cell_type": "code",
   "execution_count": 390,
   "metadata": {},
   "outputs": [
    {
     "data": {
      "text/plain": [
       "(0, ['a', 'a', 'a', 'a'])"
      ]
     },
     "execution_count": 390,
     "metadata": {},
     "output_type": "execute_result"
    }
   ],
   "source": [
    "twice(0, ['a', 'a'])"
   ]
  },
  {
   "cell_type": "code",
   "execution_count": 351,
   "metadata": {},
   "outputs": [],
   "source": [
    "def next_alpha(s):\n",
    "    assert len(s) == 1 and s.isalpha()\n",
    "    start = ord('A') if s.isupper() else ord('a')\n",
    "    return chr((ord(s) + 1 - start) % 26 + start)\n",
    "\n",
    "def prev_alpha(s):\n",
    "    assert len(s) == 1 and s.isalpha()\n",
    "    start = ord('A') if s.isupper() else ord('a')\n",
    "    return chr((ord(s) - 1 - start + 26) % 26 + start)"
   ]
  },
  {
   "cell_type": "code",
   "execution_count": 354,
   "metadata": {},
   "outputs": [
    {
     "data": {
      "text/plain": [
       "'Z'"
      ]
     },
     "execution_count": 354,
     "metadata": {},
     "output_type": "execute_result"
    }
   ],
   "source": [
    "prev_alpha('A')"
   ]
  }
 ],
 "metadata": {
  "kernelspec": {
   "display_name": "Python 3",
   "language": "python",
   "name": "python3"
  },
  "language_info": {
   "codemirror_mode": {
    "name": "ipython",
    "version": 3
   },
   "file_extension": ".py",
   "mimetype": "text/x-python",
   "name": "python",
   "nbconvert_exporter": "python",
   "pygments_lexer": "ipython3",
   "version": "3.7.5"
  }
 },
 "nbformat": 4,
 "nbformat_minor": 4
}
