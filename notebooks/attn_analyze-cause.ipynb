{
 "cells": [
  {
   "cell_type": "code",
   "execution_count": 8,
   "metadata": {},
   "outputs": [
    {
     "name": "stdout",
     "output_type": "stream",
     "text": [
      "The autoreload extension is already loaded. To reload it, use:\n",
      "  %reload_ext autoreload\n"
     ]
    }
   ],
   "source": [
    "%load_ext autoreload\n",
    "%autoreload 2\n",
    "\n",
    "# from IPython.core.interactiveshell import InteractiveShell\n",
    "# InteractiveShell.ast_node_interactivity = 'all'"
   ]
  },
  {
   "cell_type": "code",
   "execution_count": 9,
   "metadata": {},
   "outputs": [],
   "source": [
    "import numpy as np\n",
    "import json\n",
    "from random import sample\n",
    "\n",
    "import matplotlib.pyplot as plt\n",
    "import seaborn as sns\n",
    "\n",
    "from tqdm import tqdm"
   ]
  },
  {
   "cell_type": "code",
   "execution_count": 10,
   "metadata": {},
   "outputs": [],
   "source": [
    "import torch\n",
    "import torch.nn.functional as F\n",
    "\n",
    "from transformers import *"
   ]
  },
  {
   "cell_type": "code",
   "execution_count": 11,
   "metadata": {},
   "outputs": [],
   "source": [
    "models = {}"
   ]
  },
  {
   "cell_type": "code",
   "execution_count": 12,
   "metadata": {},
   "outputs": [
    {
     "name": "stderr",
     "output_type": "stream",
     "text": [
      "Some weights of RobertaForMaskedLM were not initialized from the model checkpoint at roberta-base and are newly initialized: ['lm_head.decoder.bias']\n",
      "You should probably TRAIN this model on a down-stream task to be able to use it for predictions and inference.\n"
     ]
    }
   ],
   "source": [
    "model_class, tokenizer_class, shortcut, mask_token = RobertaForMaskedLM, RobertaTokenizer, 'roberta-base', '<mask>'\n",
    "model, tokenizer = model_class.from_pretrained(shortcut), tokenizer_class.from_pretrained(shortcut)\n",
    "models[shortcut] = (model, tokenizer, mask_token)"
   ]
  },
  {
   "cell_type": "code",
   "execution_count": 13,
   "metadata": {},
   "outputs": [
    {
     "name": "stderr",
     "output_type": "stream",
     "text": [
      "Some weights of RobertaForMaskedLM were not initialized from the model checkpoint at roberta-large and are newly initialized: ['lm_head.decoder.bias']\n",
      "You should probably TRAIN this model on a down-stream task to be able to use it for predictions and inference.\n"
     ]
    }
   ],
   "source": [
    "model_class, tokenizer_class, shortcut, mask_token = RobertaForMaskedLM, RobertaTokenizer, 'roberta-large', '<mask>'\n",
    "model, tokenizer = model_class.from_pretrained(shortcut), tokenizer_class.from_pretrained(shortcut)\n",
    "models[shortcut] = (model, tokenizer, mask_token)"
   ]
  },
  {
   "cell_type": "code",
   "execution_count": 78,
   "metadata": {},
   "outputs": [],
   "source": [
    "model_class, tokenizer_class, shortcut, mask_token = GPT2LMHeadModel, GPT2Tokenizer, 'gpt2', None\n",
    "model, tokenizer = model_class.from_pretrained(shortcut), tokenizer_class.from_pretrained(shortcut)\n",
    "models[shortcut] = (model, tokenizer, mask_token)"
   ]
  },
  {
   "cell_type": "code",
   "execution_count": 21,
   "metadata": {},
   "outputs": [],
   "source": [
    "model_class, tokenizer_class, shortcut, mask_token = GPT2LMHeadModel, GPT2Tokenizer, 'gpt2-large', None\n",
    "model, tokenizer = model_class.from_pretrained(shortcut), tokenizer_class.from_pretrained(shortcut)\n",
    "models[shortcut] = (model, tokenizer, mask_token)"
   ]
  },
  {
   "cell_type": "code",
   "execution_count": 48,
   "metadata": {},
   "outputs": [],
   "source": [
    "model_class, tokenizer_class, shortcut, mask_token = GPT2LMHeadModel, GPT2Tokenizer, 'gpt2-xl', None\n",
    "model, tokenizer = model_class.from_pretrained(shortcut), tokenizer_class.from_pretrained(shortcut)\n",
    "models[shortcut] = (model, tokenizer, mask_token)"
   ]
  },
  {
   "cell_type": "code",
   "execution_count": 14,
   "metadata": {},
   "outputs": [],
   "source": [
    "model, tokenizer, mask_token = models['roberta-large']"
   ]
  },
  {
   "cell_type": "code",
   "execution_count": 15,
   "metadata": {},
   "outputs": [],
   "source": [
    "import re\n",
    "import pandas as pd\n",
    "import collections\n",
    "import os\n",
    "import nltk"
   ]
  },
  {
   "cell_type": "code",
   "execution_count": 216,
   "metadata": {},
   "outputs": [
    {
     "name": "stdout",
     "output_type": "stream",
     "text": [
      "{'advertise': ['promote'], 'assault': ['injure'], 'bathe': ['clean'], 'breathe': ['live'], 'burnish': ['shine'], 'buy': ['own'], 'cook': ['eat'], 'drive': ['arrive'], 'exercise': ['healthy'], 'fight': ['defend', 'win'], 'flirt': ['seduce'], 'ignite': ['burn'], 'jog': ['exercise'], 'learn': ['study'], 'light': ['illumination'], 'listen': ['enjoy', 'hear'], 'play': ['enjoy'], 'purchase': ['possess'], 'reach': ['hold'], 'read': ['know', 'learn'], 'run': ['exercise'], 'shoot': ['kill'], 'shop': ['purchase'], 'sleep': ['rest'], 'spank': ['punish'], 'speak': ['communicate', 'express'], 'starving': ['hungry'], 'steal': ['gain'], 'study': ['learn'], 'trim': ['shorten'], 'wash': ['clean'], 'work': ['earn']}\n"
     ]
    }
   ],
   "source": [
    "# # 处理因果关系->causes_dict\n",
    "# DiffVec\n",
    "filename = 'diffvec_word_pairs_final.SEMBLESS.csv'\n",
    "file_colname=['relation','word1','word2']\n",
    "df = pd.read_csv(filename,header=None,names=file_colname)\n",
    "df = df[df['relation'].str.contains('CAUSE')]\n",
    "#df\n",
    "\n",
    "# 为每一种 CAUSE 创建一个句式\n",
    "# 为各个类型创建字典\n",
    "effect = {}\n",
    "action_goal = {}\n",
    "enablingAgent_object = {}\n",
    "prevention = {}\n",
    "agent_goal = {}\n",
    "instrument_goal = {}\n",
    "compensatory_action = {}\n",
    "instrument = {}\n",
    "\n",
    "cause_class = {\n",
    "    'CAUSE-PURPOSE$Cause:Effect':effect,\n",
    "    'CAUSE-PURPOSE$Action/Activity:Goal':action_goal,\n",
    "    'CAUSE-PURPOSE$EnablingAgent:Object':enablingAgent_object,\n",
    "    'CAUSE-PURPOSE$Prevention':prevention,\n",
    "    'CAUSE-PURPOSE$Agent:Goal':agent_goal,\n",
    "    'CAUSE-PURPOSE$Instrument:Goal':instrument_goal,\n",
    "    'CAUSE-PURPOSE$Cause:CompensatoryAction':compensatory_action,\n",
    "    'CAUSE-PURPOSE$Instrument:IntendedAction':instrument\n",
    "}\n",
    "\n",
    "\n",
    "for index, row in df.iterrows():\n",
    "    # 先判断是否是已经存在的 key\n",
    "    if (row['word1'] in cause_class[row['relation']].keys()):\n",
    "        cause_class[row['relation']][row['word1']].append(row['word2'])\n",
    "    else:\n",
    "        cause_class[row['relation']][row['word1']] = [row['word2']]\n",
    "\n",
    "result_dict = {}\n",
    "for key,value in cause_class.items():\n",
    "    result_dict.update(value)\n",
    "#print(result_dict)\n",
    "print(cause_class['CAUSE-PURPOSE$Action/Activity:Goal'])"
   ]
  },
  {
   "cell_type": "code",
   "execution_count": 182,
   "metadata": {},
   "outputs": [
    {
     "name": "stdout",
     "output_type": "stream",
     "text": [
      "36\n"
     ]
    }
   ],
   "source": [
    "# 把dict的词替换到句子模板\n",
    "templates = {\n",
    "    'CAUSE-PURPOSE$Cause:Effect':'* _ causes * = .',\n",
    "    'CAUSE-PURPOSE$Action/Activity:Goal':'* _ leads to * = .',\n",
    "    'CAUSE-PURPOSE$EnablingAgent:Object':'Without * _ , * = can not work .',\n",
    "    'CAUSE-PURPOSE$Prevention':'* _ can prevent * = .',\n",
    "    'CAUSE-PURPOSE$Agent:Goal':'The goal of * _ is * = .',\n",
    "    'CAUSE-PURPOSE$Instrument:Goal':'The goal of * _ is to provide * = .',\n",
    "    'CAUSE-PURPOSE$Cause:CompensatoryAction':'* _ can be relieved by * = .',\n",
    "    'CAUSE-PURPOSE$Instrument:IntendedAction':'A * _ is used to * = .'\n",
    "}\n",
    "\n",
    "texts = []\n",
    "\n",
    "data = cause_class['CAUSE-PURPOSE$Action/Activity:Goal']\n",
    "one = templates['CAUSE-PURPOSE$Action/Activity:Goal']\n",
    "for (key,value) in data.items():\n",
    "        #print(key,value)\n",
    "        #print('=========================================')\n",
    "    for word in value:\n",
    "            example = one.replace('_', key).replace('=', word)\n",
    "            texts.append(example)\n",
    "        \n",
    "print(len(texts))\n"
   ]
  },
  {
   "cell_type": "code",
   "execution_count": 183,
   "metadata": {},
   "outputs": [
    {
     "name": "stderr",
     "output_type": "stream",
     "text": [
      "100%|██████████| 36/36 [00:02<00:00, 12.20it/s]\n"
     ]
    }
   ],
   "source": [
    "# 得到attention值\n",
    "all_attn_probs, idx_pairs, tokenses = [], [], []\n",
    "for text in tqdm(texts):\n",
    "    if mask_token is not None:\n",
    "        text = text.replace(' _ ', ' %s ' % mask_token)\n",
    "    tokens = tokenizer.convert_ids_to_tokens(tokenizer.encode(text, add_special_tokens=True))\n",
    "    tokens = ['*' if token in ['*', 'Ġ*'] else token for token in tokens]\n",
    "    marker = '*'\n",
    "    if marker in tokens:\n",
    "        assert tokens.count(marker) == 2, str(tokens)\n",
    "        p, h = [i for i, token in enumerate(tokens) if token == marker]\n",
    "        tokens = [token for token in tokens if token != marker]\n",
    "        h -= 1\n",
    "        #print(tokens[p], tokens[h])\n",
    "    token_ids = tokenizer.convert_tokens_to_ids(tokens)\n",
    "    pred_idx = [i for i, token in enumerate(tokens) if token == mask_token] if mask_token is not None else [-1]\n",
    "    tokens = ['@' + token if not token.startswith('Ġ') and token not in ['<s>', '</s>', '<mask>'] else token.replace('Ġ', '') \n",
    "              for token in tokens] \n",
    "    #print(tokens)\n",
    "    \n",
    "    input_ids = torch.tensor([token_ids])\n",
    "    with torch.no_grad():\n",
    "        logits, attns = model(input_ids, output_attentions=True)\n",
    "        probs = F.softmax(logits, dim=-1)\n",
    "\n",
    "    attn_scores, attn_probs = zip(*attns)\n",
    "    attn_scores, attn_probs = torch.cat(attn_scores, dim=0), torch.cat(attn_probs, dim=0)\n",
    "    all_attn_probs.append(attn_probs)\n",
    "    idx_pairs.append((p, h))\n",
    "    tokenses.append(tokens)\n",
    "    #print(\"===============================\")\n",
    "   # print(tokenses)\n",
    "    #print(idx_pairs)\n",
    "    #print(attn_probs[0, 0, 1, 1])\n",
    "   # print(attn_probs[:, :, h, p])\n",
    "\n",
    "# 求注意力值的平均值\n",
    "attn_sum = np.zeros((24, 16),dtype='float32')\n",
    "i = 0\n",
    "for attn_one, (p, h) in zip(all_attn_probs, idx_pairs):    \n",
    "    attn_every = np.array(attn_one[:, :, h, p])\n",
    "   #求和\n",
    "    attn_sum += attn_every\n",
    "   # 记录总共有多少句子来求平均\n",
    "    i = i+1\n",
    "#sum = attn_sum.tolist()\n",
    "#求平均\n",
    "attn_average = attn_sum/i\n",
    "average = attn_average.tolist()\n",
    "#print(average)"
   ]
  },
  {
   "cell_type": "code",
   "execution_count": 212,
   "metadata": {},
   "outputs": [
    {
     "data": {
      "text/plain": [
       "Text(0.5, 33.0, 'Average-cause-head')"
      ]
     },
     "execution_count": 212,
     "metadata": {},
     "output_type": "execute_result"
    },
    {
     "data": {
      "image/png": "[encoded data removed]",
      "text/plain": [
       "<Figure size 360x432 with 2 Axes>"
      ]
     },
     "metadata": {
      "needs_background": "light"
     },
     "output_type": "display_data"
    }
   ],
   "source": [
    "# 算平均后的head图\n",
    "fig = plt.subplots(1,1,sharey=False, figsize=(5 , 6))\n",
    "ax = sns.heatmap(attn_average)\n",
    "ax.tick_params(top=True, labeltop=True)\n",
    "ax.set_xlabel('Average-cause-head')"
   ]
  },
  {
   "cell_type": "code",
   "execution_count": 211,
   "metadata": {},
   "outputs": [
    {
     "data": {
      "text/plain": [
       "<AxesSubplot:>"
      ]
     },
     "execution_count": 211,
     "metadata": {},
     "output_type": "execute_result"
    },
    {
     "data": {
      "image/png": "[encoded data removed]",
      "text/plain": [
       "<Figure size 288x144 with 2 Axes>"
      ]
     },
     "metadata": {
      "needs_background": "light"
     },
     "output_type": "display_data"
    }
   ],
   "source": [
    "i =33\n",
    "layer, head = 18, 3\n",
    "attn = all_attn_probs[i][layer, head]\n",
    "tokens = tokenses[i]\n",
    "size = round(attn.size(0) / 3)\n",
    "fig, (ax0, ax1) = plt.subplots(1, 2, figsize=(size  * 2., size), gridspec_kw={'width_ratios': [3, 1]})\n",
    "sns.heatmap((attn * 100).long(), square=True, cbar=False, annot=True, fmt='d', xticklabels=tokens, yticklabels=tokens, ax=ax0)\n",
    " "
   ]
  },
  {
   "cell_type": "code",
   "execution_count": null,
   "metadata": {},
   "outputs": [],
   "source": []
  }
 ],
 "metadata": {
  "kernelspec": {
   "display_name": "Python 3",
   "language": "python",
   "name": "python3"
  },
  "language_info": {
   "codemirror_mode": {
    "name": "ipython",
    "version": 3
   },
   "file_extension": ".py",
   "mimetype": "text/x-python",
   "name": "python",
   "nbconvert_exporter": "python",
   "pygments_lexer": "ipython3",
   "version": "3.7.5"
  }
 },
 "nbformat": 4,
 "nbformat_minor": 4
}
