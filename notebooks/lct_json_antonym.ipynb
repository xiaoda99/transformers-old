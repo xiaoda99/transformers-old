{
 "cells": [
  {
   "cell_type": "code",
   "execution_count": 27,
   "metadata": {},
   "outputs": [],
   "source": [
    "import json\n",
    "\n",
    "with open('result_antonym.json', 'r') as jsonfile:\n",
    "    json_string = json.load(jsonfile)\n",
    "    \n"
   ]
  },
  {
   "cell_type": "code",
   "execution_count": 2,
   "metadata": {},
   "outputs": [
    {
     "data": {
      "text/plain": [
       "{'angry': [['furious',\n",
       "   'enraged',\n",
       "   'outraged',\n",
       "   'aggrivated',\n",
       "   'irate',\n",
       "   'seething'],\n",
       "  2,\n",
       "  7],\n",
       " 'bad': [['awful',\n",
       "   'atrocious',\n",
       "   'abominable',\n",
       "   'dreadful',\n",
       "   'painful',\n",
       "   'terrible',\n",
       "   'unspeakable'],\n",
       "  3,\n",
       "  19],\n",
       " 'creative': [['ingenious',\n",
       "   'inventive',\n",
       "   'demiurgic',\n",
       "   'deviceful',\n",
       "   'innovational',\n",
       "   'innovative',\n",
       "   'innovatory',\n",
       "   'original',\n",
       "   'originative'],\n",
       "  7,\n",
       "  78],\n",
       " 'guilty': [['remorseful', 'sorrowful', 'unworthy'], 751, 2137],\n",
       " 'happy': [['ecstatic', 'enraptured', 'rapturous', 'rapt', 'rhapsodic'],\n",
       "  21,\n",
       "  19],\n",
       " 'homogeneous': [['uniform', 'unvarying'], 37, 109],\n",
       " 'identical': [['same', 'indistinguishable'], 38, 728],\n",
       " 'necessary': [['essential', 'indispensable', 'vital', 'required'], 3, 33],\n",
       " 'new': [['modern', 'recent'], 39, 44],\n",
       " 'rational': [['logical', 'coherent', 'reasonable', 'sane'], 1, 85],\n",
       " 'reasonable': [['sensible'], 1, 266],\n",
       " 'strong': [['powerful', 'forceful', 'super', 'potent'], 1, 7],\n",
       " 'unhappy': [['miserable', 'suffering', 'wretched'], 4, 136]}"
      ]
     },
     "execution_count": 2,
     "metadata": {},
     "output_type": "execute_result"
    }
   ],
   "source": [
    "json_string"
   ]
  },
  {
   "cell_type": "code",
   "execution_count": 3,
   "metadata": {},
   "outputs": [
    {
     "data": {
      "text/plain": [
       "dict"
      ]
     },
     "execution_count": 3,
     "metadata": {},
     "output_type": "execute_result"
    }
   ],
   "source": [
    "type(json_string)"
   ]
  },
  {
   "cell_type": "code",
   "execution_count": 5,
   "metadata": {},
   "outputs": [
    {
     "name": "stdout",
     "output_type": "stream",
     "text": [
      "2 7\n",
      "3 19\n",
      "7 78\n",
      "751 2137\n",
      "21 19\n",
      "37 109\n",
      "38 728\n",
      "3 33\n",
      "39 44\n",
      "1 85\n",
      "1 266\n",
      "1 7\n",
      "4 136\n"
     ]
    }
   ],
   "source": [
    "for key,value in json_string.items():\n",
    "    print(value[1],value[2])"
   ]
  },
  {
   "cell_type": "code",
   "execution_count": 6,
   "metadata": {},
   "outputs": [],
   "source": [
    "# 前1 3 5 10"
   ]
  },
  {
   "cell_type": "code",
   "execution_count": 28,
   "metadata": {},
   "outputs": [
    {
     "name": "stdout",
     "output_type": "stream",
     "text": [
      "405\n"
     ]
    }
   ],
   "source": [
    "print(len(json_string))"
   ]
  },
  {
   "cell_type": "code",
   "execution_count": 10,
   "metadata": {},
   "outputs": [],
   "source": []
  },
  {
   "cell_type": "code",
   "execution_count": 11,
   "metadata": {},
   "outputs": [
    {
     "name": "stdout",
     "output_type": "stream",
     "text": [
      "2 7\n",
      "3 19\n",
      "7 78\n",
      "751 2137\n",
      "21 19\n",
      "37 109\n",
      "38 728\n",
      "3 33\n",
      "39 44\n",
      "1 85\n",
      "1 266\n",
      "1 7\n",
      "4 136\n",
      "[0, 4, 7, 8, 0, 0, 0, 2]\n"
     ]
    }
   ],
   "source": [
    "count = [0,0,0,0,0,0,0,0]\n",
    "\n",
    "for key,value in json_string.items():\n",
    "    print(value[1],value[2])\n",
    "    \n",
    "    if (value[1] < 1):\n",
    "        count[0] += 1\n",
    "    if (value[1] < 3):\n",
    "        count[1] += 1\n",
    "    if (value[1] < 5):\n",
    "        count[2] += 1\n",
    "    if (value[1] < 10):\n",
    "        count[3] += 1\n",
    "    if (value[2] < 1):\n",
    "        count[4] += 1\n",
    "    if (value[2] < 3):\n",
    "        count[5] += 1\n",
    "    if (value[2] < 5):\n",
    "        count[6] += 1\n",
    "    if (value[2] < 10):\n",
    "        count[7] += 1\n",
    "    \n",
    "print(count)"
   ]
  },
  {
   "cell_type": "code",
   "execution_count": 22,
   "metadata": {},
   "outputs": [
    {
     "data": {
      "text/plain": [
       "['result_antonym.json',\n",
       " 'result_attri.json',\n",
       " 'result_cause.json',\n",
       " 'result_cohyponym.json',\n",
       " 'result_hypernym.json',\n",
       " 'result_mero.json',\n",
       " 'result_synonyms.json']"
      ]
     },
     "execution_count": 22,
     "metadata": {},
     "output_type": "execute_result"
    }
   ],
   "source": [
    "json_file_list = ['result_antonym.json','result_attri.json','result_cause.json',\n",
    "                  'result_cohyponym.json','result_hypernym.json','result_mero.json','result_synonyms.json']\n",
    "\n",
    "json_file_list"
   ]
  },
  {
   "cell_type": "code",
   "execution_count": 34,
   "metadata": {},
   "outputs": [
    {
     "name": "stdout",
     "output_type": "stream",
     "text": [
      "========================================================\n",
      "result_antonym.json [124, 241, 288, 316, 130, 211, 234, 255] 405\n",
      "0.30617283950617286\n",
      "0.5950617283950618\n",
      "0.7111111111111111\n",
      "0.7802469135802469\n",
      "0.32098765432098764\n",
      "0.5209876543209877\n",
      "0.5777777777777777\n",
      "0.6296296296296297\n",
      "========================================================\n",
      "result_attri.json [13, 46, 68, 114, 0, 0, 0, 4] 200\n",
      "0.065\n",
      "0.23\n",
      "0.34\n",
      "0.57\n",
      "0.0\n",
      "0.0\n",
      "0.0\n",
      "0.02\n",
      "========================================================\n",
      "result_cause.json [36, 44, 49, 58, 0, 0, 0, 0] 211\n",
      "0.17061611374407584\n",
      "0.20853080568720378\n",
      "0.23222748815165878\n",
      "0.27488151658767773\n",
      "0.0\n",
      "0.0\n",
      "0.0\n",
      "0.0\n",
      "========================================================\n",
      "result_cohyponym.json [2141, 3869, 4753, 5863, 781, 1577, 1966, 2658] 10881\n",
      "0.1967650032166161\n",
      "0.3555739362190975\n",
      "0.4368164690745336\n",
      "0.5388291517323776\n",
      "0.07177649113132985\n",
      "0.14493153202830622\n",
      "0.18068192261740648\n",
      "0.24427901847256686\n",
      "========================================================\n",
      "result_hypernym.json [857, 1634, 2024, 2592, 1453, 2471, 2962, 3635] 7916\n",
      "0.10826174835775644\n",
      "0.20641738251642244\n",
      "0.2556846892369884\n",
      "0.3274381000505306\n",
      "0.18355229914098029\n",
      "0.3121526023244063\n",
      "0.3741788782213239\n",
      "0.4591965639211723\n",
      "========================================================\n",
      "result_mero.json [61, 105, 131, 187, 40, 66, 83, 117] 639\n",
      "0.09546165884194054\n",
      "0.1643192488262911\n",
      "0.20500782472613457\n",
      "0.29264475743348983\n",
      "0.06259780907668232\n",
      "0.10328638497652583\n",
      "0.1298904538341158\n",
      "0.18309859154929578\n",
      "========================================================\n",
      "result_synonyms.json [0, 4, 7, 8, 0, 0, 0, 2] 13\n",
      "0.0\n",
      "0.3076923076923077\n",
      "0.5384615384615384\n",
      "0.6153846153846154\n",
      "0.0\n",
      "0.0\n",
      "0.0\n",
      "0.15384615384615385\n"
     ]
    }
   ],
   "source": [
    "for item in json_file_list:\n",
    "    with open(item, 'r') as jsonfile:\n",
    "        json_string = json.load(jsonfile)\n",
    "    \n",
    "    count = [0,0,0,0,0,0,0,0]\n",
    "\n",
    "    for key,value in json_string.items():\n",
    "        #print(value[1],value[2])\n",
    "        if (len(value) == 3):\n",
    "            if (value[1] < 1):\n",
    "                count[0] += 1\n",
    "            if (value[1] < 3):\n",
    "                count[1] += 1\n",
    "            if (value[1] < 5):\n",
    "                count[2] += 1\n",
    "            if (value[1] < 10):\n",
    "                count[3] += 1\n",
    "            if (value[2] < 1):\n",
    "                count[4] += 1\n",
    "            if (value[2] < 3):\n",
    "                count[5] += 1\n",
    "            if (value[2] < 5):\n",
    "                count[6] += 1\n",
    "            if (value[2] < 10):\n",
    "                count[7] += 1\n",
    "        else:\n",
    "            if (value[1] < 1):\n",
    "                count[0] += 1\n",
    "            if (value[1] < 3):\n",
    "                count[1] += 1\n",
    "            if (value[1] < 5):\n",
    "                count[2] += 1\n",
    "            if (value[1] < 10):\n",
    "                count[3] += 1\n",
    "\n",
    "        \n",
    "\n",
    "    print('========================================================')\n",
    "    print(item,end='')\n",
    "    print(\" \",end='')\n",
    "    print(count,end='')\n",
    "    print(\" \",end='')\n",
    "    length = len(json_string)\n",
    "    print(length)\n",
    "    for item in count:\n",
    "        print(item/length)"
   ]
  },
  {
   "cell_type": "code",
   "execution_count": null,
   "metadata": {},
   "outputs": [],
   "source": []
  },
  {
   "cell_type": "code",
   "execution_count": null,
   "metadata": {},
   "outputs": [],
   "source": []
  }
 ],
 "metadata": {
  "kernelspec": {
   "display_name": "Python 3",
   "language": "python",
   "name": "python3"
  },
  "language_info": {
   "codemirror_mode": {
    "name": "ipython",
    "version": 3
   },
   "file_extension": ".py",
   "mimetype": "text/x-python",
   "name": "python",
   "nbconvert_exporter": "python",
   "pygments_lexer": "ipython3",
   "version": "3.7.5"
  }
 },
 "nbformat": 4,
 "nbformat_minor": 4
}
