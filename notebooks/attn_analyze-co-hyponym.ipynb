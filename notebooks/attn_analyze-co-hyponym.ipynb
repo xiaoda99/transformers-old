{
 "cells": [
  {
   "cell_type": "code",
   "execution_count": 1,
   "metadata": {},
   "outputs": [],
   "source": [
    "%load_ext autoreload\n",
    "%autoreload 2\n",
    "\n",
    "# from IPython.core.interactiveshell import InteractiveShell\n",
    "# InteractiveShell.ast_node_interactivity = 'all'"
   ]
  },
  {
   "cell_type": "code",
   "execution_count": 2,
   "metadata": {},
   "outputs": [],
   "source": [
    "import numpy as np\n",
    "import json\n",
    "from random import sample\n",
    "\n",
    "import matplotlib.pyplot as plt\n",
    "import seaborn as sns\n",
    "\n",
    "from tqdm import tqdm"
   ]
  },
  {
   "cell_type": "code",
   "execution_count": 3,
   "metadata": {},
   "outputs": [],
   "source": [
    "import torch\n",
    "import torch.nn.functional as F\n",
    "\n",
    "from transformers import *"
   ]
  },
  {
   "cell_type": "code",
   "execution_count": 4,
   "metadata": {},
   "outputs": [],
   "source": [
    "models = {}"
   ]
  },
  {
   "cell_type": "code",
   "execution_count": 5,
   "metadata": {},
   "outputs": [
    {
     "name": "stdout",
     "output_type": "stream",
     "text": [
      "loading state_dict took 0.812 sec\n"
     ]
    },
    {
     "name": "stderr",
     "output_type": "stream",
     "text": [
      "Some weights of RobertaForMaskedLM were not initialized from the model checkpoint at roberta-base and are newly initialized: ['lm_head.decoder.bias']\n",
      "You should probably TRAIN this model on a down-stream task to be able to use it for predictions and inference.\n"
     ]
    }
   ],
   "source": [
    "model_class, tokenizer_class, shortcut, mask_token = RobertaForMaskedLM, RobertaTokenizer, 'roberta-base', '<mask>'\n",
    "model, tokenizer = model_class.from_pretrained(shortcut), tokenizer_class.from_pretrained(shortcut)\n",
    "models[shortcut] = (model, tokenizer, mask_token)"
   ]
  },
  {
   "cell_type": "code",
   "execution_count": 6,
   "metadata": {},
   "outputs": [
    {
     "name": "stdout",
     "output_type": "stream",
     "text": [
      "loading state_dict took 1.546 sec\n"
     ]
    },
    {
     "name": "stderr",
     "output_type": "stream",
     "text": [
      "Some weights of RobertaForMaskedLM were not initialized from the model checkpoint at roberta-large and are newly initialized: ['lm_head.decoder.bias']\n",
      "You should probably TRAIN this model on a down-stream task to be able to use it for predictions and inference.\n"
     ]
    }
   ],
   "source": [
    "model_class, tokenizer_class, shortcut, mask_token = RobertaForMaskedLM, RobertaTokenizer, 'roberta-large', '<mask>'\n",
    "model, tokenizer = model_class.from_pretrained(shortcut), tokenizer_class.from_pretrained(shortcut)\n",
    "models[shortcut] = (model, tokenizer, mask_token)"
   ]
  },
  {
   "cell_type": "code",
   "execution_count": 7,
   "metadata": {},
   "outputs": [
    {
     "name": "stdout",
     "output_type": "stream",
     "text": [
      "loading state_dict took 1.134 sec\n"
     ]
    },
    {
     "ename": "TypeError",
     "evalue": "'dict' object is not callable",
     "output_type": "error",
     "traceback": [
      "\u001b[0;31m---------------------------------------------------------------------------\u001b[0m",
      "\u001b[0;31mTypeError\u001b[0m                                 Traceback (most recent call last)",
      "\u001b[0;32m<ipython-input-7-d1cdb1af8a76>\u001b[0m in \u001b[0;36m<module>\u001b[0;34m\u001b[0m\n\u001b[1;32m      1\u001b[0m \u001b[0mmodel_class\u001b[0m\u001b[0;34m,\u001b[0m \u001b[0mtokenizer_class\u001b[0m\u001b[0;34m,\u001b[0m \u001b[0mshortcut\u001b[0m\u001b[0;34m,\u001b[0m \u001b[0mmask_token\u001b[0m \u001b[0;34m=\u001b[0m \u001b[0mGPT2LMHeadModel\u001b[0m\u001b[0;34m,\u001b[0m \u001b[0mGPT2Tokenizer\u001b[0m\u001b[0;34m,\u001b[0m \u001b[0;34m'gpt2'\u001b[0m\u001b[0;34m,\u001b[0m \u001b[0;32mNone\u001b[0m\u001b[0;34m\u001b[0m\u001b[0;34m\u001b[0m\u001b[0m\n\u001b[0;32m----> 2\u001b[0;31m \u001b[0mmodel\u001b[0m\u001b[0;34m,\u001b[0m \u001b[0mtokenizer\u001b[0m \u001b[0;34m=\u001b[0m \u001b[0mmodel_class\u001b[0m\u001b[0;34m.\u001b[0m\u001b[0mfrom_pretrained\u001b[0m\u001b[0;34m(\u001b[0m\u001b[0mshortcut\u001b[0m\u001b[0;34m)\u001b[0m\u001b[0;34m,\u001b[0m \u001b[0mtokenizer_class\u001b[0m\u001b[0;34m.\u001b[0m\u001b[0mfrom_pretrained\u001b[0m\u001b[0;34m(\u001b[0m\u001b[0mshortcut\u001b[0m\u001b[0;34m)\u001b[0m\u001b[0;34m\u001b[0m\u001b[0;34m\u001b[0m\u001b[0m\n\u001b[0m\u001b[1;32m      3\u001b[0m \u001b[0mmodels\u001b[0m\u001b[0;34m[\u001b[0m\u001b[0mshortcut\u001b[0m\u001b[0;34m]\u001b[0m \u001b[0;34m=\u001b[0m \u001b[0;34m(\u001b[0m\u001b[0mmodel\u001b[0m\u001b[0;34m,\u001b[0m \u001b[0mtokenizer\u001b[0m\u001b[0;34m,\u001b[0m \u001b[0mmask_token\u001b[0m\u001b[0;34m)\u001b[0m\u001b[0;34m\u001b[0m\u001b[0;34m\u001b[0m\u001b[0m\n",
      "\u001b[0;32m/nas/xd/projects/transformers/src/transformers/modeling_utils.py\u001b[0m in \u001b[0;36mfrom_pretrained\u001b[0;34m(cls, pretrained_model_name_or_path, model, *model_args, **kwargs)\u001b[0m\n\u001b[1;32m    860\u001b[0m \u001b[0;34m\u001b[0m\u001b[0m\n\u001b[1;32m    861\u001b[0m             \u001b[0;32mif\u001b[0m \u001b[0mmodel\u001b[0m\u001b[0;34m.\u001b[0m\u001b[0m__class__\u001b[0m\u001b[0;34m.\u001b[0m\u001b[0m__name__\u001b[0m \u001b[0;34m!=\u001b[0m \u001b[0mmodel_to_load\u001b[0m\u001b[0;34m.\u001b[0m\u001b[0m__class__\u001b[0m\u001b[0;34m.\u001b[0m\u001b[0m__name__\u001b[0m\u001b[0;34m:\u001b[0m\u001b[0;34m\u001b[0m\u001b[0;34m\u001b[0m\u001b[0m\n\u001b[0;32m--> 862\u001b[0;31m                 \u001b[0mbase_model_state_dict\u001b[0m \u001b[0;34m=\u001b[0m \u001b[0mmodel_to_load\u001b[0m\u001b[0;34m.\u001b[0m\u001b[0mstate_dict\u001b[0m\u001b[0;34m(\u001b[0m\u001b[0;34m)\u001b[0m\u001b[0;34m.\u001b[0m\u001b[0mkeys\u001b[0m\u001b[0;34m(\u001b[0m\u001b[0;34m)\u001b[0m\u001b[0;34m\u001b[0m\u001b[0;34m\u001b[0m\u001b[0m\n\u001b[0m\u001b[1;32m    863\u001b[0m                 head_model_state_dict_without_base_prefix = [\n\u001b[1;32m    864\u001b[0m                     \u001b[0mkey\u001b[0m\u001b[0;34m.\u001b[0m\u001b[0msplit\u001b[0m\u001b[0;34m(\u001b[0m\u001b[0mcls\u001b[0m\u001b[0;34m.\u001b[0m\u001b[0mbase_model_prefix\u001b[0m \u001b[0;34m+\u001b[0m \u001b[0;34m\".\"\u001b[0m\u001b[0;34m)\u001b[0m\u001b[0;34m[\u001b[0m\u001b[0;34m-\u001b[0m\u001b[0;36m1\u001b[0m\u001b[0;34m]\u001b[0m \u001b[0;32mfor\u001b[0m \u001b[0mkey\u001b[0m \u001b[0;32min\u001b[0m \u001b[0mmodel\u001b[0m\u001b[0;34m.\u001b[0m\u001b[0mstate_dict\u001b[0m\u001b[0;34m(\u001b[0m\u001b[0;34m)\u001b[0m\u001b[0;34m.\u001b[0m\u001b[0mkeys\u001b[0m\u001b[0;34m(\u001b[0m\u001b[0;34m)\u001b[0m\u001b[0;34m\u001b[0m\u001b[0;34m\u001b[0m\u001b[0m\n",
      "\u001b[0;31mTypeError\u001b[0m: 'dict' object is not callable"
     ]
    }
   ],
   "source": [
    "model_class, tokenizer_class, shortcut, mask_token = GPT2LMHeadModel, GPT2Tokenizer, 'gpt2', None\n",
    "model, tokenizer = model_class.from_pretrained(shortcut), tokenizer_class.from_pretrained(shortcut)\n",
    "models[shortcut] = (model, tokenizer, mask_token)"
   ]
  },
  {
   "cell_type": "code",
   "execution_count": 21,
   "metadata": {},
   "outputs": [],
   "source": [
    "model_class, tokenizer_class, shortcut, mask_token = GPT2LMHeadModel, GPT2Tokenizer, 'gpt2-large', None\n",
    "model, tokenizer = model_class.from_pretrained(shortcut), tokenizer_class.from_pretrained(shortcut)\n",
    "models[shortcut] = (model, tokenizer, mask_token)"
   ]
  },
  {
   "cell_type": "code",
   "execution_count": 48,
   "metadata": {},
   "outputs": [],
   "source": [
    "model_class, tokenizer_class, shortcut, mask_token = GPT2LMHeadModel, GPT2Tokenizer, 'gpt2-xl', None\n",
    "model, tokenizer = model_class.from_pretrained(shortcut), tokenizer_class.from_pretrained(shortcut)\n",
    "models[shortcut] = (model, tokenizer, mask_token)"
   ]
  },
  {
   "cell_type": "code",
   "execution_count": 8,
   "metadata": {},
   "outputs": [],
   "source": [
    "model, tokenizer, mask_token = models['roberta-large']"
   ]
  },
  {
   "cell_type": "code",
   "execution_count": 9,
   "metadata": {},
   "outputs": [],
   "source": [
    "import re\n",
    "import pandas as pd\n",
    "import collections\n",
    "import os\n",
    "import nltk\n",
    "import random"
   ]
  },
  {
   "cell_type": "code",
   "execution_count": 79,
   "metadata": {},
   "outputs": [
    {
     "name": "stdout",
     "output_type": "stream",
     "text": [
      "school\n",
      ":\n",
      "['house', 'church', 'college', 'center', 'hospital', 'hotel', 'ministry', 'restaurant', 'palace', 'temple', 'architecture', 'residence', 'theater', 'ruin', 'villa', 'embassy', 'cinema', 'garage', 'cabin', 'casino', 'chapel', 'cafe', 'mansion', 'mosque', 'abbey', 'capitol', 'barn', 'observatory', 'monastery', 'shrine', 'kirk', 'greenhouse', 'manor', 'oracle', 'convent', 'consulate', 'courthouse', 'synagogue', 'tavern', 'motel', 'hostel', 'preschool', 'diner', 'rink', 'farmhouse', 'chateau', 'basilica', 'bungalow', 'clubhouse', 'conservatory']\n",
      "city\n",
      ":\n",
      "['state', 'country', 'town', 'department', 'county', 'kingdom', 'ward', 'commonwealth', 'reservation', 'hometown', 'township', 'borough', 'canton', 'commune', 'shire', 'prefecture', 'barrio', 'sultanate']\n",
      "state\n",
      ":\n",
      "['city', 'country', 'town', 'department', 'county', 'ward', 'reservation', 'municipality', 'hometown', 'township', 'borough', 'canton', 'commune', 'shire', 'prefecture']\n",
      "university\n",
      ":\n",
      "['office', 'prison', 'shop', 'joint', 'jail', 'institution', 'casino', 'plaza', 'salon', 'marketplace', 'bakery', 'boutique', 'orphanage', 'bazaar', 'brig', 'cabaret', 'canteen']\n",
      "film\n",
      ":\n",
      "['book', 'series', 'movie', 'radio', 'paper', 'album', 'collection', 'television', 'volume', 'journal', 'vehicle', 'edition', 'magazine', 'newspaper', 'novel', 'publication', 'telephone', 'inspiration', 'broadcasting', 'wireless', 'journalism', 'catalog', 'gazette', 'textbook', 'compilation', 'notebook', 'masterpiece', 'slick', 'digest', 'booklet', 'yearbook', 'anthology', 'pictorial', 'tabloid', 'telecommunication', 'tome', 'reissue']\n",
      "county\n",
      ":\n",
      "['state', 'city', 'country', 'town', 'department', 'kingdom', 'ward', 'commonwealth', 'reservation', 'municipality', 'hometown', 'township', 'borough', 'canton', 'commune', 'shire', 'prefecture', 'sultanate']\n",
      "album\n",
      ":\n",
      "['book', 'series', 'film', 'movie', 'radio', 'paper', 'collection', 'television', 'journal', 'vehicle', 'edition', 'magazine', 'newspaper', 'novel', 'publication', 'telephone', 'inspiration', 'broadcasting', 'documentary', 'wireless', 'journalism', 'cartoon', 'catalog', 'gazette', 'textbook', 'compilation', 'notebook', 'masterpiece', 'slick', 'digest', 'booklet', 'yearbook', 'anthology', 'pictorial', 'tabloid', 'telecommunication', 'tome', 'reissue']\n",
      "music\n",
      ":\n",
      "['taste', 'vision', 'noise', 'threshold', 'sour', 'scent', 'dub', 'incense', 'harmonic', 'aroma']\n",
      "company\n",
      ":\n",
      "['division', 'command', 'enemy', 'squad', 'battery', 'corps', 'patrol', 'territorial', 'artillery', 'regiment', 'infantry', 'militia', 'brigade', 'armor', 'cavalry', 'battalion', 'contingent', 'legion', 'troop', 'squadron', 'detachment', 'vanguard', 'platoon', 'bodyguard', 'commando', 'picket', 'yeomanry']\n",
      "town\n",
      ":\n",
      "['state', 'city', 'country', 'department', 'county', 'kingdom', 'ward', 'commonwealth', 'reservation', 'township', 'canton', 'commune', 'shire', 'prefecture', 'barrio', 'sultanate']\n",
      "john\n",
      ":\n",
      "['court', 'box', 'hall', 'library', 'engineering', 'kitchen', 'surgery', 'bathroom', 'bedroom', 'chamber', 'gallery', 'toilet', 'cabin', 'den', 'classroom', 'boot', 'cage', 'cab', 'booth', 'lounge', 'dock', 'module', 'stall', 'salon', 'vault', 'nursery', 'forge', 'disco', 'tribune', 'cockpit', 'quad', 'cache', 'compartment', 'cellar', 'drawer', 'furnace', 'enclosure', 'fireplace', 'aquarium', 'dungeon', 'auditorium', 'patio', 'recess', 'ballroom', 'repository', 'cupboard', 'rodeo', 'parlor', 'nave', 'pantry']\n",
      "house\n",
      ":\n",
      "['school', 'church', 'center', 'hospital', 'hotel', 'agency', 'camp', 'ministry', 'restaurant', 'apartment', 'temple', 'rail', 'railway', 'partnership', 'architecture', 'theater', 'ruin', 'embassy', 'metro', 'garage', 'suite', 'casino', 'manufacturer', 'franchise', 'chapel', 'cafe', 'airline', 'mosque', 'capitol', 'barn', 'processor', 'observatory', 'shrine', 'kirk', 'greenhouse', 'oracle', 'consulate', 'hogan', 'courthouse', 'synagogue', 'tavern', 'motel', 'hostel', 'syndicate', 'diner', 'rink', 'basilica', 'hospice', 'clubhouse', 'penthouse']\n",
      "church\n",
      ":\n",
      "['school', 'house', 'center', 'hospital', 'hotel', 'ministry', 'restaurant', 'palace', 'temple', 'architecture', 'residence', 'theater', 'ruin', 'villa', 'embassy', 'cinema', 'garage', 'cabin', 'casino', 'chapel', 'cult', 'cafe', 'mansion', 'mosque', 'capitol', 'barn', 'observatory', 'monastery', 'shrine', 'greenhouse', 'manor', 'oracle', 'convent', 'consulate', 'sect', 'courthouse', 'synagogue', 'tavern', 'motel', 'hostel', 'voodoo', 'diner', 'rink', 'farmhouse', 'chateau', 'basilica', 'bungalow', 'clubhouse', 'conservatory', 'skyscraper']\n",
      "career\n",
      ":\n",
      "['trade', 'step', 'technology', 'tour', 'flight', 'trip', 'sport', 'journey', 'employment', 'lesson', 'closing', 'immigration', 'engagement', 'stroke', 'completion', 'throne', 'exploration', 'profession', 'migration', 'presidency', 'pursuit', 'descent', 'journalism', 'interference', 'dive', 'voyage', 'slice', 'butterfly', 'pas', 'trek', 'spill', 'hike', 'undertaking', 'acceleration', 'pottery', 'automation', 'pilgrimage', 'residency', 'catering', 'internship', 'premiership', 'maneuver', 'plumbing', 'apprenticeship', 'odyssey', 'haste', 'admiralty', 'parry', 'emigration', 'excursion']\n",
      "service\n",
      ":\n",
      "['research', 'chance', 'risk', 'treatment', 'operation', 'analysis', 'campaign', 'effort', 'duty', 'investigation', 'labor', 'exercise', 'survey', 'struggle', 'reform', 'hat', 'comparison', 'lesson', 'therapy', 'contrast', 'shower', 'examination', 'enterprise', 'bath', 'behalf', 'adventure', 'experiment', 'reward', 'surveillance', 'inquiry', 'boost', 'healthcare', 'mercy', 'venture', 'nursing', 'backing', 'adoption', 'marathon', 'assignment', 'slavery', 'inspection', 'blessing', 'census', 'yoga', 'homework', 'audit', 'massage', 'advocacy', 'anatomy', 'undertaking']\n",
      "football\n",
      ":\n",
      "['goal', 'jack', 'net', 'counter', 'golf', 'baseball', 'castle', 'basketball', 'fishing', 'cricket', 'tennis', 'knight', 'jumping', 'boxing', 'cycling', 'dive', 'wrestling', 'marble', 'volleyball', 'skiing', 'polo', 'softball', 'pawn', 'lacrosse', 'judo', 'archery', 'badminton', 'horseshoe', 'handball', 'netball', 'sumo']\n",
      "president\n",
      ":\n",
      "['minister', 'agent', 'spy', 'chancellor', 'proxy', 'insider', 'organizer', 'booker', 'handler', 'sleeper', 'alderman']\n",
      "book\n",
      ":\n",
      "['series', 'movie', 'collection', 'volume', 'journal', 'edition', 'magazine', 'inspiration', 'documentary', 'cartoon', 'compilation', 'masterpiece', 'slick', 'digest', 'anthology', 'pictorial', 'omnibus', 'reissue']\n",
      "park\n",
      ":\n",
      "['site', 'field', 'range', 'bed', 'garden', 'yard', 'plot', 'campus', 'clearing', 'cemetery', 'lawn', 'terrain', 'monument', 'plaza', 'battlefield', 'grove', 'backyard', 'playground', 'tee', 'midway', 'paddy', 'oasis', 'subdivision', 'apron', 'churchyard']\n",
      "form\n",
      ":\n",
      "['right', 'kind', 'half', 'period', 'value', 'middle', 'model', 'attention', 'door', 'access', 'rule', 'product', 'basis', 'teacher', 'feature', 'quarter', 'zero', 'conclusion', 'aspect', 'sum', 'component', 'quantity', 'triple', 'copyright', 'syndrome', 'notion', 'perception', 'compound', 'assumption', 'privilege', 'closure', 'hybrid', 'excellence', 'quantum', 'speculation', 'badge', 'simulation', 'tenure', 'hypothesis', 'vector', 'texture', 'intersection', 'restriction', 'inning', 'parameter', 'similarity', 'intercept', 'abstraction', 'invariant', 'tensor']\n",
      "building\n",
      ":\n",
      "['art', 'construction', 'planning', 'painting', 'formation', 'avenue', 'sculpture', 'baking', 'drilling', 'realization', 'pornography', 'excavation', 'fresco']\n",
      "country\n",
      ":\n",
      "['state', 'city', 'town', 'department', 'league', 'county', 'ward', 'commonwealth', 'tribe', 'lobby', 'reservation', 'municipality', 'hometown', 'confederation', 'township', 'borough', 'canton', 'commune', 'shire', 'prefecture']\n",
      "law\n",
      ":\n",
      "['act', 'bill', 'contract', 'option', 'draft', 'ticket', 'treaty', 'license', 'charter', 'patent', 'assignment', 'franchise', 'lease', 'passport', 'mandate', 'decree', 'prohibition', 'covenant', 'pardon', 'pickup', 'proxy', 'deed', 'verification', 'indictment', 'concession', 'kite', 'ordinance', 'injunction', 'writ', 'giro']\n",
      "water\n",
      ":\n",
      "['salt', 'acid', 'rubber', 'soap', 'anime', 'dioxide', 'amber', 'spice', 'buffer', 'vinegar', 'formulation', 'flint', 'oxide', 'rust', 'ammonia', 'resin', 'chloride', 'polymer', 'phosphate', 'nylon', 'arsenic', 'nitrate', 'incense', 'ether', 'enamel', 'nebula', 'carbonate', 'sulfate', 'peptide']\n",
      "development\n",
      ":\n",
      "['murder', 'transfer', 'reform', 'constitution', 'suicide', 'introduction', 'cooking', 'shower', 'destruction', 'retirement', 'bath', 'amendment', 'disaster', 'cleaning', 'federation', 'removal', 'vacation', 'passage', 'abortion', 'completion', 'restoration', 'installation', 'reconstruction', 'bombing', 'graduation', 'perfection', 'correction', 'rehabilitation', 'finale', 'genocide', 'holocaust', 'baking', 'cuisine', 'slaughter', 'homicide', 'termination', 'activation', 'degradation', 'contamination', 'overthrow', 'renovation', 'enhancement', 'initiation', 'dissolution', 'inflammation', 'thrill', 'startup', 'cancellation', 'ventilation', 'induction']\n",
      "center\n",
      ":\n",
      "['lot', 'site', 'field', 'range', 'park', 'bed', 'garden', 'yard', 'plot', 'campus', 'arena', 'clearing', 'cemetery', 'lawn', 'terrain', 'monument', 'plaza', 'battlefield', 'grove', 'backyard', 'playground', 'tee', 'midway', 'paddy', 'oasis', 'subdivision', 'apron', 'churchyard']\n",
      "division\n",
      ":\n",
      "['right', 'company', 'kind', 'type', 'value', 'model', 'attention', 'version', 'style', 'door', 'access', 'rule', 'product', 'basis', 'teacher', 'brand', 'command', 'feature', 'enemy', 'squad', 'zero', 'category', 'battery', 'conclusion', 'aspect', 'sum', 'quantity', 'triple', 'copyright', 'corps', 'syndrome', 'notion', 'perception', 'genre', 'compound', 'charm', 'assumption', 'privilege', 'patrol', 'territorial', 'closure', 'hybrid', 'excellence', 'breed', 'quantum', 'speculation', 'artillery', 'infantry', 'regiment', 'badge']\n",
      "court\n",
      ":\n",
      "['box', 'hall', 'library', 'engineering', 'kitchen', 'surgery', 'bathroom', 'bedroom', 'chamber', 'gallery', 'toilet', 'cabin', 'den', 'classroom', 'boot', 'cage', 'cab', 'booth', 'closet', 'lounge', 'dock', 'module', 'stall', 'salon', 'vault', 'nursery', 'forge', 'disco', 'tribune', 'cockpit', 'quad', 'cache', 'compartment', 'cellar', 'drawer', 'furnace', 'enclosure', 'fireplace', 'aquarium', 'dungeon', 'auditorium', 'patio', 'recess', 'ballroom', 'repository', 'cupboard', 'rodeo', 'parlor', 'nave', 'pantry']\n",
      "street\n",
      ":\n",
      "['highway', 'trail', 'interstate', 'artery', 'driveway', 'roadway', 'speedway', 'portage', 'turnpike', 'causeway']\n",
      "council\n",
      ":\n",
      "['department', 'board', 'committee', 'agency', 'intelligence', 'branch', 'cabinet', 'jury', 'treasury', 'organ', 'secretariat', 'directorate', 'subcommittee', 'admiralty', 'posse']\n",
      "business\n",
      ":\n",
      "['sale', 'traffic', 'marketing', 'spending', 'payment', 'trading', 'tribute', 'auction', 'wholesale', 'ransom', 'syndication']\n",
      "version\n",
      ":\n",
      "['model', 'reading', 'style', 'brand', 'genre', 'charm', 'breed', 'flavor', 'genus', 'exposition', 'stripe', 'perpendicular']\n",
      "research\n",
      ":\n",
      "['job', 'service', 'chance', 'policy', 'key', 'risk', 'treatment', 'operation', 'analysis', 'campaign', 'effort', 'theory', 'duty', 'labor', 'exercise', 'survey', 'struggle', 'reform', 'hat', 'comparison', 'explanation', 'lesson', 'therapy', 'contrast', 'consideration', 'shower', 'examination', 'enterprise', 'bath', 'behalf', 'adventure', 'experiment', 'surveillance', 'inquiry', 'healthcare', 'conversion', 'venture', 'nursing', 'marathon', 'assignment', 'slavery', 'inspection', 'census', 'yoga', 'homework', 'meditation', 'ideology', 'audit', 'massage', 'calculation']\n",
      "art\n",
      ":\n",
      "['construction', 'planning', 'formation', 'avenue', 'baking', 'drilling', 'realization', 'pornography', 'excavation', 'fabrication', 'shipbuilding']\n",
      "role\n",
      ":\n",
      "['job', 'service', 'research', 'chance', 'risk', 'character', 'treatment', 'operation', 'analysis', 'campaign', 'effort', 'investigation', 'labor', 'exercise', 'survey', 'struggle', 'reform', 'comparison', 'lesson', 'therapy', 'contrast', 'shower', 'examination', 'enterprise', 'bath', 'adventure', 'experiment', 'surveillance', 'inquiry', 'healthcare', 'venture', 'nursing', 'marathon', 'assignment', 'slavery', 'inspection', 'census', 'yoga', 'homework', 'audit', 'massage', 'anatomy', 'undertaking', 'analogy', 'irrigation', 'gamble', 'friction', 'parody', 'paperwork', 'countdown']\n",
      "field\n",
      ":\n",
      "['lot', 'site', 'range', 'park', 'bed', 'plot', 'clearing', 'cemetery', 'terrain', 'monument', 'plaza', 'battlefield', 'grove', 'tee', 'midway', 'oasis', 'subdivision', 'apron', 'churchyard']\n",
      "department\n",
      ":\n",
      "['state', 'city', 'country', 'town', 'board', 'council', 'committee', 'agency', 'county', 'intelligence', 'kingdom', 'branch', 'cabinet', 'jury', 'ward', 'commonwealth', 'organ', 'reservation', 'municipality', 'hometown', 'township', 'borough', 'canton', 'secretariat', 'commune', 'directorate', 'subcommittee', 'shire', 'prefecture', 'posse', 'panchayat', 'sultanate']\n",
      "head\n",
      ":\n",
      "['dog', 'female', 'fish', 'male', 'queen', 'tom', 'adult', 'bird', 'giant', 'mate', 'worker', 'pet', 'spider', 'bug', 'dam', 'chick', 'lamb', 'prey', 'kitty', 'frog', 'stunt', 'bot', 'insect', 'captive', 'worm', 'stray', 'calf', 'pointer', 'predator', 'mutant', 'pest', 'colt', 'brit', 'oyster', 'pup', 'hen', 'sponge', 'hog', 'parrot', 'hound', 'chow', 'beetle', 'embryo', 'snail', 'flea', 'bullock', 'feeder', 'sire', 'scorpion', 'mammal']\n",
      "office\n",
      ":\n",
      "['university', 'department', 'board', 'council', 'committee', 'agency', 'prison', 'shop', 'joint', 'intelligence', 'branch', 'jail', 'institution', 'cabinet', 'jury', 'treasury', 'garage', 'casino', 'plaza', 'stall', 'salon', 'marketplace', 'supermarket', 'bakery', 'secretariat', 'boutique', 'directorate', 'subcommittee', 'orphanage', 'bazaar', 'brig', 'cabaret', 'canteen', 'panchayat']\n",
      "site\n",
      ":\n",
      "['lot', 'field', 'range', 'park', 'bed', 'garden', 'yard', 'plot', 'campus', 'arena', 'clearing', 'lawn', 'terrain', 'plaza', 'battlefield', 'grove', 'backyard', 'playground', 'midway', 'paddy', 'oasis', 'subdivision', 'churchyard']\n",
      "director\n",
      ":\n",
      "['president', 'minister', 'brother', 'executive', 'fellow', 'commissioner', 'dean', 'pledge', 'insider', 'regent', 'registrar', 'provost']\n",
      "cup\n",
      ":\n",
      "['car', 'box', 'glass', 'van', 'bag', 'tank', 'bowl', 'bottle', 'truck', 'chest', 'package', 'pocket', 'bath', 'pot', 'deck', 'kit', 'carrier', 'trailer', 'bin', 'shoe', 'dish', 'portfolio', 'basin', 'barrel', 'basket', 'wallet', 'garbage', 'cab', 'trunk', 'compact', 'bucket', 'motorcycle', 'tin', 'cart', 'bicycle', 'carriage', 'purse', 'bundle', 'fork', 'sack', 'envelope', 'jar', 'wagon', 'spoon', 'coffin', 'sleeve', 'shook', 'tub', 'packet', 'tray']\n",
      "act\n",
      ":\n",
      "['law', 'bill', 'contract', 'option', 'draft', 'ticket', 'treaty', 'license', 'charter', 'patent', 'assignment', 'franchise', 'lease', 'passport', 'mandate', 'prohibition', 'covenant', 'pardon', 'pickup', 'proxy', 'deed', 'verification', 'indictment', 'concession', 'kite', 'writ', 'giro']\n",
      "project\n",
      ":\n",
      "['job', 'service', 'research', 'policy', 'treatment', 'analysis', 'budget', 'duty', 'investigation', 'labor', 'survey', 'struggle', 'hat', 'scheme', 'comparison', 'plot', 'therapy', 'contrast', 'shower', 'examination', 'bath', 'behalf', 'surveillance', 'agenda', 'inquiry', 'healthcare', 'nursing', 'conspiracy', 'slavery', 'inspection', 'census', 'yoga', 'bail', 'audit', 'massage', 'anatomy', 'undertaking', 'analogy', 'irrigation', 'friction', 'paperwork', 'countdown', 'activism', 'laundering', 'wiring', 'autopsy', 'stint', 'containment', 'wrestle', 'hospice']\n",
      "character\n",
      ":\n",
      "['right', 'point', 'kind', 'half', 'period', 'value', 'middle', 'model', 'attention', 'version', 'style', 'door', 'access', 'rule', 'product', 'dream', 'basis', 'teacher', 'brand', 'feature', 'quarter', 'zero', 'category', 'conclusion', 'fantasy', 'monster', 'aspect', 'sum', 'dragon', 'component', 'fancy', 'quantity', 'triple', 'copyright', 'syndrome', 'notion', 'perception', 'genre', 'compound', 'charm', 'assumption', 'privilege', 'closure', 'hybrid', 'excellence', 'breed', 'witch', 'quantum', 'speculation', 'badge']\n",
      "board\n",
      ":\n",
      "['department', 'council', 'agency', 'intelligence', 'branch', 'jury', 'treasury', 'organ', 'secretariat', 'subcommittee', 'admiralty', 'posse', 'panchayat']\n",
      "right\n",
      ":\n",
      "['point', 'kind', 'half', 'type', 'period', 'value', 'middle', 'model', 'attention', 'version', 'style', 'rule', 'product', 'basis', 'teacher', 'brand', 'feature', 'quarter', 'zero', 'category', 'conclusion', 'aspect', 'sum', 'component', 'quantity', 'triple', 'syndrome', 'notion', 'perception', 'genre', 'compound', 'charm', 'assumption', 'closure', 'hybrid', 'excellence', 'breed', 'quantum', 'speculation', 'badge', 'simulation', 'hypothesis', 'vector', 'texture', 'flavor', 'intersection', 'restriction', 'inning', 'parameter', 'genus']\n",
      "hall\n",
      ":\n",
      "['court', 'box', 'library', 'engineering', 'kitchen', 'surgery', 'bathroom', 'bedroom', 'chamber', 'gallery', 'toilet', 'tunnel', 'cabin', 'den', 'classroom', 'boot', 'cage', 'cab', 'booth', 'closet', 'lounge', 'dock', 'module', 'stall', 'salon', 'vault', 'nursery', 'forge', 'disco', 'tribune', 'cockpit', 'hallway', 'quad', 'aisle', 'arcade', 'cache', 'compartment', 'cellar', 'drawer', 'furnace', 'enclosure', 'fireplace', 'aquarium', 'dungeon', 'auditorium', 'patio', 'recess', 'ballroom', 'repository', 'cupboard']\n",
      "science\n",
      ":\n",
      "['strategy', 'engineering', 'literature', 'painting', 'philosophy', 'architecture', 'logic', 'theology', 'sculpture', 'rhetoric', 'methodology', 'portrayal', 'biotechnology', 'jurisprudence', 'genealogy', 'telecommunication', 'fresco']\n",
      "census\n",
      ":\n",
      "['research', 'analysis', 'survey', 'comparison', 'contrast', 'examination', 'experiment', 'surveillance', 'inquiry', 'inspection', 'census', 'audit', 'anatomy', 'analogy', 'countdown', 'autopsy', 'spectroscopy', 'microscopy']\n",
      "minister\n",
      ":\n",
      "['president', 'director', 'bishop', 'priest', 'dean', 'canon', 'cardinal', 'archbishop', 'shepherd', 'preacher', 'insider', 'vicar', 'chaplain', 'registrar', 'deacon', 'cleric', 'evangelist', 'provost', 'diocesan', 'curate', 'priestess', 'archdeacon']\n",
      "light\n",
      ":\n",
      "['level', 'post', 'shot', 'step', 'key', 'mine', 'computer', 'gun', 'machine', 'spring', 'fan', 'engine', 'screen', 'web', 'bridge', 'net', 'governor', 'bell', 'chair', 'button', 'spoke', 'bomb', 'cable', 'weapon', 'motor', 'wheel', 'gate', 'battery', 'server', 'mirror', 'objective', 'circuit', 'gear', 'guitar', 'clock', 'knife', 'tape', 'sword', 'instrument', 'graduate', 'wire', 'alarm', 'hook', 'android', 'trap', 'tube', 'piano', 'screw', 'pump', 'toy']\n",
      "construction\n",
      ":\n",
      "['art', 'planning', 'object', 'painting', 'formation', 'avenue', 'sculpture', 'baking', 'drilling', 'realization', 'pornography', 'excavation', 'fresco']\n",
      "fire\n",
      ":\n",
      "['campaign', 'mission', 'invasion', 'offense', 'expedition', 'bombing', 'breakthrough', 'penetration', 'ambush', 'blitz', 'maneuver', 'reconnaissance', 'espionage', 'counterattack']\n",
      "province\n",
      ":\n",
      "['state', 'city', 'country', 'town', 'department', 'county', 'kingdom', 'ward', 'lap', 'reservation', 'municipality', 'hometown', 'township', 'borough', 'canton', 'commune', 'shire', 'prefecture', 'sultanate']\n",
      "kingdom\n",
      ":\n",
      "['city', 'town', 'department', 'county', 'province', 'ward', 'commonwealth', 'lap', 'reservation', 'municipality', 'hometown', 'township', 'borough', 'canton', 'commune', 'shire', 'prefecture', 'sultanate']\n",
      "round\n",
      ":\n",
      "['bomb', 'shell', 'hardware', 'arsenal', 'blank', 'cannon', 'artillery', 'grenade', 'cartridge', 'launcher', 'blockbuster', 'armament', 'gunnery']\n",
      "tour\n",
      ":\n",
      "['flight', 'trip', 'trick', 'exploration', 'voyage', 'trek', 'hike', 'pilgrimage', 'odyssey', 'excursion', 'glide']\n",
      "magazine\n",
      ":\n",
      "['book', 'series', 'movie', 'album', 'collection', 'volume', 'journal', 'edition', 'newspaper', 'novel', 'inspiration', 'documentary', 'journalism', 'cartoon', 'directory', 'catalog', 'handbook', 'gazette', 'textbook', 'compilation', 'notebook', 'masterpiece', 'digest', 'encyclopedia', 'booklet', 'yearbook', 'anthology', 'pictorial', 'tabloid', 'tome', 'omnibus', 'reissue']\n",
      "half\n",
      ":\n",
      "['right', 'point', 'kind', 'type', 'period', 'value', 'middle', 'model', 'attention', 'version', 'style', 'door', 'access', 'rule', 'product', 'basis', 'teacher', 'brand', 'feature', 'quarter', 'zero', 'category', 'conclusion', 'aspect', 'sum', 'component', 'quantity', 'triple', 'copyright', 'syndrome', 'notion', 'perception', 'genre', 'compound', 'charm', 'assumption', 'privilege', 'closure', 'hybrid', 'excellence', 'breed', 'quantum', 'speculation', 'badge', 'simulation', 'tenure', 'hypothesis', 'vector', 'texture', 'flavor']\n",
      "middle\n",
      ":\n",
      "['right', 'point', 'kind', 'half', 'type', 'period', 'value', 'model', 'attention', 'version', 'style', 'door', 'access', 'rule', 'product', 'basis', 'teacher', 'brand', 'feature', 'quarter', 'zero', 'category', 'conclusion', 'aspect', 'sum', 'component', 'quantity', 'triple', 'copyright', 'syndrome', 'notion', 'perception', 'genre', 'compound', 'charm', 'assumption', 'privilege', 'closure', 'hybrid', 'excellence', 'breed', 'quantum', 'speculation', 'badge', 'simulation', 'tenure', 'hypothesis', 'vector', 'texture', 'flavor']\n",
      "aircraft\n",
      ":\n",
      "['car', 'ship', 'van', 'boat', 'tank', 'truck', 'vessel', 'carrier', 'rocket', 'trailer', 'missile', 'cab', 'ferry', 'motorcycle', 'cart', 'bicycle', 'junk', 'carriage', 'pirate', 'gig', 'wagon', 'submarine', 'yacht', 'ark', 'spacecraft', 'tractor', 'surrey', 'flagship', 'hulk', 'clarence', 'smack', 'canoe', 'barge', 'destroyer', 'cruiser', 'punt', 'barrow', 'chariot', 'steamer', 'brig', 'corvette', 'lifeboat', 'frigate', 'warship', 'battleship', 'galley', 'hackney', 'schooner', 'streetcar', 'steamboat']\n",
      "model\n",
      ":\n",
      "['right', 'point', 'half', 'type', 'period', 'value', 'middle', 'attention', 'version', 'style', 'door', 'access', 'rule', 'product', 'basis', 'teacher', 'brand', 'feature', 'quarter', 'zero', 'conclusion', 'aspect', 'sum', 'component', 'quantity', 'triple', 'copyright', 'syndrome', 'notion', 'perception', 'genre', 'compound', 'charm', 'assumption', 'privilege', 'closure', 'hybrid', 'excellence', 'breed', 'quantum', 'speculation', 'badge', 'tenure', 'vector', 'texture', 'flavor', 'intersection', 'restriction', 'inning', 'parameter']\n",
      "success\n",
      ":\n",
      "['arrival', 'triple', 'rally', 'liberation', 'clearing', 'feat', 'rehabilitation', 'recruitment', 'homer', 'parole', 'stunt', 'masterpiece', 'advent', 'purge', 'emancipation', 'walkover']\n",
      "committee\n",
      ":\n",
      "['department', 'council', 'agency', 'intelligence', 'branch', 'treasury', 'organ', 'secretariat', 'admiralty', 'posse', 'panchayat']\n",
      "car\n",
      ":\n",
      "['ambulance', 'battleship', 'bicycle', 'bike', 'bomber', 'bus', 'ferry', 'fighter', 'frigate', 'glider', 'helicopter', 'jet', 'moped', 'motorbike', 'motorcycle', 'scooter', 'tanker', 'tractor', 'train', 'truck', 'van', 'yacht']\n",
      "movement\n",
      ":\n",
      "['development', 'addition', 'division', 'constitution', 'motion', 'expansion', 'suicide', 'extension', 'rent', 'improvement', 'burning', 'reduction', 'promotion', 'cooking', 'destruction', 'retirement', 'amendment', 'replacement', 'cleaning', 'disaster', 'federation', 'removal', 'discount', 'completion', 'abortion', 'restoration', 'installation', 'withdrawal', 'reconstruction', 'graduation', 'perfection', 'correction', 'revision', 'genocide', 'holocaust', 'reunion', 'baking', 'qualification', 'cuisine', 'slaughter', 'extraction', 'homicide', 'termination', 'activation', 'degradation', 'consolidation', 'contamination', 'fracture', 'accumulation', 'renovation']\n",
      "festival\n",
      ":\n",
      "['fun', 'performance', 'football', 'doctor', 'sport', 'entertainment', 'golf', 'soccer', 'basketball', 'fishing', 'exhibition', 'rugby', 'tennis', 'presentation', 'jumping', 'boxing', 'demonstration', 'cycling', 'dive', 'bust', 'lottery', 'wrestling', 'circus', 'ballet', 'volleyball', 'skiing', 'carnival', 'bathing', 'tango', 'gala', 'waltz', 'flirt', 'samba', 'judo', 'cabaret', 'polka', 'archery', 'badminton', 'handball', 'netball', 'interlude', 'sumo']\n",
      "study\n",
      ":\n",
      "['research', 'analysis', 'survey', 'comparison', 'contrast', 'experiment', 'surveillance', 'inquiry', 'inspection', 'census', 'accommodation', 'audit', 'conditioning', 'anatomy', 'analogy', 'countdown', 'autopsy', 'spectroscopy', 'microscopy']\n",
      "front\n",
      ":\n",
      "['top', 'bottom', 'rear', 'sole', 'interface', 'poll', 'desktop', 'heel', 'substrate', 'rooftop', 'nape']\n",
      "technology\n",
      ":\n",
      "['trade', 'science', 'career', 'sport', 'strategy', 'engineering', 'literature', 'painting', 'philosophy', 'lesson', 'architecture', 'logic', 'engagement', 'psychology', 'chemistry', 'grammar', 'throne', 'biology', 'presidency', 'nutrition', 'journalism', 'geography', 'theology', 'sculpture', 'exploitation', 'geometry', 'rhetoric', 'methodology', 'undertaking', 'sociology', 'pottery', 'algebra', 'astronomy', 'residency', 'anthropology', 'portrayal', 'catering', 'internship', 'geology', 'calculus', 'premiership', 'plumbing', 'apprenticeship', 'admiralty', 'consultancy', 'masonry', 'jurisprudence', 'specialization', 'prefecture', 'genealogy']\n",
      "debut\n",
      ":\n",
      "['development', 'murder', 'transfer', 'reform', 'threat', 'constitution', 'suicide', 'improvement', 'relation', 'cooking', 'shower', 'destruction', 'retirement', 'bath', 'amendment', 'disaster', 'cleaning', 'federation', 'removal', 'vacation', 'passage', 'abortion', 'completion', 'restoration', 'installation', 'reconstruction', 'scandal', 'bombing', 'graduation', 'caution', 'perfection', 'revelation', 'correction', 'rehabilitation', 'finale', 'genocide', 'holocaust', 'baking', 'cuisine', 'slaughter', 'advancement', 'gossip', 'briefing', 'homicide', 'termination', 'activation', 'degradation', 'contamination', 'overthrow', 'renovation']\n",
      "industry\n",
      ":\n",
      "['trade', 'sale', 'traffic', 'marketing', 'spending', 'payment', 'transportation', 'storage', 'trading', 'advertising', 'fishing', 'banking', 'tourism', 'printing', 'venture', 'tribute', 'auction', 'financing', 'ferry', 'navigation', 'cooperative', 'freight', 'wholesale', 'packaging', 'ransom', 'syndication']\n",
      "saw\n",
      ":\n",
      "['axe', 'chisel', 'corkscrew', 'drill', 'fork', 'hammer', 'hatchet', 'knife', 'mallet', 'pincer', 'pincers', 'plier', 'pliers', 'rake', 'scalpel', 'scissor', 'scissors', 'screwdriver', 'shovel', 'sieve', 'spade', 'spoon', 'tweezer', 'tweezers', 'wrench']\n",
      "ship\n",
      ":\n",
      "['aircraft', 'boat', 'jet', 'helicopter', 'fighter', 'ferry', 'junk', 'airplane', 'gig', 'balloon', 'drone', 'bomber', 'yacht', 'ark', 'spacecraft', 'smack', 'canoe', 'barge', 'punt', 'brig', 'lifeboat', 'frigate', 'glider', 'galley', 'schooner', 'steamboat', 'airship', 'sloop', 'biplane']\n",
      "municipality\n",
      ":\n",
      "['state', 'city', 'country', 'department', 'county', 'kingdom', 'ward', 'commonwealth', 'reservation', 'township', 'canton', 'commune', 'shire', 'prefecture', 'barrio', 'sultanate']\n",
      "bridge\n",
      ":\n",
      "['battery', 'gate', 'plug', 'module', 'reactor', 'antenna', 'microphone', 'detector', 'fuse', 'wiring', 'rotor', 'dashboard']\n",
      "gold\n",
      ":\n",
      "['silver', 'wine', 'orange', 'chocolate', 'cardinal', 'tan', 'amber', 'violet', 'scarlet', 'blond', 'dun', 'burgundy', 'lavender', 'maroon', 'indigo', 'beige', 'azure']\n",
      "novel\n",
      ":\n",
      "['book', 'story', 'series', 'movie', 'album', 'collection', 'journal', 'edition', 'magazine', 'publication', 'mystery', 'fantasy', 'legend', 'inspiration', 'documentary', 'myth', 'cartoon', 'catalog', 'saga', 'thriller', 'textbook', 'compilation', 'notebook', 'masterpiece', 'slick', 'digest', 'storyline', 'booklet', 'yearbook', 'anthology', 'pictorial', 'tome', 'reissue']\n",
      "female\n",
      ":\n",
      "['head', 'dog', 'fish', 'male', 'queen', 'tom', 'adult', 'bird', 'giant', 'mate', 'worker', 'pet', 'spider', 'bug', 'chick', 'lamb', 'prey', 'kitty', 'frog', 'stunt', 'bot', 'insect', 'captive', 'worm', 'stray', 'calf', 'predator', 'mutant', 'pest', 'colt', 'brit', 'oyster', 'pup', 'sponge', 'hog', 'parrot', 'hound', 'chow', 'beetle', 'embryo', 'snail', 'flea', 'bullock', 'feeder', 'sire', 'scorpion', 'mammal', 'bulldog', 'maverick', 'spat']\n",
      "theatre\n",
      ":\n",
      "['school', 'house', 'church', 'center', 'hospital', 'hotel', 'ministry', 'restaurant', 'palace', 'temple', 'architecture', 'residence', 'theater', 'ruin', 'villa', 'embassy', 'garage', 'cabin', 'casino', 'chapel', 'cafe', 'mansion', 'mosque', 'abbey', 'capitol', 'barn', 'observatory', 'monastery', 'shrine', 'kirk', 'greenhouse', 'manor', 'oracle', 'convent', 'consulate', 'courthouse', 'synagogue', 'tavern', 'motel', 'hostel', 'diner', 'rink', 'farmhouse', 'chateau', 'basilica', 'bungalow', 'clubhouse', 'conservatory', 'skyscraper', 'dormitory']\n",
      "interest\n",
      ":\n",
      "['self', 'doubt', 'awareness', 'mystery', 'consciousness', 'confusion', 'certainty', 'assurance', 'reliance', 'coma', 'dilemma', 'distraction', 'trance', 'hesitation', 'suspense', 'amnesia', 'tangle', 'daze']\n",
      "trade\n",
      ":\n",
      "['industry', 'technology', 'career', 'sale', 'traffic', 'sport', 'marketing', 'spending', 'employment', 'transportation', 'payment', 'storage', 'trading', 'advertising', 'mining', 'lesson', 'fishing', 'output', 'boring', 'banking', 'tourism', 'engagement', 'printing', 'tribute', 'venture', 'throne', 'auction', 'profession', 'presidency', 'financing', 'journalism', 'ferry', 'navigation', 'freight', 'wholesale', 'packaging', 'cultivation', 'brewing', 'automation', 'ransom', 'residency', 'catering', 'internship', 'premiership', 'apprenticeship', 'admiralty', 'specialization', 'prefecture', 'sumo', 'professorship']\n",
      "movie\n",
      ":\n",
      "['book', 'series', 'album', 'collection', 'volume', 'journal', 'edition', 'magazine', 'novel', 'publication', 'inspiration', 'catalog', 'compilation', 'notebook', 'textbook', 'masterpiece', 'slick', 'digest', 'booklet', 'yearbook', 'anthology', 'pictorial', 'tome', 'reissue']\n",
      "sound\n",
      ":\n",
      "['heat', 'taste', 'temperature', 'vision', 'threshold', 'detection', 'sour', 'melody', 'scent', 'incense', 'aroma']\n",
      "god\n",
      ":\n",
      "['angel', 'devil', 'fairy', 'vampire', 'deity', 'python', 'elf', 'genie', 'gnome', 'goblin', 'archangel']\n",
      "parliament\n",
      ":\n",
      "['football', 'senate', 'diet', 'golf', 'basketball', 'cricket', 'tennis', 'auction', 'casino', 'poker', 'lottery', 'bowling', 'volleyball', 'chess', 'polo', 'monte', 'gin', 'bolivia', 'lacrosse', 'badminton', 'handball', 'netball', 'snooker']\n",
      "governor\n",
      ":\n",
      "['wheel', 'gear', 'android', 'screw', 'pump', 'hammer', 'disk', 'anchor', 'cam', 'dial', 'shuttle', 'ramp', 'broadcaster', 'lever', 'helm', 'ignition', 'regulator', 'puck', 'bumper', 'paddle', 'piston', 'propeller', 'shutter', 'aperture', 'accelerator', 'compressor', 'rudder', 'selector', 'carousel', 'doorbell', 'discus']\n",
      "command\n",
      ":\n",
      "['company', 'division', 'enemy', 'squad', 'battery', 'corps', 'patrol', 'territorial', 'artillery', 'regiment', 'infantry', 'militia', 'brigade', 'armor', 'cavalry', 'battalion', 'contingent', 'legion', 'troop', 'squadron', 'detachment', 'vanguard', 'platoon', 'bodyguard', 'commando', 'picket', 'yeomanry']\n",
      "township\n",
      ":\n",
      "['state', 'city', 'country', 'town', 'department', 'county', 'kingdom', 'ward', 'commonwealth', 'reservation', 'municipality', 'hometown', 'township', 'borough', 'canton', 'commune', 'shire', 'prefecture', 'sultanate']\n",
      "hospital\n",
      ":\n",
      "['castle', 'cathedral', 'clinic', 'cottage', 'hotel', 'library', 'pub', 'restaurant', 'school', 'villa', 'warehouse']\n",
      "studio\n",
      ":\n",
      "['house', 'job', 'location', 'camp', 'farm', 'palace', 'residence', 'lab', 'villa', 'suite', 'cabin', 'workshop', 'dairy', 'laundry', 'mansion', 'ranch', 'manor', 'forge', 'bakery', 'hogan', 'vineyard', 'hostel', 'farmhouse', 'chateau', 'fishery', 'hospice', 'bungalow', 'shipyard', 'penthouse', 'grange', 'croft', 'dormitory', 'hermitage', 'hearth', 'colliery']\n",
      "staff\n",
      ":\n",
      "['saw', 'club', 'china', 'bar', 'steel', 'tool', 'rail', 'jimmy', 'pan', 'pot', 'pole', 'hammer', 'rod', 'poker', 'needle', 'pencil', 'bolt', 'gig', 'shaft', 'cane', 'cue', 'opener', 'strap', 'spear', 'lever', 'pottery', 'pedal', 'porcelain', 'mast', 'baton', 'charcoal', 'crank', 'paddle', 'shovel', 'rotor', 'broom', 'axle', 'bender', 'accelerator', 'spade', 'rake', 'lash', 'steamer', 'rein', 'thong', 'pitchfork', 'sawmill', 'malacca']\n",
      "highway\n",
      ":\n",
      "['street', 'trail', 'avenue', 'alley', 'artery', 'driveway', 'roadway', 'speedway', 'portage', 'causeway']\n",
      "theory\n",
      ":\n",
      "['right', 'point', 'kind', 'half', 'type', 'period', 'value', 'middle', 'policy', 'key', 'model', 'attention', 'version', 'style', 'door', 'access', 'rule', 'analysis', 'product', 'teacher', 'trial', 'brand', 'feature', 'quarter', 'zero', 'category', 'consideration', 'aspect', 'sum', 'experiment', 'component', 'inquiry', 'quantity', 'conversion', 'triple', 'copyright', 'syndrome', 'notion', 'poll', 'perception', 'genre', 'compound', 'charm', 'privilege', 'closure', 'hybrid', 'excellence', 'breed', 'quantum', 'meditation']\n",
      "hand\n",
      ":\n",
      "['foot', 'finger', 'thumb', 'toe', 'porter', 'cleaner', 'peasant', 'scorer', 'miner', 'sawyer', 'digger']\n",
      "chicago\n",
      ":\n",
      "['football', 'golf', 'basketball', 'cricket', 'tennis', 'auction', 'casino', 'poker', 'lottery', 'bowling', 'volleyball', 'chess', 'polo', 'monte', 'gin', 'bolivia', 'lacrosse', 'badminton', 'handball', 'netball', 'snooker']\n",
      "collection\n",
      ":\n",
      "['book', 'series', 'volume', 'journal', 'edition', 'magazine', 'directory', 'catalog', 'handbook', 'textbook', 'masterpiece', 'slick', 'encyclopedia', 'booklet', 'yearbook', 'pictorial', 'tome', 'reissue']\n",
      "officer\n",
      ":\n",
      "['minister', 'captain', 'marine', 'soldier', 'ambassador', 'volunteer', 'territorial', 'veteran', 'prosecutor', 'striker', 'incumbent', 'diplomat', 'regulator', 'consul', 'envoy', 'teller', 'usher', 'tanker', 'caretaker', 'deacon', 'commando', 'lister']\n",
      "bill\n",
      ":\n",
      "['law', 'act', 'contract', 'option', 'draft', 'ticket', 'treaty', 'license', 'charter', 'patent', 'assignment', 'franchise', 'lease', 'passport', 'mandate', 'decree', 'prohibition', 'covenant', 'pardon', 'pickup', 'proxy', 'deed', 'verification', 'indictment', 'concession', 'kite', 'ordinance', 'injunction', 'writ', 'giro']\n",
      "commission\n",
      ":\n",
      "['department', 'council', 'committee', 'agency', 'intelligence', 'branch', 'treasury', 'organ', 'toll', 'tuition', 'secretariat', 'admiralty', 'anchorage', 'posse', 'panchayat']\n"
     ]
    }
   ],
   "source": [
    "# 处理同位词->co-hyponym_dict\n",
    "# am-for-bert\n",
    "am_for_bert = 'am_for_bert.txt'\n",
    "with open(am_for_bert, 'r') as f:\n",
    "    file_lines = f.readlines()\n",
    "\n",
    "keymap =  [re.split(' |\\t',string) for string in file_lines]\n",
    "am_for_bert_cohyponym = {}\n",
    "           \n",
    "for item in keymap:\n",
    "           # 筛选出同位词\n",
    "    if ('cohyponym' == item[4]):\n",
    "        master = item[2]\n",
    "        slave = []\n",
    "        length = len(item)\n",
    "        \n",
    "        for i in range(int((length-5)/2)):\n",
    "            slave.append(item[5+i*2])\n",
    "        \n",
    "        am_for_bert_cohyponym[master] = slave\n",
    "        \n",
    "#print(len(am_for_bert_cohyponym))\n",
    "\n",
    "# sim-eval/bless\n",
    "filename = 'sim_eval_bless.csv'\n",
    "file_colname=['word1','word2','relation']\n",
    "df = pd.read_csv(filename,header=None,names=file_colname,sep = ';') \n",
    "df_clean = df[df['relation'].str.contains('coord')]      \n",
    "cohyponym = df_clean.groupby(['word1'])['word2'].apply(list).to_dict()\n",
    "#print(len(cohyponym))\n",
    "           \n",
    "# 合并数据集\n",
    "co_hyponym_dict = {}\n",
    "co_hyponym_dict.update(am_for_bert_cohyponym)\n",
    "co_hyponym_dict.update(cohyponym)\n",
    "#print(co_hyponym_dict)\n",
    "#print(random.sample(list(co_hyponym_dict), 500))\n",
    "i = 0\n",
    "\n",
    "for key in co_hyponym_dict.keys():\n",
    "    print(key)\n",
    "    print(':')\n",
    "    print(co_hyponym_dict[key])\n",
    "    i = i+1\n",
    "    if i>100:\n",
    "        break\n"
   ]
  },
  {
   "cell_type": "code",
   "execution_count": 64,
   "metadata": {},
   "outputs": [
    {
     "name": "stdout",
     "output_type": "stream",
     "text": [
      "313048\n"
     ]
    }
   ],
   "source": [
    "# 把dict的词替换到句子模板\n",
    "templates = [\n",
    "    'A * _ and a * = are of the same kind .',\n",
    "    'The co-hyponym for * _ is * = .',\n",
    "    'When it comes to * _ , I think of * = .',\n",
    "    '* _ and * = belong to the same subcategory .'\n",
    "]\n",
    "texts = []\n",
    "one = templates[1]\n",
    "for (key,value) in co_hyponym_dict.items():\n",
    "    for word in value:\n",
    "        example = one.replace('_', key).replace('=', word)\n",
    "        texts.append(example)\n",
    "#print(texts[8:20])\n",
    "print(len(texts)) \n"
   ]
  },
  {
   "cell_type": "code",
   "execution_count": 65,
   "metadata": {},
   "outputs": [
    {
     "name": "stderr",
     "output_type": "stream",
     "text": [
      "100%|██████████| 3000/3000 [12:02<00:00,  4.15it/s]\n"
     ]
    }
   ],
   "source": [
    "# 得到attention值\n",
    "# 随机抽样5000条\n",
    "texts = random.sample(texts, 3000)\n",
    "all_attn_probs, idx_pairs, tokenses = [], [], []\n",
    "for text in tqdm(texts):\n",
    "    if mask_token is not None:\n",
    "        text = text.replace(' _ ', ' %s ' % mask_token)\n",
    "    tokens = tokenizer.convert_ids_to_tokens(tokenizer.encode(text, add_special_tokens=True))\n",
    "    tokens = ['*' if token in ['*', 'Ġ*'] else token for token in tokens]\n",
    "    marker = '*'\n",
    "    if marker in tokens:\n",
    "        assert tokens.count(marker) == 2, str(tokens)\n",
    "        p, h = [i for i, token in enumerate(tokens) if token == marker]\n",
    "        tokens = [token for token in tokens if token != marker]\n",
    "        h -= 1\n",
    "        #print(tokens[p], tokens[h])\n",
    "    token_ids = tokenizer.convert_tokens_to_ids(tokens)\n",
    "    pred_idx = [i for i, token in enumerate(tokens) if token == mask_token] if mask_token is not None else [-1]\n",
    "    tokens = ['@' + token if not token.startswith('Ġ') and token not in ['<s>', '</s>', '<mask>'] else token.replace('Ġ', '') \n",
    "              for token in tokens] \n",
    "    #print(tokens)\n",
    "    \n",
    "    input_ids = torch.tensor([token_ids])\n",
    "    with torch.no_grad():\n",
    "        logits, attns = model(input_ids, output_attentions=True)\n",
    "        probs = F.softmax(logits, dim=-1)\n",
    "\n",
    "    attn_scores, attn_probs = zip(*attns)\n",
    "    attn_scores, attn_probs = torch.cat(attn_scores, dim=0), torch.cat(attn_probs, dim=0)\n",
    "    all_attn_probs.append(attn_probs)\n",
    "    idx_pairs.append((p, h))\n",
    "    tokenses.append(tokens)\n",
    "    #print(\"===============================\")\n",
    "   # print(tokenses)\n",
    "    #print(idx_pairs)\n",
    "    #print(attn_probs[0, 0, 1, 1])\n",
    "   # print(attn_probs[:, :, h, p])\n",
    "\n",
    "# 求注意力值的平均值\n",
    "attn_sum = np.zeros((24, 16),dtype='float32')\n",
    "i = 0\n",
    "for attn_one, (p, h) in zip(all_attn_probs, idx_pairs):    \n",
    "    attn_every = np.array(attn_one[:, :, h, p])\n",
    "   #求和\n",
    "    attn_sum += attn_every\n",
    "   # 记录总共有多少句子来求平均\n",
    "    i = i+1\n",
    "#sum = attn_sum.tolist()\n",
    "#求平均\n",
    "attn_average = attn_sum/i\n",
    "average = attn_average.tolist()\n",
    "#print(average)"
   ]
  },
  {
   "cell_type": "code",
   "execution_count": 25,
   "metadata": {},
   "outputs": [
    {
     "data": {
      "text/plain": [
       "Text(0.5, 33.0, 'Average-co-hyponym-head')"
      ]
     },
     "execution_count": 25,
     "metadata": {},
     "output_type": "execute_result"
    },
    {
     "data": {
      "image/png": "[encoded data removed]",
      "text/plain": [
       "<Figure size 360x432 with 2 Axes>"
      ]
     },
     "metadata": {
      "needs_background": "light"
     },
     "output_type": "display_data"
    }
   ],
   "source": [
    "# 算平均后的head图\n",
    "fig = plt.subplots(1,1,sharey=False, figsize=(5 , 6))\n",
    "ax = sns.heatmap(attn_average)\n",
    "ax.tick_params(top=True, labeltop=True)\n",
    "ax.set_xlabel('Average-co-hyponym-head')"
   ]
  },
  {
   "cell_type": "code",
   "execution_count": 63,
   "metadata": {},
   "outputs": [
    {
     "data": {
      "text/plain": [
       "<AxesSubplot:>"
      ]
     },
     "execution_count": 63,
     "metadata": {},
     "output_type": "execute_result"
    },
    {
     "data": {
      "image/png": "[encoded data removed]",
      "text/plain": [
       "<Figure size 576x288 with 2 Axes>"
      ]
     },
     "metadata": {
      "needs_background": "light"
     },
     "output_type": "display_data"
    }
   ],
   "source": [
    "i = 1234\n",
    "layer, head = 11, 5\n",
    "attn = all_attn_probs[i][layer, head]\n",
    "tokens = tokenses[i]\n",
    "size = round(attn.size(0) / 3)\n",
    "fig, (ax0, ax1) = plt.subplots(1, 2, figsize=(size  * 2., size), gridspec_kw={'width_ratios': [3, 1]})\n",
    "sns.heatmap((attn * 100).long(), square=True, cbar=False, annot=True, fmt='d', xticklabels=tokens, yticklabels=tokens, ax=ax0)"
   ]
  },
  {
   "cell_type": "code",
   "execution_count": null,
   "metadata": {},
   "outputs": [],
   "source": []
  }
 ],
 "metadata": {
  "kernelspec": {
   "display_name": "Python 3",
   "language": "python",
   "name": "python3"
  },
  "language_info": {
   "codemirror_mode": {
    "name": "ipython",
    "version": 3
   },
   "file_extension": ".py",
   "mimetype": "text/x-python",
   "name": "python",
   "nbconvert_exporter": "python",
   "pygments_lexer": "ipython3",
   "version": "3.7.5"
  }
 },
 "nbformat": 4,
 "nbformat_minor": 4
}
